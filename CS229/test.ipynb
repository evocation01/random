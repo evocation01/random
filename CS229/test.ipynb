{
 "cells": [
  {
   "cell_type": "code",
   "execution_count": null,
   "metadata": {},
   "outputs": [],
   "source": [
    "def example_function(a, b):\n",
    "    if a > 0 and b > 0:\n",
    "        print(\"Both are positive\")\n",
    "        print(\"Done\")\n",
    "        return True\n",
    "    elif a < 0 or b < 0:\n",
    "        print(\"One or both are negative\")\n",
    "        return False\n",
    "    else:\n",
    "        print(\"Neither positive nor negative\")\n",
    "        return None"
   ]
  }
 ],
 "metadata": {
  "kernelspec": {
   "display_name": "py312",
   "language": "python",
   "name": "python3"
  },
  "language_info": {
   "name": "python",
   "version": "3.12.7"
  }
 },
 "nbformat": 4,
 "nbformat_minor": 2
}
