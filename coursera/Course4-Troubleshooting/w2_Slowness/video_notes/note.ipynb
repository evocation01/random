{
 "cells": [
  {
   "cell_type": "markdown",
   "metadata": {},
   "source": [
    "# Terms and definitions from Course 4, Module 2\n",
    "\n",
    "Activity Monitor: Mac OS tool that shows what's using the most CPU, memory, energy, disk, or network\n",
    "\n",
    "Cache: This stores data in a form that's faster to access than its original form\n",
    "\n",
    "Executor: This is the process that's in charge of distributing the work among the different workers\n",
    "\n",
    "Expensive actions: Actions that can take a long time to complete\n",
    "\n",
    "Futures: A module provides a couple of different executors, one for using threads and the other one for using processes\n",
    "\n",
    "Lists: Sequences of elements\n",
    "\n",
    "Memory leak: This happens when a chunk of memory that's no longer needed is not released\n",
    "\n",
    "Profiler: A tool that measures the resources the code is using to see how the memory is allocated and how the time is spent\n",
    "\n",
    "Real time: The amount of actual time that it took to execute the command\n",
    "\n",
    "Resource Monitor (or Performance Monitor): Windows OS tool that shows what's using the most CPU, memory, energy, disk, or network\n",
    "\n",
    "Sys time: The time spent doing system level operations\n",
    "\n",
    "Threads: Run parallel tasks inside a process\n",
    "\n",
    "User time: The time spent doing operations in the user space"
   ]
  }
 ],
 "metadata": {
  "language_info": {
   "name": "python"
  }
 },
 "nbformat": 4,
 "nbformat_minor": 2
}
