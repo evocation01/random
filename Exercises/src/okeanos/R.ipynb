{
 "cells": [
  {
   "cell_type": "code",
   "execution_count": 12,
   "metadata": {
    "vscode": {
     "languageId": "r"
    }
   },
   "outputs": [
    {
     "name": "stdout",
     "output_type": "stream",
     "text": [
      "Z-value: -4 \n",
      "P-value: 3.167124e-05 \n",
      "zc: -1.64 \n",
      "Reject the null hypothesis: there is sufficient evidence at the 0.05 significance level to conclude that the population mean is less than 480 hours.\n"
     ]
    }
   ],
   "source": [
    "# Define the variables\n",
    "sample_mean <- 470\n",
    "population_mean <- 480\n",
    "population_sd <- 25\n",
    "n <- 100\n",
    "alpha <- 0.05\n",
    "\n",
    "# Calculate the z-value\n",
    "z <- (sample_mean - population_mean) / (population_sd / sqrt(n))\n",
    "\n",
    "# Calculate the p-value\n",
    "p_value <- pnorm(z)  # pnorm gives the cumulative probability up to z\n",
    "zc <- qnorm(alpha)\n",
    "\n",
    "# Output the z-value and p-value\n",
    "cat(\"Z-value:\", z, \"\\n\")\n",
    "cat(\"P-value:\", p_value, \"\\n\")\n",
    "cat(\"zc:\", round(zc,2), \"\\n\")\n",
    "\n",
    "# Decision rule\n",
    "if (p_value < alpha) {\n",
    "  cat(\"Reject the null hypothesis: there is sufficient evidence at the\", alpha, \"significance level to conclude that the population mean is less than\", population_mean, \"hours.\\n\")\n",
    "} else {\n",
    "  cat(\"Fail to reject the null hypothesis: there is not sufficient evidence at the\", alpha, \"significance level to conclude that the population mean is less than\", population_mean, \"hours.\\n\")\n",
    "}\n"
   ]
  },
  {
   "cell_type": "code",
   "execution_count": 13,
   "metadata": {
    "vscode": {
     "languageId": "r"
    }
   },
   "outputs": [
    {
     "data": {
      "text/html": [
       "203.4"
      ],
      "text/latex": [
       "203.4"
      ],
      "text/markdown": [
       "203.4"
      ],
      "text/plain": [
       "[1] 203.4"
      ]
     },
     "metadata": {},
     "output_type": "display_data"
    }
   ],
   "source": [
    "# Define the values of X\n",
    "X_values <- c(-2, 4, 6)\n",
    "\n",
    "# Define the corresponding probabilities\n",
    "probabilities <- c(1/2, 1/10, 2/5)\n",
    "\n",
    "# Define the function g(X)\n",
    "g_X <- function(X) {\n",
    "  (3*X + 3)^2\n",
    "}\n",
    "\n",
    "# Calculate g(X) for each X\n",
    "g_X_values <- g_X(X_values)\n",
    "\n",
    "# Calculate the expected value of g(X)\n",
    "mu_g_X <- sum(g_X_values * probabilities)\n",
    "\n",
    "# Print the result\n",
    "mu_g_X\n"
   ]
  },
  {
   "cell_type": "code",
   "execution_count": 14,
   "metadata": {
    "vscode": {
     "languageId": "r"
    }
   },
   "outputs": [
    {
     "name": "stdout",
     "output_type": "stream",
     "text": [
      "[1] 203.4\n"
     ]
    }
   ],
   "source": [
    "x <- c(-2, 4, 6)\n",
    "f <- c(1/2, 1/10, 2/5)\n",
    "\n",
    "g <- function(x) (3*x + 3)^2\n",
    "\n",
    "mu_g <- sum(g(x) * f)\n",
    "print(mu_g)"
   ]
  },
  {
   "cell_type": "code",
   "execution_count": 17,
   "metadata": {
    "vscode": {
     "languageId": "r"
    }
   },
   "outputs": [
    {
     "data": {
      "text/html": [
       "187.6"
      ],
      "text/latex": [
       "187.6"
      ],
      "text/markdown": [
       "187.6"
      ],
      "text/plain": [
       "[1] 187.6"
      ]
     },
     "metadata": {},
     "output_type": "display_data"
    }
   ],
   "source": [
    "\n",
    "mu_x = -2*1/2+4*1/10+6*2/5\n",
    "mu_x2 = 4*1/2+16*1/10+36*2/5\n",
    "\n",
    "9*mu_x2+12*mu_x+4"
   ]
  },
  {
   "cell_type": "code",
   "execution_count": 20,
   "metadata": {
    "vscode": {
     "languageId": "r"
    }
   },
   "outputs": [
    {
     "data": {
      "text/html": [
       "1.8"
      ],
      "text/latex": [
       "1.8"
      ],
      "text/markdown": [
       "1.8"
      ],
      "text/plain": [
       "[1] 1.8"
      ]
     },
     "metadata": {},
     "output_type": "display_data"
    },
    {
     "data": {
      "text/html": [
       "18"
      ],
      "text/latex": [
       "18"
      ],
      "text/markdown": [
       "18"
      ],
      "text/plain": [
       "[1] 18"
      ]
     },
     "metadata": {},
     "output_type": "display_data"
    },
    {
     "data": {
      "text/html": [
       "187.6"
      ],
      "text/latex": [
       "187.6"
      ],
      "text/markdown": [
       "187.6"
      ],
      "text/plain": [
       "[1] 187.6"
      ]
     },
     "metadata": {},
     "output_type": "display_data"
    }
   ],
   "source": [
    "-1+4/10+12/5\n",
    "2+1.6+72/5\n",
    "\n",
    "9*18+12*1.8+4"
   ]
  },
  {
   "cell_type": "code",
   "execution_count": 3,
   "metadata": {
    "vscode": {
     "languageId": "r"
    }
   },
   "outputs": [
    {
     "name": "stdout",
     "output_type": "stream",
     "text": [
      "\n",
      "\tOne Sample t-test\n",
      "\n",
      "data:  differences\n",
      "t = 1.1971, df = 7, p-value = 0.8649\n",
      "alternative hypothesis: true mean is less than 0\n",
      "99 percent confidence interval:\n",
      "     -Inf 40461846\n",
      "sample estimates:\n",
      "mean of x \n",
      " 11546026 \n",
      "\n"
     ]
    },
    {
     "data": {
      "text/html": [
       "<style>\n",
       ".list-inline {list-style: none; margin:0; padding: 0}\n",
       ".list-inline>li {display: inline-block}\n",
       ".list-inline>li:not(:last-child)::after {content: \"\\00b7\"; padding: 0 .5ex}\n",
       "</style>\n",
       "<ol class=list-inline><li>'33738761.4895581 -33758297.4895581'</li><li>'33762394.4895581 -33734664.4895581'</li><li>'48212278.4895581 -19284780.4895581'</li><li>'111639163.489558 44142104.5104419'</li><li>'33754678.4895581 -33742380.4895581'</li><li>'33746979.4895581 -33750079.4895581'</li><li>'33745761.4895581 -33751297.4895581'</li><li>'33756423.4895581 -33740635.4895581'</li></ol>\n"
      ],
      "text/latex": [
       "\\begin{enumerate*}\n",
       "\\item '33738761.4895581 -33758297.4895581'\n",
       "\\item '33762394.4895581 -33734664.4895581'\n",
       "\\item '48212278.4895581 -19284780.4895581'\n",
       "\\item '111639163.489558 44142104.5104419'\n",
       "\\item '33754678.4895581 -33742380.4895581'\n",
       "\\item '33746979.4895581 -33750079.4895581'\n",
       "\\item '33745761.4895581 -33751297.4895581'\n",
       "\\item '33756423.4895581 -33740635.4895581'\n",
       "\\end{enumerate*}\n"
      ],
      "text/markdown": [
       "1. '33738761.4895581 -33758297.4895581'\n",
       "2. '33762394.4895581 -33734664.4895581'\n",
       "3. '48212278.4895581 -19284780.4895581'\n",
       "4. '111639163.489558 44142104.5104419'\n",
       "5. '33754678.4895581 -33742380.4895581'\n",
       "6. '33746979.4895581 -33750079.4895581'\n",
       "7. '33745761.4895581 -33751297.4895581'\n",
       "8. '33756423.4895581 -33740635.4895581'\n",
       "\n",
       "\n"
      ],
      "text/plain": [
       "[1] \"33738761.4895581 -33758297.4895581\" \"33762394.4895581 -33734664.4895581\"\n",
       "[3] \"48212278.4895581 -19284780.4895581\" \"111639163.489558 44142104.5104419\" \n",
       "[5] \"33754678.4895581 -33742380.4895581\" \"33746979.4895581 -33750079.4895581\"\n",
       "[7] \"33745761.4895581 -33751297.4895581\" \"33756423.4895581 -33740635.4895581\""
      ]
     },
     "metadata": {},
     "output_type": "display_data"
    }
   ],
   "source": [
    "# Given data for words spoken by males and females\n",
    "males <- c(15597, 27177, 14481448, 77907790, 18915, 15891, 13975, 26664)\n",
    "females <- c(25365, 13312, 17699, 17156, 12766, 17441, 16743, 18770)\n",
    "\n",
    "# Calculate the differences (d)\n",
    "differences <- males - females\n",
    "\n",
    "# Calculate the mean (d̄) and standard deviation (sd) of the differences\n",
    "mean_difference <- mean(differences)\n",
    "standard_deviation <- sd(differences)\n",
    "\n",
    "result <- t.test(differences, alternative = \"less\", mu = 0, conf.level = 0.99)\n",
    "print(result)\n",
    "\n",
    "alpha = 0.01\n",
    "tt = 3.499  # 0.005,7\n",
    "\n",
    "CI_upper = differences + tt * standard_deviation / sqrt(8)\n",
    "CI_lower = differences - tt * standard_deviation / sqrt(8)\n",
    "\n",
    "paste(CI_upper, CI_lower)\n",
    "\n",
    "# Since the p-value (0.8649) is greater than the significance level (0.01), \n",
    " # we fail to reject the null hypothesis. \n",
    "  # This means that there is not enough evidence to conclude that \n",
    "  # males speak significantly fewer words than females on average among these couples.\n",
    "\n",
    "# Additionally, the sample estimate of the mean difference between males and females is 11,546,026. This means that, on average, males speak approximately 11,546,026 more words than females among these couples. However, since the p-value is not significant, this difference is not statistically significant."
   ]
  }
 ],
 "metadata": {
  "kernelspec": {
   "display_name": "R",
   "language": "R",
   "name": "ir"
  },
  "language_info": {
   "codemirror_mode": "r",
   "file_extension": ".r",
   "mimetype": "text/x-r-source",
   "name": "R",
   "pygments_lexer": "r",
   "version": "4.3.2"
  }
 },
 "nbformat": 4,
 "nbformat_minor": 2
}
