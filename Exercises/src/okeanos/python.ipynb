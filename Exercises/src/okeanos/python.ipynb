{
 "cells": [
  {
   "cell_type": "code",
   "execution_count": 34,
   "metadata": {},
   "outputs": [
    {
     "data": {
      "text/plain": [
       "<Token var=<ContextVar name='format_options' default={'edgeitems': 3, 'threshold': 1000, 'floatmode': 'maxprec', 'precision': 8, 'suppress': False, 'linewidth': 75, 'nanstr': 'nan', 'infstr': 'inf', 'sign': '-', 'formatter': None, 'legacy': 9223372036854775807, 'override_repr': None} at 0x000001B22DD1D0D0> at 0x000001B23230B180>"
      ]
     },
     "execution_count": 34,
     "metadata": {},
     "output_type": "execute_result"
    }
   ],
   "source": [
    "# Standard Library Imports\n",
    "import os  # For file and directory operations\n",
    "import sys  # For system-specific parameters and functions\n",
    "import csv  # For CSV file handling\n",
    "import json  # For JSON file handling\n",
    "import re  # For regular expressions\n",
    "import shutil  # For high-level file operations\n",
    "\n",
    "# Third-Party Library Imports\n",
    "import numpy as np  # For numerical operations\n",
    "import matplotlib.pyplot as plt  # For plotting and visualization\n",
    "import PIL  # For image processing (Pillow library)\n",
    "import psutil  # For system and process utilities\n",
    "import PyPDF2  # For PDF file manipulation\n",
    "import requests  # For HTTP requests\n",
    "import scienceplots  # For beautiful scientific plots\n",
    "import sympy as sp  # For symbolic mathematics\n",
    "import nbmerge  # For merging Jupyter notebooks\n",
    "\n",
    "# Custom Settings\n",
    "# Set NumPy print options to show floats with one decimal\n",
    "np.set_printoptions(precision=1, formatter={'float': '{:.1f}'.format})\n"
   ]
  },
  {
   "cell_type": "code",
   "execution_count": null,
   "metadata": {},
   "outputs": [],
   "source": [
    "matrix1 = np.array([[-1, 2],\n",
    "            [4, -8]])\n",
    "\n",
    "matrix2 = np.array([[4, 6],\n",
    "            [2, 3]])\n",
    "\n",
    "result = matrix1 @ matrix2\n",
    "result\n"
   ]
  },
  {
   "cell_type": "code",
   "execution_count": null,
   "metadata": {},
   "outputs": [],
   "source": [
    "def calculate_function(x, y):\n",
    "    \"\"\"\n",
    "    Calculates the value of a function defined as a determinant ratio.\n",
    "\n",
    "    Args:\n",
    "        x: The first input variable (integer).\n",
    "        y: The second input variable (integer).\n",
    "\n",
    "    Returns:\n",
    "        The calculated function value.\n",
    "    \"\"\"\n",
    "    matrix1 = np.array([[3, x], [2, y]])\n",
    "    matrix2 = np.array([[2, 6-x-y], [7, 6]])\n",
    "\n",
    "    return np.linalg.det(matrix1) / np.linalg.det(matrix2)\n",
    "\n",
    "# Calculate expected values of X and Y\n",
    "E_X = (3/7) * 6\n",
    "E_Y = (2/7) * 6\n",
    "\n",
    "# Calculate covariance\n",
    "cov_XY = sum(x * y * calculate_function(x, y) for x in range(4) for y in range(4-x)) - E_X * E_Y\n",
    "\n",
    "# Calculate standard deviations\n",
    "std_X = np.sqrt(sum((x - E_X)**2 * (3/7) * (6/6) for x in range(4)))\n",
    "std_Y = np.sqrt(sum((y - E_Y)**2 * (2/7) * (6/6) for y in range(4)))\n",
    "\n",
    "# Calculate correlation coefficient\n",
    "correlation_coefficient = cov_XY / (std_X * std_Y)\n",
    "\n",
    "print(\"Covariance (cov_XY):\", cov_XY)\n",
    "print(\"Standard deviation of X (std_X):\", std_X)\n",
    "print(\"Standard deviation of Y (std_Y):\", std_Y)\n",
    "print(\"Correlation coefficient:\", correlation_coefficient)\n"
   ]
  },
  {
   "cell_type": "code",
   "execution_count": 25,
   "metadata": {},
   "outputs": [
    {
     "name": "stdout",
     "output_type": "stream",
     "text": [
      "The mean is: 48.91090909090909\n",
      "%7\n",
      "%12\n"
     ]
    },
    {
     "data": {
      "text/plain": [
       "9.5"
      ]
     },
     "execution_count": 25,
     "metadata": {},
     "output_type": "execute_result"
    }
   ],
   "source": [
    "data1 = [\n",
    "    40.83, 39.17, 44.70, 56.26, 83.76, 55.26, 56.99, 46.58, 46.41, 86.82, 44.40, 53.87,\n",
    "    67.37, 65.71, 34.59, 42.09, 49.15, 60.75, 38.31, 68.31, 36.52, 26.52, 41.24, 50.62,\n",
    "    48.55, 33.87, 37.67, 34.81, 34.12, 51.09, 72.44, 36.65, 39.42, 35.02, 79.38, 47.46,\n",
    "    31.92, 79.49, 18.46, 46.60, 57.16, 37.03, 39.81, 77.09, 57.65, 48.08, 40.15, 51.47,\n",
    "    51.26, 50.47, 39.87, 19.36, 39.32, 45.53, 47.03, 39.30, 19.79, 21.92, 48.70, 56.65,\n",
    "    49.25, 55.26, 65.32, 52.63, 51.24, 46.47, 46.92, 41.82, 61.26, 71.05, 40.02, 50.98,\n",
    "    61.54, 46.00, 35.79, 80.88, 49.53, 44.12, 55.04, 58.18, 60.71, 31.09, 55.71, 55.43,\n",
    "    54.70, 55.51, 32.74, 44.15\n",
    "]\n",
    "data2 = [\n",
    "    50, 35, 0, 45, 0, 85, 40, 15, 45, 65, 15, 60, 45, 50, 35, 50, 75, 80, 45, 95, \n",
    "    0, 15, 90, 95, 50, 80, 95, 90, 50, 60, 0, 95, 30, 55, 0, 0, 60, 35, 90, 40, \n",
    "    40, 35, 70, 0, 95, 65, 85, 35, 70, 0, 35, 55, 85, 75, 20, 35, 90, 95, 45, 25, \n",
    "    0, 55, 0, 45, 20, 45, 60, 70, 30, 65, 70, 30, 40, 85, 90, 35, 40, 75, 40, 90, \n",
    "    0, 65, 50, 55, 40, 70, 65, 90, 75, 35, 70, 55, 70\n",
    "]\n",
    "\n",
    "# Calculate the mean\n",
    "mean = sum(data1) / len(data1)\n",
    "\n",
    "print(\"The mean is:\", mean)\n",
    "max(data1)\n",
    "\n",
    "data1_s = sorted(data1, reverse=True)\n",
    "data2_s = sorted(data1)\n",
    "count1 = sum(score <= 77.09 for score in data1_s)\n",
    "count2 = sum(score <= 77.09 for score in data1_s)\n",
    "\n",
    "perc1 = ((len(data1)-count1+1)/ len(data1)*100)\n",
    "perc2 = ((len(data2)-count2+1)/ len(data2)*100)\n",
    "\n",
    "print(f\"%{round(perc1,0):.0f}\")\n",
    "print(f\"%{round(perc2,0):.0f}\")\n",
    "19/2\n"
   ]
  },
  {
   "cell_type": "code",
   "execution_count": null,
   "metadata": {},
   "outputs": [
    {
     "name": "stdout",
     "output_type": "stream",
     "text": [
      "yeeey! Calculated B_inv equals given result.\n",
      "[[1.0 2.0 -8.0]\n",
      " [0.0 2.0 -4.0]\n",
      " [0.0 -0.5 1.5]]\n",
      "\n",
      "printing results:\n",
      "5.0\n",
      "10.0\n",
      "10.0\n"
     ]
    }
   ],
   "source": [
    "# defining matrixes\n",
    "C_BV = np.array([0, 20, 60])\n",
    "\n",
    "B = np.array([[1,1,8], [0,1.5,4], [0,0.5,2]])\n",
    "B_inv = np.array([[1, 2, -8], [0, 2, -4], [0, -0.5, 1.5]])\n",
    "B_inv2 = np.linalg.inv(B)\n",
    "\n",
    "a2 = [6,2,1.5]\n",
    "s2 = [0, 1, 0]\n",
    "s3 = [0, 0, 1]\n",
    "\n",
    "c_2  = 30\n",
    "c_s2 = 0\n",
    "c_s3 = 0\n",
    "\n",
    "# matrix verification\n",
    "if(np.allclose(B_inv, B_inv2)):\n",
    "    print(\"yeeey! Calculated B_inv equals given result.\")\n",
    "    print(B_inv)\n",
    "else:\n",
    "    print(\":( sadge.\")\n",
    "    print(\"Calculated B_inv didn't equal the given result. Maybe check the matrixes?\")\n",
    "\n",
    "# multiply\n",
    "c_hat_2 = (C_BV @ B_inv @ a2) - c_2\n",
    "c_hat_s2 = (C_BV @ B_inv @ s2) - c_s2\n",
    "c_hat_s3 = (C_BV @ B_inv @ s3) - c_s3\n",
    "\n",
    "# results\n",
    "print(\"\\nprinting results:\")\n",
    "print(c_hat_2)\n",
    "print(c_hat_s2)\n",
    "print(c_hat_s3)\n"
   ]
  },
  {
   "cell_type": "code",
   "execution_count": 2,
   "metadata": {},
   "outputs": [
    {
     "name": "stdout",
     "output_type": "stream",
     "text": [
      "[[0.5 0.0]\n",
      " [-0.5 1.0]]\n"
     ]
    }
   ],
   "source": [
    "B = np.array([[2,0], [1,1]])\n",
    "B_inv = np.linalg.inv(B)\n",
    "print(B_inv)\n"
   ]
  },
  {
   "cell_type": "code",
   "execution_count": 31,
   "metadata": {},
   "outputs": [
    {
     "data": {
      "text/plain": [
       "array([[1.25*delta + 5.00000000000001]], dtype=object)"
      ]
     },
     "execution_count": 31,
     "metadata": {},
     "output_type": "execute_result"
    }
   ],
   "source": [
    "from sympy import symbols, Matrix\n",
    "\n",
    "delta = symbols('delta')\n",
    "\n",
    "A = np.array([[0, 20, 60+delta]])\n",
    "B = np.array([[1,1,8], [0,1.5,4], [0,0.5,2]])\n",
    "B_inv = np.linalg.inv(B)\n",
    "C = A@B_inv\n",
    "D = np.array([[6], [2], [1.5]])\n",
    "E = np.array([[0], [1], [0]])\n",
    "F = np.array([[0], [0], [1]])\n",
    "\n",
    "C@D - 30"
   ]
  },
  {
   "cell_type": "code",
   "execution_count": null,
   "metadata": {},
   "outputs": [
    {
     "data": {
      "text/plain": [
       "np.float64(113.61753077444226)"
      ]
     },
     "execution_count": 39,
     "metadata": {},
     "output_type": "execute_result"
    },
    {
     "ename": "",
     "evalue": "",
     "output_type": "error",
     "traceback": [
      "\u001b[1;31mThe Kernel crashed while executing code in the current cell or a previous cell. \n",
      "\u001b[1;31mPlease review the code in the cell(s) to identify a possible cause of the failure. \n",
      "\u001b[1;31mClick <a href='https://aka.ms/vscodeJupyterKernelCrash'>here</a> for more info. \n",
      "\u001b[1;31mView Jupyter <a href='command:jupyter.viewOutput'>log</a> for further details."
     ]
    }
   ],
   "source": [
    "f2=200\n",
    "f3=180\n",
    "f1 = sp.symbols('x')\n",
    "R=800\n",
    "234/424\n",
    "np.degrees(1.983)"
   ]
  }
 ],
 "metadata": {
  "kernelspec": {
   "display_name": "py312",
   "language": "python",
   "name": "python3"
  },
  "language_info": {
   "codemirror_mode": {
    "name": "ipython",
    "version": 3
   },
   "file_extension": ".py",
   "mimetype": "text/x-python",
   "name": "python",
   "nbconvert_exporter": "python",
   "pygments_lexer": "ipython3",
   "version": "3.12.5"
  }
 },
 "nbformat": 4,
 "nbformat_minor": 2
}
