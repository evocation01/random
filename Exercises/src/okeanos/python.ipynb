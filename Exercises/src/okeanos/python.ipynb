{
 "cells": [
  {
   "cell_type": "code",
   "execution_count": 1,
   "metadata": {},
   "outputs": [],
   "source": [
    "import csv\n",
    "import json\n",
    "import os\n",
    "import re\n",
    "import shutil\n",
    "import sys\n",
    "import matplotlib.pyplot as plt\n",
    "import numpy as np\n",
    "import PIL\n",
    "import psutil\n",
    "import PyPDF2\n",
    "import requests\n",
    "import scienceplots\n",
    "import sympy as smp\n",
    "import nbmerge"
   ]
  },
  {
   "cell_type": "code",
   "execution_count": 6,
   "metadata": {},
   "outputs": [
    {
     "data": {
      "text/plain": [
       "array([[0, 0],\n",
       "       [0, 0]])"
      ]
     },
     "execution_count": 6,
     "metadata": {},
     "output_type": "execute_result"
    }
   ],
   "source": [
    "\n",
    "matrix1 = np.array([[-1, 2],\n",
    "          [4, -8]])\n",
    "\n",
    "matrix2 = np.array([[4, 6],\n",
    "          [2, 3]])\n",
    "\n",
    "result = matrix1 @ matrix2\n",
    "result\n"
   ]
  },
  {
   "cell_type": "code",
   "execution_count": 1,
   "metadata": {},
   "outputs": [
    {
     "name": "stdout",
     "output_type": "stream",
     "text": [
      "Covariance (cov_XY): -5.137329931972789\n",
      "Standard deviation of X (std_X): 2.0275076256358844\n",
      "Standard deviation of Y (std_Y): 1.2169837972143325\n",
      "Correlation coefficient: -2.0820452579806488\n"
     ]
    }
   ],
   "source": [
    "import numpy as np\n",
    "\n",
    "def calculate_function(x, y):\n",
    "    \"\"\"\n",
    "    Calculates the value of a function defined as a determinant ratio.\n",
    "\n",
    "    Args:\n",
    "        x: The first input variable (integer).\n",
    "        y: The second input variable (integer).\n",
    "\n",
    "    Returns:\n",
    "        The calculated function value.\n",
    "    \"\"\"\n",
    "    matrix1 = np.array([[3, x], [2, y]])\n",
    "    matrix2 = np.array([[2, 6-x-y], [7, 6]])\n",
    "\n",
    "    return np.linalg.det(matrix1) / np.linalg.det(matrix2)\n",
    "\n",
    "# Calculate expected values of X and Y\n",
    "E_X = (3/7) * 6\n",
    "E_Y = (2/7) * 6\n",
    "\n",
    "# Calculate covariance\n",
    "cov_XY = sum(x * y * calculate_function(x, y) for x in range(4) for y in range(4-x)) - E_X * E_Y\n",
    "\n",
    "# Calculate standard deviations\n",
    "std_X = np.sqrt(sum((x - E_X)**2 * (3/7) * (6/6) for x in range(4)))\n",
    "std_Y = np.sqrt(sum((y - E_Y)**2 * (2/7) * (6/6) for y in range(4)))\n",
    "\n",
    "# Calculate correlation coefficient\n",
    "correlation_coefficient = cov_XY / (std_X * std_Y)\n",
    "\n",
    "print(\"Covariance (cov_XY):\", cov_XY)\n",
    "print(\"Standard deviation of X (std_X):\", std_X)\n",
    "print(\"Standard deviation of Y (std_Y):\", std_Y)\n",
    "print(\"Correlation coefficient:\", correlation_coefficient)\n"
   ]
  },
  {
   "cell_type": "code",
   "execution_count": 26,
   "metadata": {},
   "outputs": [
    {
     "name": "stdout",
     "output_type": "stream",
     "text": [
      "The mean is: 48.9109090909091\n",
      "%7\n",
      "%12\n"
     ]
    },
    {
     "data": {
      "text/plain": [
       "9.5"
      ]
     },
     "execution_count": 26,
     "metadata": {},
     "output_type": "execute_result"
    }
   ],
   "source": [
    "data1 = [\n",
    "    40.83, 39.17, 44.70, 56.26, 83.76, 55.26, 56.99, 46.58, 46.41, 86.82, 44.40, 53.87,\n",
    "    67.37, 65.71, 34.59, 42.09, 49.15, 60.75, 38.31, 68.31, 36.52, 26.52, 41.24, 50.62,\n",
    "    48.55, 33.87, 37.67, 34.81, 34.12, 51.09, 72.44, 36.65, 39.42, 35.02, 79.38, 47.46,\n",
    "    31.92, 79.49, 18.46, 46.60, 57.16, 37.03, 39.81, 77.09, 57.65, 48.08, 40.15, 51.47,\n",
    "    51.26, 50.47, 39.87, 19.36, 39.32, 45.53, 47.03, 39.30, 19.79, 21.92, 48.70, 56.65,\n",
    "    49.25, 55.26, 65.32, 52.63, 51.24, 46.47, 46.92, 41.82, 61.26, 71.05, 40.02, 50.98,\n",
    "    61.54, 46.00, 35.79, 80.88, 49.53, 44.12, 55.04, 58.18, 60.71, 31.09, 55.71, 55.43,\n",
    "    54.70, 55.51, 32.74, 44.15\n",
    "]\n",
    "data2 = [\n",
    "    50, 35, 0, 45, 0, 85, 40, 15, 45, 65, 15, 60, 45, 50, 35, 50, 75, 80, 45, 95, \n",
    "    0, 15, 90, 95, 50, 80, 95, 90, 50, 60, 0, 95, 30, 55, 0, 0, 60, 35, 90, 40, \n",
    "    40, 35, 70, 0, 95, 65, 85, 35, 70, 0, 35, 55, 85, 75, 20, 35, 90, 95, 45, 25, \n",
    "    0, 55, 0, 45, 20, 45, 60, 70, 30, 65, 70, 30, 40, 85, 90, 35, 40, 75, 40, 90, \n",
    "    0, 65, 50, 55, 40, 70, 65, 90, 75, 35, 70, 55, 70\n",
    "]\n",
    "\n",
    "# Calculate the mean\n",
    "mean = sum(data1) / len(data1)\n",
    "\n",
    "print(\"The mean is:\", mean)\n",
    "max(data1)\n",
    "\n",
    "data1_s = sorted(data1, reverse=True)\n",
    "data2_s = sorted(data1)\n",
    "count1 = sum(score <= 77.09 for score in data1_s)\n",
    "count2 = sum(score <= 77.09 for score in data1_s)\n",
    "\n",
    "perc1 = ((len(data1)-count1+1)/ len(data1)*100)\n",
    "perc2 = ((len(data2)-count2+1)/ len(data2)*100)\n",
    "\n",
    "print(f\"%{round(perc1,0):.0f}\")\n",
    "print(f\"%{round(perc2,0):.0f}\")\n",
    "19/2\n"
   ]
  }
 ],
 "metadata": {
  "kernelspec": {
   "display_name": "my_py3",
   "language": "python",
   "name": "python3"
  },
  "language_info": {
   "codemirror_mode": {
    "name": "ipython",
    "version": 3
   },
   "file_extension": ".py",
   "mimetype": "text/x-python",
   "name": "python",
   "nbconvert_exporter": "python",
   "pygments_lexer": "ipython3",
   "version": "3.11.7"
  }
 },
 "nbformat": 4,
 "nbformat_minor": 2
}
