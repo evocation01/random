{
 "cells": [
  {
   "cell_type": "markdown",
   "metadata": {},
   "source": [
    "## Welcome to my jupyter notebook that has pretty important stuff!"
   ]
  },
  {
   "cell_type": "code",
   "execution_count": 3,
   "metadata": {},
   "outputs": [],
   "source": [
    "\"\"\" Imports\"\"\"\n",
    "\n",
    "\n",
    "import csv\n",
    "import json\n",
    "import os\n",
    "import re\n",
    "import shutil\n",
    "import sys\n",
    "import matplotlib.pyplot as plt\n",
    "import numpy as np\n",
    "import PIL\n",
    "import psutil\n",
    "import PyPDF2\n",
    "import requests\n",
    "import scienceplots\n",
    "import sympy as smp\n",
    "import nbmerge"
   ]
  },
  {
   "cell_type": "markdown",
   "metadata": {},
   "source": [
    "### How to merge .ipynb files"
   ]
  },
  {
   "cell_type": "code",
   "execution_count": null,
   "metadata": {},
   "outputs": [],
   "source": [
    "c0 = \"C:/Users/hakan/PycharmProjects/VSCode/random/Notes/Used Files/Chapter 0.ipynb\"\n",
    "c1 = \"C:/Users/hakan/PycharmProjects/VSCode/random/Notes/Used Files/Chapter 1.ipynb\"\n",
    "c2 = \"C:/Users/hakan/PycharmProjects/VSCode/random/Notes/Used Files/Chapter 2.ipynb\"\n",
    "\n",
    "# Using the %sx magic for shell execution with variable expansion\n",
    "merged_output = %sx nbmerge \"$c0\" \"$c1\" \"$c2\"\n",
    "with open(\"C:/Users/hakan/Downloads/merged.ipynb\", \"w\") as f:\n",
    "    f.write('\\n'.join(merged_output))"
   ]
  },
  {
   "cell_type": "markdown",
   "metadata": {},
   "source": [
    "### How to rearrange names"
   ]
  },
  {
   "cell_type": "code",
   "execution_count": null,
   "metadata": {},
   "outputs": [],
   "source": [
    "import re\n",
    "\n",
    "\n",
    "def rearrange_name(name):\n",
    "    result = re.search(r\"^(\\w*),\\s+(.*)$\", name)\n",
    "    if result is None:\n",
    "        return name\n",
    "    return result.group(2) + \" \" + result.group(1)\n",
    "\n",
    "\n",
    "if __name__ == \"__main__\":\n",
    "    name = input(\"What's your name? \")\n",
    "    print(rearrange_name(name))\n"
   ]
  },
  {
   "cell_type": "markdown",
   "metadata": {},
   "source": [
    "### How to validate users"
   ]
  },
  {
   "cell_type": "code",
   "execution_count": 14,
   "metadata": {},
   "outputs": [
    {
     "name": "stdout",
     "output_type": "stream",
     "text": [
      "your username <>'s length is 0, length can not be less than 1\n",
      "your username <!!!!> can only be alphanumeric characters, letters and numbers\n",
      "your username <sfasfafsasa> is an acceptable username.\n"
     ]
    }
   ],
   "source": [
    "def validate_user(username, minlen):\n",
    "    assert type(username) == str, \"username must be a string!\"\n",
    "\n",
    "    if minlen < 1:\n",
    "        raise ValueError(\"minimum length cannot be less than 1\")\n",
    "    if len(username) < minlen:\n",
    "        return f\"your username <{username}>'s length is {len(username)}, length can not be less than {minlen}\"\n",
    "    if not username.isalnum():\n",
    "        return f\"your username <{username}> can only be alphanumeric characters, letters and numbers\"\n",
    "    return f\"your username <{username}> is an acceptable username.\"\n",
    "\n",
    "\n",
    "if __name__ == \"__main__\":\n",
    "    print(validate_user(\"\", 1))\n",
    "    print(validate_user(\"!!!!\", 1))    \n",
    "    print(validate_user(\"sfasfafsasa\", 1))"
   ]
  },
  {
   "cell_type": "code",
   "execution_count": null,
   "metadata": {},
   "outputs": [],
   "source": []
  },
  {
   "cell_type": "markdown",
   "metadata": {},
   "source": [
    "### How to rename videos\n",
    "regex, complicated paths"
   ]
  },
  {
   "cell_type": "code",
   "execution_count": null,
   "metadata": {},
   "outputs": [],
   "source": [
    "import os\n",
    "import re\n",
    "\n",
    "\n",
    "def rename_videos(directory, old_pattern, new_name):\n",
    "    pattern = re.compile(old_pattern)\n",
    "\n",
    "    for filename in os.listdir(directory):\n",
    "        if filename.endswith(\".mp4\"):\n",
    "            if pattern.search(filename):\n",
    "                new_filename = pattern.sub(new_name, filename)\n",
    "                old_file_path = os.path.join(directory, filename)\n",
    "                new_file_path = os.path.join(directory, new_filename)\n",
    "\n",
    "                # Debug print\n",
    "                print(f\"Attempting to rename: {old_file_path} to {new_file_path}\")\n",
    "\n",
    "                try:\n",
    "                    os.rename(old_file_path, new_file_path)\n",
    "                    print(f\"Renamed '{filename}' to '{new_filename}'\")\n",
    "                except FileNotFoundError as e:\n",
    "                    print(f\"Error: {e}\")\n",
    "                except Exception as e:\n",
    "                    print(f\"Unexpected error: {e}\")\n",
    "\n",
    "\n",
    "from pathlib import Path\n",
    "\n",
    "directory_path = Path(\"D:/PC/HAKAN/cs2d/bots/inc/CS2DD/vids/try\")\n",
    "\n",
    "rename_videos(directory_path, r\"THROAT-R\", \"THR\")\n"
   ]
  },
  {
   "cell_type": "markdown",
   "metadata": {},
   "source": [
    "## How to "
   ]
  },
  {
   "cell_type": "code",
   "execution_count": null,
   "metadata": {},
   "outputs": [],
   "source": []
  }
 ],
 "metadata": {
  "kernelspec": {
   "display_name": "my_py3",
   "language": "python",
   "name": "python3"
  },
  "language_info": {
   "name": "python",
   "version": "3.11.7"
  }
 },
 "nbformat": 4,
 "nbformat_minor": 2
}
