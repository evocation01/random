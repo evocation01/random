{
 "cells": [
  {
   "cell_type": "markdown",
   "metadata": {},
   "source": [
    "# What is ERP?\n",
    "- MANAGEMENT\n",
    "  - Finance, Supply Chain, HR, Assets, Project, Service\n",
    "- IoT\n",
    "- Sales & Marketing\n",
    "- Big Data Analytics & BI\n",
    "- Manufacturing"
   ]
  }
 ],
 "metadata": {
  "language_info": {
   "name": "python"
  }
 },
 "nbformat": 4,
 "nbformat_minor": 2
}
