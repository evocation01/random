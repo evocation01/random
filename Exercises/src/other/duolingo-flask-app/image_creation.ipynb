{
 "cells": [
  {
   "cell_type": "markdown",
   "metadata": {},
   "source": [
    "# Adding text into an image"
   ]
  },
  {
   "cell_type": "code",
   "execution_count": null,
   "metadata": {},
   "outputs": [],
   "source": [
    "from PIL import Image, ImageDraw, ImageFont\n",
    "\n",
    "# Load the uploaded image\n",
    "uploaded_image_path = \"C:/Users/user/Pictures/ecem50.jpg\"  # Path to your uploaded image\n",
    "uploaded_image = Image.open(uploaded_image_path)\n",
    "\n",
    "# Resize the uploaded image to fit the entire card\n",
    "card_width, card_height = uploaded_image.size  # Keep original size of uploaded image\n",
    "card = uploaded_image.resize((800, 500))  # Resize to fit a card of 800x500\n",
    "\n",
    "# Set up drawing object for the card\n",
    "draw = ImageDraw.Draw(card)\n",
    "\n",
    "# Load a font for the text\n",
    "try:\n",
    "    font = ImageFont.truetype(\"arial.ttf\", 35)\n",
    "except IOError:\n",
    "    font = ImageFont.load_default()\n",
    "\n",
    "# Message text\n",
    "message = \"¡Felicidades! ¡50 días de español!\"\n",
    "\n",
    "# Define the text position (adjust to fit within the 'add a comment' area)\n",
    "text_position = (50, 430)  # Adjust Y-coordinate to place the text on the bottom area\n",
    "\n",
    "# Add a shadow for the text (black shadow)\n",
    "shadow_position = (text_position[0] + 2, text_position[1] + 2)\n",
    "draw.text(shadow_position, message, fill=\"black\", font=font)  # Add a black shadow behind the text\n",
    "\n",
    "# Add the main white text directly onto the image\n",
    "draw.text(text_position, message, fill=\"white\", font=font)  # Using white text for contrast\n",
    "\n",
    "# Save and show the card\n",
    "card.save(\"congratz_custom_image_card.png\")\n",
    "card.show()\n"
   ]
  },
  {
   "cell_type": "markdown",
   "metadata": {},
   "source": [
    "# Making a .gif, confetti themed"
   ]
  },
  {
   "cell_type": "code",
   "execution_count": null,
   "metadata": {},
   "outputs": [],
   "source": [
    "from PIL import Image, ImageDraw, ImageFont\n",
    "import random\n",
    "\n",
    "# Function to generate confetti frames\n",
    "def create_confetti_frame(base_image, num_confetti=50):\n",
    "    draw = ImageDraw.Draw(base_image)\n",
    "    for _ in range(num_confetti):\n",
    "        x = random.randint(0, base_image.width)\n",
    "        y = random.randint(0, base_image.height)\n",
    "        size = random.randint(5, 10)\n",
    "        color = (random.randint(0, 255), random.randint(0, 255), random.randint(0, 255))\n",
    "        draw.ellipse([x, y, x+size, y+size], fill=color)\n",
    "    return base_image\n",
    "\n",
    "# Create frames for the animation\n",
    "frames = []\n",
    "base_image = Image.open(\"C:/Users/user/PycharmProjects/VSCode/random/Exercises/src/okeanos/congratz_custom_image_card.png\").resize((800, 500))  # Load and resize the base image\n",
    "\n",
    "for _ in range(10):  # 10 frames of animation\n",
    "    frame = base_image.copy()\n",
    "    frames.append(create_confetti_frame(frame))\n",
    "\n",
    "# Save as a GIF\n",
    "frames[0].save('confetti_congratz.gif', save_all=True, append_images=frames[1:], duration=100, loop=0)\n"
   ]
  },
  {
   "cell_type": "markdown",
   "metadata": {},
   "source": [
    "# Making a congratz .mp3 with gTTS"
   ]
  },
  {
   "cell_type": "code",
   "execution_count": null,
   "metadata": {},
   "outputs": [],
   "source": [
    "from gtts import gTTS\n",
    "\n",
    "# Create a TTS object\n",
    "tts = gTTS(text=\"¡Felicidades por 50 días de español!\", lang='es')\n",
    "\n",
    "# Save the TTS as an audio file\n",
    "tts.save(\"congratulations_audio.mp3\")\n"
   ]
  }
 ],
 "metadata": {
  "language_info": {
   "name": "python"
  }
 },
 "nbformat": 4,
 "nbformat_minor": 2
}
