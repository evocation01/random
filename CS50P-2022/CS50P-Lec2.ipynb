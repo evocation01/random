{
 "cells": [
  {
   "cell_type": "code",
   "execution_count": 20,
   "metadata": {
    "collapsed": true
   },
   "outputs": [
    {
     "name": "stdout",
     "output_type": "stream",
     "text": [
      "meow\n",
      "meow\n",
      "meow\n",
      "meow\n",
      "meow\n"
     ]
    }
   ],
   "source": [
    "def main():\n",
    "\tnumber = get_number()\n",
    "\tmeow(number)\n",
    "\n",
    "def get_number():\n",
    "\twhile True:\n",
    "\t\tn = int(input(\"Type a positive number: \"))  # Changed the prompt message\n",
    "\t\tif n > 0:\n",
    "\t\t\treturn n\n",
    "\t\telse:\n",
    "\t\t\tprint(\"Please enter a positive number.\")\n",
    "\n",
    "def meow(n):\n",
    "\tfor _ in range(n):  # Specify the number of times to meow\n",
    "\t\tprint(\"meow\")\n",
    "\n",
    "if __name__ == \"__main__\":\n",
    "\tmain()\n"
   ]
  },
  {
   "cell_type": "code",
   "execution_count": 21,
   "outputs": [
    {
     "name": "stdout",
     "output_type": "stream",
     "text": [
      "Harry, Gryffindor\n",
      "Hermoine, Gryffindor\n",
      "Ron, Gryffindor\n",
      "Draco, Slytherin\n"
     ]
    }
   ],
   "source": [
    "students = {\n",
    "\t\"Harry\": \"Gryffindor\",\n",
    "\t\"Hermoine\": \"Gryffindor\",\n",
    "\t\"Ron\": \"Gryffindor\",\n",
    "\t\"Draco\": \"Slytherin\"\n",
    "}\n",
    "\n",
    "for student in students:\n",
    "\tprint(student, students[student], sep=\", \")"
   ],
   "metadata": {
    "collapsed": false
   }
  },
  {
   "cell_type": "code",
   "execution_count": 23,
   "outputs": [
    {
     "name": "stdout",
     "output_type": "stream",
     "text": [
      "Harry, Gryffindor, Stag\n",
      "Hermoine, Gryffindor, Otter\n",
      "Ren, Gryffindor, Jack Russell Terrier\n",
      "Draco, Slytherin, None\n"
     ]
    }
   ],
   "source": [
    "students = [\n",
    "\t{\"name\": \"Harry\", \"house\": \"Gryffindor\", \"patronus\": \"Stag\"},\n",
    "\t{\"name\": \"Hermoine\", \"house\": \"Gryffindor\", \"patronus\": \"Otter\"},\n",
    "\t{\"name\": \"Ren\", \"house\": \"Gryffindor\", \"patronus\": \"Jack Russell Terrier\"},\n",
    "\t{\"name\": \"Draco\", \"house\": \"Slytherin\", \"patronus\": None},\n",
    "]\n",
    "\n",
    "for student in students:\n",
    "\tprint(student[\"name\"], student[\"house\"], student[\"patronus\"], sep= \", \")\n"
   ],
   "metadata": {
    "collapsed": false
   }
  },
  {
   "cell_type": "code",
   "execution_count": 1,
   "outputs": [
    {
     "ename": "NameError",
     "evalue": "name 'get_number' is not defined",
     "output_type": "error",
     "traceback": [
      "\u001B[1;31m---------------------------------------------------------------------------\u001B[0m",
      "\u001B[1;31mNameError\u001B[0m                                 Traceback (most recent call last)",
      "Cell \u001B[1;32mIn[1], line 16\u001B[0m\n\u001B[0;32m     13\u001B[0m \t\u001B[38;5;28mprint\u001B[39m(\u001B[38;5;124m\"\u001B[39m\u001B[38;5;124m?\u001B[39m\u001B[38;5;124m\"\u001B[39m\u001B[38;5;241m*\u001B[39mwidth)\n\u001B[0;32m     15\u001B[0m \u001B[38;5;28;01mif\u001B[39;00m \u001B[38;5;18m__name__\u001B[39m \u001B[38;5;241m==\u001B[39m \u001B[38;5;124m\"\u001B[39m\u001B[38;5;124m__main__\u001B[39m\u001B[38;5;124m\"\u001B[39m:\n\u001B[1;32m---> 16\u001B[0m \tmain()\n",
      "Cell \u001B[1;32mIn[1], line 2\u001B[0m, in \u001B[0;36mmain\u001B[1;34m()\u001B[0m\n\u001B[0;32m      1\u001B[0m \u001B[38;5;28;01mdef\u001B[39;00m \u001B[38;5;21mmain\u001B[39m():\n\u001B[1;32m----> 2\u001B[0m \tcolumn_number \u001B[38;5;241m=\u001B[39m get_number()\n\u001B[0;32m      3\u001B[0m \trow_n \u001B[38;5;241m=\u001B[39m get_number()\n\u001B[0;32m      4\u001B[0m \tprint_row(row_n)\n",
      "\u001B[1;31mNameError\u001B[0m: name 'get_number' is not defined"
     ]
    }
   ],
   "source": [
    "def main():\n",
    "\tcolumn_number = get_number()\n",
    "\trow_n = get_number()\n",
    "\tprint_row(row_n)\n",
    "\tprint_column(column_number)\n",
    "\n",
    "def print_column(height):\n",
    "\t# for _ in range(height):\n",
    "\t# \tprint(\"#\")\n",
    "\tprint(\"#\\n\"*height, end=\"\")\n",
    "\n",
    "def print_row(width):\n",
    "\tprint(\"?\"*width)\n",
    "\n",
    "if __name__ == \"__main__\":\n",
    "\tmain()\n",
    "#main() works too!"
   ],
   "metadata": {
    "collapsed": false
   }
  },
  {
   "cell_type": "code",
   "execution_count": 39,
   "outputs": [
    {
     "name": "stdout",
     "output_type": "stream",
     "text": [
      "###\n",
      "###\n",
      "###\n"
     ]
    }
   ],
   "source": [
    "def main():\n",
    "\tprint_square(3)\n",
    "\n",
    "def print_square(size):\n",
    "\tfor i in range(size):\n",
    "\t\tfor j in range(size):\n",
    "\t\t\tprint(\"#\", end=\"\")\n",
    "\t\tprint()\n",
    "\n",
    "main()"
   ],
   "metadata": {
    "collapsed": false
   }
  },
  {
   "cell_type": "code",
   "execution_count": 40,
   "outputs": [
    {
     "name": "stdout",
     "output_type": "stream",
     "text": [
      "###\n",
      "###\n",
      "###\n"
     ]
    }
   ],
   "source": [
    "def main():\n",
    "\tprint_square(3)\n",
    "\n",
    "def print_square(size):\n",
    "\tfor i in range(size): # loops 3 times\n",
    "\t\tprint_row(size) # prints ###\n",
    "\n",
    "def print_row(width):\n",
    "\tprint(\"#\"*width)\n",
    "\n",
    "main()"
   ],
   "metadata": {
    "collapsed": false
   }
  }
 ],
 "metadata": {
  "kernelspec": {
   "display_name": "Python 3",
   "language": "python",
   "name": "python3"
  },
  "language_info": {
   "codemirror_mode": {
    "name": "ipython",
    "version": 2
   },
   "file_extension": ".py",
   "mimetype": "text/x-python",
   "name": "python",
   "nbconvert_exporter": "python",
   "pygments_lexer": "ipython2",
   "version": "2.7.6"
  }
 },
 "nbformat": 4,
 "nbformat_minor": 0
}
