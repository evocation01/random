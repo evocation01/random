{
 "cells": [
  {
   "cell_type": "markdown",
   "metadata": {
    "collapsed": false
   },
   "source": [
    "cd data\n",
    "ls\n",
    "cat user_emails.csv\n",
    "\n",
    "cd ~/scripts\n",
    "ls\n",
    "\n",
    "use regex to find all instances of the old domain (\"abc.edu\") in the user_emails.csv file\n",
    "and then replace them with the new domain (\"xyz.edu\").\n",
    "\n",
    "sudo chmod 777 script.py\n",
    "nano script.py\n",
    "\n",
    "\n",
    "\n"
   ]
  },
  {
   "cell_type": "code",
   "execution_count": null,
   "metadata": {
    "collapsed": false
   },
   "outputs": [],
   "source": [
    "import csv, re\n",
    "\n",
    "def contains_domain(address, domain):\n",
    "  domain_pattern = r'[\\w\\.-]+@'+domain+'$'\n",
    "  if re.match(domain_pattern, address):\n",
    "\t  return True\n",
    "  return False\n",
    "\n",
    "def replace_domain(address, old_domain, new_domain):\n",
    "  old_domain_pattern = r'' + old_domain + '$'\n",
    "  address = re.sub(old_domain_pattern, new_domain, address)\n",
    "  return address\n",
    "\n",
    "  old_domain_pattern = r'' + old_domain + '$'\n",
    "  address = re.sub(old_domain_pattern, new_domain, address)\n"
   ]
  },
  {
   "cell_type": "code",
   "execution_count": null,
   "metadata": {
    "collapsed": false
   },
   "outputs": [],
   "source": [
    "# !/usr/bin/env python3\n",
    "import sys\n",
    "import os\n",
    "import re\n",
    "\n",
    "\n",
    "def error_search(log_file):\n",
    "\terror = input(\"What is the error? \")\n",
    "\treturned_errors = []\n",
    "\twith open(log_file, mode='r', encoding='UTF-8') as file:\n",
    "\t\tfor log in file.readlines():\n",
    "\t\t\terror_patterns = [\"error\"]\n",
    "\t\t\tfor i in range(len(error.split(' '))):\n",
    "\t\t\t\terror_patterns.append(r\"{}\".format(error.split(' ')[i].lower()))\n",
    "\t\t\tif all(re.search(error_pattern, log.lower()) for error_pattern in error_patterns):\n",
    "\t\t\t\treturned_errors.append(log)\n",
    "\t\tfile.close()\n",
    "\treturn returned_errors\n",
    "\n",
    "\n",
    "def file_output(returned_errors):\n",
    "\twith open(os.path.expanduser('~') + '/data/errors_found.log', 'w') as file:\n",
    "\t\tfor error in returned_errors:\n",
    "\t\t\tfile.write(error)\n",
    "\t\tfile.close()\n",
    "\n",
    "\n",
    "if __name__ == \"__main__\":\n",
    "\tlog_file = sys.argv[1]\n",
    "\treturned_errors = error_search(log_file)\n",
    "\tfile_output(returned_errors)\n",
    "\tsys.exit(0)"
   ]
  },
  {
   "cell_type": "code",
   "execution_count": null,
   "metadata": {
    "collapsed": false
   },
   "outputs": [],
   "source": [
    "#rename files\n",
    "import os\n",
    "import re\n",
    "\n",
    "def rename_files_recursive(directory_path, old_text, new_text):\n",
    "\tfor root, dirs, files in os.walk(directory_path):\n",
    "\t\tfor filename in files:\n",
    "\t\t\tif re.search(r'\\b' + re.escape(old_text) + r'\\b', filename):\n",
    "\t\t\t\tnew_filename = re.sub(r'\\b' + re.escape(old_text) + r'\\b', new_text, filename)\n",
    "\t\t\t\told_path = os.path.join(root, filename)\n",
    "\t\t\t\tnew_path = os.path.join(root, new_filename)\n",
    "\t\t\t\tos.rename(old_path, new_path)\n",
    "\t\t\t\tprint(f'Renamed: {filename} to {new_filename}')\n",
    "\n",
    "# Example usage:\n",
    "directory_path = 'D:/PC back-up/HAKAN/cs2d_0125_win/bots/includes/'\n",
    "old_text = ''\n",
    "new_text = \"\"\n",
    "\n",
    "rename_files_recursive(directory_path, old_text, new_text)"
   ]
  }
 ],
 "metadata": {
  "kernelspec": {
   "display_name": "Python 3",
   "language": "python",
   "name": "python3"
  },
  "language_info": {
   "codemirror_mode": {
    "name": "ipython",
    "version": 2
   },
   "file_extension": ".py",
   "mimetype": "text/x-python",
   "name": "python",
   "nbconvert_exporter": "python",
   "pygments_lexer": "ipython2",
   "version": "2.7.6"
  }
 },
 "nbformat": 4,
 "nbformat_minor": 0
}
