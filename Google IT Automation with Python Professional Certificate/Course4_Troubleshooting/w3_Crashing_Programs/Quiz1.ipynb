{
 "cells": [
  {
   "cell_type": "markdown",
   "metadata": {},
   "source": [
    "### Quiz 1 : Why programs crash ###"
   ]
  },
  {
   "cell_type": "markdown",
   "metadata": {},
   "source": [
    "# Question 1\n",
    "When using Event Viewer on a Windows system, what is the best way to quickly access specific types of logs?\n",
    "\n",
    "- Export logs\n",
    "+ Create a custom view\n",
    "- Click on System Reports\n",
    "- Run the head command"
   ]
  },
  {
   "cell_type": "markdown",
   "metadata": {},
   "source": [
    "# Question 2\n",
    "An employee runs an application on a shared office computer, and it crashes. This does not happen to other users on the same computer. After reviewing the application logs, you find that the employee didn’t have access to the application. What log error helped you reach this conclusion?\n",
    "\n",
    "- “No such file or directory”\n",
    "- “Connection refused”\n",
    "+ “Permission denied”\n",
    "- “Application terminated”"
   ]
  },
  {
   "cell_type": "markdown",
   "metadata": {},
   "source": [
    "# Question 3\n",
    "What tool can we use to check the health of our RAM?\n",
    "\n",
    "- Event Viewer\n",
    "- S.M.A.R.T. tools\n",
    "+ memtest86\n",
    "- Process Monitor"
   ]
  },
  {
   "cell_type": "markdown",
   "metadata": {},
   "source": [
    "# Question 4\n",
    "You've just finished helping a user work around an issue in an application. What important but easy-to-forget step should we remember to do next?\n",
    "\n",
    "- Fix the code\n",
    "+ Report the bug to the developers \n",
    "- Reinstall the program\n",
    "- Change the user’s password"
   ]
  },
  {
   "cell_type": "markdown",
   "metadata": {},
   "source": [
    "# Question 5\n",
    "A user is experiencing strange behavior from their computer. It is running slow and lagging, and having momentary freeze-ups that it does not usually have. The problem seems to be system-wide and not restricted to a particular application. What is the first thing to ask the user as to whether they have tried it?\n",
    "\n",
    "- Adding more RAM\n",
    "- Reinstalling Windows\n",
    "+ Identified the bottleneck with a resource monitor\n",
    "- Upgrade their HDD to an SSD"
   ]
  }
 ],
 "metadata": {
  "language_info": {
   "name": "python"
  }
 },
 "nbformat": 4,
 "nbformat_minor": 2
}
