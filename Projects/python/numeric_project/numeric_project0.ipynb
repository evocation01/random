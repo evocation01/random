{
 "cells": [
  {
   "cell_type": "code",
   "execution_count": 1,
   "metadata": {},
   "outputs": [],
   "source": [
    "import random\n",
    "import math\n",
    "\n",
    "### 1. Random Number Generation ###\n",
    "\n",
    "## 1.1 Implement a Simple Pseudo-Random Number Generator ##\n",
    "class SimpleRandomGenerator:\n",
    "    def __init__(self, seed=None):\n",
    "        self.seed = seed if seed else random.randint(0, 999999)\n",
    "        self.a = 1103515245\n",
    "        self.c = 12345\n",
    "        self.m = 2 ** 31\n",
    "\n",
    "    def generate(self):\n",
    "        self.seed = (self.a * self.seed + self.c) % self.m\n",
    "        return self.seed / self.m\n",
    "\n",
    "## 1.2 Generate 100000 Random Numbers ##\n",
    "def generate_random_numbers(generator, count):\n",
    "    random_numbers = []\n",
    "    for _ in range(count):\n",
    "        random_numbers.append(generator.generate())\n",
    "    return random_numbers\n",
    "\n",
    "## 1.3 Check the Randomness (Diehard Tests) ##\n",
    "# Diehard tests implementation goes here\n"
   ]
  },
  {
   "cell_type": "code",
   "execution_count": 2,
   "metadata": {},
   "outputs": [],
   "source": [
    "### 2. Monte Carlo Simulation ###\n",
    "\n",
    "## 2.1 Define the Shape ##\n",
    "def is_inside_shape(x, y):\n",
    "    return x ** 2 - abs(x) * y + y ** 2 <= 25\n",
    "\n",
    "## 2.2 Estimate the Area ##\n",
    "def monte_carlo_simulation(random_numbers, sample_size):\n",
    "    inside_count = 0\n",
    "    for _ in range(sample_size):\n",
    "        x = random.choice(random_numbers)\n",
    "        y = random.choice(random_numbers)\n",
    "        if is_inside_shape(x, y):\n",
    "            inside_count += 1\n",
    "    area_estimate = inside_count / sample_size * 100  # Scale to actual area\n",
    "    return area_estimate"
   ]
  },
  {
   "cell_type": "code",
   "execution_count": 3,
   "metadata": {},
   "outputs": [
    {
     "name": "stdout",
     "output_type": "stream",
     "text": [
      "Area estimate using simple generator with 1000 samples: 100.0\n",
      "Area estimate using built-in random with 1000 samples: 100.0\n",
      "Area estimate using simple generator with 10000 samples: 100.0\n",
      "Area estimate using built-in random with 10000 samples: 100.0\n",
      "Area estimate using simple generator with 100000 samples: 100.0\n",
      "Area estimate using built-in random with 100000 samples: 100.0\n"
     ]
    }
   ],
   "source": [
    "### Main Code ###\n",
    "if __name__ == \"__main__\":\n",
    "    # Generate random numbers using simple pseudo-random generator\n",
    "    simple_generator = SimpleRandomGenerator()\n",
    "    random_numbers = generate_random_numbers(simple_generator, 100000)\n",
    "\n",
    "    # Perform Diehard tests\n",
    "    # Implement Diehard tests function\n",
    "\n",
    "    # Monte Carlo simulation\n",
    "    sample_sizes = [1000, 10000, 100000]\n",
    "    for n in sample_sizes:\n",
    "        # Using simple pseudo-random generator\n",
    "        area_estimate_simple = monte_carlo_simulation(random_numbers, n)\n",
    "        print(f\"Area estimate using simple generator with {n} samples: {area_estimate_simple}\")\n",
    "\n",
    "        # Using random.random()\n",
    "        random_numbers_builtin = [random.random() for _ in range(100000)]\n",
    "        area_estimate_builtin = monte_carlo_simulation(random_numbers_builtin, n)\n",
    "        print(f\"Area estimate using built-in random with {n} samples: {area_estimate_builtin}\")\n",
    "\n",
    "        # Using Halton sequence (quasi-random numbers)\n",
    "        # Implement Halton sequence function\n",
    "        # Compute area estimate using Halton sequence"
   ]
  }
 ],
 "metadata": {
  "language_info": {
   "name": "python"
  }
 },
 "nbformat": 4,
 "nbformat_minor": 2
}
