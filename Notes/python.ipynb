{
 "cells": [
  {
   "cell_type": "markdown",
   "metadata": {},
   "source": [
    "# Simple Functions\n",
    "- .count(\"'char'\")  \n",
    "    - to count how many times a char gets used\n",
    "- .endswith(\"x\")  \n",
    "    - to check if string ends with x\n",
    "- .isnumeric()  \n",
    "  - to check whether string consists of only numbers\n",
    "- .join()  \n",
    "  - to concatenate strings\n",
    "- .split() \n",
    "    - to split every word in a string\n",
    "- dir() \n",
    "    - function gives ALL the functions of the associated class. \n",
    "      - (i.e dir(\"\") gives functions of string class)\n",
    "- help() \n",
    "    - gives the documentation of the class. \n",
    "      - [use 'q' to quit]"
   ]
  },
  {
   "cell_type": "markdown",
   "metadata": {},
   "source": [
    "## Advanced Functions\n",
    "\n",
    "- dict.update() \n",
    "    - method doesn't ADD the both method values. It sets the new val to old value! It 'updates' it!\n",
    "- [::-1] or .sort(reverse=True)\n",
    "    - reverses lists\n",
    "- os.path.join()\n",
    "   - allows for cross-platform class paths. \n",
    "      - (solves \\/ problems in file paths in difference with OS's)"
   ]
  },
  {
   "cell_type": "markdown",
   "metadata": {},
   "source": [
    "# Random Tips\n",
    "* Tuple = \"final\" list.\n",
    "* Attributes are characteristics associated with a type.\n",
    "* Methods are functions associated with a type\n",
    "* Automated consistency checks, such as hash checks on backups, can help identify problems ahead of time.\n",
    "* To access elements by position\t\n",
    "\t- use dictionaries (much faster than lists)"
   ]
  },
  {
   "cell_type": "markdown",
   "metadata": {},
   "source": [
    "# Regex & grep\n",
    "* '.' is a WC. (wildcard)\n",
    "    <i.e. t.. = tee, tea, tom...>\n",
    "\n",
    "- $grep ^fruit {location} ::: ['fruit, fruits, fruit's, fruity...']\n",
    "    <which means everything that starts with 'fruit'>\n",
    "- $ grep cat$ {location} ::: ['cat, Mobcat, Teacat, pussycat...'] \n",
    "    <ends with 'cat'>\n",
    "\n",
    "* {'^', '$' are ANCHOR chars.},"
   ]
  },
  {
   "cell_type": "markdown",
   "metadata": {},
   "source": [
    "## Details\n",
    "* \\w \n",
    "  * matches characters, numbers and underscores.\n",
    "* \\d \n",
    "  * matches 0-9\n",
    "* \\s \n",
    "  * matches white-space\n",
    "* \\w \n",
    "  * matches [a-zA-Z0-9_]\n",
    "* \\b \n",
    "    - essentially using anchor chars for EVERY word. \n",
    "    - So the regex will apply to every word one by one, instead of the total sentence.\n",
    "    - to ensure that the pattern only matches phone numbers when they are surrounded by non-word characters \n",
    "    - (such as spaces, punctuation, or the start/end of the string). \n",
    "    - This prevents it from matching substrings within longer strings that resemble the phone number format.\n",
    "\n",
    "* (?:...) is non-capturing group.\n",
    "* :=   \n",
    "    - the WALRUS operator (new)"
   ]
  }
 ],
 "metadata": {
  "kernelspec": {
   "display_name": "py312",
   "language": "python",
   "name": "python3"
  },
  "language_info": {
   "name": "python",
   "version": "3.12.5"
  }
 },
 "nbformat": 4,
 "nbformat_minor": 2
}
