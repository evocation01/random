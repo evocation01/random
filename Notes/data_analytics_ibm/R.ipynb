{
 "cells": [
  {
   "cell_type": "code",
   "execution_count": 28,
   "metadata": {
    "vscode": {
     "languageId": "r"
    }
   },
   "outputs": [
    {
     "data": {
      "text/html": [
       "'character'"
      ],
      "text/latex": [
       "'character'"
      ],
      "text/markdown": [
       "'character'"
      ],
      "text/plain": [
       "[1] \"character\""
      ]
     },
     "metadata": {},
     "output_type": "display_data"
    },
    {
     "data": {
      "text/html": [
       "5"
      ],
      "text/latex": [
       "5"
      ],
      "text/markdown": [
       "5"
      ],
      "text/plain": [
       "[1] 5"
      ]
     },
     "metadata": {},
     "output_type": "display_data"
    },
    {
     "data": {
      "text/html": [
       "<style>\n",
       ".list-inline {list-style: none; margin:0; padding: 0}\n",
       ".list-inline>li {display: inline-block}\n",
       ".list-inline>li:not(:last-child)::after {content: \"\\00b7\"; padding: 0 .5ex}\n",
       "</style>\n",
       "<ol class=list-inline><li>431</li><li>273</li><li>273</li><li>193</li><li>407</li></ol>\n"
      ],
      "text/latex": [
       "\\begin{enumerate*}\n",
       "\\item 431\n",
       "\\item 273\n",
       "\\item 273\n",
       "\\item 193\n",
       "\\item 407\n",
       "\\end{enumerate*}\n"
      ],
      "text/markdown": [
       "1. 431\n",
       "2. 273\n",
       "3. 273\n",
       "4. 193\n",
       "5. 407\n",
       "\n",
       "\n"
      ],
      "text/plain": [
       "[1] 431 273 273 193 407"
      ]
     },
     "metadata": {},
     "output_type": "display_data"
    },
    {
     "data": {
      "text/html": [
       "<style>\n",
       ".list-inline {list-style: none; margin:0; padding: 0}\n",
       ".list-inline>li {display: inline-block}\n",
       ".list-inline>li:not(:last-child)::after {content: \"\\00b7\"; padding: 0 .5ex}\n",
       "</style>\n",
       "<ol class=list-inline><li>&lt;NA&gt;</li><li>&lt;NA&gt;</li><li>&lt;NA&gt;</li><li>&lt;NA&gt;</li><li>&lt;NA&gt;</li></ol>\n"
      ],
      "text/latex": [
       "\\begin{enumerate*}\n",
       "\\item <NA>\n",
       "\\item <NA>\n",
       "\\item <NA>\n",
       "\\item <NA>\n",
       "\\item <NA>\n",
       "\\end{enumerate*}\n"
      ],
      "text/markdown": [
       "1. &lt;NA&gt;\n",
       "2. &lt;NA&gt;\n",
       "3. &lt;NA&gt;\n",
       "4. &lt;NA&gt;\n",
       "5. &lt;NA&gt;\n",
       "\n",
       "\n"
      ],
      "text/plain": [
       "[1] NA NA NA NA NA"
      ]
     },
     "metadata": {},
     "output_type": "display_data"
    }
   ],
   "source": [
    "text <- readLines(\"C:/Users/hakan/PycharmProjects/VSCode/random/Notes/data_analytics_ibm/text.txt\")\n",
    "\n",
    "class(text)\n",
    "length(text)\n",
    "nchar(text)\n",
    "file.size(text)\n",
    "\n"
   ]
  },
  {
   "cell_type": "markdown",
   "metadata": {},
   "source": [
    "- What is the purpose of the readLines() function?\n",
    "  - Reads each text line (ending with a line break) in a text file and returns a character vector.\n",
    "\n",
    "- Complete the sentence: \n",
    "  - HTTP is a communication protocol for fetching web resources for clients from servers on the Internet.\n",
    "\n",
    "- Complete the sentence: \n",
    "  - In an HTML page, if the <head> and <body> nodes have the same parent, <html>, they are said to be sibling nodes to each other. \n",
    "\n"
   ]
  },
  {
   "cell_type": "code",
   "execution_count": 1,
   "metadata": {
    "vscode": {
     "languageId": "r"
    }
   },
   "outputs": [
    {
     "data": {
      "text/plain": [
       "Response [https://www.google.com/]\n",
       "  Date: 2024-02-24 14:16\n",
       "  Status: 200\n",
       "  Content-Type: text/html; charset=ISO-8859-1\n",
       "  Size: 19 kB\n",
       "<!doctype html><html itemscope=\"\" itemtype=\"http://schema.org/WebPage\" lang=\"...\n",
       "var h=this||self;function l(){return void 0!==window.google&&void 0!==window....\n",
       "function t(a,b,c,d,k){var e=\"\";-1===b.search(\"&ei=\")&&(e=\"&ei=\"+p(d),-1===b.s...\n",
       "document.documentElement.addEventListener(\"submit\",function(b){var a;if(a=b.t...\n",
       "</style><style>body,td,a,p,.h{font-family:arial,sans-serif}body{margin:0;over...\n",
       "var h=this||self;var k,l=null!=(k=h.mei)?k:1,n,p=null!=(n=h.sdo)?n:!0,q=0,r,t...\n",
       "b(t.bv);var f=a.lineNumber;void 0!==f&&(c+=\"&line=\"+f);var g=a.fileName;g&&(0...\n",
       "if (!iesg){document.f&&document.f.q.focus();document.gbqf&&document.gbqf.q.fo...\n",
       "}\n",
       "})();</script><div id=\"mngb\"><div id=gbar><nobr><b class=gb1>Arama</b> <a cla...\n",
       "..."
      ]
     },
     "metadata": {},
     "output_type": "display_data"
    }
   ],
   "source": [
    "library(httr)\n",
    "response <- GET(\"https://www.google.com\") # retrieves data\n",
    "response\n",
    "\n",
    "# POST is used to send data to a server to create/update a resource.\n"
   ]
  }
 ],
 "metadata": {
  "kernelspec": {
   "display_name": "R",
   "language": "R",
   "name": "ir"
  },
  "language_info": {
   "codemirror_mode": "r",
   "file_extension": ".r",
   "mimetype": "text/x-r-source",
   "name": "R",
   "pygments_lexer": "r",
   "version": "4.3.2"
  }
 },
 "nbformat": 4,
 "nbformat_minor": 2
}
