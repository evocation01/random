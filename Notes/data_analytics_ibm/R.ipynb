{
 "cells": [
  {
   "cell_type": "markdown",
   "metadata": {},
   "source": [
    "# Intro to R\n",
    "## About R.\n",
    "- open source\n",
    "- easy \n",
    "- community\n",
    "- interpreted \n",
    "- descriptive statistics\n",
    "- correlation analysis\n",
    "- hypothesis testing\n",
    "  - Testing if the mean values of two groups are statistically different.\n",
    "  - making inferences about a population parameter based on a sample of data\n",
    "     -  i.e. t-test\n",
    "- statistical inference\n",
    "- data visualization\n",
    "- ML and AI"
   ]
  },
  {
   "cell_type": "markdown",
   "metadata": {},
   "source": [
    "## Some R Functions\n",
    "- class(1L) : 'integer'\n",
    "- is.integer(1L) : TRUE\n",
    "- rm(<var>) : removes var from memory"
   ]
  },
  {
   "cell_type": "markdown",
   "metadata": {},
   "source": [
    "## Info\n",
    "- character = strings and characters\n",
    "- Logical = boolean data (i.e. TRUE and FALSE)\n",
    "- Casting = as.numeric() or as.integer() ...\n",
    "- factors = \n",
    "  - using summary() is good "
   ]
  },
  {
   "cell_type": "code",
   "execution_count": null,
   "metadata": {
    "vscode": {
     "languageId": "r"
    }
   },
   "outputs": [],
   "source": [
    "print(c(1:10)) # 1 to 10\n",
    "print(c(10:1)) # 10 to 1\n",
    "1997 < 2000\n",
    "\n",
    "data = c(5:50)\n",
    "c(5:50)\n",
    "data > 7.5"
   ]
  },
  {
   "cell_type": "code",
   "execution_count": null,
   "metadata": {
    "vscode": {
     "languageId": "r"
    }
   },
   "outputs": [],
   "source": [
    "genre_vector = c(\"Comedy\", \"Anime\", \"Crime\", \"Comedy\", \"Anime\")\n",
    "genre_factor = factor(genre_vector)\n",
    "\n",
    "gv = summary(genre_vector)\n",
    "gf = summary(genre_factor)\n",
    "\n",
    "print(list(gv, gf))"
   ]
  },
  {
   "cell_type": "markdown",
   "metadata": {},
   "source": [
    "## Types of factors\n",
    "- Nominal Categorical vars\n",
    "  - no implied order\n",
    "- Ordinal \n",
    "  - have ordering"
   ]
  },
  {
   "cell_type": "code",
   "execution_count": null,
   "metadata": {
    "vscode": {
     "languageId": "r"
    }
   },
   "outputs": [],
   "source": [
    "movielength_vector <- c(\"Very short\", \"Short\", \"Medium\", \"Short\", \"Long\", \"Very short\", \"Very long\")\n",
    "\n",
    "movielength_factor <- factor(\n",
    "    movielength_vector,\n",
    "    ordered = TRUE,\n",
    "    levels = c(\"Very short\", \"Short\", \"Medium\", \"Long\", \"Very long\")\n",
    ")\n",
    "\n",
    "summary(movielength_factor)"
   ]
  },
  {
   "cell_type": "code",
   "execution_count": null,
   "metadata": {
    "vscode": {
     "languageId": "r"
    }
   },
   "outputs": [],
   "source": [
    "movie_array = array(movielength_vector, dim = c(4,3))\n",
    "movie_matrix = matrix(movielength_factor, nrow = 3, ncol = 3)\n",
    "movie_matrix_byrow = matrix(movielength_factor, nrow = 3, ncol = 3, byrow = TRUE)\n",
    "\n",
    "print(list(\n",
    "    movie_array, \n",
    "    movie_array[1,2], \n",
    "    movie_array[,3],\n",
    "    movie_matrix,\n",
    "    movie_matrix_byrow\n",
    "    )\n",
    ")"
   ]
  },
  {
   "cell_type": "code",
   "execution_count": null,
   "metadata": {
    "vscode": {
     "languageId": "r"
    }
   },
   "outputs": [],
   "source": [
    "#lets first create a vector of nine movies\n",
    "movie_vector <- c(\"Akira\", \"Toy Story\", \"Room\", \"The Wave\", \"Whiplash\",\n",
    "                  \"Star Wars\", \"The Ring\", \"The Artist\", \"Jumanji\")\n",
    "movie_vector"
   ]
  },
  {
   "cell_type": "code",
   "execution_count": null,
   "metadata": {
    "vscode": {
     "languageId": "r"
    }
   },
   "outputs": [],
   "source": [
    "movie_array <- array(movie_vector, dim = c(4,3))\n",
    "movie_array"
   ]
  },
  {
   "cell_type": "code",
   "execution_count": null,
   "metadata": {
    "vscode": {
     "languageId": "r"
    }
   },
   "outputs": [],
   "source": [
    "mpg = mtcars$mpg\n",
    "mpg"
   ]
  },
  {
   "cell_type": "code",
   "execution_count": null,
   "metadata": {
    "vscode": {
     "languageId": "r"
    }
   },
   "outputs": [],
   "source": [
    "x = c(25, 35, 40, 50, 75)\n",
    "mean(x)\n",
    "\n",
    "employee = list(name = \"Juan\", age = 30)\n",
    "employee[\"age\"] = 35\n",
    "employee"
   ]
  },
  {
   "cell_type": "code",
   "execution_count": null,
   "metadata": {
    "vscode": {
     "languageId": "r"
    }
   },
   "outputs": [],
   "source": [
    "thing = \"111111111klijsljkşfalşjkfajklşsfkklijsljkşfalşjkfajklşsfkasşkjşdfasşkfklijsljkşfalşjkfajklşsfkasşkjşdfasşkfklijsljkşfalşjkfajklşsfkasşkjşdfasşkfklijsljkşfalşjkfajklşsfkasşkjşdfasşkSfklijsljkşfalşjkfajklşsfkasşkjşdfasşkfklijsljkşfalşjkfajklşsfkasşkjşdfasşkfasşkjşdfasşkf asfas asfafa safaf\"\n",
    "nchar(thing) # number of chars\n",
    "toupper(thing) # converts every char to upper chars\n",
    "nchar(toupper(thing))\n",
    "tolower(thing)\n",
    "chartr(\"1\", \"2\", thing) # char translation (changes 1 to 2)"
   ]
  },
  {
   "cell_type": "code",
   "execution_count": null,
   "metadata": {
    "vscode": {
     "languageId": "r"
    }
   },
   "outputs": [],
   "source": [
    "summary = \"A summary is a short statement that summarizes or informs the audience of the main ideas of a longer piece of writing. Essentially, the summary is a short version of a longer text. The size of a summary can vary based on the type of writing, but most often they are no longer than a page.\"\n",
    "\n",
    "char_list = strsplit(summary, \" \")\n",
    "word_list = unlist(char_list) \n",
    "word_list"
   ]
  },
  {
   "cell_type": "code",
   "execution_count": null,
   "metadata": {
    "vscode": {
     "languageId": "r"
    }
   },
   "outputs": [],
   "source": [
    "sorted_list = sort(word_list)\n",
    "paste(sorted_list, collapse = \" \")"
   ]
  },
  {
   "cell_type": "code",
   "execution_count": null,
   "metadata": {
    "vscode": {
     "languageId": "r"
    }
   },
   "outputs": [],
   "source": [
    "sub_string = substr(summary, start = 2, stop = 47) # a sub string starting from 3rd word ends with 46th.\n",
    "trimws(sub_string) # trims white spaces (trimws) from the word, from beginning and end.\n",
    "\n",
    "library(stringr)\n",
    "str_sub(summary, -8, -1) # takes the sub string starting from -8 to -1\n",
    "# str_sub is basically a more powerful version of substr"
   ]
  },
  {
   "cell_type": "code",
   "execution_count": null,
   "metadata": {
    "vscode": {
     "languageId": "r"
    }
   },
   "outputs": [],
   "source": [
    "readme <- \"C:/Users/hakan/Downloads/test.txt\"\n",
    "\n",
    "my_data <- scan(file = readme, what = \"\")\n",
    "my_data\n"
   ]
  },
  {
   "cell_type": "code",
   "execution_count": null,
   "metadata": {
    "vscode": {
     "languageId": "r"
    }
   },
   "outputs": [],
   "source": [
    "word_factor = factor(my_data)\n",
    "summary(word_factor) # gives frequency of words\n",
    "\n",
    "data2 = c(1,1,1,1,1,2,2,2,2,2,2,2,4,4,4,4,4) \n",
    "data2_f = factor(data2) \n",
    "summary(data2_f)"
   ]
  },
  {
   "cell_type": "code",
   "execution_count": null,
   "metadata": {
    "vscode": {
     "languageId": "r"
    }
   },
   "outputs": [],
   "source": [
    "as.Date(\"27/06/04\", \"%d/%m/%y\") \n",
    "# [1] \"2004-06-27\"\n",
    "as.Date(\"1994/06/27\") - as.Date(\"1959/01/01\") \n",
    "# Time difference of 12961 days\n",
    "\n",
    "date = Sys.Date() \n",
    "\n",
    "Sys.Date()\n",
    "# [1] \"2024-02-13\"\n",
    "date() \n",
    "# [1] \"Tue Feb 13 14:51:49 2024\"\n",
    "Sys.time()\n",
    "# [1] \"2024-02-13 14:52:00 +03\"\n",
    "\n",
    "weekdays(date) \n",
    "# [1] \"Tuesday\"\n",
    "months(date) \n",
    "# [1] \"February\"\n",
    "quarters(date) \n",
    "# [1] \"Q1\"\n",
    "\n",
    "seq(date, by = \"month\", length.out=12) # gives a sequence of dates with 1 month between every for up to 12 months."
   ]
  },
  {
   "cell_type": "code",
   "execution_count": null,
   "metadata": {
    "vscode": {
     "languageId": "r"
    }
   },
   "outputs": [],
   "source": [
    "dates = seq(date, by = \"day\", length.out = 365)\n",
    "dates_char = format(dates, \"%d-%m-%Y\")\n",
    "writeLines(dates_char, \"dates.txt\")"
   ]
  },
  {
   "cell_type": "code",
   "execution_count": null,
   "metadata": {
    "vscode": {
     "languageId": "r"
    }
   },
   "outputs": [],
   "source": [
    "\n",
    "tryCatch(\n",
    "    for (i in 1:3) {\n",
    "        print(i + \"a\")\n",
    "    }\n",
    "    , error = function(e) print(\"Found error!\")\n",
    ")\n",
    "\n",
    "tryCatch(10 + \"a\", error = function(a)\n",
    "            print(\"Oops, something went wrong!\")  )\n"
   ]
  },
  {
   "cell_type": "code",
   "execution_count": null,
   "metadata": {
    "vscode": {
     "languageId": "r"
    }
   },
   "outputs": [],
   "source": [
    "string = \"The quick red fox jumped over the lazy dog.\"\n",
    "chartr(\"dog\", \"cat\", string)\n",
    "\n",
    "25 > 15 | 99 >= 100\n",
    "\n",
    "View(USArrests)"
   ]
  },
  {
   "cell_type": "markdown",
   "metadata": {},
   "source": [
    "## HTTP Request and REST API\n",
    "\n",
    "GET : requests a resource  \n",
    "POST : sends data   \n",
    "PUT: updates \n",
    "DELETE: deletes\n",
    "\n",
    "Status Code indicates the result\n",
    "200 : OK\n",
    "404 : Not Found\n",
    "403 : Forbidden\n",
    "\n",
    "REST API is a web service\n",
    "    that uses the REST architecture\n",
    "        \n",
    "\n",
    "in R:\n",
    "httr\n"
   ]
  },
  {
   "cell_type": "code",
   "execution_count": null,
   "metadata": {
    "vscode": {
     "languageId": "r"
    }
   },
   "outputs": [],
   "source": [
    "#install.packages(\"httr\")\n",
    "library(httr)\n",
    "response <- GET(\"https://labs.cognitiveclass.ai/v2/tools/jupyterlab?ulid=ulid-55996c55fb63f5f252d272aba5d80b1ff53cabab\")\n",
    "response\n",
    "print(response$date)\n",
    "print(response$status)\n",
    "print(\"\")\n",
    "print(content(response))"
   ]
  },
  {
   "cell_type": "code",
   "execution_count": 1,
   "metadata": {
    "vscode": {
     "languageId": "r"
    }
   },
   "outputs": [
    {
     "data": {
      "text/html": [
       "<style>\n",
       ".list-inline {list-style: none; margin:0; padding: 0}\n",
       ".list-inline>li {display: inline-block}\n",
       ".list-inline>li:not(:last-child)::after {content: \"\\00b7\"; padding: 0 .5ex}\n",
       "</style>\n",
       "<ol class=list-inline><li>'The'</li><li>'Artist'</li><li>'is'</li><li>'a'</li><li>'2011'</li><li>'French'</li><li>'romantic'</li><li>'comedy-drama'</li><li>'in'</li><li>'the'</li><li>'style'</li><li>'of'</li><li>'a'</li><li>'black-and-white'</li><li>'silent'</li><li>'film.'</li><li>'It'</li><li>'was'</li><li>'written,'</li><li>'directed,'</li><li>'and'</li><li>'co-edited'</li><li>'by'</li><li>'Michel'</li><li>'Hazanavicius,'</li><li>'produced'</li><li>'by'</li><li>'Thomas'</li><li>'Langmann'</li><li>'and'</li><li>'starred'</li><li>'Jean'</li><li>'Dujardin'</li><li>'and'</li><li>'Bérénice'</li><li>'Bejo.'</li><li>'The'</li><li>'story'</li><li>'takes'</li><li>'place'</li><li>'in'</li><li>'Hollywood,'</li><li>'between'</li><li>'1927'</li><li>'and'</li><li>'1932,'</li><li>'and'</li><li>'focuses'</li><li>'on'</li><li>'the'</li><li>'relationship'</li><li>'of'</li><li>'an'</li><li>'older'</li><li>'silent'</li><li>'film'</li><li>'star'</li><li>'and'</li><li>'a'</li><li>'rising'</li><li>'young'</li><li>'actress'</li><li>'as'</li><li>'silent'</li><li>'cinema'</li><li>'falls'</li><li>'out'</li><li>'of'</li><li>'fashion'</li><li>'and'</li><li>'is'</li><li>'replaced'</li><li>'by'</li><li>'the'</li><li>'talkies.'</li></ol>\n"
      ],
      "text/latex": [
       "\\begin{enumerate*}\n",
       "\\item 'The'\n",
       "\\item 'Artist'\n",
       "\\item 'is'\n",
       "\\item 'a'\n",
       "\\item '2011'\n",
       "\\item 'French'\n",
       "\\item 'romantic'\n",
       "\\item 'comedy-drama'\n",
       "\\item 'in'\n",
       "\\item 'the'\n",
       "\\item 'style'\n",
       "\\item 'of'\n",
       "\\item 'a'\n",
       "\\item 'black-and-white'\n",
       "\\item 'silent'\n",
       "\\item 'film.'\n",
       "\\item 'It'\n",
       "\\item 'was'\n",
       "\\item 'written,'\n",
       "\\item 'directed,'\n",
       "\\item 'and'\n",
       "\\item 'co-edited'\n",
       "\\item 'by'\n",
       "\\item 'Michel'\n",
       "\\item 'Hazanavicius,'\n",
       "\\item 'produced'\n",
       "\\item 'by'\n",
       "\\item 'Thomas'\n",
       "\\item 'Langmann'\n",
       "\\item 'and'\n",
       "\\item 'starred'\n",
       "\\item 'Jean'\n",
       "\\item 'Dujardin'\n",
       "\\item 'and'\n",
       "\\item 'Bérénice'\n",
       "\\item 'Bejo.'\n",
       "\\item 'The'\n",
       "\\item 'story'\n",
       "\\item 'takes'\n",
       "\\item 'place'\n",
       "\\item 'in'\n",
       "\\item 'Hollywood,'\n",
       "\\item 'between'\n",
       "\\item '1927'\n",
       "\\item 'and'\n",
       "\\item '1932,'\n",
       "\\item 'and'\n",
       "\\item 'focuses'\n",
       "\\item 'on'\n",
       "\\item 'the'\n",
       "\\item 'relationship'\n",
       "\\item 'of'\n",
       "\\item 'an'\n",
       "\\item 'older'\n",
       "\\item 'silent'\n",
       "\\item 'film'\n",
       "\\item 'star'\n",
       "\\item 'and'\n",
       "\\item 'a'\n",
       "\\item 'rising'\n",
       "\\item 'young'\n",
       "\\item 'actress'\n",
       "\\item 'as'\n",
       "\\item 'silent'\n",
       "\\item 'cinema'\n",
       "\\item 'falls'\n",
       "\\item 'out'\n",
       "\\item 'of'\n",
       "\\item 'fashion'\n",
       "\\item 'and'\n",
       "\\item 'is'\n",
       "\\item 'replaced'\n",
       "\\item 'by'\n",
       "\\item 'the'\n",
       "\\item 'talkies.'\n",
       "\\end{enumerate*}\n"
      ],
      "text/markdown": [
       "1. 'The'\n",
       "2. 'Artist'\n",
       "3. 'is'\n",
       "4. 'a'\n",
       "5. '2011'\n",
       "6. 'French'\n",
       "7. 'romantic'\n",
       "8. 'comedy-drama'\n",
       "9. 'in'\n",
       "10. 'the'\n",
       "11. 'style'\n",
       "12. 'of'\n",
       "13. 'a'\n",
       "14. 'black-and-white'\n",
       "15. 'silent'\n",
       "16. 'film.'\n",
       "17. 'It'\n",
       "18. 'was'\n",
       "19. 'written,'\n",
       "20. 'directed,'\n",
       "21. 'and'\n",
       "22. 'co-edited'\n",
       "23. 'by'\n",
       "24. 'Michel'\n",
       "25. 'Hazanavicius,'\n",
       "26. 'produced'\n",
       "27. 'by'\n",
       "28. 'Thomas'\n",
       "29. 'Langmann'\n",
       "30. 'and'\n",
       "31. 'starred'\n",
       "32. 'Jean'\n",
       "33. 'Dujardin'\n",
       "34. 'and'\n",
       "35. 'Bérénice'\n",
       "36. 'Bejo.'\n",
       "37. 'The'\n",
       "38. 'story'\n",
       "39. 'takes'\n",
       "40. 'place'\n",
       "41. 'in'\n",
       "42. 'Hollywood,'\n",
       "43. 'between'\n",
       "44. '1927'\n",
       "45. 'and'\n",
       "46. '1932,'\n",
       "47. 'and'\n",
       "48. 'focuses'\n",
       "49. 'on'\n",
       "50. 'the'\n",
       "51. 'relationship'\n",
       "52. 'of'\n",
       "53. 'an'\n",
       "54. 'older'\n",
       "55. 'silent'\n",
       "56. 'film'\n",
       "57. 'star'\n",
       "58. 'and'\n",
       "59. 'a'\n",
       "60. 'rising'\n",
       "61. 'young'\n",
       "62. 'actress'\n",
       "63. 'as'\n",
       "64. 'silent'\n",
       "65. 'cinema'\n",
       "66. 'falls'\n",
       "67. 'out'\n",
       "68. 'of'\n",
       "69. 'fashion'\n",
       "70. 'and'\n",
       "71. 'is'\n",
       "72. 'replaced'\n",
       "73. 'by'\n",
       "74. 'the'\n",
       "75. 'talkies.'\n",
       "\n",
       "\n"
      ],
      "text/plain": [
       " [1] \"The\"             \"Artist\"          \"is\"              \"a\"              \n",
       " [5] \"2011\"            \"French\"          \"romantic\"        \"comedy-drama\"   \n",
       " [9] \"in\"              \"the\"             \"style\"           \"of\"             \n",
       "[13] \"a\"               \"black-and-white\" \"silent\"          \"film.\"          \n",
       "[17] \"It\"              \"was\"             \"written,\"        \"directed,\"      \n",
       "[21] \"and\"             \"co-edited\"       \"by\"              \"Michel\"         \n",
       "[25] \"Hazanavicius,\"   \"produced\"        \"by\"              \"Thomas\"         \n",
       "[29] \"Langmann\"        \"and\"             \"starred\"         \"Jean\"           \n",
       "[33] \"Dujardin\"        \"and\"             \"Bérénice\"        \"Bejo.\"          \n",
       "[37] \"The\"             \"story\"           \"takes\"           \"place\"          \n",
       "[41] \"in\"              \"Hollywood,\"      \"between\"         \"1927\"           \n",
       "[45] \"and\"             \"1932,\"           \"and\"             \"focuses\"        \n",
       "[49] \"on\"              \"the\"             \"relationship\"    \"of\"             \n",
       "[53] \"an\"              \"older\"           \"silent\"          \"film\"           \n",
       "[57] \"star\"            \"and\"             \"a\"               \"rising\"         \n",
       "[61] \"young\"           \"actress\"         \"as\"              \"silent\"         \n",
       "[65] \"cinema\"          \"falls\"           \"out\"             \"of\"             \n",
       "[69] \"fashion\"         \"and\"             \"is\"              \"replaced\"       \n",
       "[73] \"by\"              \"the\"             \"talkies.\"       "
      ]
     },
     "metadata": {},
     "output_type": "display_data"
    },
    {
     "data": {
      "text/html": [
       "<style>\n",
       ".dl-inline {width: auto; margin:0; padding: 0}\n",
       ".dl-inline>dt, .dl-inline>dd {float: none; width: auto; display: inline-block}\n",
       ".dl-inline>dt::after {content: \":\\0020\"; padding-right: .5ex}\n",
       ".dl-inline>dt:not(:first-of-type) {padding-left: .5ex}\n",
       "</style><dl class=dl-inline><dt>1927</dt><dd>1</dd><dt>1932,</dt><dd>1</dd><dt>2011</dt><dd>1</dd><dt>a</dt><dd>3</dd><dt>actress</dt><dd>1</dd><dt>an</dt><dd>1</dd><dt>and</dt><dd>7</dd><dt>Artist</dt><dd>1</dd><dt>as</dt><dd>1</dd><dt>Bejo.</dt><dd>1</dd><dt>Bérénice</dt><dd>1</dd><dt>between</dt><dd>1</dd><dt>black-and-white</dt><dd>1</dd><dt>by</dt><dd>3</dd><dt>cinema</dt><dd>1</dd><dt>co-edited</dt><dd>1</dd><dt>comedy-drama</dt><dd>1</dd><dt>directed,</dt><dd>1</dd><dt>Dujardin</dt><dd>1</dd><dt>falls</dt><dd>1</dd><dt>fashion</dt><dd>1</dd><dt>film</dt><dd>1</dd><dt>film.</dt><dd>1</dd><dt>focuses</dt><dd>1</dd><dt>French</dt><dd>1</dd><dt>Hazanavicius,</dt><dd>1</dd><dt>Hollywood,</dt><dd>1</dd><dt>in</dt><dd>2</dd><dt>is</dt><dd>2</dd><dt>It</dt><dd>1</dd><dt>Jean</dt><dd>1</dd><dt>Langmann</dt><dd>1</dd><dt>Michel</dt><dd>1</dd><dt>of</dt><dd>3</dd><dt>older</dt><dd>1</dd><dt>on</dt><dd>1</dd><dt>out</dt><dd>1</dd><dt>place</dt><dd>1</dd><dt>produced</dt><dd>1</dd><dt>relationship</dt><dd>1</dd><dt>replaced</dt><dd>1</dd><dt>rising</dt><dd>1</dd><dt>romantic</dt><dd>1</dd><dt>silent</dt><dd>3</dd><dt>star</dt><dd>1</dd><dt>starred</dt><dd>1</dd><dt>story</dt><dd>1</dd><dt>style</dt><dd>1</dd><dt>takes</dt><dd>1</dd><dt>talkies.</dt><dd>1</dd><dt>the</dt><dd>3</dd><dt>The</dt><dd>2</dd><dt>Thomas</dt><dd>1</dd><dt>was</dt><dd>1</dd><dt>written,</dt><dd>1</dd><dt>young</dt><dd>1</dd></dl>\n"
      ],
      "text/latex": [
       "\\begin{description*}\n",
       "\\item[1927] 1\n",
       "\\item[1932,] 1\n",
       "\\item[2011] 1\n",
       "\\item[a] 3\n",
       "\\item[actress] 1\n",
       "\\item[an] 1\n",
       "\\item[and] 7\n",
       "\\item[Artist] 1\n",
       "\\item[as] 1\n",
       "\\item[Bejo.] 1\n",
       "\\item[Bérénice] 1\n",
       "\\item[between] 1\n",
       "\\item[black-and-white] 1\n",
       "\\item[by] 3\n",
       "\\item[cinema] 1\n",
       "\\item[co-edited] 1\n",
       "\\item[comedy-drama] 1\n",
       "\\item[directed,] 1\n",
       "\\item[Dujardin] 1\n",
       "\\item[falls] 1\n",
       "\\item[fashion] 1\n",
       "\\item[film] 1\n",
       "\\item[film.] 1\n",
       "\\item[focuses] 1\n",
       "\\item[French] 1\n",
       "\\item[Hazanavicius,] 1\n",
       "\\item[Hollywood,] 1\n",
       "\\item[in] 2\n",
       "\\item[is] 2\n",
       "\\item[It] 1\n",
       "\\item[Jean] 1\n",
       "\\item[Langmann] 1\n",
       "\\item[Michel] 1\n",
       "\\item[of] 3\n",
       "\\item[older] 1\n",
       "\\item[on] 1\n",
       "\\item[out] 1\n",
       "\\item[place] 1\n",
       "\\item[produced] 1\n",
       "\\item[relationship] 1\n",
       "\\item[replaced] 1\n",
       "\\item[rising] 1\n",
       "\\item[romantic] 1\n",
       "\\item[silent] 3\n",
       "\\item[star] 1\n",
       "\\item[starred] 1\n",
       "\\item[story] 1\n",
       "\\item[style] 1\n",
       "\\item[takes] 1\n",
       "\\item[talkies.] 1\n",
       "\\item[the] 3\n",
       "\\item[The] 2\n",
       "\\item[Thomas] 1\n",
       "\\item[was] 1\n",
       "\\item[written,] 1\n",
       "\\item[young] 1\n",
       "\\end{description*}\n"
      ],
      "text/markdown": [
       "1927\n",
       ":   11932,\n",
       ":   12011\n",
       ":   1a\n",
       ":   3actress\n",
       ":   1an\n",
       ":   1and\n",
       ":   7Artist\n",
       ":   1as\n",
       ":   1Bejo.\n",
       ":   1Bérénice\n",
       ":   1between\n",
       ":   1black-and-white\n",
       ":   1by\n",
       ":   3cinema\n",
       ":   1co-edited\n",
       ":   1comedy-drama\n",
       ":   1directed,\n",
       ":   1Dujardin\n",
       ":   1falls\n",
       ":   1fashion\n",
       ":   1film\n",
       ":   1film.\n",
       ":   1focuses\n",
       ":   1French\n",
       ":   1Hazanavicius,\n",
       ":   1Hollywood,\n",
       ":   1in\n",
       ":   2is\n",
       ":   2It\n",
       ":   1Jean\n",
       ":   1Langmann\n",
       ":   1Michel\n",
       ":   1of\n",
       ":   3older\n",
       ":   1on\n",
       ":   1out\n",
       ":   1place\n",
       ":   1produced\n",
       ":   1relationship\n",
       ":   1replaced\n",
       ":   1rising\n",
       ":   1romantic\n",
       ":   1silent\n",
       ":   3star\n",
       ":   1starred\n",
       ":   1story\n",
       ":   1style\n",
       ":   1takes\n",
       ":   1talkies.\n",
       ":   1the\n",
       ":   3The\n",
       ":   2Thomas\n",
       ":   1was\n",
       ":   1written,\n",
       ":   1young\n",
       ":   1\n",
       "\n"
      ],
      "text/plain": [
       "           1927           1932,            2011               a         actress \n",
       "              1               1               1               3               1 \n",
       "             an             and          Artist              as           Bejo. \n",
       "              1               7               1               1               1 \n",
       "       Bérénice         between black-and-white              by          cinema \n",
       "              1               1               1               3               1 \n",
       "      co-edited    comedy-drama       directed,        Dujardin           falls \n",
       "              1               1               1               1               1 \n",
       "        fashion            film           film.         focuses          French \n",
       "              1               1               1               1               1 \n",
       "  Hazanavicius,      Hollywood,              in              is              It \n",
       "              1               1               2               2               1 \n",
       "           Jean        Langmann          Michel              of           older \n",
       "              1               1               1               3               1 \n",
       "             on             out           place        produced    relationship \n",
       "              1               1               1               1               1 \n",
       "       replaced          rising        romantic          silent            star \n",
       "              1               1               1               3               1 \n",
       "        starred           story           style           takes        talkies. \n",
       "              1               1               1               1               1 \n",
       "            the             The          Thomas             was        written, \n",
       "              3               2               1               1               1 \n",
       "          young \n",
       "              1 "
      ]
     },
     "metadata": {},
     "output_type": "display_data"
    },
    {
     "data": {
      "text/html": [
       "<style>\n",
       ".dl-inline {width: auto; margin:0; padding: 0}\n",
       ".dl-inline>dt, .dl-inline>dd {float: none; width: auto; display: inline-block}\n",
       ".dl-inline>dt::after {content: \":\\0020\"; padding-right: .5ex}\n",
       ".dl-inline>dt:not(:first-of-type) {padding-left: .5ex}\n",
       "</style><dl class=dl-inline><dt>1</dt><dd>5</dd><dt>2</dt><dd>7</dd><dt>4</dt><dd>5</dd></dl>\n"
      ],
      "text/latex": [
       "\\begin{description*}\n",
       "\\item[1] 5\n",
       "\\item[2] 7\n",
       "\\item[4] 5\n",
       "\\end{description*}\n"
      ],
      "text/markdown": [
       "1\n",
       ":   52\n",
       ":   74\n",
       ":   5\n",
       "\n"
      ],
      "text/plain": [
       "1 2 4 \n",
       "5 7 5 "
      ]
     },
     "metadata": {},
     "output_type": "display_data"
    },
    {
     "data": {
      "text/html": [
       "<style>\n",
       ".list-inline {list-style: none; margin:0; padding: 0}\n",
       ".list-inline>li {display: inline-block}\n",
       ".list-inline>li:not(:last-child)::after {content: \"\\00b7\"; padding: 0 .5ex}\n",
       "</style>\n",
       "<ol class=list-inline><li>1</li><li>3</li></ol>\n"
      ],
      "text/latex": [
       "\\begin{enumerate*}\n",
       "\\item 1\n",
       "\\item 3\n",
       "\\end{enumerate*}\n"
      ],
      "text/markdown": [
       "1. 1\n",
       "2. 3\n",
       "\n",
       "\n"
      ],
      "text/plain": [
       "[1] 1 3"
      ]
     },
     "metadata": {},
     "output_type": "display_data"
    },
    {
     "data": {
      "text/html": [
       "<style>\n",
       ".list-inline {list-style: none; margin:0; padding: 0}\n",
       ".list-inline>li {display: inline-block}\n",
       ".list-inline>li:not(:last-child)::after {content: \"\\00b7\"; padding: 0 .5ex}\n",
       "</style>\n",
       "<ol class=list-inline><li>'test@testing.com'</li><li>'test2@testing.com'</li></ol>\n"
      ],
      "text/latex": [
       "\\begin{enumerate*}\n",
       "\\item 'test@testing.com'\n",
       "\\item 'test2@testing.com'\n",
       "\\end{enumerate*}\n"
      ],
      "text/markdown": [
       "1. 'test@testing.com'\n",
       "2. 'test2@testing.com'\n",
       "\n",
       "\n"
      ],
      "text/plain": [
       "[1] \"test@testing.com\"  \"test2@testing.com\""
      ]
     },
     "metadata": {},
     "output_type": "display_data"
    }
   ],
   "source": [
    "readme <- \"C:/Users/hakan/Downloads/test.txt\"\n",
    "\n",
    "my_data <- scan(file = readme, what = \"\")\n",
    "my_data\n",
    "\n",
    "word_factor = factor(my_data)\n",
    "summary(word_factor) # gives frequency of words\n",
    "\n",
    "data2 = c(1,1,1,1,1,2,2,2,2,2,2,2,4,4,4,4,4)  # nolint\n",
    "data2_f = factor(data2) \n",
    "summary(data2_f)\n",
    "\n",
    "\n",
    "# Regex\n",
    "grep(\"@.+\",  c(\"test@testing.com\", \"not an email\", \"test2@testing.com\"))\n",
    "grep(\"@.+\",  c(\"test@testing.com\", \"not an email\", \"test2@testing.com\"), value = TRUE)\n"
   ]
  },
  {
   "cell_type": "code",
   "execution_count": 1,
   "metadata": {
    "vscode": {
     "languageId": "r"
    }
   },
   "outputs": [
    {
     "data": {
      "text/html": [
       "'character'"
      ],
      "text/latex": [
       "'character'"
      ],
      "text/markdown": [
       "'character'"
      ],
      "text/plain": [
       "[1] \"character\""
      ]
     },
     "metadata": {},
     "output_type": "display_data"
    },
    {
     "data": {
      "text/html": [
       "5"
      ],
      "text/latex": [
       "5"
      ],
      "text/markdown": [
       "5"
      ],
      "text/plain": [
       "[1] 5"
      ]
     },
     "metadata": {},
     "output_type": "display_data"
    },
    {
     "data": {
      "text/html": [
       "<style>\n",
       ".list-inline {list-style: none; margin:0; padding: 0}\n",
       ".list-inline>li {display: inline-block}\n",
       ".list-inline>li:not(:last-child)::after {content: \"\\00b7\"; padding: 0 .5ex}\n",
       "</style>\n",
       "<ol class=list-inline><li>431</li><li>273</li><li>273</li><li>193</li><li>407</li></ol>\n"
      ],
      "text/latex": [
       "\\begin{enumerate*}\n",
       "\\item 431\n",
       "\\item 273\n",
       "\\item 273\n",
       "\\item 193\n",
       "\\item 407\n",
       "\\end{enumerate*}\n"
      ],
      "text/markdown": [
       "1. 431\n",
       "2. 273\n",
       "3. 273\n",
       "4. 193\n",
       "5. 407\n",
       "\n",
       "\n"
      ],
      "text/plain": [
       "[1] 431 273 273 193 407"
      ]
     },
     "metadata": {},
     "output_type": "display_data"
    },
    {
     "data": {
      "text/html": [
       "<style>\n",
       ".list-inline {list-style: none; margin:0; padding: 0}\n",
       ".list-inline>li {display: inline-block}\n",
       ".list-inline>li:not(:last-child)::after {content: \"\\00b7\"; padding: 0 .5ex}\n",
       "</style>\n",
       "<ol class=list-inline><li>&lt;NA&gt;</li><li>&lt;NA&gt;</li><li>&lt;NA&gt;</li><li>&lt;NA&gt;</li><li>&lt;NA&gt;</li></ol>\n"
      ],
      "text/latex": [
       "\\begin{enumerate*}\n",
       "\\item <NA>\n",
       "\\item <NA>\n",
       "\\item <NA>\n",
       "\\item <NA>\n",
       "\\item <NA>\n",
       "\\end{enumerate*}\n"
      ],
      "text/markdown": [
       "1. &lt;NA&gt;\n",
       "2. &lt;NA&gt;\n",
       "3. &lt;NA&gt;\n",
       "4. &lt;NA&gt;\n",
       "5. &lt;NA&gt;\n",
       "\n",
       "\n"
      ],
      "text/plain": [
       "[1] NA NA NA NA NA"
      ]
     },
     "metadata": {},
     "output_type": "display_data"
    }
   ],
   "source": [
    "text <- readLines(\"C:/Users/hakan/PycharmProjects/VSCode/random/Notes/data_analytics_ibm/text.txt\")\n",
    "\n",
    "class(text)\n",
    "length(text)\n",
    "nchar(text)\n",
    "file.size(text)"
   ]
  },
  {
   "cell_type": "markdown",
   "metadata": {},
   "source": [
    "### Remarks\n",
    "- What is the purpose of the readLines() function?\n",
    "  - Reads each text line (ending with a line break) in a text file and returns a character vector.\n",
    "\n",
    "- Complete the sentence: \n",
    "  - HTTP is a communication protocol for fetching web resources for clients from servers on the Internet.\n",
    "\n",
    "- Complete the sentence: \n",
    "  - In an HTML page, if the <head> and <body> nodes have the same parent, <html>, they are said to be sibling nodes to each other. \n",
    "\n",
    "-  Which package do you need to install before writing to an Excel file in R?\n",
    "   - xlsx\n",
    "- You want to get a resource by its URL using an HTTP request and assign the HTTP response containing status code, headers, response body to a response variable. Which function should you use?\n",
    "  - response <- GET(“https://www.mysite.com”)\n",
    "\n",
    "\n",
    "- After reading an HTML page from a URL, what must you do to get the <body> node from the root <html> node?\n",
    "  - Use the html_node() function to return the <body> as a child node of <html> node. \n",
    "\n"
   ]
  },
  {
   "cell_type": "code",
   "execution_count": 19,
   "metadata": {
    "vscode": {
     "languageId": "r"
    }
   },
   "outputs": [
    {
     "data": {
      "text/plain": [
       "Response [https://www.google.com/]\n",
       "  Date: 2024-02-24 14:27\n",
       "  Status: 200\n",
       "  Content-Type: text/html; charset=ISO-8859-1\n",
       "  Size: 19 kB\n",
       "<!doctype html><html itemscope=\"\" itemtype=\"http://schema.org/WebPage\" lang=\"...\n",
       "var h=this||self;function l(){return void 0!==window.google&&void 0!==window....\n",
       "function t(a,b,c,d,k){var e=\"\";-1===b.search(\"&ei=\")&&(e=\"&ei=\"+p(d),-1===b.s...\n",
       "document.documentElement.addEventListener(\"submit\",function(b){var a;if(a=b.t...\n",
       "</style><style>body,td,a,p,.h{font-family:arial,sans-serif}body{margin:0;over...\n",
       "var h=this||self;var k,l=null!=(k=h.mei)?k:1,n,p=null!=(n=h.sdo)?n:!0,q=0,r,t...\n",
       "b(t.bv);var f=a.lineNumber;void 0!==f&&(c+=\"&line=\"+f);var g=a.fileName;g&&(0...\n",
       "if (!iesg){document.f&&document.f.q.focus();document.gbqf&&document.gbqf.q.fo...\n",
       "}\n",
       "})();</script><div id=\"mngb\"><div id=gbar><nobr><b class=gb1>Arama</b> <a cla...\n",
       "..."
      ]
     },
     "metadata": {},
     "output_type": "display_data"
    },
    {
     "data": {
      "text/plain": [
       "{html_document}\n",
       "<html itemscope=\"\" itemtype=\"http://schema.org/WebPage\" lang=\"tr\">\n",
       "[1] <head>\\n<meta content=\"text/html; charset=UTF-8\" http-equiv=\"Content-Type ...\n",
       "[2] <body bgcolor=\"#fff\">\\n<script nonce=\"t7Z1TVoF6FI4dZA12NJCPg\">(function() ..."
      ]
     },
     "metadata": {},
     "output_type": "display_data"
    },
    {
     "data": {
      "text/plain": [
       "{html_node}\n",
       "<body bgcolor=\"#fff\">\n",
       "[1] <script nonce=\"t7Z1TVoF6FI4dZA12NJCPg\">(function(){var src='/images/nav_l ...\n",
       "[2] <div id=\"mngb\">\\n<div id=\"gbar\"><nobr><b class=\"gb1\">Arama</b> <a class=\" ...\n",
       "[3] <center>\\n<br clear=\"all\" id=\"lgpd\"><div id=\"lga\">\\n<img alt=\"Google\" hei ...\n",
       "[4] <script nonce=\"t7Z1TVoF6FI4dZA12NJCPg\">(function(){window.google.cdo={hei ...\n",
       "[5] <script nonce=\"t7Z1TVoF6FI4dZA12NJCPg\">(function(){google.xjs={ck:'xjs.hp ...\n",
       "[6] <script nonce=\"t7Z1TVoF6FI4dZA12NJCPg\">(function(){var u='/xjs/_/js/k\\\\x3 ..."
      ]
     },
     "metadata": {},
     "output_type": "display_data"
    }
   ],
   "source": [
    "library(httr)\n",
    "library(rvest)\n",
    "url <- GET(\"https://www.google.com\") # retrieves data\n",
    "page <- read_html(url)\n",
    "body <- html_node(page, \"body\")\n",
    "\n",
    "url\n",
    "page\n",
    "body"
   ]
  },
  {
   "cell_type": "markdown",
   "metadata": {},
   "source": [
    "### Final Remarks\n",
    "- What is the main reason to use the R language?\n",
    "  - stat computation\n",
    "- Assume the array books_array contains 6 elements. The array has three rows and two columns and appears as follows:\n",
    "\n",
    "  - [,1] [,2] [1,] \"It\" \"Dr. Sleep\" [2,] \"Misery\" \"Carrie\" [3,] \"The Shining\" \"The Mist\" \n",
    "\n",
    "  - If you input the books_array[,1] command, what will be the output?\n",
    "  \n",
    "    - \"It\" \"Misery\" \"The Shining\" \n",
    "    <!-- since the output will be everything in the first column (1st column, \",\"st (every) rows) -->\n",
    "\n",
    "\n",
    "- In R, which command returns the last six elements of a data object such as a data frame?\n",
    "  - tail\n",
    "  \n",
    "- When R encounters “return” anywhere in the function, R will output the corresponding value and the function will exit. In this example, R will execute the first line of this code that contains “return,” and the result of that line is 5.\n",
    "\n",
    "- After installing and calling the httr library in R, which method should you use to update a resource?\n",
    "  - PUT\n"
   ]
  }
 ],
 "metadata": {
  "kernelspec": {
   "display_name": "R",
   "language": "R",
   "name": "ir"
  },
  "language_info": {
   "codemirror_mode": "r",
   "file_extension": ".r",
   "mimetype": "text/x-r-source",
   "name": "R",
   "pygments_lexer": "r",
   "version": "4.3.2"
  }
 },
 "nbformat": 4,
 "nbformat_minor": 2
}
