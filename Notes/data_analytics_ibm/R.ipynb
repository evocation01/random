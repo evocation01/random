{
 "cells": [
  {
   "cell_type": "markdown",
   "metadata": {},
   "source": [
    "# Week 4 "
   ]
  },
  {
   "cell_type": "markdown",
   "metadata": {},
   "source": [
    "## Working with Data"
   ]
  },
  {
   "cell_type": "code",
   "execution_count": 1,
   "metadata": {
    "vscode": {
     "languageId": "r"
    }
   },
   "outputs": [
    {
     "data": {
      "text/html": [
       "'character'"
      ],
      "text/latex": [
       "'character'"
      ],
      "text/markdown": [
       "'character'"
      ],
      "text/plain": [
       "[1] \"character\""
      ]
     },
     "metadata": {},
     "output_type": "display_data"
    },
    {
     "data": {
      "text/html": [
       "5"
      ],
      "text/latex": [
       "5"
      ],
      "text/markdown": [
       "5"
      ],
      "text/plain": [
       "[1] 5"
      ]
     },
     "metadata": {},
     "output_type": "display_data"
    },
    {
     "data": {
      "text/html": [
       "<style>\n",
       ".list-inline {list-style: none; margin:0; padding: 0}\n",
       ".list-inline>li {display: inline-block}\n",
       ".list-inline>li:not(:last-child)::after {content: \"\\00b7\"; padding: 0 .5ex}\n",
       "</style>\n",
       "<ol class=list-inline><li>431</li><li>273</li><li>273</li><li>193</li><li>407</li></ol>\n"
      ],
      "text/latex": [
       "\\begin{enumerate*}\n",
       "\\item 431\n",
       "\\item 273\n",
       "\\item 273\n",
       "\\item 193\n",
       "\\item 407\n",
       "\\end{enumerate*}\n"
      ],
      "text/markdown": [
       "1. 431\n",
       "2. 273\n",
       "3. 273\n",
       "4. 193\n",
       "5. 407\n",
       "\n",
       "\n"
      ],
      "text/plain": [
       "[1] 431 273 273 193 407"
      ]
     },
     "metadata": {},
     "output_type": "display_data"
    },
    {
     "data": {
      "text/html": [
       "<style>\n",
       ".list-inline {list-style: none; margin:0; padding: 0}\n",
       ".list-inline>li {display: inline-block}\n",
       ".list-inline>li:not(:last-child)::after {content: \"\\00b7\"; padding: 0 .5ex}\n",
       "</style>\n",
       "<ol class=list-inline><li>&lt;NA&gt;</li><li>&lt;NA&gt;</li><li>&lt;NA&gt;</li><li>&lt;NA&gt;</li><li>&lt;NA&gt;</li></ol>\n"
      ],
      "text/latex": [
       "\\begin{enumerate*}\n",
       "\\item <NA>\n",
       "\\item <NA>\n",
       "\\item <NA>\n",
       "\\item <NA>\n",
       "\\item <NA>\n",
       "\\end{enumerate*}\n"
      ],
      "text/markdown": [
       "1. &lt;NA&gt;\n",
       "2. &lt;NA&gt;\n",
       "3. &lt;NA&gt;\n",
       "4. &lt;NA&gt;\n",
       "5. &lt;NA&gt;\n",
       "\n",
       "\n"
      ],
      "text/plain": [
       "[1] NA NA NA NA NA"
      ]
     },
     "metadata": {},
     "output_type": "display_data"
    }
   ],
   "source": [
    "text <- readLines(\"C:/Users/hakan/PycharmProjects/VSCode/random/Notes/data_analytics_ibm/text.txt\")\n",
    "\n",
    "class(text)\n",
    "length(text)\n",
    "nchar(text)\n",
    "file.size(text)\n",
    "\n"
   ]
  },
  {
   "cell_type": "markdown",
   "metadata": {},
   "source": [
    "### Remarks\n",
    "- What is the purpose of the readLines() function?\n",
    "  - Reads each text line (ending with a line break) in a text file and returns a character vector.\n",
    "\n",
    "- Complete the sentence: \n",
    "  - HTTP is a communication protocol for fetching web resources for clients from servers on the Internet.\n",
    "\n",
    "- Complete the sentence: \n",
    "  - In an HTML page, if the <head> and <body> nodes have the same parent, <html>, they are said to be sibling nodes to each other. \n",
    "\n",
    "-  Which package do you need to install before writing to an Excel file in R?\n",
    "   - xlsx\n",
    "- You want to get a resource by its URL using an HTTP request and assign the HTTP response containing status code, headers, response body to a response variable. Which function should you use?\n",
    "  - response <- GET(“https://www.mysite.com”)\n",
    "\n",
    "\n",
    "- After reading an HTML page from a URL, what must you do to get the <body> node from the root <html> node?\n",
    "  - Use the html_node() function to return the <body> as a child node of <html> node. \n",
    "\n"
   ]
  },
  {
   "cell_type": "code",
   "execution_count": 19,
   "metadata": {
    "vscode": {
     "languageId": "r"
    }
   },
   "outputs": [
    {
     "data": {
      "text/plain": [
       "Response [https://www.google.com/]\n",
       "  Date: 2024-02-24 14:27\n",
       "  Status: 200\n",
       "  Content-Type: text/html; charset=ISO-8859-1\n",
       "  Size: 19 kB\n",
       "<!doctype html><html itemscope=\"\" itemtype=\"http://schema.org/WebPage\" lang=\"...\n",
       "var h=this||self;function l(){return void 0!==window.google&&void 0!==window....\n",
       "function t(a,b,c,d,k){var e=\"\";-1===b.search(\"&ei=\")&&(e=\"&ei=\"+p(d),-1===b.s...\n",
       "document.documentElement.addEventListener(\"submit\",function(b){var a;if(a=b.t...\n",
       "</style><style>body,td,a,p,.h{font-family:arial,sans-serif}body{margin:0;over...\n",
       "var h=this||self;var k,l=null!=(k=h.mei)?k:1,n,p=null!=(n=h.sdo)?n:!0,q=0,r,t...\n",
       "b(t.bv);var f=a.lineNumber;void 0!==f&&(c+=\"&line=\"+f);var g=a.fileName;g&&(0...\n",
       "if (!iesg){document.f&&document.f.q.focus();document.gbqf&&document.gbqf.q.fo...\n",
       "}\n",
       "})();</script><div id=\"mngb\"><div id=gbar><nobr><b class=gb1>Arama</b> <a cla...\n",
       "..."
      ]
     },
     "metadata": {},
     "output_type": "display_data"
    },
    {
     "data": {
      "text/plain": [
       "{html_document}\n",
       "<html itemscope=\"\" itemtype=\"http://schema.org/WebPage\" lang=\"tr\">\n",
       "[1] <head>\\n<meta content=\"text/html; charset=UTF-8\" http-equiv=\"Content-Type ...\n",
       "[2] <body bgcolor=\"#fff\">\\n<script nonce=\"t7Z1TVoF6FI4dZA12NJCPg\">(function() ..."
      ]
     },
     "metadata": {},
     "output_type": "display_data"
    },
    {
     "data": {
      "text/plain": [
       "{html_node}\n",
       "<body bgcolor=\"#fff\">\n",
       "[1] <script nonce=\"t7Z1TVoF6FI4dZA12NJCPg\">(function(){var src='/images/nav_l ...\n",
       "[2] <div id=\"mngb\">\\n<div id=\"gbar\"><nobr><b class=\"gb1\">Arama</b> <a class=\" ...\n",
       "[3] <center>\\n<br clear=\"all\" id=\"lgpd\"><div id=\"lga\">\\n<img alt=\"Google\" hei ...\n",
       "[4] <script nonce=\"t7Z1TVoF6FI4dZA12NJCPg\">(function(){window.google.cdo={hei ...\n",
       "[5] <script nonce=\"t7Z1TVoF6FI4dZA12NJCPg\">(function(){google.xjs={ck:'xjs.hp ...\n",
       "[6] <script nonce=\"t7Z1TVoF6FI4dZA12NJCPg\">(function(){var u='/xjs/_/js/k\\\\x3 ..."
      ]
     },
     "metadata": {},
     "output_type": "display_data"
    }
   ],
   "source": [
    "library(httr)\n",
    "library(rvest)\n",
    "url <- GET(\"https://www.google.com\") # retrieves data\n",
    "page <- read_html(url)\n",
    "body <- html_node(page, \"body\")\n",
    "\n",
    "url\n",
    "page\n",
    "body"
   ]
  },
  {
   "cell_type": "markdown",
   "metadata": {},
   "source": [
    "### Final Remarks\n",
    "- What is the main reason to use the R language?\n",
    "  - stat computation\n",
    "- Assume the array books_array contains 6 elements. The array has three rows and two columns and appears as follows:\n",
    "\n",
    "  - [,1] [,2] [1,] \"It\" \"Dr. Sleep\" [2,] \"Misery\" \"Carrie\" [3,] \"The Shining\" \"The Mist\" \n",
    "\n",
    "  - If you input the books_array[,1] command, what will be the output?\n",
    "  \n",
    "    - \"It\" \"Misery\" \"The Shining\" \n",
    "    <!-- since the output will be everything in the first column (1st column, \",\"st (every) rows) -->\n",
    "\n",
    "\n",
    "- In R, which command returns the last six elements of a data object such as a data frame?\n",
    "  - tail\n",
    "  \n",
    "- When R encounters “return” anywhere in the function, R will output the corresponding value and the function will exit. In this example, R will execute the first line of this code that contains “return,” and the result of that line is 5.\n",
    "\n",
    "- After installing and calling the httr library in R, which method should you use to update a resource?\n",
    "  - PUT\n"
   ]
  }
 ],
 "metadata": {
  "kernelspec": {
   "display_name": "R",
   "language": "R",
   "name": "ir"
  },
  "language_info": {
   "codemirror_mode": "r",
   "file_extension": ".r",
   "mimetype": "text/x-r-source",
   "name": "R",
   "pygments_lexer": "r",
   "version": "4.3.2"
  }
 },
 "nbformat": 4,
 "nbformat_minor": 2
}
