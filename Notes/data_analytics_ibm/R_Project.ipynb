{
 "cells": [
  {
   "cell_type": "markdown",
   "metadata": {},
   "source": [
    "## Project\n",
    "\n",
    "- Task 1: Get a COVID-19 pandemic Wiki page using HTTP request (2 pts)\n",
    "- Task 2: Extract COVID-19 testing data table from the wiki HTML page (2 pts)\n",
    "- Task 3: Pre-process and export the extracted data frame (2 pt)\n",
    "- Task 4: Get a subset of the extracted data frame (2 pt)\n",
    "- Task 5: Calculate worldwide COVID testing positive ratio (2 pts)\n",
    "- Task 6: Get a sorted name list of countries that reported their testing data (2 pts)\n",
    "- Task 7: Identify country names with a specific pattern (2 pts)\n",
    "- Task 8: Pick two countries you are interested in, and then review their testing data (2 pts)\n",
    "- Task 9: Compare which one of the selected countries has a larger ratio of confirmed cases to population (2 pts)\n",
    "- Task 10: Find countries with confirmedcases to population ratio rate less than a threshold (2 pts)"
   ]
  },
  {
   "cell_type": "code",
   "execution_count": 3,
   "metadata": {
    "vscode": {
     "languageId": "r"
    }
   },
   "outputs": [],
   "source": [
    "# Task 0\n",
    "library(httr)\n",
    "library(rvest)\n",
    "library(tidyr)"
   ]
  },
  {
   "cell_type": "code",
   "execution_count": 4,
   "metadata": {
    "vscode": {
     "languageId": "r"
    }
   },
   "outputs": [],
   "source": [
    "# Task 1: Get a COVID-19 pandemic Wiki page using HTTP request (2 pts)\n",
    "\n",
    "get_wiki_covid19_page <- function() {\n",
    "    \n",
    "  # Our target COVID-19 wiki page URL is: https://en.wikipedia.org/w/index.php?title=Template:COVID-19_testing_by_country  \n",
    "  # Which has two parts: \n",
    "    # 1) base URL `https://en.wikipedia.org/w/index.php  \n",
    "    # 2) URL parameter: `title=Template:COVID-19_testing_by_country`, seperated by question mark ?\n",
    "    \n",
    "  # Wiki page base\n",
    "    wiki_base_url <- \"https://en.wikipedia.org/w/index.php\"\n",
    "  # You will need to create a List which has an element called `title` to specify which page you want to get from Wiki\n",
    "  # in our case, it will be `Template:COVID-19_testing_by_country`\n",
    " \n",
    "  # - Use the `GET` function in httr library with a `url` argument and a `query` arugment to get a HTTP response\n",
    "    \n",
    "  # Use the `return` function to return the response\n",
    "\n",
    "    query = list(title = \"Template:COVID-19_testing_by_country\")\n",
    "    response <- GET(url = wiki_base_url, query = query)\n",
    "    return(response)\n",
    "}"
   ]
  },
  {
   "cell_type": "code",
   "execution_count": 5,
   "metadata": {
    "vscode": {
     "languageId": "r"
    }
   },
   "outputs": [
    {
     "data": {
      "text/plain": [
       "Response [https://en.wikipedia.org/w/index.php?title=Template%3ACOVID-19_testing_by_country]\n",
       "  Date: 2024-02-24 16:40\n",
       "  Status: 200\n",
       "  Content-Type: text/html; charset=UTF-8\n",
       "  Size: 448 kB\n",
       "<!DOCTYPE html>\n",
       "<html class=\"client-nojs vector-feature-language-in-header-enabled vector-fea...\n",
       "<head>\n",
       "<meta charset=\"UTF-8\">\n",
       "<title>Template:COVID-19 testing by country - Wikipedia</title>\n",
       "<script>(function(){var className=\"client-js vector-feature-language-in-heade...\n",
       "\"wgDigitTransformTable\":[\"\",\"\"],\"wgDefaultDateFormat\":\"dmy\",\"wgMonthNames\":[\"...\n",
       "\"CS1 uses Russian-language script (ru)\",\"CS1 Russian-language sources (ru)\",\"...\n",
       ",\"CS1 Lithuanian-language sources (lt)\",\"CS1 Malagasy-language sources (mg)\",...\n",
       "\"wgRelevantArticleId\":63303421,\"wgIsProbablyEditable\":false,\"wgRelevantPageIs...\n",
       "..."
      ]
     },
     "metadata": {},
     "output_type": "display_data"
    }
   ],
   "source": [
    "# Call the get_wiki_covid19_page function and print the response\n",
    "get_wiki_covid19_page()"
   ]
  },
  {
   "cell_type": "code",
   "execution_count": 8,
   "metadata": {
    "vscode": {
     "languageId": "r"
    }
   },
   "outputs": [
    {
     "data": {
      "text/html": [
       "<table class=\"dataframe\">\n",
       "<caption>A data.frame: 6 × 9</caption>\n",
       "<thead>\n",
       "\t<tr><th></th><th scope=col>Country or region</th><th scope=col>Date[a]</th><th scope=col>Tested</th><th scope=col>Units[b]</th><th scope=col>Confirmed(cases)</th><th scope=col>Confirmed /tested,%</th><th scope=col>Tested /population,%</th><th scope=col>Confirmed /population,%</th><th scope=col>Ref.</th></tr>\n",
       "\t<tr><th></th><th scope=col>&lt;chr&gt;</th><th scope=col>&lt;chr&gt;</th><th scope=col>&lt;chr&gt;</th><th scope=col>&lt;chr&gt;</th><th scope=col>&lt;chr&gt;</th><th scope=col>&lt;chr&gt;</th><th scope=col>&lt;chr&gt;</th><th scope=col>&lt;chr&gt;</th><th scope=col>&lt;chr&gt;</th></tr>\n",
       "</thead>\n",
       "<tbody>\n",
       "\t<tr><th scope=row>1</th><td>Afghanistan        </td><td>17 Dec 2020</td><td>154,767</td><td>samples</td><td>49,621</td><td>32.1</td><td>0.40</td><td>0.13 </td><td>[1]   </td></tr>\n",
       "\t<tr><th scope=row>2</th><td>Albania            </td><td>18 Feb 2021</td><td>428,654</td><td>samples</td><td>96,838</td><td>22.6</td><td>15.0</td><td>3.4  </td><td>[2]   </td></tr>\n",
       "\t<tr><th scope=row>3</th><td>Algeria            </td><td>2 Nov 2020 </td><td>230,553</td><td>samples</td><td>58,574</td><td>25.4</td><td>0.53</td><td>0.13 </td><td>[3][4]</td></tr>\n",
       "\t<tr><th scope=row>4</th><td>Andorra            </td><td>23 Feb 2022</td><td>300,307</td><td>samples</td><td>37,958</td><td>12.6</td><td>387 </td><td>49.0 </td><td>[5]   </td></tr>\n",
       "\t<tr><th scope=row>5</th><td>Angola             </td><td>2 Feb 2021 </td><td>399,228</td><td>samples</td><td>20,981</td><td>5.3 </td><td>1.3 </td><td>0.067</td><td>[6]   </td></tr>\n",
       "\t<tr><th scope=row>6</th><td>Antigua and Barbuda</td><td>6 Mar 2021 </td><td>15,268 </td><td>samples</td><td>832   </td><td>5.4 </td><td>15.9</td><td>0.86 </td><td>[7]   </td></tr>\n",
       "</tbody>\n",
       "</table>\n"
      ],
      "text/latex": [
       "A data.frame: 6 × 9\n",
       "\\begin{tabular}{r|lllllllll}\n",
       "  & Country or region & Date{[}a{]} & Tested & Units{[}b{]} & Confirmed(cases) & Confirmed /tested,\\% & Tested /population,\\% & Confirmed /population,\\% & Ref.\\\\\n",
       "  & <chr> & <chr> & <chr> & <chr> & <chr> & <chr> & <chr> & <chr> & <chr>\\\\\n",
       "\\hline\n",
       "\t1 & Afghanistan         & 17 Dec 2020 & 154,767 & samples & 49,621 & 32.1 & 0.40 & 0.13  & {[}1{]}   \\\\\n",
       "\t2 & Albania             & 18 Feb 2021 & 428,654 & samples & 96,838 & 22.6 & 15.0 & 3.4   & {[}2{]}   \\\\\n",
       "\t3 & Algeria             & 2 Nov 2020  & 230,553 & samples & 58,574 & 25.4 & 0.53 & 0.13  & {[}3{]}{[}4{]}\\\\\n",
       "\t4 & Andorra             & 23 Feb 2022 & 300,307 & samples & 37,958 & 12.6 & 387  & 49.0  & {[}5{]}   \\\\\n",
       "\t5 & Angola              & 2 Feb 2021  & 399,228 & samples & 20,981 & 5.3  & 1.3  & 0.067 & {[}6{]}   \\\\\n",
       "\t6 & Antigua and Barbuda & 6 Mar 2021  & 15,268  & samples & 832    & 5.4  & 15.9 & 0.86  & {[}7{]}   \\\\\n",
       "\\end{tabular}\n"
      ],
      "text/markdown": [
       "\n",
       "A data.frame: 6 × 9\n",
       "\n",
       "| <!--/--> | Country or region &lt;chr&gt; | Date[a] &lt;chr&gt; | Tested &lt;chr&gt; | Units[b] &lt;chr&gt; | Confirmed(cases) &lt;chr&gt; | Confirmed /tested,% &lt;chr&gt; | Tested /population,% &lt;chr&gt; | Confirmed /population,% &lt;chr&gt; | Ref. &lt;chr&gt; |\n",
       "|---|---|---|---|---|---|---|---|---|---|\n",
       "| 1 | Afghanistan         | 17 Dec 2020 | 154,767 | samples | 49,621 | 32.1 | 0.40 | 0.13  | [1]    |\n",
       "| 2 | Albania             | 18 Feb 2021 | 428,654 | samples | 96,838 | 22.6 | 15.0 | 3.4   | [2]    |\n",
       "| 3 | Algeria             | 2 Nov 2020  | 230,553 | samples | 58,574 | 25.4 | 0.53 | 0.13  | [3][4] |\n",
       "| 4 | Andorra             | 23 Feb 2022 | 300,307 | samples | 37,958 | 12.6 | 387  | 49.0  | [5]    |\n",
       "| 5 | Angola              | 2 Feb 2021  | 399,228 | samples | 20,981 | 5.3  | 1.3  | 0.067 | [6]    |\n",
       "| 6 | Antigua and Barbuda | 6 Mar 2021  | 15,268  | samples | 832    | 5.4  | 15.9 | 0.86  | [7]    |\n",
       "\n"
      ],
      "text/plain": [
       "  Country or region   Date[a]     Tested  Units[b] Confirmed(cases)\n",
       "1 Afghanistan         17 Dec 2020 154,767 samples  49,621          \n",
       "2 Albania             18 Feb 2021 428,654 samples  96,838          \n",
       "3 Algeria             2 Nov 2020  230,553 samples  58,574          \n",
       "4 Andorra             23 Feb 2022 300,307 samples  37,958          \n",
       "5 Angola              2 Feb 2021  399,228 samples  20,981          \n",
       "6 Antigua and Barbuda 6 Mar 2021  15,268  samples  832             \n",
       "  Confirmed /tested,% Tested /population,% Confirmed /population,% Ref.  \n",
       "1 32.1                0.40                 0.13                    [1]   \n",
       "2 22.6                15.0                 3.4                     [2]   \n",
       "3 25.4                0.53                 0.13                    [3][4]\n",
       "4 12.6                387                  49.0                    [5]   \n",
       "5 5.3                 1.3                  0.067                   [6]   \n",
       "6 5.4                 15.9                 0.86                    [7]   "
      ]
     },
     "metadata": {},
     "output_type": "display_data"
    }
   ],
   "source": [
    "# Task 2: Extract COVID-19 testing data table from the wiki HTML page (2 pts)\n",
    "\n",
    "# Get the root html node from the http response in task 1 \n",
    "root_html_node <- content(get_wiki_covid19_page(), \"text\", encoding = \"UTF-8\") %>% read_html()\n",
    "\n",
    "# Get the table node from the root html node\n",
    "tables <- html_nodes(root_html_node, \"table\")\n",
    "\n",
    "covid_testing_table <- html_table(tables[[2]]) \n",
    "df = as.data.frame(covid_testing_table)\n",
    "head(df)\n"
   ]
  },
  {
   "cell_type": "code",
   "execution_count": 9,
   "metadata": {
    "vscode": {
     "languageId": "r"
    }
   },
   "outputs": [
    {
     "data": {
      "text/plain": [
       " Country or region    Date[a]             Tested            Units[b]        \n",
       " Length:173         Length:173         Length:173         Length:173        \n",
       " Class :character   Class :character   Class :character   Class :character  \n",
       " Mode  :character   Mode  :character   Mode  :character   Mode  :character  \n",
       " Confirmed(cases)   Confirmed /tested,% Tested /population,%\n",
       " Length:173         Length:173          Length:173          \n",
       " Class :character   Class :character    Class :character    \n",
       " Mode  :character   Mode  :character    Mode  :character    \n",
       " Confirmed /population,%     Ref.          \n",
       " Length:173              Length:173        \n",
       " Class :character        Class :character  \n",
       " Mode  :character        Mode  :character  "
      ]
     },
     "metadata": {},
     "output_type": "display_data"
    }
   ],
   "source": [
    "# Task 3: Pre-process and export the extracted data frame (2 pt)\n",
    "\n",
    "# Print the summary of the data frame\n",
    "summary(df)"
   ]
  },
  {
   "cell_type": "code",
   "execution_count": 13,
   "metadata": {
    "vscode": {
     "languageId": "r"
    }
   },
   "outputs": [],
   "source": [
    "preprocess_covid_data_frame <- function(data_frame) {\n",
    "    \n",
    "    shape <- dim(data_frame)\n",
    "\n",
    "    # Remove the World row\n",
    "    #data_frame<-data_frame[!(data_frame$`Country.or.region`==\"World\"),]\n",
    "    # Remove the last row\n",
    "    data_frame <- data_frame[1:172, ]\n",
    "    \n",
    "    # We dont need the Units and Ref columns, so can be removed\n",
    "    data_frame[\"Ref.\"] <- NULL\n",
    "    data_frame[\"Units[b]\"] <- NULL\n",
    "    \n",
    "    # Renaming the columns\n",
    "    names(data_frame) <- c(\"country\", \"date\", \"tested\", \"confirmed\", \"confirmed.tested.ratio\", \"tested.population.ratio\", \"confirmed.population.ratio\")\n",
    "    \n",
    "    # Convert column data types\n",
    "    data_frame$tested <- as.numeric(gsub(\",\",\"\",data_frame$tested))\n",
    "    data_frame$confirmed <- as.numeric(gsub(\",\",\"\",data_frame$confirmed))\n",
    "    data_frame$'confirmed.tested.ratio' <- as.numeric(gsub(\",\",\"\",data_frame$`confirmed.tested.ratio`))\n",
    "    data_frame$'tested.population.ratio' <- as.numeric(gsub(\",\",\"\",data_frame$`tested.population.ratio`))\n",
    "    data_frame$'confirmed.population.ratio' <- as.numeric(gsub(\",\",\"\",data_frame$`confirmed.population.ratio`))\n",
    "\n",
    "    \n",
    "    return(data_frame)\n",
    "}\n"
   ]
  },
  {
   "cell_type": "code",
   "execution_count": 14,
   "metadata": {
    "vscode": {
     "languageId": "r"
    }
   },
   "outputs": [
    {
     "data": {
      "text/plain": [
       "   country              date               tested            confirmed       \n",
       " Length:172         Length:172         Min.   :     3880   Min.   :       0  \n",
       " Class :character   Class :character   1st Qu.:   512037   1st Qu.:   37839  \n",
       " Mode  :character   Mode  :character   Median :  3029859   Median :  281196  \n",
       "                                       Mean   : 31377219   Mean   : 2508340  \n",
       "                                       3rd Qu.: 12386725   3rd Qu.: 1278105  \n",
       "                                       Max.   :929349291   Max.   :90749469  \n",
       " confirmed.tested.ratio tested.population.ratio confirmed.population.ratio\n",
       " Min.   : 0.00          Min.   :   0.006        Min.   : 0.000            \n",
       " 1st Qu.: 5.00          1st Qu.:   9.475        1st Qu.: 0.425            \n",
       " Median :10.05          Median :  46.950        Median : 6.100            \n",
       " Mean   :11.25          Mean   : 175.504        Mean   :12.769            \n",
       " 3rd Qu.:15.25          3rd Qu.: 156.500        3rd Qu.:16.250            \n",
       " Max.   :46.80          Max.   :3223.000        Max.   :74.400            "
      ]
     },
     "metadata": {},
     "output_type": "display_data"
    }
   ],
   "source": [
    "# call `preprocess_covid_data_frame` function and assign it to a new data frame\n",
    "new_df = preprocess_covid_data_frame(df)\n",
    "# Print the summary of the processed data frame again\n",
    "summary(new_df)"
   ]
  },
  {
   "cell_type": "code",
   "execution_count": 15,
   "metadata": {
    "vscode": {
     "languageId": "r"
    }
   },
   "outputs": [
    {
     "name": "stdout",
     "output_type": "stream",
     "text": [
      "[1] \"c:/Users/hakan/PycharmProjects/VSCode/random/Notes/data_analytics_ibm/covid.csv\"\n"
     ]
    },
    {
     "data": {
      "text/html": [
       "TRUE"
      ],
      "text/latex": [
       "TRUE"
      ],
      "text/markdown": [
       "TRUE"
      ],
      "text/plain": [
       "[1] TRUE"
      ]
     },
     "metadata": {},
     "output_type": "display_data"
    }
   ],
   "source": [
    "# Export the data frame to a csv file\n",
    "write.csv(new_df, file = \"covid.csv\", row.names = FALSE)\n",
    "# Get working directory\n",
    "wd <- getwd()\n",
    "# Get exported \n",
    "file_path <- paste(wd, sep=\"\", \"/covid.csv\")\n",
    "# File path\n",
    "print(file_path)\n",
    "file.exists(file_path)"
   ]
  },
  {
   "cell_type": "code",
   "execution_count": 16,
   "metadata": {
    "vscode": {
     "languageId": "r"
    }
   },
   "outputs": [
    {
     "data": {
      "text/html": [
       "<table class=\"dataframe\">\n",
       "<caption>A data.frame: 6 × 2</caption>\n",
       "<thead>\n",
       "\t<tr><th></th><th scope=col>country</th><th scope=col>confirmed</th></tr>\n",
       "\t<tr><th></th><th scope=col>&lt;chr&gt;</th><th scope=col>&lt;int&gt;</th></tr>\n",
       "</thead>\n",
       "<tbody>\n",
       "\t<tr><th scope=row>5</th><td>Angola             </td><td>   20981</td></tr>\n",
       "\t<tr><th scope=row>6</th><td>Antigua and Barbuda</td><td>     832</td></tr>\n",
       "\t<tr><th scope=row>7</th><td>Argentina          </td><td> 9060495</td></tr>\n",
       "\t<tr><th scope=row>8</th><td>Armenia            </td><td>  422963</td></tr>\n",
       "\t<tr><th scope=row>9</th><td>Australia          </td><td>10112229</td></tr>\n",
       "\t<tr><th scope=row>10</th><td>Austria            </td><td> 5789991</td></tr>\n",
       "</tbody>\n",
       "</table>\n"
      ],
      "text/latex": [
       "A data.frame: 6 × 2\n",
       "\\begin{tabular}{r|ll}\n",
       "  & country & confirmed\\\\\n",
       "  & <chr> & <int>\\\\\n",
       "\\hline\n",
       "\t5 & Angola              &    20981\\\\\n",
       "\t6 & Antigua and Barbuda &      832\\\\\n",
       "\t7 & Argentina           &  9060495\\\\\n",
       "\t8 & Armenia             &   422963\\\\\n",
       "\t9 & Australia           & 10112229\\\\\n",
       "\t10 & Austria             &  5789991\\\\\n",
       "\\end{tabular}\n"
      ],
      "text/markdown": [
       "\n",
       "A data.frame: 6 × 2\n",
       "\n",
       "| <!--/--> | country &lt;chr&gt; | confirmed &lt;int&gt; |\n",
       "|---|---|---|\n",
       "| 5 | Angola              |    20981 |\n",
       "| 6 | Antigua and Barbuda |      832 |\n",
       "| 7 | Argentina           |  9060495 |\n",
       "| 8 | Armenia             |   422963 |\n",
       "| 9 | Australia           | 10112229 |\n",
       "| 10 | Austria             |  5789991 |\n",
       "\n"
      ],
      "text/plain": [
       "   country             confirmed\n",
       "5  Angola                 20981 \n",
       "6  Antigua and Barbuda      832 \n",
       "7  Argentina            9060495 \n",
       "8  Armenia               422963 \n",
       "9  Australia           10112229 \n",
       "10 Austria              5789991 "
      ]
     },
     "metadata": {},
     "output_type": "display_data"
    }
   ],
   "source": [
    "# Task 4: Get a subset of the extracted data frame (2 pt)\n",
    "dff = read.csv(\"covid.csv\")\n",
    "subset_df <- dff[5:10, c(\"country\", \"confirmed\")]\n",
    "subset_df"
   ]
  },
  {
   "cell_type": "code",
   "execution_count": 17,
   "metadata": {
    "vscode": {
     "languageId": "r"
    }
   },
   "outputs": [
    {
     "data": {
      "text/html": [
       "0.0799414520197323"
      ],
      "text/latex": [
       "0.0799414520197323"
      ],
      "text/markdown": [
       "0.0799414520197323"
      ],
      "text/plain": [
       "[1] 0.07994145"
      ]
     },
     "metadata": {},
     "output_type": "display_data"
    }
   ],
   "source": [
    "# Task 5: Calculate worldwide COVID testing positive ratio (2 pts)\n",
    "\n",
    "# Get the total confirmed cases worldwide\n",
    "confirmed = sum(dff$confirmed, na.rm = TRUE)\n",
    "# Get the total tested cases worldwide\n",
    "total = sum(dff$tested, na.rm = TRUE)\n",
    "# Get the positive ratio (confirmed / tested)\n",
    "ratio = confirmed/total\n",
    "ratio"
   ]
  },
  {
   "cell_type": "code",
   "execution_count": 18,
   "metadata": {
    "vscode": {
     "languageId": "r"
    }
   },
   "outputs": [
    {
     "data": {
      "text/html": [
       "'character'"
      ],
      "text/latex": [
       "'character'"
      ],
      "text/markdown": [
       "'character'"
      ],
      "text/plain": [
       "[1] \"character\""
      ]
     },
     "metadata": {},
     "output_type": "display_data"
    },
    {
     "data": {
      "text/html": [
       "'character'"
      ],
      "text/latex": [
       "'character'"
      ],
      "text/markdown": [
       "'character'"
      ],
      "text/plain": [
       "[1] \"character\""
      ]
     },
     "metadata": {},
     "output_type": "display_data"
    },
    {
     "data": {
      "text/html": [
       "<style>\n",
       ".list-inline {list-style: none; margin:0; padding: 0}\n",
       ".list-inline>li {display: inline-block}\n",
       ".list-inline>li:not(:last-child)::after {content: \"\\00b7\"; padding: 0 .5ex}\n",
       "</style>\n",
       "<ol class=list-inline><li>'Zimbabwe'</li><li>'Zambia'</li><li>'Vietnam'</li><li>'Venezuela'</li><li>'Uzbekistan'</li><li>'Uruguay'</li><li>'United States'</li><li>'United Kingdom'</li><li>'United Arab Emirates'</li><li>'Ukraine'</li><li>'Uganda'</li><li>'Turkey'</li><li>'Tunisia'</li><li>'Trinidad and Tobago'</li><li>'Togo'</li><li>'Thailand'</li><li>'Tanzania'</li><li>'Taiwan[m]'</li><li>'Switzerland[l]'</li><li>'Sweden'</li><li>'Sudan'</li><li>'Sri Lanka'</li><li>'Spain'</li><li>'South Sudan'</li><li>'South Korea'</li><li>'South Africa'</li><li>'Slovenia'</li><li>'Slovakia'</li><li>'Singapore'</li><li>'Serbia'</li><li>'Senegal'</li><li>'Saudi Arabia'</li><li>'San Marino'</li><li>'Saint Vincent'</li><li>'Saint Lucia'</li><li>'Saint Kitts and Nevis'</li><li>'Rwanda'</li><li>'Russia'</li><li>'Romania'</li><li>'Qatar'</li><li>'Portugal'</li><li>'Poland'</li><li>'Philippines'</li><li>'Peru'</li><li>'Paraguay'</li><li>'Papua New Guinea'</li><li>'Panama'</li><li>'Palestine'</li><li>'Pakistan'</li><li>'Oman'</li><li>'Norway'</li><li>'Northern Cyprus[k]'</li><li>'North Macedonia'</li><li>'North Korea'</li><li>'Nigeria'</li><li>'Niger'</li><li>'New Zealand'</li><li>'New Caledonia'</li><li>'Netherlands'</li><li>'Nepal'</li><li>'Namibia'</li><li>'Myanmar'</li><li>'Mozambique'</li><li>'Morocco'</li><li>'Montenegro'</li><li>'Mongolia'</li><li>'Moldova[j]'</li><li>'Mexico'</li><li>'Mauritius'</li><li>'Mauritania'</li><li>'Malta'</li><li>'Mali'</li><li>'Maldives'</li><li>'Malaysia'</li><li>'Malawi'</li><li>'Madagascar'</li><li>'Luxembourg[i]'</li><li>'Lithuania'</li><li>'Libya'</li><li>'Liberia'</li><li>'Lesotho'</li><li>'Lebanon'</li><li>'Latvia'</li><li>'Laos'</li><li>'Kyrgyzstan'</li><li>'Kuwait'</li><li>'Kosovo'</li><li>'Kenya'</li><li>'Kazakhstan'</li><li>'Jordan'</li><li>'Japan'</li><li>'Jamaica'</li><li>'Ivory Coast'</li><li>'Italy'</li><li>'Israel'</li><li>'Ireland'</li><li>'Iraq'</li><li>'Iran'</li><li>'Indonesia'</li><li>'India'</li><li>'Iceland'</li><li>'Hungary'</li><li>'Honduras'</li><li>'Haiti'</li><li>'Guyana'</li><li>'Guinea-Bissau'</li><li>'Guinea'</li><li>'Guatemala'</li><li>'Grenada'</li><li>'Greenland'</li><li>'Greece'</li><li>'Ghana'</li><li>'Germany'</li><li>'Georgia[h]'</li><li>'Gambia'</li><li>'Gabon'</li><li>'France[f][g]'</li><li>'Finland'</li><li>'Fiji'</li><li>'Faroe Islands'</li><li>'Ethiopia'</li><li>'Eswatini'</li><li>'Estonia'</li><li>'Equatorial Guinea'</li><li>'El Salvador'</li><li>'Egypt'</li><li>'Ecuador'</li><li>'DR Congo'</li><li>'Dominican Republic'</li><li>'Dominica'</li><li>'Djibouti'</li><li>'Denmark[e]'</li><li>'Czechia'</li><li>'Cyprus[d]'</li><li>'Cuba'</li><li>'Croatia'</li><li>'Costa Rica'</li><li>'Colombia'</li><li>'China[c]'</li><li>'Chile'</li><li>'Chad'</li><li>'Canada'</li><li>'Cameroon'</li><li>'Cambodia'</li><li>'Burundi'</li><li>'Burkina Faso'</li><li>'Bulgaria'</li><li>'Brunei'</li><li>'Brazil'</li><li>'Botswana'</li><li>'Bosnia and Herzegovina'</li><li>'Bolivia'</li><li>'Bhutan'</li><li>'Benin'</li><li>'Belize'</li><li>'Belgium'</li><li>'Belarus'</li><li>'Barbados'</li><li>'Bangladesh'</li><li>'Bahrain'</li><li>'Bahamas'</li><li>'Azerbaijan'</li><li>'Austria'</li><li>'Australia'</li><li>'Armenia'</li><li>'Argentina'</li><li>'Antigua and Barbuda'</li><li>'Angola'</li><li>'Andorra'</li><li>'Algeria'</li><li>'Albania'</li><li>'Afghanistan'</li></ol>\n"
      ],
      "text/latex": [
       "\\begin{enumerate*}\n",
       "\\item 'Zimbabwe'\n",
       "\\item 'Zambia'\n",
       "\\item 'Vietnam'\n",
       "\\item 'Venezuela'\n",
       "\\item 'Uzbekistan'\n",
       "\\item 'Uruguay'\n",
       "\\item 'United States'\n",
       "\\item 'United Kingdom'\n",
       "\\item 'United Arab Emirates'\n",
       "\\item 'Ukraine'\n",
       "\\item 'Uganda'\n",
       "\\item 'Turkey'\n",
       "\\item 'Tunisia'\n",
       "\\item 'Trinidad and Tobago'\n",
       "\\item 'Togo'\n",
       "\\item 'Thailand'\n",
       "\\item 'Tanzania'\n",
       "\\item 'Taiwan{[}m{]}'\n",
       "\\item 'Switzerland{[}l{]}'\n",
       "\\item 'Sweden'\n",
       "\\item 'Sudan'\n",
       "\\item 'Sri Lanka'\n",
       "\\item 'Spain'\n",
       "\\item 'South Sudan'\n",
       "\\item 'South Korea'\n",
       "\\item 'South Africa'\n",
       "\\item 'Slovenia'\n",
       "\\item 'Slovakia'\n",
       "\\item 'Singapore'\n",
       "\\item 'Serbia'\n",
       "\\item 'Senegal'\n",
       "\\item 'Saudi Arabia'\n",
       "\\item 'San Marino'\n",
       "\\item 'Saint Vincent'\n",
       "\\item 'Saint Lucia'\n",
       "\\item 'Saint Kitts and Nevis'\n",
       "\\item 'Rwanda'\n",
       "\\item 'Russia'\n",
       "\\item 'Romania'\n",
       "\\item 'Qatar'\n",
       "\\item 'Portugal'\n",
       "\\item 'Poland'\n",
       "\\item 'Philippines'\n",
       "\\item 'Peru'\n",
       "\\item 'Paraguay'\n",
       "\\item 'Papua New Guinea'\n",
       "\\item 'Panama'\n",
       "\\item 'Palestine'\n",
       "\\item 'Pakistan'\n",
       "\\item 'Oman'\n",
       "\\item 'Norway'\n",
       "\\item 'Northern Cyprus{[}k{]}'\n",
       "\\item 'North Macedonia'\n",
       "\\item 'North Korea'\n",
       "\\item 'Nigeria'\n",
       "\\item 'Niger'\n",
       "\\item 'New Zealand'\n",
       "\\item 'New Caledonia'\n",
       "\\item 'Netherlands'\n",
       "\\item 'Nepal'\n",
       "\\item 'Namibia'\n",
       "\\item 'Myanmar'\n",
       "\\item 'Mozambique'\n",
       "\\item 'Morocco'\n",
       "\\item 'Montenegro'\n",
       "\\item 'Mongolia'\n",
       "\\item 'Moldova{[}j{]}'\n",
       "\\item 'Mexico'\n",
       "\\item 'Mauritius'\n",
       "\\item 'Mauritania'\n",
       "\\item 'Malta'\n",
       "\\item 'Mali'\n",
       "\\item 'Maldives'\n",
       "\\item 'Malaysia'\n",
       "\\item 'Malawi'\n",
       "\\item 'Madagascar'\n",
       "\\item 'Luxembourg{[}i{]}'\n",
       "\\item 'Lithuania'\n",
       "\\item 'Libya'\n",
       "\\item 'Liberia'\n",
       "\\item 'Lesotho'\n",
       "\\item 'Lebanon'\n",
       "\\item 'Latvia'\n",
       "\\item 'Laos'\n",
       "\\item 'Kyrgyzstan'\n",
       "\\item 'Kuwait'\n",
       "\\item 'Kosovo'\n",
       "\\item 'Kenya'\n",
       "\\item 'Kazakhstan'\n",
       "\\item 'Jordan'\n",
       "\\item 'Japan'\n",
       "\\item 'Jamaica'\n",
       "\\item 'Ivory Coast'\n",
       "\\item 'Italy'\n",
       "\\item 'Israel'\n",
       "\\item 'Ireland'\n",
       "\\item 'Iraq'\n",
       "\\item 'Iran'\n",
       "\\item 'Indonesia'\n",
       "\\item 'India'\n",
       "\\item 'Iceland'\n",
       "\\item 'Hungary'\n",
       "\\item 'Honduras'\n",
       "\\item 'Haiti'\n",
       "\\item 'Guyana'\n",
       "\\item 'Guinea-Bissau'\n",
       "\\item 'Guinea'\n",
       "\\item 'Guatemala'\n",
       "\\item 'Grenada'\n",
       "\\item 'Greenland'\n",
       "\\item 'Greece'\n",
       "\\item 'Ghana'\n",
       "\\item 'Germany'\n",
       "\\item 'Georgia{[}h{]}'\n",
       "\\item 'Gambia'\n",
       "\\item 'Gabon'\n",
       "\\item 'France{[}f{]}{[}g{]}'\n",
       "\\item 'Finland'\n",
       "\\item 'Fiji'\n",
       "\\item 'Faroe Islands'\n",
       "\\item 'Ethiopia'\n",
       "\\item 'Eswatini'\n",
       "\\item 'Estonia'\n",
       "\\item 'Equatorial Guinea'\n",
       "\\item 'El Salvador'\n",
       "\\item 'Egypt'\n",
       "\\item 'Ecuador'\n",
       "\\item 'DR Congo'\n",
       "\\item 'Dominican Republic'\n",
       "\\item 'Dominica'\n",
       "\\item 'Djibouti'\n",
       "\\item 'Denmark{[}e{]}'\n",
       "\\item 'Czechia'\n",
       "\\item 'Cyprus{[}d{]}'\n",
       "\\item 'Cuba'\n",
       "\\item 'Croatia'\n",
       "\\item 'Costa Rica'\n",
       "\\item 'Colombia'\n",
       "\\item 'China{[}c{]}'\n",
       "\\item 'Chile'\n",
       "\\item 'Chad'\n",
       "\\item 'Canada'\n",
       "\\item 'Cameroon'\n",
       "\\item 'Cambodia'\n",
       "\\item 'Burundi'\n",
       "\\item 'Burkina Faso'\n",
       "\\item 'Bulgaria'\n",
       "\\item 'Brunei'\n",
       "\\item 'Brazil'\n",
       "\\item 'Botswana'\n",
       "\\item 'Bosnia and Herzegovina'\n",
       "\\item 'Bolivia'\n",
       "\\item 'Bhutan'\n",
       "\\item 'Benin'\n",
       "\\item 'Belize'\n",
       "\\item 'Belgium'\n",
       "\\item 'Belarus'\n",
       "\\item 'Barbados'\n",
       "\\item 'Bangladesh'\n",
       "\\item 'Bahrain'\n",
       "\\item 'Bahamas'\n",
       "\\item 'Azerbaijan'\n",
       "\\item 'Austria'\n",
       "\\item 'Australia'\n",
       "\\item 'Armenia'\n",
       "\\item 'Argentina'\n",
       "\\item 'Antigua and Barbuda'\n",
       "\\item 'Angola'\n",
       "\\item 'Andorra'\n",
       "\\item 'Algeria'\n",
       "\\item 'Albania'\n",
       "\\item 'Afghanistan'\n",
       "\\end{enumerate*}\n"
      ],
      "text/markdown": [
       "1. 'Zimbabwe'\n",
       "2. 'Zambia'\n",
       "3. 'Vietnam'\n",
       "4. 'Venezuela'\n",
       "5. 'Uzbekistan'\n",
       "6. 'Uruguay'\n",
       "7. 'United States'\n",
       "8. 'United Kingdom'\n",
       "9. 'United Arab Emirates'\n",
       "10. 'Ukraine'\n",
       "11. 'Uganda'\n",
       "12. 'Turkey'\n",
       "13. 'Tunisia'\n",
       "14. 'Trinidad and Tobago'\n",
       "15. 'Togo'\n",
       "16. 'Thailand'\n",
       "17. 'Tanzania'\n",
       "18. 'Taiwan[m]'\n",
       "19. 'Switzerland[l]'\n",
       "20. 'Sweden'\n",
       "21. 'Sudan'\n",
       "22. 'Sri Lanka'\n",
       "23. 'Spain'\n",
       "24. 'South Sudan'\n",
       "25. 'South Korea'\n",
       "26. 'South Africa'\n",
       "27. 'Slovenia'\n",
       "28. 'Slovakia'\n",
       "29. 'Singapore'\n",
       "30. 'Serbia'\n",
       "31. 'Senegal'\n",
       "32. 'Saudi Arabia'\n",
       "33. 'San Marino'\n",
       "34. 'Saint Vincent'\n",
       "35. 'Saint Lucia'\n",
       "36. 'Saint Kitts and Nevis'\n",
       "37. 'Rwanda'\n",
       "38. 'Russia'\n",
       "39. 'Romania'\n",
       "40. 'Qatar'\n",
       "41. 'Portugal'\n",
       "42. 'Poland'\n",
       "43. 'Philippines'\n",
       "44. 'Peru'\n",
       "45. 'Paraguay'\n",
       "46. 'Papua New Guinea'\n",
       "47. 'Panama'\n",
       "48. 'Palestine'\n",
       "49. 'Pakistan'\n",
       "50. 'Oman'\n",
       "51. 'Norway'\n",
       "52. 'Northern Cyprus[k]'\n",
       "53. 'North Macedonia'\n",
       "54. 'North Korea'\n",
       "55. 'Nigeria'\n",
       "56. 'Niger'\n",
       "57. 'New Zealand'\n",
       "58. 'New Caledonia'\n",
       "59. 'Netherlands'\n",
       "60. 'Nepal'\n",
       "61. 'Namibia'\n",
       "62. 'Myanmar'\n",
       "63. 'Mozambique'\n",
       "64. 'Morocco'\n",
       "65. 'Montenegro'\n",
       "66. 'Mongolia'\n",
       "67. 'Moldova[j]'\n",
       "68. 'Mexico'\n",
       "69. 'Mauritius'\n",
       "70. 'Mauritania'\n",
       "71. 'Malta'\n",
       "72. 'Mali'\n",
       "73. 'Maldives'\n",
       "74. 'Malaysia'\n",
       "75. 'Malawi'\n",
       "76. 'Madagascar'\n",
       "77. 'Luxembourg[i]'\n",
       "78. 'Lithuania'\n",
       "79. 'Libya'\n",
       "80. 'Liberia'\n",
       "81. 'Lesotho'\n",
       "82. 'Lebanon'\n",
       "83. 'Latvia'\n",
       "84. 'Laos'\n",
       "85. 'Kyrgyzstan'\n",
       "86. 'Kuwait'\n",
       "87. 'Kosovo'\n",
       "88. 'Kenya'\n",
       "89. 'Kazakhstan'\n",
       "90. 'Jordan'\n",
       "91. 'Japan'\n",
       "92. 'Jamaica'\n",
       "93. 'Ivory Coast'\n",
       "94. 'Italy'\n",
       "95. 'Israel'\n",
       "96. 'Ireland'\n",
       "97. 'Iraq'\n",
       "98. 'Iran'\n",
       "99. 'Indonesia'\n",
       "100. 'India'\n",
       "101. 'Iceland'\n",
       "102. 'Hungary'\n",
       "103. 'Honduras'\n",
       "104. 'Haiti'\n",
       "105. 'Guyana'\n",
       "106. 'Guinea-Bissau'\n",
       "107. 'Guinea'\n",
       "108. 'Guatemala'\n",
       "109. 'Grenada'\n",
       "110. 'Greenland'\n",
       "111. 'Greece'\n",
       "112. 'Ghana'\n",
       "113. 'Germany'\n",
       "114. 'Georgia[h]'\n",
       "115. 'Gambia'\n",
       "116. 'Gabon'\n",
       "117. 'France[f][g]'\n",
       "118. 'Finland'\n",
       "119. 'Fiji'\n",
       "120. 'Faroe Islands'\n",
       "121. 'Ethiopia'\n",
       "122. 'Eswatini'\n",
       "123. 'Estonia'\n",
       "124. 'Equatorial Guinea'\n",
       "125. 'El Salvador'\n",
       "126. 'Egypt'\n",
       "127. 'Ecuador'\n",
       "128. 'DR Congo'\n",
       "129. 'Dominican Republic'\n",
       "130. 'Dominica'\n",
       "131. 'Djibouti'\n",
       "132. 'Denmark[e]'\n",
       "133. 'Czechia'\n",
       "134. 'Cyprus[d]'\n",
       "135. 'Cuba'\n",
       "136. 'Croatia'\n",
       "137. 'Costa Rica'\n",
       "138. 'Colombia'\n",
       "139. 'China[c]'\n",
       "140. 'Chile'\n",
       "141. 'Chad'\n",
       "142. 'Canada'\n",
       "143. 'Cameroon'\n",
       "144. 'Cambodia'\n",
       "145. 'Burundi'\n",
       "146. 'Burkina Faso'\n",
       "147. 'Bulgaria'\n",
       "148. 'Brunei'\n",
       "149. 'Brazil'\n",
       "150. 'Botswana'\n",
       "151. 'Bosnia and Herzegovina'\n",
       "152. 'Bolivia'\n",
       "153. 'Bhutan'\n",
       "154. 'Benin'\n",
       "155. 'Belize'\n",
       "156. 'Belgium'\n",
       "157. 'Belarus'\n",
       "158. 'Barbados'\n",
       "159. 'Bangladesh'\n",
       "160. 'Bahrain'\n",
       "161. 'Bahamas'\n",
       "162. 'Azerbaijan'\n",
       "163. 'Austria'\n",
       "164. 'Australia'\n",
       "165. 'Armenia'\n",
       "166. 'Argentina'\n",
       "167. 'Antigua and Barbuda'\n",
       "168. 'Angola'\n",
       "169. 'Andorra'\n",
       "170. 'Algeria'\n",
       "171. 'Albania'\n",
       "172. 'Afghanistan'\n",
       "\n",
       "\n"
      ],
      "text/plain": [
       "  [1] \"Zimbabwe\"               \"Zambia\"                 \"Vietnam\"               \n",
       "  [4] \"Venezuela\"              \"Uzbekistan\"             \"Uruguay\"               \n",
       "  [7] \"United States\"          \"United Kingdom\"         \"United Arab Emirates\"  \n",
       " [10] \"Ukraine\"                \"Uganda\"                 \"Turkey\"                \n",
       " [13] \"Tunisia\"                \"Trinidad and Tobago\"    \"Togo\"                  \n",
       " [16] \"Thailand\"               \"Tanzania\"               \"Taiwan[m]\"             \n",
       " [19] \"Switzerland[l]\"         \"Sweden\"                 \"Sudan\"                 \n",
       " [22] \"Sri Lanka\"              \"Spain\"                  \"South Sudan\"           \n",
       " [25] \"South Korea\"            \"South Africa\"           \"Slovenia\"              \n",
       " [28] \"Slovakia\"               \"Singapore\"              \"Serbia\"                \n",
       " [31] \"Senegal\"                \"Saudi Arabia\"           \"San Marino\"            \n",
       " [34] \"Saint Vincent\"          \"Saint Lucia\"            \"Saint Kitts and Nevis\" \n",
       " [37] \"Rwanda\"                 \"Russia\"                 \"Romania\"               \n",
       " [40] \"Qatar\"                  \"Portugal\"               \"Poland\"                \n",
       " [43] \"Philippines\"            \"Peru\"                   \"Paraguay\"              \n",
       " [46] \"Papua New Guinea\"       \"Panama\"                 \"Palestine\"             \n",
       " [49] \"Pakistan\"               \"Oman\"                   \"Norway\"                \n",
       " [52] \"Northern Cyprus[k]\"     \"North Macedonia\"        \"North Korea\"           \n",
       " [55] \"Nigeria\"                \"Niger\"                  \"New Zealand\"           \n",
       " [58] \"New Caledonia\"          \"Netherlands\"            \"Nepal\"                 \n",
       " [61] \"Namibia\"                \"Myanmar\"                \"Mozambique\"            \n",
       " [64] \"Morocco\"                \"Montenegro\"             \"Mongolia\"              \n",
       " [67] \"Moldova[j]\"             \"Mexico\"                 \"Mauritius\"             \n",
       " [70] \"Mauritania\"             \"Malta\"                  \"Mali\"                  \n",
       " [73] \"Maldives\"               \"Malaysia\"               \"Malawi\"                \n",
       " [76] \"Madagascar\"             \"Luxembourg[i]\"          \"Lithuania\"             \n",
       " [79] \"Libya\"                  \"Liberia\"                \"Lesotho\"               \n",
       " [82] \"Lebanon\"                \"Latvia\"                 \"Laos\"                  \n",
       " [85] \"Kyrgyzstan\"             \"Kuwait\"                 \"Kosovo\"                \n",
       " [88] \"Kenya\"                  \"Kazakhstan\"             \"Jordan\"                \n",
       " [91] \"Japan\"                  \"Jamaica\"                \"Ivory Coast\"           \n",
       " [94] \"Italy\"                  \"Israel\"                 \"Ireland\"               \n",
       " [97] \"Iraq\"                   \"Iran\"                   \"Indonesia\"             \n",
       "[100] \"India\"                  \"Iceland\"                \"Hungary\"               \n",
       "[103] \"Honduras\"               \"Haiti\"                  \"Guyana\"                \n",
       "[106] \"Guinea-Bissau\"          \"Guinea\"                 \"Guatemala\"             \n",
       "[109] \"Grenada\"                \"Greenland\"              \"Greece\"                \n",
       "[112] \"Ghana\"                  \"Germany\"                \"Georgia[h]\"            \n",
       "[115] \"Gambia\"                 \"Gabon\"                  \"France[f][g]\"          \n",
       "[118] \"Finland\"                \"Fiji\"                   \"Faroe Islands\"         \n",
       "[121] \"Ethiopia\"               \"Eswatini\"               \"Estonia\"               \n",
       "[124] \"Equatorial Guinea\"      \"El Salvador\"            \"Egypt\"                 \n",
       "[127] \"Ecuador\"                \"DR Congo\"               \"Dominican Republic\"    \n",
       "[130] \"Dominica\"               \"Djibouti\"               \"Denmark[e]\"            \n",
       "[133] \"Czechia\"                \"Cyprus[d]\"              \"Cuba\"                  \n",
       "[136] \"Croatia\"                \"Costa Rica\"             \"Colombia\"              \n",
       "[139] \"China[c]\"               \"Chile\"                  \"Chad\"                  \n",
       "[142] \"Canada\"                 \"Cameroon\"               \"Cambodia\"              \n",
       "[145] \"Burundi\"                \"Burkina Faso\"           \"Bulgaria\"              \n",
       "[148] \"Brunei\"                 \"Brazil\"                 \"Botswana\"              \n",
       "[151] \"Bosnia and Herzegovina\" \"Bolivia\"                \"Bhutan\"                \n",
       "[154] \"Benin\"                  \"Belize\"                 \"Belgium\"               \n",
       "[157] \"Belarus\"                \"Barbados\"               \"Bangladesh\"            \n",
       "[160] \"Bahrain\"                \"Bahamas\"                \"Azerbaijan\"            \n",
       "[163] \"Austria\"                \"Australia\"              \"Armenia\"               \n",
       "[166] \"Argentina\"              \"Antigua and Barbuda\"    \"Angola\"                \n",
       "[169] \"Andorra\"                \"Algeria\"                \"Albania\"               \n",
       "[172] \"Afghanistan\"           "
      ]
     },
     "metadata": {},
     "output_type": "display_data"
    }
   ],
   "source": [
    "# Get the `country` column\n",
    "country = dff$country\n",
    "# Check its class (should be Factor)\n",
    "class(country)\n",
    "# Conver the country column into character so that you can easily sort them\n",
    "country = as.character(country)\n",
    "class(country)\n",
    "# Sort the countries AtoZ\n",
    "sorted_countries = sort(country)\n",
    "# Sort the countries ZtoA\n",
    "sort(country, decreasing = TRUE)"
   ]
  },
  {
   "cell_type": "code",
   "execution_count": 19,
   "metadata": {
    "vscode": {
     "languageId": "r"
    }
   },
   "outputs": [
    {
     "data": {
      "text/html": [
       "<style>\n",
       ".list-inline {list-style: none; margin:0; padding: 0}\n",
       ".list-inline>li {display: inline-block}\n",
       ".list-inline>li:not(:last-child)::after {content: \"\\00b7\"; padding: 0 .5ex}\n",
       "</style>\n",
       "<ol class=list-inline><li>'United Arab Emirates'</li><li>'United Kingdom'</li><li>'United States'</li></ol>\n"
      ],
      "text/latex": [
       "\\begin{enumerate*}\n",
       "\\item 'United Arab Emirates'\n",
       "\\item 'United Kingdom'\n",
       "\\item 'United States'\n",
       "\\end{enumerate*}\n"
      ],
      "text/markdown": [
       "1. 'United Arab Emirates'\n",
       "2. 'United Kingdom'\n",
       "3. 'United States'\n",
       "\n",
       "\n"
      ],
      "text/plain": [
       "[1] \"United Arab Emirates\" \"United Kingdom\"       \"United States\"       "
      ]
     },
     "metadata": {},
     "output_type": "display_data"
    }
   ],
   "source": [
    "# Task 7: Identify country names with a specific pattern (2 pts)\n",
    "\n",
    "\n",
    "# Use a regular expression `United.+` to find matches\n",
    "matches <- grep(\"United.+\", country, value = TRUE)\n",
    "# Print the matched country names\n",
    "matches"
   ]
  },
  {
   "cell_type": "code",
   "execution_count": 20,
   "metadata": {
    "vscode": {
     "languageId": "r"
    }
   },
   "outputs": [
    {
     "data": {
      "text/html": [
       "<table class=\"dataframe\">\n",
       "<caption>A data.frame: 1 × 3</caption>\n",
       "<thead>\n",
       "\t<tr><th></th><th scope=col>country</th><th scope=col>confirmed</th><th scope=col>confirmed.population.ratio</th></tr>\n",
       "\t<tr><th></th><th scope=col>&lt;chr&gt;</th><th scope=col>&lt;int&gt;</th><th scope=col>&lt;dbl&gt;</th></tr>\n",
       "</thead>\n",
       "<tbody>\n",
       "\t<tr><th scope=row>166</th><td>United States</td><td>90749469</td><td>27.4</td></tr>\n",
       "</tbody>\n",
       "</table>\n"
      ],
      "text/latex": [
       "A data.frame: 1 × 3\n",
       "\\begin{tabular}{r|lll}\n",
       "  & country & confirmed & confirmed.population.ratio\\\\\n",
       "  & <chr> & <int> & <dbl>\\\\\n",
       "\\hline\n",
       "\t166 & United States & 90749469 & 27.4\\\\\n",
       "\\end{tabular}\n"
      ],
      "text/markdown": [
       "\n",
       "A data.frame: 1 × 3\n",
       "\n",
       "| <!--/--> | country &lt;chr&gt; | confirmed &lt;int&gt; | confirmed.population.ratio &lt;dbl&gt; |\n",
       "|---|---|---|---|\n",
       "| 166 | United States | 90749469 | 27.4 |\n",
       "\n"
      ],
      "text/plain": [
       "    country       confirmed confirmed.population.ratio\n",
       "166 United States 90749469  27.4                      "
      ]
     },
     "metadata": {},
     "output_type": "display_data"
    },
    {
     "data": {
      "text/html": [
       "<table class=\"dataframe\">\n",
       "<caption>A data.frame: 1 × 3</caption>\n",
       "<thead>\n",
       "\t<tr><th></th><th scope=col>country</th><th scope=col>confirmed</th><th scope=col>confirmed.population.ratio</th></tr>\n",
       "\t<tr><th></th><th scope=col>&lt;chr&gt;</th><th scope=col>&lt;int&gt;</th><th scope=col>&lt;dbl&gt;</th></tr>\n",
       "</thead>\n",
       "<tbody>\n",
       "\t<tr><th scope=row>60</th><td>Germany</td><td>3733519</td><td>4.5</td></tr>\n",
       "</tbody>\n",
       "</table>\n"
      ],
      "text/latex": [
       "A data.frame: 1 × 3\n",
       "\\begin{tabular}{r|lll}\n",
       "  & country & confirmed & confirmed.population.ratio\\\\\n",
       "  & <chr> & <int> & <dbl>\\\\\n",
       "\\hline\n",
       "\t60 & Germany & 3733519 & 4.5\\\\\n",
       "\\end{tabular}\n"
      ],
      "text/markdown": [
       "\n",
       "A data.frame: 1 × 3\n",
       "\n",
       "| <!--/--> | country &lt;chr&gt; | confirmed &lt;int&gt; | confirmed.population.ratio &lt;dbl&gt; |\n",
       "|---|---|---|---|\n",
       "| 60 | Germany | 3733519 | 4.5 |\n",
       "\n"
      ],
      "text/plain": [
       "   country confirmed confirmed.population.ratio\n",
       "60 Germany 3733519   4.5                       "
      ]
     },
     "metadata": {},
     "output_type": "display_data"
    }
   ],
   "source": [
    "# Task 8: Pick two countries you are interested in, and then review their testing data (2 pts)\n",
    "# select country, confirmed, confirmed-population-ratio columns\n",
    "\n",
    "# us\n",
    "us_data = dff[dff$country == \"United States\", c(\"country\", \"confirmed\", \"confirmed.population.ratio\")]\n",
    "us_data\n",
    "\n",
    "# germany\n",
    "germany_data = dff[dff$country == \"Germany\", c(\"country\", \"confirmed\", \"confirmed.population.ratio\")]\n",
    "germany_data"
   ]
  },
  {
   "cell_type": "code",
   "execution_count": 21,
   "metadata": {
    "vscode": {
     "languageId": "r"
    }
   },
   "outputs": [
    {
     "name": "stdout",
     "output_type": "stream",
     "text": [
      "[1] \"US has a greater COVID-19 infection risk.\"\n"
     ]
    }
   ],
   "source": [
    "# Task 9: Compare which one of the selected countries has a larger ratio of confirmed cases to population (2 pts)\n",
    "\n",
    "# it ensures data is numeric (to be fair we did this upwards but maybe sth changed, better to be cautious)\n",
    "# covers the possibility that they are equal\n",
    "\n",
    "us_ratio = as.numeric(us_data$confirmed.population.ratio)\n",
    "germany_ratio = as.numeric(germany_data$confirmed.population.ratio)\n",
    "\n",
    "if (us_ratio > germany_ratio) {\n",
    "    print(\"US has a greater COVID-19 infection risk.\")\n",
    "} else if (us_ratio < germany_ratio) {\n",
    "    print(\"Germany has a greater COVID-19 infection risk.\")\n",
    "} else {\n",
    "    print(\"U.S. and Germany have equal COVID-19 infection risks.\")\n",
    "}"
   ]
  },
  {
   "cell_type": "code",
   "execution_count": 22,
   "metadata": {
    "vscode": {
     "languageId": "r"
    }
   },
   "outputs": [
    {
     "data": {
      "text/html": [
       "<table class=\"dataframe\">\n",
       "<caption>A data.frame: 5 × 2</caption>\n",
       "<thead>\n",
       "\t<tr><th></th><th scope=col>country</th><th scope=col>confirmed.population.ratio</th></tr>\n",
       "\t<tr><th></th><th scope=col>&lt;chr&gt;</th><th scope=col>&lt;dbl&gt;</th></tr>\n",
       "</thead>\n",
       "<tbody>\n",
       "\t<tr><th scope=row>28</th><td>Burundi    </td><td>0.00740</td></tr>\n",
       "\t<tr><th scope=row>34</th><td>China[c]   </td><td>0.00610</td></tr>\n",
       "\t<tr><th scope=row>89</th><td>Laos       </td><td>0.00063</td></tr>\n",
       "\t<tr><th scope=row>119</th><td>North Korea</td><td>0.00000</td></tr>\n",
       "\t<tr><th scope=row>156</th><td>Tanzania   </td><td>0.00085</td></tr>\n",
       "</tbody>\n",
       "</table>\n"
      ],
      "text/latex": [
       "A data.frame: 5 × 2\n",
       "\\begin{tabular}{r|ll}\n",
       "  & country & confirmed.population.ratio\\\\\n",
       "  & <chr> & <dbl>\\\\\n",
       "\\hline\n",
       "\t28 & Burundi     & 0.00740\\\\\n",
       "\t34 & China{[}c{]}    & 0.00610\\\\\n",
       "\t89 & Laos        & 0.00063\\\\\n",
       "\t119 & North Korea & 0.00000\\\\\n",
       "\t156 & Tanzania    & 0.00085\\\\\n",
       "\\end{tabular}\n"
      ],
      "text/markdown": [
       "\n",
       "A data.frame: 5 × 2\n",
       "\n",
       "| <!--/--> | country &lt;chr&gt; | confirmed.population.ratio &lt;dbl&gt; |\n",
       "|---|---|---|\n",
       "| 28 | Burundi     | 0.00740 |\n",
       "| 34 | China[c]    | 0.00610 |\n",
       "| 89 | Laos        | 0.00063 |\n",
       "| 119 | North Korea | 0.00000 |\n",
       "| 156 | Tanzania    | 0.00085 |\n",
       "\n"
      ],
      "text/plain": [
       "    country     confirmed.population.ratio\n",
       "28  Burundi     0.00740                   \n",
       "34  China[c]    0.00610                   \n",
       "89  Laos        0.00063                   \n",
       "119 North Korea 0.00000                   \n",
       "156 Tanzania    0.00085                   "
      ]
     },
     "metadata": {},
     "output_type": "display_data"
    }
   ],
   "source": [
    "# Task 10: Find countries with confirmedcases to population ratio rate less than a threshold (2 pts)\n",
    "\n",
    "# Get a subset of any countries with `confirmed.population.ratio` less than the threshold\n",
    "threshold = 0.01\n",
    "\n",
    "countries_below_threshold = subset(dff, confirmed.population.ratio < threshold)\n",
    "\n",
    "selected_columns = countries_below_threshold[, c(\"country\", \"confirmed.population.ratio\")]\n",
    "selected_columns"
   ]
  }
 ],
 "metadata": {
  "kernelspec": {
   "display_name": "R",
   "language": "R",
   "name": "ir"
  },
  "language_info": {
   "codemirror_mode": "r",
   "file_extension": ".r",
   "mimetype": "text/x-r-source",
   "name": "R",
   "pygments_lexer": "r",
   "version": "4.3.2"
  }
 },
 "nbformat": 4,
 "nbformat_minor": 2
}
