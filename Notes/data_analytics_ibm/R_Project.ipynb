{
 "cells": [
  {
   "cell_type": "markdown",
   "metadata": {},
   "source": [
    "## Project\n",
    "\n",
    "- Task 1: Get a COVID-19 pandemic Wiki page using HTTP request (2 pts)\n",
    "- Task 2: Extract COVID-19 testing data table from the wiki HTML page (2 pts)\n",
    "- Task 3: Pre-process and export the extracted data frame (2 pt)\n",
    "- Task 4: Get a subset of the extracted data frame (2 pt)\n",
    "- Task 5: Calculate worldwide COVID testing positive ratio (2 pts)\n",
    "- Task 6: Get a sorted name list of countries that reported their testing data (2 pts)\n",
    "- Task 7: Identify country names with a specific pattern (2 pts)\n",
    "- Task 8: Pick two countries you are interested in, and then review their testing data (2 pts)\n",
    "- Task 9: Compare which one of the selected countries has a larger ratio of confirmed cases to population (2 pts)\n",
    "- Task 10: Find countries with confirmedcases to population ratio rate less than a threshold (2 pts)"
   ]
  },
  {
   "cell_type": "code",
   "execution_count": 1,
   "metadata": {
    "vscode": {
     "languageId": "r"
    }
   },
   "outputs": [],
   "source": [
    "# Task 0\n",
    "library(httr)\n",
    "library(rvest)\n",
    "library(tidyr)"
   ]
  },
  {
   "cell_type": "code",
   "execution_count": 2,
   "metadata": {
    "vscode": {
     "languageId": "r"
    }
   },
   "outputs": [],
   "source": [
    "# Task 1: Get a COVID-19 pandemic Wiki page using HTTP request (2 pts)\n",
    "\n",
    "get_wiki_covid19_page <- function() {\n",
    "    \n",
    "  # Our target COVID-19 wiki page URL is: https://en.wikipedia.org/w/index.php?title=Template:COVID-19_testing_by_country  \n",
    "  # Which has two parts: \n",
    "    # 1) base URL `https://en.wikipedia.org/w/index.php  \n",
    "    # 2) URL parameter: `title=Template:COVID-19_testing_by_country`, seperated by question mark ?\n",
    "    \n",
    "  # Wiki page base\n",
    "    wiki_base_url <- \"https://en.wikipedia.org/w/index.php\"\n",
    "  # You will need to create a List which has an element called `title` to specify which page you want to get from Wiki\n",
    "  # in our case, it will be `Template:COVID-19_testing_by_country`\n",
    " \n",
    "  # - Use the `GET` function in httr library with a `url` argument and a `query` arugment to get a HTTP response\n",
    "    \n",
    "  # Use the `return` function to return the response\n",
    "\n",
    "    query = list(title = \"Template:COVID-19_testing_by_country\")\n",
    "    response <- GET(url = wiki_base_url, query = query)\n",
    "    return(response)\n",
    "}"
   ]
  },
  {
   "cell_type": "code",
   "execution_count": 3,
   "metadata": {
    "vscode": {
     "languageId": "r"
    }
   },
   "outputs": [
    {
     "data": {
      "text/plain": [
       "Response [https://en.wikipedia.org/w/index.php?title=Template%3ACOVID-19_testing_by_country]\n",
       "  Date: 2024-02-27 10:51\n",
       "  Status: 200\n",
       "  Content-Type: text/html; charset=UTF-8\n",
       "  Size: 448 kB\n",
       "<!DOCTYPE html>\n",
       "<html class=\"client-nojs vector-feature-language-in-header-enabled vector-fea...\n",
       "<head>\n",
       "<meta charset=\"UTF-8\">\n",
       "<title>Template:COVID-19 testing by country - Wikipedia</title>\n",
       "<script>(function(){var className=\"client-js vector-feature-language-in-heade...\n",
       "\"wgDigitTransformTable\":[\"\",\"\"],\"wgDefaultDateFormat\":\"dmy\",\"wgMonthNames\":[\"...\n",
       "\"CS1 uses Russian-language script (ru)\",\"CS1 Russian-language sources (ru)\",\"...\n",
       ",\"CS1 Lithuanian-language sources (lt)\",\"CS1 Malagasy-language sources (mg)\",...\n",
       "\"wgRelevantArticleId\":63303421,\"wgIsProbablyEditable\":false,\"wgRelevantPageIs...\n",
       "..."
      ]
     },
     "metadata": {},
     "output_type": "display_data"
    }
   ],
   "source": [
    "# Call the get_wiki_covid19_page function and print the response\n",
    "get_wiki_covid19_page()"
   ]
  },
  {
   "cell_type": "code",
   "execution_count": 4,
   "metadata": {
    "vscode": {
     "languageId": "r"
    }
   },
   "outputs": [
    {
     "data": {
      "text/html": [
       "<table class=\"dataframe\">\n",
       "<caption>A data.frame: 6 × 9</caption>\n",
       "<thead>\n",
       "\t<tr><th></th><th scope=col>Country or region</th><th scope=col>Date[a]</th><th scope=col>Tested</th><th scope=col>Units[b]</th><th scope=col>Confirmed(cases)</th><th scope=col>Confirmed /tested,%</th><th scope=col>Tested /population,%</th><th scope=col>Confirmed /population,%</th><th scope=col>Ref.</th></tr>\n",
       "\t<tr><th></th><th scope=col>&lt;chr&gt;</th><th scope=col>&lt;chr&gt;</th><th scope=col>&lt;chr&gt;</th><th scope=col>&lt;chr&gt;</th><th scope=col>&lt;chr&gt;</th><th scope=col>&lt;chr&gt;</th><th scope=col>&lt;chr&gt;</th><th scope=col>&lt;chr&gt;</th><th scope=col>&lt;chr&gt;</th></tr>\n",
       "</thead>\n",
       "<tbody>\n",
       "\t<tr><th scope=row>1</th><td>Afghanistan        </td><td>17 Dec 2020</td><td>154,767</td><td>samples</td><td>49,621</td><td>32.1</td><td>0.40</td><td>0.13 </td><td>[1]   </td></tr>\n",
       "\t<tr><th scope=row>2</th><td>Albania            </td><td>18 Feb 2021</td><td>428,654</td><td>samples</td><td>96,838</td><td>22.6</td><td>15.0</td><td>3.4  </td><td>[2]   </td></tr>\n",
       "\t<tr><th scope=row>3</th><td>Algeria            </td><td>2 Nov 2020 </td><td>230,553</td><td>samples</td><td>58,574</td><td>25.4</td><td>0.53</td><td>0.13 </td><td>[3][4]</td></tr>\n",
       "\t<tr><th scope=row>4</th><td>Andorra            </td><td>23 Feb 2022</td><td>300,307</td><td>samples</td><td>37,958</td><td>12.6</td><td>387 </td><td>49.0 </td><td>[5]   </td></tr>\n",
       "\t<tr><th scope=row>5</th><td>Angola             </td><td>2 Feb 2021 </td><td>399,228</td><td>samples</td><td>20,981</td><td>5.3 </td><td>1.3 </td><td>0.067</td><td>[6]   </td></tr>\n",
       "\t<tr><th scope=row>6</th><td>Antigua and Barbuda</td><td>6 Mar 2021 </td><td>15,268 </td><td>samples</td><td>832   </td><td>5.4 </td><td>15.9</td><td>0.86 </td><td>[7]   </td></tr>\n",
       "</tbody>\n",
       "</table>\n"
      ],
      "text/latex": [
       "A data.frame: 6 × 9\n",
       "\\begin{tabular}{r|lllllllll}\n",
       "  & Country or region & Date{[}a{]} & Tested & Units{[}b{]} & Confirmed(cases) & Confirmed /tested,\\% & Tested /population,\\% & Confirmed /population,\\% & Ref.\\\\\n",
       "  & <chr> & <chr> & <chr> & <chr> & <chr> & <chr> & <chr> & <chr> & <chr>\\\\\n",
       "\\hline\n",
       "\t1 & Afghanistan         & 17 Dec 2020 & 154,767 & samples & 49,621 & 32.1 & 0.40 & 0.13  & {[}1{]}   \\\\\n",
       "\t2 & Albania             & 18 Feb 2021 & 428,654 & samples & 96,838 & 22.6 & 15.0 & 3.4   & {[}2{]}   \\\\\n",
       "\t3 & Algeria             & 2 Nov 2020  & 230,553 & samples & 58,574 & 25.4 & 0.53 & 0.13  & {[}3{]}{[}4{]}\\\\\n",
       "\t4 & Andorra             & 23 Feb 2022 & 300,307 & samples & 37,958 & 12.6 & 387  & 49.0  & {[}5{]}   \\\\\n",
       "\t5 & Angola              & 2 Feb 2021  & 399,228 & samples & 20,981 & 5.3  & 1.3  & 0.067 & {[}6{]}   \\\\\n",
       "\t6 & Antigua and Barbuda & 6 Mar 2021  & 15,268  & samples & 832    & 5.4  & 15.9 & 0.86  & {[}7{]}   \\\\\n",
       "\\end{tabular}\n"
      ],
      "text/markdown": [
       "\n",
       "A data.frame: 6 × 9\n",
       "\n",
       "| <!--/--> | Country or region &lt;chr&gt; | Date[a] &lt;chr&gt; | Tested &lt;chr&gt; | Units[b] &lt;chr&gt; | Confirmed(cases) &lt;chr&gt; | Confirmed /tested,% &lt;chr&gt; | Tested /population,% &lt;chr&gt; | Confirmed /population,% &lt;chr&gt; | Ref. &lt;chr&gt; |\n",
       "|---|---|---|---|---|---|---|---|---|---|\n",
       "| 1 | Afghanistan         | 17 Dec 2020 | 154,767 | samples | 49,621 | 32.1 | 0.40 | 0.13  | [1]    |\n",
       "| 2 | Albania             | 18 Feb 2021 | 428,654 | samples | 96,838 | 22.6 | 15.0 | 3.4   | [2]    |\n",
       "| 3 | Algeria             | 2 Nov 2020  | 230,553 | samples | 58,574 | 25.4 | 0.53 | 0.13  | [3][4] |\n",
       "| 4 | Andorra             | 23 Feb 2022 | 300,307 | samples | 37,958 | 12.6 | 387  | 49.0  | [5]    |\n",
       "| 5 | Angola              | 2 Feb 2021  | 399,228 | samples | 20,981 | 5.3  | 1.3  | 0.067 | [6]    |\n",
       "| 6 | Antigua and Barbuda | 6 Mar 2021  | 15,268  | samples | 832    | 5.4  | 15.9 | 0.86  | [7]    |\n",
       "\n"
      ],
      "text/plain": [
       "  Country or region   Date[a]     Tested  Units[b] Confirmed(cases)\n",
       "1 Afghanistan         17 Dec 2020 154,767 samples  49,621          \n",
       "2 Albania             18 Feb 2021 428,654 samples  96,838          \n",
       "3 Algeria             2 Nov 2020  230,553 samples  58,574          \n",
       "4 Andorra             23 Feb 2022 300,307 samples  37,958          \n",
       "5 Angola              2 Feb 2021  399,228 samples  20,981          \n",
       "6 Antigua and Barbuda 6 Mar 2021  15,268  samples  832             \n",
       "  Confirmed /tested,% Tested /population,% Confirmed /population,% Ref.  \n",
       "1 32.1                0.40                 0.13                    [1]   \n",
       "2 22.6                15.0                 3.4                     [2]   \n",
       "3 25.4                0.53                 0.13                    [3][4]\n",
       "4 12.6                387                  49.0                    [5]   \n",
       "5 5.3                 1.3                  0.067                   [6]   \n",
       "6 5.4                 15.9                 0.86                    [7]   "
      ]
     },
     "metadata": {},
     "output_type": "display_data"
    }
   ],
   "source": [
    "# Task 2: Extract COVID-19 testing data table from the wiki HTML page (2 pts)\n",
    "\n",
    "# Get the root html node from the http response in task 1 \n",
    "root_html_node <- content(get_wiki_covid19_page(), \"text\", encoding = \"UTF-8\") %>% read_html()\n",
    "\n",
    "# Get the table node from the root html node\n",
    "tables <- html_nodes(root_html_node, \"table\")\n",
    "\n",
    "covid_testing_table <- html_table(tables[[2]]) \n",
    "df = as.data.frame(covid_testing_table)\n",
    "head(df)\n"
   ]
  },
  {
   "cell_type": "code",
   "execution_count": 5,
   "metadata": {
    "vscode": {
     "languageId": "r"
    }
   },
   "outputs": [
    {
     "data": {
      "text/plain": [
       " Country or region    Date[a]             Tested            Units[b]        \n",
       " Length:173         Length:173         Length:173         Length:173        \n",
       " Class :character   Class :character   Class :character   Class :character  \n",
       " Mode  :character   Mode  :character   Mode  :character   Mode  :character  \n",
       " Confirmed(cases)   Confirmed /tested,% Tested /population,%\n",
       " Length:173         Length:173          Length:173          \n",
       " Class :character   Class :character    Class :character    \n",
       " Mode  :character   Mode  :character    Mode  :character    \n",
       " Confirmed /population,%     Ref.          \n",
       " Length:173              Length:173        \n",
       " Class :character        Class :character  \n",
       " Mode  :character        Mode  :character  "
      ]
     },
     "metadata": {},
     "output_type": "display_data"
    }
   ],
   "source": [
    "# Task 3: Pre-process and export the extracted data frame (2 pt)\n",
    "\n",
    "# Print the summary of the data frame\n",
    "summary(df)"
   ]
  },
  {
   "cell_type": "code",
   "execution_count": 6,
   "metadata": {
    "vscode": {
     "languageId": "r"
    }
   },
   "outputs": [],
   "source": [
    "preprocess_covid_data_frame <- function(data_frame) {\n",
    "    \n",
    "    shape <- dim(data_frame)\n",
    "\n",
    "    # Remove the World row\n",
    "    #data_frame<-data_frame[!(data_frame$`Country.or.region`==\"World\"),]\n",
    "    # Remove the last row\n",
    "    data_frame <- data_frame[1:172, ]\n",
    "    \n",
    "    # We dont need the Units and Ref columns, so can be removed\n",
    "    data_frame[\"Ref.\"] <- NULL\n",
    "    data_frame[\"Units[b]\"] <- NULL\n",
    "    \n",
    "    # Renaming the columns\n",
    "    names(data_frame) <- c(\"country\", \"date\", \"tested\", \"confirmed\", \"confirmed.tested.ratio\", \"tested.population.ratio\", \"confirmed.population.ratio\")\n",
    "    \n",
    "    # Convert column data types\n",
    "    data_frame$tested <- as.numeric(gsub(\",\",\"\",data_frame$tested))\n",
    "    data_frame$confirmed <- as.numeric(gsub(\",\",\"\",data_frame$confirmed))\n",
    "    data_frame$'confirmed.tested.ratio' <- as.numeric(gsub(\",\",\"\",data_frame$`confirmed.tested.ratio`))\n",
    "    data_frame$'tested.population.ratio' <- as.numeric(gsub(\",\",\"\",data_frame$`tested.population.ratio`))\n",
    "    data_frame$'confirmed.population.ratio' <- as.numeric(gsub(\",\",\"\",data_frame$`confirmed.population.ratio`))\n",
    "\n",
    "    \n",
    "    return(data_frame)\n",
    "}\n"
   ]
  },
  {
   "cell_type": "code",
   "execution_count": 7,
   "metadata": {
    "vscode": {
     "languageId": "r"
    }
   },
   "outputs": [
    {
     "data": {
      "text/plain": [
       "   country              date               tested            confirmed       \n",
       " Length:172         Length:172         Min.   :     3880   Min.   :       0  \n",
       " Class :character   Class :character   1st Qu.:   512037   1st Qu.:   37839  \n",
       " Mode  :character   Mode  :character   Median :  3029859   Median :  281196  \n",
       "                                       Mean   : 31377219   Mean   : 2508340  \n",
       "                                       3rd Qu.: 12386725   3rd Qu.: 1278105  \n",
       "                                       Max.   :929349291   Max.   :90749469  \n",
       " confirmed.tested.ratio tested.population.ratio confirmed.population.ratio\n",
       " Min.   : 0.00          Min.   :   0.006        Min.   : 0.000            \n",
       " 1st Qu.: 5.00          1st Qu.:   9.475        1st Qu.: 0.425            \n",
       " Median :10.05          Median :  46.950        Median : 6.100            \n",
       " Mean   :11.25          Mean   : 175.504        Mean   :12.769            \n",
       " 3rd Qu.:15.25          3rd Qu.: 156.500        3rd Qu.:16.250            \n",
       " Max.   :46.80          Max.   :3223.000        Max.   :74.400            "
      ]
     },
     "metadata": {},
     "output_type": "display_data"
    }
   ],
   "source": [
    "# call `preprocess_covid_data_frame` function and assign it to a new data frame\n",
    "new_df = preprocess_covid_data_frame(df)\n",
    "# Print the summary of the processed data frame again\n",
    "summary(new_df)"
   ]
  },
  {
   "cell_type": "code",
   "execution_count": 8,
   "metadata": {
    "vscode": {
     "languageId": "r"
    }
   },
   "outputs": [
    {
     "name": "stdout",
     "output_type": "stream",
     "text": [
      "[1] \"c:/Users/hakan/PycharmProjects/VSCode/random/Notes/data_analytics_ibm/covid.csv\"\n"
     ]
    },
    {
     "data": {
      "text/html": [
       "TRUE"
      ],
      "text/latex": [
       "TRUE"
      ],
      "text/markdown": [
       "TRUE"
      ],
      "text/plain": [
       "[1] TRUE"
      ]
     },
     "metadata": {},
     "output_type": "display_data"
    }
   ],
   "source": [
    "# Export the data frame to a csv file\n",
    "write.csv(new_df, file = \"covid.csv\", row.names = FALSE)\n",
    "# Get working directory\n",
    "wd <- getwd()\n",
    "# Get exported \n",
    "file_path <- paste(wd, sep=\"\", \"/covid.csv\")\n",
    "# File path\n",
    "print(file_path)\n",
    "file.exists(file_path)"
   ]
  },
  {
   "cell_type": "code",
   "execution_count": 9,
   "metadata": {
    "vscode": {
     "languageId": "r"
    }
   },
   "outputs": [
    {
     "data": {
      "text/html": [
       "<table class=\"dataframe\">\n",
       "<caption>A data.frame: 6 × 2</caption>\n",
       "<thead>\n",
       "\t<tr><th></th><th scope=col>country</th><th scope=col>confirmed</th></tr>\n",
       "\t<tr><th></th><th scope=col>&lt;chr&gt;</th><th scope=col>&lt;int&gt;</th></tr>\n",
       "</thead>\n",
       "<tbody>\n",
       "\t<tr><th scope=row>5</th><td>Angola             </td><td>   20981</td></tr>\n",
       "\t<tr><th scope=row>6</th><td>Antigua and Barbuda</td><td>     832</td></tr>\n",
       "\t<tr><th scope=row>7</th><td>Argentina          </td><td> 9060495</td></tr>\n",
       "\t<tr><th scope=row>8</th><td>Armenia            </td><td>  422963</td></tr>\n",
       "\t<tr><th scope=row>9</th><td>Australia          </td><td>10112229</td></tr>\n",
       "\t<tr><th scope=row>10</th><td>Austria            </td><td> 5789991</td></tr>\n",
       "</tbody>\n",
       "</table>\n"
      ],
      "text/latex": [
       "A data.frame: 6 × 2\n",
       "\\begin{tabular}{r|ll}\n",
       "  & country & confirmed\\\\\n",
       "  & <chr> & <int>\\\\\n",
       "\\hline\n",
       "\t5 & Angola              &    20981\\\\\n",
       "\t6 & Antigua and Barbuda &      832\\\\\n",
       "\t7 & Argentina           &  9060495\\\\\n",
       "\t8 & Armenia             &   422963\\\\\n",
       "\t9 & Australia           & 10112229\\\\\n",
       "\t10 & Austria             &  5789991\\\\\n",
       "\\end{tabular}\n"
      ],
      "text/markdown": [
       "\n",
       "A data.frame: 6 × 2\n",
       "\n",
       "| <!--/--> | country &lt;chr&gt; | confirmed &lt;int&gt; |\n",
       "|---|---|---|\n",
       "| 5 | Angola              |    20981 |\n",
       "| 6 | Antigua and Barbuda |      832 |\n",
       "| 7 | Argentina           |  9060495 |\n",
       "| 8 | Armenia             |   422963 |\n",
       "| 9 | Australia           | 10112229 |\n",
       "| 10 | Austria             |  5789991 |\n",
       "\n"
      ],
      "text/plain": [
       "   country             confirmed\n",
       "5  Angola                 20981 \n",
       "6  Antigua and Barbuda      832 \n",
       "7  Argentina            9060495 \n",
       "8  Armenia               422963 \n",
       "9  Australia           10112229 \n",
       "10 Austria              5789991 "
      ]
     },
     "metadata": {},
     "output_type": "display_data"
    }
   ],
   "source": [
    "# Task 4: Get a subset of the extracted data frame (2 pt)\n",
    "dff = read.csv(\"covid.csv\")\n",
    "subset_df <- dff[5:10, c(\"country\", \"confirmed\")]\n",
    "subset_df"
   ]
  },
  {
   "cell_type": "code",
   "execution_count": 10,
   "metadata": {
    "vscode": {
     "languageId": "r"
    }
   },
   "outputs": [
    {
     "data": {
      "text/html": [
       "0.0799414520197323"
      ],
      "text/latex": [
       "0.0799414520197323"
      ],
      "text/markdown": [
       "0.0799414520197323"
      ],
      "text/plain": [
       "[1] 0.07994145"
      ]
     },
     "metadata": {},
     "output_type": "display_data"
    }
   ],
   "source": [
    "# Task 5: Calculate worldwide COVID testing positive ratio (2 pts)\n",
    "\n",
    "# Get the total confirmed cases worldwide\n",
    "confirmed = sum(dff$confirmed, na.rm = TRUE)\n",
    "# Get the total tested cases worldwide\n",
    "total = sum(dff$tested, na.rm = TRUE)\n",
    "# Get the positive ratio (confirmed / tested)\n",
    "ratio = confirmed/total\n",
    "ratio"
   ]
  },
  {
   "cell_type": "code",
   "execution_count": 11,
   "metadata": {
    "vscode": {
     "languageId": "r"
    }
   },
   "outputs": [
    {
     "data": {
      "text/html": [
       "'character'"
      ],
      "text/latex": [
       "'character'"
      ],
      "text/markdown": [
       "'character'"
      ],
      "text/plain": [
       "[1] \"character\""
      ]
     },
     "metadata": {},
     "output_type": "display_data"
    },
    {
     "data": {
      "text/html": [
       "'character'"
      ],
      "text/latex": [
       "'character'"
      ],
      "text/markdown": [
       "'character'"
      ],
      "text/plain": [
       "[1] \"character\""
      ]
     },
     "metadata": {},
     "output_type": "display_data"
    },
    {
     "data": {
      "text/html": [
       "<style>\n",
       ".list-inline {list-style: none; margin:0; padding: 0}\n",
       ".list-inline>li {display: inline-block}\n",
       ".list-inline>li:not(:last-child)::after {content: \"\\00b7\"; padding: 0 .5ex}\n",
       "</style>\n",
       "<ol class=list-inline><li>'Zimbabwe'</li><li>'Zambia'</li><li>'Vietnam'</li><li>'Venezuela'</li><li>'Uzbekistan'</li><li>'Uruguay'</li><li>'United States'</li><li>'United Kingdom'</li><li>'United Arab Emirates'</li><li>'Ukraine'</li><li>'Uganda'</li><li>'Turkey'</li><li>'Tunisia'</li><li>'Trinidad and Tobago'</li><li>'Togo'</li><li>'Thailand'</li><li>'Tanzania'</li><li>'Taiwan[m]'</li><li>'Switzerland[l]'</li><li>'Sweden'</li><li>'Sudan'</li><li>'Sri Lanka'</li><li>'Spain'</li><li>'South Sudan'</li><li>'South Korea'</li><li>'South Africa'</li><li>'Slovenia'</li><li>'Slovakia'</li><li>'Singapore'</li><li>'Serbia'</li><li>'Senegal'</li><li>'Saudi Arabia'</li><li>'San Marino'</li><li>'Saint Vincent'</li><li>'Saint Lucia'</li><li>'Saint Kitts and Nevis'</li><li>'Rwanda'</li><li>'Russia'</li><li>'Romania'</li><li>'Qatar'</li><li>'Portugal'</li><li>'Poland'</li><li>'Philippines'</li><li>'Peru'</li><li>'Paraguay'</li><li>'Papua New Guinea'</li><li>'Panama'</li><li>'Palestine'</li><li>'Pakistan'</li><li>'Oman'</li><li>'Norway'</li><li>'Northern Cyprus[k]'</li><li>'North Macedonia'</li><li>'North Korea'</li><li>'Nigeria'</li><li>'Niger'</li><li>'New Zealand'</li><li>'New Caledonia'</li><li>'Netherlands'</li><li>'Nepal'</li><li>'Namibia'</li><li>'Myanmar'</li><li>'Mozambique'</li><li>'Morocco'</li><li>'Montenegro'</li><li>'Mongolia'</li><li>'Moldova[j]'</li><li>'Mexico'</li><li>'Mauritius'</li><li>'Mauritania'</li><li>'Malta'</li><li>'Mali'</li><li>'Maldives'</li><li>'Malaysia'</li><li>'Malawi'</li><li>'Madagascar'</li><li>'Luxembourg[i]'</li><li>'Lithuania'</li><li>'Libya'</li><li>'Liberia'</li><li>'Lesotho'</li><li>'Lebanon'</li><li>'Latvia'</li><li>'Laos'</li><li>'Kyrgyzstan'</li><li>'Kuwait'</li><li>'Kosovo'</li><li>'Kenya'</li><li>'Kazakhstan'</li><li>'Jordan'</li><li>'Japan'</li><li>'Jamaica'</li><li>'Ivory Coast'</li><li>'Italy'</li><li>'Israel'</li><li>'Ireland'</li><li>'Iraq'</li><li>'Iran'</li><li>'Indonesia'</li><li>'India'</li><li>'Iceland'</li><li>'Hungary'</li><li>'Honduras'</li><li>'Haiti'</li><li>'Guyana'</li><li>'Guinea-Bissau'</li><li>'Guinea'</li><li>'Guatemala'</li><li>'Grenada'</li><li>'Greenland'</li><li>'Greece'</li><li>'Ghana'</li><li>'Germany'</li><li>'Georgia[h]'</li><li>'Gambia'</li><li>'Gabon'</li><li>'France[f][g]'</li><li>'Finland'</li><li>'Fiji'</li><li>'Faroe Islands'</li><li>'Ethiopia'</li><li>'Eswatini'</li><li>'Estonia'</li><li>'Equatorial Guinea'</li><li>'El Salvador'</li><li>'Egypt'</li><li>'Ecuador'</li><li>'DR Congo'</li><li>'Dominican Republic'</li><li>'Dominica'</li><li>'Djibouti'</li><li>'Denmark[e]'</li><li>'Czechia'</li><li>'Cyprus[d]'</li><li>'Cuba'</li><li>'Croatia'</li><li>'Costa Rica'</li><li>'Colombia'</li><li>'China[c]'</li><li>'Chile'</li><li>'Chad'</li><li>'Canada'</li><li>'Cameroon'</li><li>'Cambodia'</li><li>'Burundi'</li><li>'Burkina Faso'</li><li>'Bulgaria'</li><li>'Brunei'</li><li>'Brazil'</li><li>'Botswana'</li><li>'Bosnia and Herzegovina'</li><li>'Bolivia'</li><li>'Bhutan'</li><li>'Benin'</li><li>'Belize'</li><li>'Belgium'</li><li>'Belarus'</li><li>'Barbados'</li><li>'Bangladesh'</li><li>'Bahrain'</li><li>'Bahamas'</li><li>'Azerbaijan'</li><li>'Austria'</li><li>'Australia'</li><li>'Armenia'</li><li>'Argentina'</li><li>'Antigua and Barbuda'</li><li>'Angola'</li><li>'Andorra'</li><li>'Algeria'</li><li>'Albania'</li><li>'Afghanistan'</li></ol>\n"
      ],
      "text/latex": [
       "\\begin{enumerate*}\n",
       "\\item 'Zimbabwe'\n",
       "\\item 'Zambia'\n",
       "\\item 'Vietnam'\n",
       "\\item 'Venezuela'\n",
       "\\item 'Uzbekistan'\n",
       "\\item 'Uruguay'\n",
       "\\item 'United States'\n",
       "\\item 'United Kingdom'\n",
       "\\item 'United Arab Emirates'\n",
       "\\item 'Ukraine'\n",
       "\\item 'Uganda'\n",
       "\\item 'Turkey'\n",
       "\\item 'Tunisia'\n",
       "\\item 'Trinidad and Tobago'\n",
       "\\item 'Togo'\n",
       "\\item 'Thailand'\n",
       "\\item 'Tanzania'\n",
       "\\item 'Taiwan{[}m{]}'\n",
       "\\item 'Switzerland{[}l{]}'\n",
       "\\item 'Sweden'\n",
       "\\item 'Sudan'\n",
       "\\item 'Sri Lanka'\n",
       "\\item 'Spain'\n",
       "\\item 'South Sudan'\n",
       "\\item 'South Korea'\n",
       "\\item 'South Africa'\n",
       "\\item 'Slovenia'\n",
       "\\item 'Slovakia'\n",
       "\\item 'Singapore'\n",
       "\\item 'Serbia'\n",
       "\\item 'Senegal'\n",
       "\\item 'Saudi Arabia'\n",
       "\\item 'San Marino'\n",
       "\\item 'Saint Vincent'\n",
       "\\item 'Saint Lucia'\n",
       "\\item 'Saint Kitts and Nevis'\n",
       "\\item 'Rwanda'\n",
       "\\item 'Russia'\n",
       "\\item 'Romania'\n",
       "\\item 'Qatar'\n",
       "\\item 'Portugal'\n",
       "\\item 'Poland'\n",
       "\\item 'Philippines'\n",
       "\\item 'Peru'\n",
       "\\item 'Paraguay'\n",
       "\\item 'Papua New Guinea'\n",
       "\\item 'Panama'\n",
       "\\item 'Palestine'\n",
       "\\item 'Pakistan'\n",
       "\\item 'Oman'\n",
       "\\item 'Norway'\n",
       "\\item 'Northern Cyprus{[}k{]}'\n",
       "\\item 'North Macedonia'\n",
       "\\item 'North Korea'\n",
       "\\item 'Nigeria'\n",
       "\\item 'Niger'\n",
       "\\item 'New Zealand'\n",
       "\\item 'New Caledonia'\n",
       "\\item 'Netherlands'\n",
       "\\item 'Nepal'\n",
       "\\item 'Namibia'\n",
       "\\item 'Myanmar'\n",
       "\\item 'Mozambique'\n",
       "\\item 'Morocco'\n",
       "\\item 'Montenegro'\n",
       "\\item 'Mongolia'\n",
       "\\item 'Moldova{[}j{]}'\n",
       "\\item 'Mexico'\n",
       "\\item 'Mauritius'\n",
       "\\item 'Mauritania'\n",
       "\\item 'Malta'\n",
       "\\item 'Mali'\n",
       "\\item 'Maldives'\n",
       "\\item 'Malaysia'\n",
       "\\item 'Malawi'\n",
       "\\item 'Madagascar'\n",
       "\\item 'Luxembourg{[}i{]}'\n",
       "\\item 'Lithuania'\n",
       "\\item 'Libya'\n",
       "\\item 'Liberia'\n",
       "\\item 'Lesotho'\n",
       "\\item 'Lebanon'\n",
       "\\item 'Latvia'\n",
       "\\item 'Laos'\n",
       "\\item 'Kyrgyzstan'\n",
       "\\item 'Kuwait'\n",
       "\\item 'Kosovo'\n",
       "\\item 'Kenya'\n",
       "\\item 'Kazakhstan'\n",
       "\\item 'Jordan'\n",
       "\\item 'Japan'\n",
       "\\item 'Jamaica'\n",
       "\\item 'Ivory Coast'\n",
       "\\item 'Italy'\n",
       "\\item 'Israel'\n",
       "\\item 'Ireland'\n",
       "\\item 'Iraq'\n",
       "\\item 'Iran'\n",
       "\\item 'Indonesia'\n",
       "\\item 'India'\n",
       "\\item 'Iceland'\n",
       "\\item 'Hungary'\n",
       "\\item 'Honduras'\n",
       "\\item 'Haiti'\n",
       "\\item 'Guyana'\n",
       "\\item 'Guinea-Bissau'\n",
       "\\item 'Guinea'\n",
       "\\item 'Guatemala'\n",
       "\\item 'Grenada'\n",
       "\\item 'Greenland'\n",
       "\\item 'Greece'\n",
       "\\item 'Ghana'\n",
       "\\item 'Germany'\n",
       "\\item 'Georgia{[}h{]}'\n",
       "\\item 'Gambia'\n",
       "\\item 'Gabon'\n",
       "\\item 'France{[}f{]}{[}g{]}'\n",
       "\\item 'Finland'\n",
       "\\item 'Fiji'\n",
       "\\item 'Faroe Islands'\n",
       "\\item 'Ethiopia'\n",
       "\\item 'Eswatini'\n",
       "\\item 'Estonia'\n",
       "\\item 'Equatorial Guinea'\n",
       "\\item 'El Salvador'\n",
       "\\item 'Egypt'\n",
       "\\item 'Ecuador'\n",
       "\\item 'DR Congo'\n",
       "\\item 'Dominican Republic'\n",
       "\\item 'Dominica'\n",
       "\\item 'Djibouti'\n",
       "\\item 'Denmark{[}e{]}'\n",
       "\\item 'Czechia'\n",
       "\\item 'Cyprus{[}d{]}'\n",
       "\\item 'Cuba'\n",
       "\\item 'Croatia'\n",
       "\\item 'Costa Rica'\n",
       "\\item 'Colombia'\n",
       "\\item 'China{[}c{]}'\n",
       "\\item 'Chile'\n",
       "\\item 'Chad'\n",
       "\\item 'Canada'\n",
       "\\item 'Cameroon'\n",
       "\\item 'Cambodia'\n",
       "\\item 'Burundi'\n",
       "\\item 'Burkina Faso'\n",
       "\\item 'Bulgaria'\n",
       "\\item 'Brunei'\n",
       "\\item 'Brazil'\n",
       "\\item 'Botswana'\n",
       "\\item 'Bosnia and Herzegovina'\n",
       "\\item 'Bolivia'\n",
       "\\item 'Bhutan'\n",
       "\\item 'Benin'\n",
       "\\item 'Belize'\n",
       "\\item 'Belgium'\n",
       "\\item 'Belarus'\n",
       "\\item 'Barbados'\n",
       "\\item 'Bangladesh'\n",
       "\\item 'Bahrain'\n",
       "\\item 'Bahamas'\n",
       "\\item 'Azerbaijan'\n",
       "\\item 'Austria'\n",
       "\\item 'Australia'\n",
       "\\item 'Armenia'\n",
       "\\item 'Argentina'\n",
       "\\item 'Antigua and Barbuda'\n",
       "\\item 'Angola'\n",
       "\\item 'Andorra'\n",
       "\\item 'Algeria'\n",
       "\\item 'Albania'\n",
       "\\item 'Afghanistan'\n",
       "\\end{enumerate*}\n"
      ],
      "text/markdown": [
       "1. 'Zimbabwe'\n",
       "2. 'Zambia'\n",
       "3. 'Vietnam'\n",
       "4. 'Venezuela'\n",
       "5. 'Uzbekistan'\n",
       "6. 'Uruguay'\n",
       "7. 'United States'\n",
       "8. 'United Kingdom'\n",
       "9. 'United Arab Emirates'\n",
       "10. 'Ukraine'\n",
       "11. 'Uganda'\n",
       "12. 'Turkey'\n",
       "13. 'Tunisia'\n",
       "14. 'Trinidad and Tobago'\n",
       "15. 'Togo'\n",
       "16. 'Thailand'\n",
       "17. 'Tanzania'\n",
       "18. 'Taiwan[m]'\n",
       "19. 'Switzerland[l]'\n",
       "20. 'Sweden'\n",
       "21. 'Sudan'\n",
       "22. 'Sri Lanka'\n",
       "23. 'Spain'\n",
       "24. 'South Sudan'\n",
       "25. 'South Korea'\n",
       "26. 'South Africa'\n",
       "27. 'Slovenia'\n",
       "28. 'Slovakia'\n",
       "29. 'Singapore'\n",
       "30. 'Serbia'\n",
       "31. 'Senegal'\n",
       "32. 'Saudi Arabia'\n",
       "33. 'San Marino'\n",
       "34. 'Saint Vincent'\n",
       "35. 'Saint Lucia'\n",
       "36. 'Saint Kitts and Nevis'\n",
       "37. 'Rwanda'\n",
       "38. 'Russia'\n",
       "39. 'Romania'\n",
       "40. 'Qatar'\n",
       "41. 'Portugal'\n",
       "42. 'Poland'\n",
       "43. 'Philippines'\n",
       "44. 'Peru'\n",
       "45. 'Paraguay'\n",
       "46. 'Papua New Guinea'\n",
       "47. 'Panama'\n",
       "48. 'Palestine'\n",
       "49. 'Pakistan'\n",
       "50. 'Oman'\n",
       "51. 'Norway'\n",
       "52. 'Northern Cyprus[k]'\n",
       "53. 'North Macedonia'\n",
       "54. 'North Korea'\n",
       "55. 'Nigeria'\n",
       "56. 'Niger'\n",
       "57. 'New Zealand'\n",
       "58. 'New Caledonia'\n",
       "59. 'Netherlands'\n",
       "60. 'Nepal'\n",
       "61. 'Namibia'\n",
       "62. 'Myanmar'\n",
       "63. 'Mozambique'\n",
       "64. 'Morocco'\n",
       "65. 'Montenegro'\n",
       "66. 'Mongolia'\n",
       "67. 'Moldova[j]'\n",
       "68. 'Mexico'\n",
       "69. 'Mauritius'\n",
       "70. 'Mauritania'\n",
       "71. 'Malta'\n",
       "72. 'Mali'\n",
       "73. 'Maldives'\n",
       "74. 'Malaysia'\n",
       "75. 'Malawi'\n",
       "76. 'Madagascar'\n",
       "77. 'Luxembourg[i]'\n",
       "78. 'Lithuania'\n",
       "79. 'Libya'\n",
       "80. 'Liberia'\n",
       "81. 'Lesotho'\n",
       "82. 'Lebanon'\n",
       "83. 'Latvia'\n",
       "84. 'Laos'\n",
       "85. 'Kyrgyzstan'\n",
       "86. 'Kuwait'\n",
       "87. 'Kosovo'\n",
       "88. 'Kenya'\n",
       "89. 'Kazakhstan'\n",
       "90. 'Jordan'\n",
       "91. 'Japan'\n",
       "92. 'Jamaica'\n",
       "93. 'Ivory Coast'\n",
       "94. 'Italy'\n",
       "95. 'Israel'\n",
       "96. 'Ireland'\n",
       "97. 'Iraq'\n",
       "98. 'Iran'\n",
       "99. 'Indonesia'\n",
       "100. 'India'\n",
       "101. 'Iceland'\n",
       "102. 'Hungary'\n",
       "103. 'Honduras'\n",
       "104. 'Haiti'\n",
       "105. 'Guyana'\n",
       "106. 'Guinea-Bissau'\n",
       "107. 'Guinea'\n",
       "108. 'Guatemala'\n",
       "109. 'Grenada'\n",
       "110. 'Greenland'\n",
       "111. 'Greece'\n",
       "112. 'Ghana'\n",
       "113. 'Germany'\n",
       "114. 'Georgia[h]'\n",
       "115. 'Gambia'\n",
       "116. 'Gabon'\n",
       "117. 'France[f][g]'\n",
       "118. 'Finland'\n",
       "119. 'Fiji'\n",
       "120. 'Faroe Islands'\n",
       "121. 'Ethiopia'\n",
       "122. 'Eswatini'\n",
       "123. 'Estonia'\n",
       "124. 'Equatorial Guinea'\n",
       "125. 'El Salvador'\n",
       "126. 'Egypt'\n",
       "127. 'Ecuador'\n",
       "128. 'DR Congo'\n",
       "129. 'Dominican Republic'\n",
       "130. 'Dominica'\n",
       "131. 'Djibouti'\n",
       "132. 'Denmark[e]'\n",
       "133. 'Czechia'\n",
       "134. 'Cyprus[d]'\n",
       "135. 'Cuba'\n",
       "136. 'Croatia'\n",
       "137. 'Costa Rica'\n",
       "138. 'Colombia'\n",
       "139. 'China[c]'\n",
       "140. 'Chile'\n",
       "141. 'Chad'\n",
       "142. 'Canada'\n",
       "143. 'Cameroon'\n",
       "144. 'Cambodia'\n",
       "145. 'Burundi'\n",
       "146. 'Burkina Faso'\n",
       "147. 'Bulgaria'\n",
       "148. 'Brunei'\n",
       "149. 'Brazil'\n",
       "150. 'Botswana'\n",
       "151. 'Bosnia and Herzegovina'\n",
       "152. 'Bolivia'\n",
       "153. 'Bhutan'\n",
       "154. 'Benin'\n",
       "155. 'Belize'\n",
       "156. 'Belgium'\n",
       "157. 'Belarus'\n",
       "158. 'Barbados'\n",
       "159. 'Bangladesh'\n",
       "160. 'Bahrain'\n",
       "161. 'Bahamas'\n",
       "162. 'Azerbaijan'\n",
       "163. 'Austria'\n",
       "164. 'Australia'\n",
       "165. 'Armenia'\n",
       "166. 'Argentina'\n",
       "167. 'Antigua and Barbuda'\n",
       "168. 'Angola'\n",
       "169. 'Andorra'\n",
       "170. 'Algeria'\n",
       "171. 'Albania'\n",
       "172. 'Afghanistan'\n",
       "\n",
       "\n"
      ],
      "text/plain": [
       "  [1] \"Zimbabwe\"               \"Zambia\"                 \"Vietnam\"               \n",
       "  [4] \"Venezuela\"              \"Uzbekistan\"             \"Uruguay\"               \n",
       "  [7] \"United States\"          \"United Kingdom\"         \"United Arab Emirates\"  \n",
       " [10] \"Ukraine\"                \"Uganda\"                 \"Turkey\"                \n",
       " [13] \"Tunisia\"                \"Trinidad and Tobago\"    \"Togo\"                  \n",
       " [16] \"Thailand\"               \"Tanzania\"               \"Taiwan[m]\"             \n",
       " [19] \"Switzerland[l]\"         \"Sweden\"                 \"Sudan\"                 \n",
       " [22] \"Sri Lanka\"              \"Spain\"                  \"South Sudan\"           \n",
       " [25] \"South Korea\"            \"South Africa\"           \"Slovenia\"              \n",
       " [28] \"Slovakia\"               \"Singapore\"              \"Serbia\"                \n",
       " [31] \"Senegal\"                \"Saudi Arabia\"           \"San Marino\"            \n",
       " [34] \"Saint Vincent\"          \"Saint Lucia\"            \"Saint Kitts and Nevis\" \n",
       " [37] \"Rwanda\"                 \"Russia\"                 \"Romania\"               \n",
       " [40] \"Qatar\"                  \"Portugal\"               \"Poland\"                \n",
       " [43] \"Philippines\"            \"Peru\"                   \"Paraguay\"              \n",
       " [46] \"Papua New Guinea\"       \"Panama\"                 \"Palestine\"             \n",
       " [49] \"Pakistan\"               \"Oman\"                   \"Norway\"                \n",
       " [52] \"Northern Cyprus[k]\"     \"North Macedonia\"        \"North Korea\"           \n",
       " [55] \"Nigeria\"                \"Niger\"                  \"New Zealand\"           \n",
       " [58] \"New Caledonia\"          \"Netherlands\"            \"Nepal\"                 \n",
       " [61] \"Namibia\"                \"Myanmar\"                \"Mozambique\"            \n",
       " [64] \"Morocco\"                \"Montenegro\"             \"Mongolia\"              \n",
       " [67] \"Moldova[j]\"             \"Mexico\"                 \"Mauritius\"             \n",
       " [70] \"Mauritania\"             \"Malta\"                  \"Mali\"                  \n",
       " [73] \"Maldives\"               \"Malaysia\"               \"Malawi\"                \n",
       " [76] \"Madagascar\"             \"Luxembourg[i]\"          \"Lithuania\"             \n",
       " [79] \"Libya\"                  \"Liberia\"                \"Lesotho\"               \n",
       " [82] \"Lebanon\"                \"Latvia\"                 \"Laos\"                  \n",
       " [85] \"Kyrgyzstan\"             \"Kuwait\"                 \"Kosovo\"                \n",
       " [88] \"Kenya\"                  \"Kazakhstan\"             \"Jordan\"                \n",
       " [91] \"Japan\"                  \"Jamaica\"                \"Ivory Coast\"           \n",
       " [94] \"Italy\"                  \"Israel\"                 \"Ireland\"               \n",
       " [97] \"Iraq\"                   \"Iran\"                   \"Indonesia\"             \n",
       "[100] \"India\"                  \"Iceland\"                \"Hungary\"               \n",
       "[103] \"Honduras\"               \"Haiti\"                  \"Guyana\"                \n",
       "[106] \"Guinea-Bissau\"          \"Guinea\"                 \"Guatemala\"             \n",
       "[109] \"Grenada\"                \"Greenland\"              \"Greece\"                \n",
       "[112] \"Ghana\"                  \"Germany\"                \"Georgia[h]\"            \n",
       "[115] \"Gambia\"                 \"Gabon\"                  \"France[f][g]\"          \n",
       "[118] \"Finland\"                \"Fiji\"                   \"Faroe Islands\"         \n",
       "[121] \"Ethiopia\"               \"Eswatini\"               \"Estonia\"               \n",
       "[124] \"Equatorial Guinea\"      \"El Salvador\"            \"Egypt\"                 \n",
       "[127] \"Ecuador\"                \"DR Congo\"               \"Dominican Republic\"    \n",
       "[130] \"Dominica\"               \"Djibouti\"               \"Denmark[e]\"            \n",
       "[133] \"Czechia\"                \"Cyprus[d]\"              \"Cuba\"                  \n",
       "[136] \"Croatia\"                \"Costa Rica\"             \"Colombia\"              \n",
       "[139] \"China[c]\"               \"Chile\"                  \"Chad\"                  \n",
       "[142] \"Canada\"                 \"Cameroon\"               \"Cambodia\"              \n",
       "[145] \"Burundi\"                \"Burkina Faso\"           \"Bulgaria\"              \n",
       "[148] \"Brunei\"                 \"Brazil\"                 \"Botswana\"              \n",
       "[151] \"Bosnia and Herzegovina\" \"Bolivia\"                \"Bhutan\"                \n",
       "[154] \"Benin\"                  \"Belize\"                 \"Belgium\"               \n",
       "[157] \"Belarus\"                \"Barbados\"               \"Bangladesh\"            \n",
       "[160] \"Bahrain\"                \"Bahamas\"                \"Azerbaijan\"            \n",
       "[163] \"Austria\"                \"Australia\"              \"Armenia\"               \n",
       "[166] \"Argentina\"              \"Antigua and Barbuda\"    \"Angola\"                \n",
       "[169] \"Andorra\"                \"Algeria\"                \"Albania\"               \n",
       "[172] \"Afghanistan\"           "
      ]
     },
     "metadata": {},
     "output_type": "display_data"
    }
   ],
   "source": [
    "# Get the `country` column\n",
    "country = dff$country\n",
    "# Check its class (should be Factor)\n",
    "class(country)\n",
    "# Conver the country column into character so that you can easily sort them\n",
    "country = as.character(country)\n",
    "class(country)\n",
    "# Sort the countries AtoZ\n",
    "sorted_countries = sort(country)\n",
    "# Sort the countries ZtoA\n",
    "sort(country, decreasing = TRUE)"
   ]
  },
  {
   "cell_type": "code",
   "execution_count": 12,
   "metadata": {
    "vscode": {
     "languageId": "r"
    }
   },
   "outputs": [
    {
     "data": {
      "text/html": [
       "<style>\n",
       ".list-inline {list-style: none; margin:0; padding: 0}\n",
       ".list-inline>li {display: inline-block}\n",
       ".list-inline>li:not(:last-child)::after {content: \"\\00b7\"; padding: 0 .5ex}\n",
       "</style>\n",
       "<ol class=list-inline><li>'United Arab Emirates'</li><li>'United Kingdom'</li><li>'United States'</li></ol>\n"
      ],
      "text/latex": [
       "\\begin{enumerate*}\n",
       "\\item 'United Arab Emirates'\n",
       "\\item 'United Kingdom'\n",
       "\\item 'United States'\n",
       "\\end{enumerate*}\n"
      ],
      "text/markdown": [
       "1. 'United Arab Emirates'\n",
       "2. 'United Kingdom'\n",
       "3. 'United States'\n",
       "\n",
       "\n"
      ],
      "text/plain": [
       "[1] \"United Arab Emirates\" \"United Kingdom\"       \"United States\"       "
      ]
     },
     "metadata": {},
     "output_type": "display_data"
    }
   ],
   "source": [
    "# Task 7: Identify country names with a specific pattern (2 pts)\n",
    "\n",
    "\n",
    "# Use a regular expression `United.+` to find matches\n",
    "matches <- grep(\"United.+\", country, value = TRUE)\n",
    "# Print the matched country names\n",
    "matches"
   ]
  },
  {
   "cell_type": "code",
   "execution_count": 13,
   "metadata": {
    "vscode": {
     "languageId": "r"
    }
   },
   "outputs": [
    {
     "data": {
      "text/html": [
       "<table class=\"dataframe\">\n",
       "<caption>A data.frame: 1 × 3</caption>\n",
       "<thead>\n",
       "\t<tr><th></th><th scope=col>country</th><th scope=col>confirmed</th><th scope=col>confirmed.population.ratio</th></tr>\n",
       "\t<tr><th></th><th scope=col>&lt;chr&gt;</th><th scope=col>&lt;int&gt;</th><th scope=col>&lt;dbl&gt;</th></tr>\n",
       "</thead>\n",
       "<tbody>\n",
       "\t<tr><th scope=row>166</th><td>United States</td><td>90749469</td><td>27.4</td></tr>\n",
       "</tbody>\n",
       "</table>\n"
      ],
      "text/latex": [
       "A data.frame: 1 × 3\n",
       "\\begin{tabular}{r|lll}\n",
       "  & country & confirmed & confirmed.population.ratio\\\\\n",
       "  & <chr> & <int> & <dbl>\\\\\n",
       "\\hline\n",
       "\t166 & United States & 90749469 & 27.4\\\\\n",
       "\\end{tabular}\n"
      ],
      "text/markdown": [
       "\n",
       "A data.frame: 1 × 3\n",
       "\n",
       "| <!--/--> | country &lt;chr&gt; | confirmed &lt;int&gt; | confirmed.population.ratio &lt;dbl&gt; |\n",
       "|---|---|---|---|\n",
       "| 166 | United States | 90749469 | 27.4 |\n",
       "\n"
      ],
      "text/plain": [
       "    country       confirmed confirmed.population.ratio\n",
       "166 United States 90749469  27.4                      "
      ]
     },
     "metadata": {},
     "output_type": "display_data"
    },
    {
     "data": {
      "text/html": [
       "<table class=\"dataframe\">\n",
       "<caption>A data.frame: 1 × 3</caption>\n",
       "<thead>\n",
       "\t<tr><th></th><th scope=col>country</th><th scope=col>confirmed</th><th scope=col>confirmed.population.ratio</th></tr>\n",
       "\t<tr><th></th><th scope=col>&lt;chr&gt;</th><th scope=col>&lt;int&gt;</th><th scope=col>&lt;dbl&gt;</th></tr>\n",
       "</thead>\n",
       "<tbody>\n",
       "\t<tr><th scope=row>60</th><td>Germany</td><td>3733519</td><td>4.5</td></tr>\n",
       "</tbody>\n",
       "</table>\n"
      ],
      "text/latex": [
       "A data.frame: 1 × 3\n",
       "\\begin{tabular}{r|lll}\n",
       "  & country & confirmed & confirmed.population.ratio\\\\\n",
       "  & <chr> & <int> & <dbl>\\\\\n",
       "\\hline\n",
       "\t60 & Germany & 3733519 & 4.5\\\\\n",
       "\\end{tabular}\n"
      ],
      "text/markdown": [
       "\n",
       "A data.frame: 1 × 3\n",
       "\n",
       "| <!--/--> | country &lt;chr&gt; | confirmed &lt;int&gt; | confirmed.population.ratio &lt;dbl&gt; |\n",
       "|---|---|---|---|\n",
       "| 60 | Germany | 3733519 | 4.5 |\n",
       "\n"
      ],
      "text/plain": [
       "   country confirmed confirmed.population.ratio\n",
       "60 Germany 3733519   4.5                       "
      ]
     },
     "metadata": {},
     "output_type": "display_data"
    }
   ],
   "source": [
    "# Task 8: Pick two countries you are interested in, and then review their testing data (2 pts)\n",
    "# select country, confirmed, confirmed-population-ratio columns\n",
    "\n",
    "# us\n",
    "us_data = dff[dff$country == \"United States\", c(\"country\", \"confirmed\", \"confirmed.population.ratio\")]\n",
    "us_data\n",
    "\n",
    "# germany\n",
    "germany_data = dff[dff$country == \"Germany\", c(\"country\", \"confirmed\", \"confirmed.population.ratio\")]\n",
    "germany_data"
   ]
  },
  {
   "cell_type": "code",
   "execution_count": 14,
   "metadata": {
    "vscode": {
     "languageId": "r"
    }
   },
   "outputs": [
    {
     "name": "stdout",
     "output_type": "stream",
     "text": [
      "[1] \"US has a greater COVID-19 infection risk.\"\n"
     ]
    }
   ],
   "source": [
    "# Task 9: Compare which one of the selected countries has a larger ratio of confirmed cases to population (2 pts)\n",
    "\n",
    "# it ensures data is numeric (to be fair we did this upwards but maybe sth changed, better to be cautious)\n",
    "# covers the possibility that they are equal\n",
    "\n",
    "us_ratio = as.numeric(us_data$confirmed.population.ratio)\n",
    "germany_ratio = as.numeric(germany_data$confirmed.population.ratio)\n",
    "\n",
    "if (us_ratio > germany_ratio) {\n",
    "    print(\"US has a greater COVID-19 infection risk.\")\n",
    "} else if (us_ratio < germany_ratio) {\n",
    "    print(\"Germany has a greater COVID-19 infection risk.\")\n",
    "} else {\n",
    "    print(\"U.S. and Germany have equal COVID-19 infection risks.\")\n",
    "}"
   ]
  },
  {
   "cell_type": "code",
   "execution_count": 15,
   "metadata": {
    "vscode": {
     "languageId": "r"
    }
   },
   "outputs": [
    {
     "data": {
      "text/html": [
       "<table class=\"dataframe\">\n",
       "<caption>A data.frame: 5 × 2</caption>\n",
       "<thead>\n",
       "\t<tr><th></th><th scope=col>country</th><th scope=col>confirmed.population.ratio</th></tr>\n",
       "\t<tr><th></th><th scope=col>&lt;chr&gt;</th><th scope=col>&lt;dbl&gt;</th></tr>\n",
       "</thead>\n",
       "<tbody>\n",
       "\t<tr><th scope=row>28</th><td>Burundi    </td><td>0.00740</td></tr>\n",
       "\t<tr><th scope=row>34</th><td>China[c]   </td><td>0.00610</td></tr>\n",
       "\t<tr><th scope=row>89</th><td>Laos       </td><td>0.00063</td></tr>\n",
       "\t<tr><th scope=row>119</th><td>North Korea</td><td>0.00000</td></tr>\n",
       "\t<tr><th scope=row>156</th><td>Tanzania   </td><td>0.00085</td></tr>\n",
       "</tbody>\n",
       "</table>\n"
      ],
      "text/latex": [
       "A data.frame: 5 × 2\n",
       "\\begin{tabular}{r|ll}\n",
       "  & country & confirmed.population.ratio\\\\\n",
       "  & <chr> & <dbl>\\\\\n",
       "\\hline\n",
       "\t28 & Burundi     & 0.00740\\\\\n",
       "\t34 & China{[}c{]}    & 0.00610\\\\\n",
       "\t89 & Laos        & 0.00063\\\\\n",
       "\t119 & North Korea & 0.00000\\\\\n",
       "\t156 & Tanzania    & 0.00085\\\\\n",
       "\\end{tabular}\n"
      ],
      "text/markdown": [
       "\n",
       "A data.frame: 5 × 2\n",
       "\n",
       "| <!--/--> | country &lt;chr&gt; | confirmed.population.ratio &lt;dbl&gt; |\n",
       "|---|---|---|\n",
       "| 28 | Burundi     | 0.00740 |\n",
       "| 34 | China[c]    | 0.00610 |\n",
       "| 89 | Laos        | 0.00063 |\n",
       "| 119 | North Korea | 0.00000 |\n",
       "| 156 | Tanzania    | 0.00085 |\n",
       "\n"
      ],
      "text/plain": [
       "    country     confirmed.population.ratio\n",
       "28  Burundi     0.00740                   \n",
       "34  China[c]    0.00610                   \n",
       "89  Laos        0.00063                   \n",
       "119 North Korea 0.00000                   \n",
       "156 Tanzania    0.00085                   "
      ]
     },
     "metadata": {},
     "output_type": "display_data"
    }
   ],
   "source": [
    "# Task 10: Find countries with confirmedcases to population ratio rate less than a threshold (2 pts)\n",
    "\n",
    "# Get a subset of any countries with `confirmed.population.ratio` less than the threshold\n",
    "threshold = 0.01\n",
    "\n",
    "countries_below_threshold = subset(dff, confirmed.population.ratio < threshold)\n",
    "\n",
    "selected_columns = countries_below_threshold[, c(\"country\", \"confirmed.population.ratio\")]\n",
    "selected_columns"
   ]
  },
  {
   "cell_type": "code",
   "execution_count": 16,
   "metadata": {
    "vscode": {
     "languageId": "r"
    }
   },
   "outputs": [
    {
     "data": {
      "text/html": [
       "<table class=\"dataframe\">\n",
       "<caption>A data.frame: 172 × 7</caption>\n",
       "<thead>\n",
       "\t<tr><th scope=col>country</th><th scope=col>date</th><th scope=col>tested</th><th scope=col>confirmed</th><th scope=col>confirmed.tested.ratio</th><th scope=col>tested.population.ratio</th><th scope=col>confirmed.population.ratio</th></tr>\n",
       "\t<tr><th scope=col>&lt;chr&gt;</th><th scope=col>&lt;chr&gt;</th><th scope=col>&lt;dbl&gt;</th><th scope=col>&lt;int&gt;</th><th scope=col>&lt;dbl&gt;</th><th scope=col>&lt;dbl&gt;</th><th scope=col>&lt;dbl&gt;</th></tr>\n",
       "</thead>\n",
       "<tbody>\n",
       "\t<tr><td>Afghanistan           </td><td>17 Dec 2020</td><td>   154767</td><td>   49621</td><td>32.10</td><td>   0.40</td><td> 0.1300</td></tr>\n",
       "\t<tr><td>Albania               </td><td>18 Feb 2021</td><td>   428654</td><td>   96838</td><td>22.60</td><td>  15.00</td><td> 3.4000</td></tr>\n",
       "\t<tr><td>Algeria               </td><td>2 Nov 2020 </td><td>   230553</td><td>   58574</td><td>25.40</td><td>   0.53</td><td> 0.1300</td></tr>\n",
       "\t<tr><td>Andorra               </td><td>23 Feb 2022</td><td>   300307</td><td>   37958</td><td>12.60</td><td> 387.00</td><td>49.0000</td></tr>\n",
       "\t<tr><td>Angola                </td><td>2 Feb 2021 </td><td>   399228</td><td>   20981</td><td> 5.30</td><td>   1.30</td><td> 0.0670</td></tr>\n",
       "\t<tr><td>Antigua and Barbuda   </td><td>6 Mar 2021 </td><td>    15268</td><td>     832</td><td> 5.40</td><td>  15.90</td><td> 0.8600</td></tr>\n",
       "\t<tr><td>Argentina             </td><td>16 Apr 2022</td><td> 35716069</td><td> 9060495</td><td>25.40</td><td>  78.30</td><td>20.0000</td></tr>\n",
       "\t<tr><td>Armenia               </td><td>29 May 2022</td><td>  3099602</td><td>  422963</td><td>13.60</td><td> 105.00</td><td>14.3000</td></tr>\n",
       "\t<tr><td>Australia             </td><td>9 Sep 2022 </td><td> 78548492</td><td>10112229</td><td>12.90</td><td> 313.00</td><td>40.3000</td></tr>\n",
       "\t<tr><td>Austria               </td><td>1 Feb 2023 </td><td>205817752</td><td> 5789991</td><td> 2.80</td><td>2312.00</td><td>65.0000</td></tr>\n",
       "\t<tr><td>Azerbaijan            </td><td>11 May 2022</td><td>  6838458</td><td>  792638</td><td>11.60</td><td>  69.10</td><td> 8.0000</td></tr>\n",
       "\t<tr><td>Bahamas               </td><td>28 Nov 2022</td><td>   259366</td><td>   37483</td><td>14.50</td><td>  67.30</td><td> 9.7000</td></tr>\n",
       "\t<tr><td>Bahrain               </td><td>3 Dec 2022 </td><td> 10578766</td><td>  696614</td><td> 6.60</td><td> 674.00</td><td>44.4000</td></tr>\n",
       "\t<tr><td>Bangladesh            </td><td>24 Jul 2021</td><td>  7417714</td><td> 1151644</td><td>15.50</td><td>   4.50</td><td> 0.7000</td></tr>\n",
       "\t<tr><td>Barbados              </td><td>14 Oct 2022</td><td>   770100</td><td>  103014</td><td>13.40</td><td> 268.00</td><td>35.9000</td></tr>\n",
       "\t<tr><td>Belarus               </td><td>9 May 2022 </td><td> 13217569</td><td>  982809</td><td> 7.40</td><td> 139.00</td><td>10.4000</td></tr>\n",
       "\t<tr><td>Belgium               </td><td>24 Jan 2023</td><td> 36548544</td><td> 4691499</td><td>12.80</td><td> 317.00</td><td>40.7000</td></tr>\n",
       "\t<tr><td>Belize                </td><td>8 Jun 2022 </td><td>   572900</td><td>   60694</td><td>10.60</td><td> 140.00</td><td>14.9000</td></tr>\n",
       "\t<tr><td>Benin                 </td><td>4 May 2021 </td><td>   595112</td><td>    7884</td><td> 1.30</td><td>   5.10</td><td> 0.0670</td></tr>\n",
       "\t<tr><td>Bhutan                </td><td>28 Feb 2022</td><td>  1736168</td><td>   12702</td><td> 0.73</td><td> 234.00</td><td> 1.7100</td></tr>\n",
       "\t<tr><td>Bolivia               </td><td>5 Jun 2022 </td><td>  4358669</td><td>  910228</td><td>20.90</td><td>  38.10</td><td> 8.0000</td></tr>\n",
       "\t<tr><td>Bosnia and Herzegovina</td><td>27 Sep 2022</td><td>  1872934</td><td>  399887</td><td>21.40</td><td>  54.70</td><td>11.7000</td></tr>\n",
       "\t<tr><td>Botswana              </td><td>11 Jan 2022</td><td>  2026898</td><td>  232432</td><td>11.50</td><td>  89.90</td><td>10.3000</td></tr>\n",
       "\t<tr><td>Brazil                </td><td>19 Feb 2021</td><td> 23561497</td><td>10081676</td><td>42.80</td><td>  11.20</td><td> 4.8000</td></tr>\n",
       "\t<tr><td>Brunei                </td><td>2 Aug 2021 </td><td>   153804</td><td>     338</td><td> 0.22</td><td>  33.50</td><td> 0.0740</td></tr>\n",
       "\t<tr><td>Bulgaria              </td><td>2 Feb 2023 </td><td> 10993239</td><td> 1295524</td><td>11.80</td><td> 158.00</td><td>18.6000</td></tr>\n",
       "\t<tr><td>Burkina Faso          </td><td>4 Mar 2021 </td><td>   158777</td><td>   12123</td><td> 7.60</td><td>   0.76</td><td> 0.0580</td></tr>\n",
       "\t<tr><td>Burundi               </td><td>5 Jan 2021 </td><td>    90019</td><td>     884</td><td> 0.98</td><td>   0.76</td><td> 0.0074</td></tr>\n",
       "\t<tr><td>Cambodia              </td><td>1 Aug 2021 </td><td>  1812706</td><td>   77914</td><td> 4.30</td><td>  11.20</td><td> 0.4800</td></tr>\n",
       "\t<tr><td>Cameroon              </td><td>18 Feb 2021</td><td>   942685</td><td>   32681</td><td> 3.50</td><td>   3.60</td><td> 0.1200</td></tr>\n",
       "\t<tr><td>⋮</td><td>⋮</td><td>⋮</td><td>⋮</td><td>⋮</td><td>⋮</td><td>⋮</td></tr>\n",
       "\t<tr><td>Serbia              </td><td>2 Feb 2023 </td><td> 12185475</td><td> 2473599</td><td>20.30</td><td> 175.0000</td><td>35.50000</td></tr>\n",
       "\t<tr><td>Singapore           </td><td>3 Aug 2021 </td><td> 16206203</td><td>   65315</td><td> 0.40</td><td> 284.0000</td><td> 1.10000</td></tr>\n",
       "\t<tr><td>Slovakia            </td><td>2 Feb 2023 </td><td>  7391882</td><td> 1861034</td><td>25.20</td><td> 135.0000</td><td>34.10000</td></tr>\n",
       "\t<tr><td>Slovenia            </td><td>2 Feb 2023 </td><td>  2826117</td><td> 1322282</td><td>46.80</td><td> 135.0000</td><td>63.10000</td></tr>\n",
       "\t<tr><td>South Africa        </td><td>24 May 2021</td><td> 11378282</td><td> 1637848</td><td>14.40</td><td>  19.2000</td><td> 2.80000</td></tr>\n",
       "\t<tr><td>South Korea         </td><td>1 Mar 2021 </td><td>  6592010</td><td>   90029</td><td> 1.40</td><td>  12.7000</td><td> 0.17000</td></tr>\n",
       "\t<tr><td>South Sudan         </td><td>26 May 2021</td><td>   164472</td><td>   10688</td><td> 6.50</td><td>   1.3000</td><td> 0.08400</td></tr>\n",
       "\t<tr><td>Spain               </td><td>1 Jul 2021 </td><td> 54128524</td><td> 3821305</td><td> 7.10</td><td> 116.0000</td><td> 8.20000</td></tr>\n",
       "\t<tr><td>Sri Lanka           </td><td>30 Mar 2021</td><td>  2384745</td><td>   93128</td><td> 3.90</td><td>  10.9000</td><td> 0.43000</td></tr>\n",
       "\t<tr><td>Sudan               </td><td>7 Jan 2021 </td><td>   158804</td><td>   23316</td><td>14.70</td><td>   0.3600</td><td> 0.05300</td></tr>\n",
       "\t<tr><td>Sweden              </td><td>24 May 2021</td><td>  9996795</td><td> 1074751</td><td>10.80</td><td>  96.8000</td><td>10.40000</td></tr>\n",
       "\t<tr><td>Switzerland[l]      </td><td>7 Nov 2022 </td><td> 23283909</td><td> 4276836</td><td>18.40</td><td> 270.0000</td><td>49.70000</td></tr>\n",
       "\t<tr><td>Taiwan[m]           </td><td>3 Feb 2023 </td><td> 30275725</td><td> 8622129</td><td>28.48</td><td> 128.3000</td><td>36.52800</td></tr>\n",
       "\t<tr><td>Tanzania            </td><td>18 Nov 2020</td><td>     3880</td><td>     509</td><td>13.10</td><td>   0.0065</td><td> 0.00085</td></tr>\n",
       "\t<tr><td>Thailand            </td><td>4 Mar 2021 </td><td>  1579597</td><td>   26162</td><td> 1.70</td><td>   2.3000</td><td> 0.03800</td></tr>\n",
       "\t<tr><td>Togo                </td><td>6 Jan 2023 </td><td>   807269</td><td>   39358</td><td> 4.90</td><td>   9.4000</td><td> 0.46000</td></tr>\n",
       "\t<tr><td>Trinidad and Tobago </td><td>3 Jan 2022 </td><td>   512730</td><td>   92997</td><td>18.10</td><td>  37.6000</td><td> 6.80000</td></tr>\n",
       "\t<tr><td>Tunisia             </td><td>23 Aug 2021</td><td>  2893625</td><td>  703732</td><td>24.30</td><td>  24.5000</td><td> 6.00000</td></tr>\n",
       "\t<tr><td>Turkey              </td><td>2 Jul 2021 </td><td> 61236294</td><td> 5435831</td><td> 8.90</td><td>  73.6000</td><td> 6.50000</td></tr>\n",
       "\t<tr><td>Uganda              </td><td>11 Feb 2021</td><td>   852444</td><td>   39979</td><td> 4.70</td><td>   1.9000</td><td> 0.08700</td></tr>\n",
       "\t<tr><td>Ukraine             </td><td>24 Nov 2021</td><td> 15648456</td><td> 3367461</td><td>21.50</td><td>  37.2000</td><td> 8.00000</td></tr>\n",
       "\t<tr><td>United Arab Emirates</td><td>1 Feb 2023 </td><td>198685717</td><td> 1049537</td><td> 0.53</td><td>2070.0000</td><td>10.90000</td></tr>\n",
       "\t<tr><td>United Kingdom      </td><td>19 May 2022</td><td>522526476</td><td>22232377</td><td> 4.30</td><td> 774.0000</td><td>32.90000</td></tr>\n",
       "\t<tr><td>United States       </td><td>29 Jul 2022</td><td>929349291</td><td>90749469</td><td> 9.80</td><td> 281.0000</td><td>27.40000</td></tr>\n",
       "\t<tr><td>Uruguay             </td><td>16 Apr 2022</td><td>  6089116</td><td>  895592</td><td>14.70</td><td> 175.0000</td><td>25.80000</td></tr>\n",
       "\t<tr><td>Uzbekistan          </td><td>7 Sep 2020 </td><td>  2630000</td><td>   43975</td><td> 1.70</td><td>   7.7000</td><td> 0.13000</td></tr>\n",
       "\t<tr><td>Venezuela           </td><td>30 Mar 2021</td><td>  3179074</td><td>  159149</td><td> 5.00</td><td>  11.0000</td><td> 0.55000</td></tr>\n",
       "\t<tr><td>Vietnam             </td><td>28 Aug 2022</td><td> 45772571</td><td>11403302</td><td>24.90</td><td>  46.4000</td><td>11.60000</td></tr>\n",
       "\t<tr><td>Zambia              </td><td>10 Mar 2022</td><td>  3301860</td><td>  314850</td><td> 9.50</td><td>  19.0000</td><td> 1.80000</td></tr>\n",
       "\t<tr><td>Zimbabwe            </td><td>15 Oct 2022</td><td>  2529087</td><td>  257893</td><td>10.20</td><td>  17.0000</td><td> 1.70000</td></tr>\n",
       "</tbody>\n",
       "</table>\n"
      ],
      "text/latex": [
       "A data.frame: 172 × 7\n",
       "\\begin{tabular}{lllllll}\n",
       " country & date & tested & confirmed & confirmed.tested.ratio & tested.population.ratio & confirmed.population.ratio\\\\\n",
       " <chr> & <chr> & <dbl> & <int> & <dbl> & <dbl> & <dbl>\\\\\n",
       "\\hline\n",
       "\t Afghanistan            & 17 Dec 2020 &    154767 &    49621 & 32.10 &    0.40 &  0.1300\\\\\n",
       "\t Albania                & 18 Feb 2021 &    428654 &    96838 & 22.60 &   15.00 &  3.4000\\\\\n",
       "\t Algeria                & 2 Nov 2020  &    230553 &    58574 & 25.40 &    0.53 &  0.1300\\\\\n",
       "\t Andorra                & 23 Feb 2022 &    300307 &    37958 & 12.60 &  387.00 & 49.0000\\\\\n",
       "\t Angola                 & 2 Feb 2021  &    399228 &    20981 &  5.30 &    1.30 &  0.0670\\\\\n",
       "\t Antigua and Barbuda    & 6 Mar 2021  &     15268 &      832 &  5.40 &   15.90 &  0.8600\\\\\n",
       "\t Argentina              & 16 Apr 2022 &  35716069 &  9060495 & 25.40 &   78.30 & 20.0000\\\\\n",
       "\t Armenia                & 29 May 2022 &   3099602 &   422963 & 13.60 &  105.00 & 14.3000\\\\\n",
       "\t Australia              & 9 Sep 2022  &  78548492 & 10112229 & 12.90 &  313.00 & 40.3000\\\\\n",
       "\t Austria                & 1 Feb 2023  & 205817752 &  5789991 &  2.80 & 2312.00 & 65.0000\\\\\n",
       "\t Azerbaijan             & 11 May 2022 &   6838458 &   792638 & 11.60 &   69.10 &  8.0000\\\\\n",
       "\t Bahamas                & 28 Nov 2022 &    259366 &    37483 & 14.50 &   67.30 &  9.7000\\\\\n",
       "\t Bahrain                & 3 Dec 2022  &  10578766 &   696614 &  6.60 &  674.00 & 44.4000\\\\\n",
       "\t Bangladesh             & 24 Jul 2021 &   7417714 &  1151644 & 15.50 &    4.50 &  0.7000\\\\\n",
       "\t Barbados               & 14 Oct 2022 &    770100 &   103014 & 13.40 &  268.00 & 35.9000\\\\\n",
       "\t Belarus                & 9 May 2022  &  13217569 &   982809 &  7.40 &  139.00 & 10.4000\\\\\n",
       "\t Belgium                & 24 Jan 2023 &  36548544 &  4691499 & 12.80 &  317.00 & 40.7000\\\\\n",
       "\t Belize                 & 8 Jun 2022  &    572900 &    60694 & 10.60 &  140.00 & 14.9000\\\\\n",
       "\t Benin                  & 4 May 2021  &    595112 &     7884 &  1.30 &    5.10 &  0.0670\\\\\n",
       "\t Bhutan                 & 28 Feb 2022 &   1736168 &    12702 &  0.73 &  234.00 &  1.7100\\\\\n",
       "\t Bolivia                & 5 Jun 2022  &   4358669 &   910228 & 20.90 &   38.10 &  8.0000\\\\\n",
       "\t Bosnia and Herzegovina & 27 Sep 2022 &   1872934 &   399887 & 21.40 &   54.70 & 11.7000\\\\\n",
       "\t Botswana               & 11 Jan 2022 &   2026898 &   232432 & 11.50 &   89.90 & 10.3000\\\\\n",
       "\t Brazil                 & 19 Feb 2021 &  23561497 & 10081676 & 42.80 &   11.20 &  4.8000\\\\\n",
       "\t Brunei                 & 2 Aug 2021  &    153804 &      338 &  0.22 &   33.50 &  0.0740\\\\\n",
       "\t Bulgaria               & 2 Feb 2023  &  10993239 &  1295524 & 11.80 &  158.00 & 18.6000\\\\\n",
       "\t Burkina Faso           & 4 Mar 2021  &    158777 &    12123 &  7.60 &    0.76 &  0.0580\\\\\n",
       "\t Burundi                & 5 Jan 2021  &     90019 &      884 &  0.98 &    0.76 &  0.0074\\\\\n",
       "\t Cambodia               & 1 Aug 2021  &   1812706 &    77914 &  4.30 &   11.20 &  0.4800\\\\\n",
       "\t Cameroon               & 18 Feb 2021 &    942685 &    32681 &  3.50 &    3.60 &  0.1200\\\\\n",
       "\t ⋮ & ⋮ & ⋮ & ⋮ & ⋮ & ⋮ & ⋮\\\\\n",
       "\t Serbia               & 2 Feb 2023  &  12185475 &  2473599 & 20.30 &  175.0000 & 35.50000\\\\\n",
       "\t Singapore            & 3 Aug 2021  &  16206203 &    65315 &  0.40 &  284.0000 &  1.10000\\\\\n",
       "\t Slovakia             & 2 Feb 2023  &   7391882 &  1861034 & 25.20 &  135.0000 & 34.10000\\\\\n",
       "\t Slovenia             & 2 Feb 2023  &   2826117 &  1322282 & 46.80 &  135.0000 & 63.10000\\\\\n",
       "\t South Africa         & 24 May 2021 &  11378282 &  1637848 & 14.40 &   19.2000 &  2.80000\\\\\n",
       "\t South Korea          & 1 Mar 2021  &   6592010 &    90029 &  1.40 &   12.7000 &  0.17000\\\\\n",
       "\t South Sudan          & 26 May 2021 &    164472 &    10688 &  6.50 &    1.3000 &  0.08400\\\\\n",
       "\t Spain                & 1 Jul 2021  &  54128524 &  3821305 &  7.10 &  116.0000 &  8.20000\\\\\n",
       "\t Sri Lanka            & 30 Mar 2021 &   2384745 &    93128 &  3.90 &   10.9000 &  0.43000\\\\\n",
       "\t Sudan                & 7 Jan 2021  &    158804 &    23316 & 14.70 &    0.3600 &  0.05300\\\\\n",
       "\t Sweden               & 24 May 2021 &   9996795 &  1074751 & 10.80 &   96.8000 & 10.40000\\\\\n",
       "\t Switzerland{[}l{]}       & 7 Nov 2022  &  23283909 &  4276836 & 18.40 &  270.0000 & 49.70000\\\\\n",
       "\t Taiwan{[}m{]}            & 3 Feb 2023  &  30275725 &  8622129 & 28.48 &  128.3000 & 36.52800\\\\\n",
       "\t Tanzania             & 18 Nov 2020 &      3880 &      509 & 13.10 &    0.0065 &  0.00085\\\\\n",
       "\t Thailand             & 4 Mar 2021  &   1579597 &    26162 &  1.70 &    2.3000 &  0.03800\\\\\n",
       "\t Togo                 & 6 Jan 2023  &    807269 &    39358 &  4.90 &    9.4000 &  0.46000\\\\\n",
       "\t Trinidad and Tobago  & 3 Jan 2022  &    512730 &    92997 & 18.10 &   37.6000 &  6.80000\\\\\n",
       "\t Tunisia              & 23 Aug 2021 &   2893625 &   703732 & 24.30 &   24.5000 &  6.00000\\\\\n",
       "\t Turkey               & 2 Jul 2021  &  61236294 &  5435831 &  8.90 &   73.6000 &  6.50000\\\\\n",
       "\t Uganda               & 11 Feb 2021 &    852444 &    39979 &  4.70 &    1.9000 &  0.08700\\\\\n",
       "\t Ukraine              & 24 Nov 2021 &  15648456 &  3367461 & 21.50 &   37.2000 &  8.00000\\\\\n",
       "\t United Arab Emirates & 1 Feb 2023  & 198685717 &  1049537 &  0.53 & 2070.0000 & 10.90000\\\\\n",
       "\t United Kingdom       & 19 May 2022 & 522526476 & 22232377 &  4.30 &  774.0000 & 32.90000\\\\\n",
       "\t United States        & 29 Jul 2022 & 929349291 & 90749469 &  9.80 &  281.0000 & 27.40000\\\\\n",
       "\t Uruguay              & 16 Apr 2022 &   6089116 &   895592 & 14.70 &  175.0000 & 25.80000\\\\\n",
       "\t Uzbekistan           & 7 Sep 2020  &   2630000 &    43975 &  1.70 &    7.7000 &  0.13000\\\\\n",
       "\t Venezuela            & 30 Mar 2021 &   3179074 &   159149 &  5.00 &   11.0000 &  0.55000\\\\\n",
       "\t Vietnam              & 28 Aug 2022 &  45772571 & 11403302 & 24.90 &   46.4000 & 11.60000\\\\\n",
       "\t Zambia               & 10 Mar 2022 &   3301860 &   314850 &  9.50 &   19.0000 &  1.80000\\\\\n",
       "\t Zimbabwe             & 15 Oct 2022 &   2529087 &   257893 & 10.20 &   17.0000 &  1.70000\\\\\n",
       "\\end{tabular}\n"
      ],
      "text/markdown": [
       "\n",
       "A data.frame: 172 × 7\n",
       "\n",
       "| country &lt;chr&gt; | date &lt;chr&gt; | tested &lt;dbl&gt; | confirmed &lt;int&gt; | confirmed.tested.ratio &lt;dbl&gt; | tested.population.ratio &lt;dbl&gt; | confirmed.population.ratio &lt;dbl&gt; |\n",
       "|---|---|---|---|---|---|---|\n",
       "| Afghanistan            | 17 Dec 2020 |    154767 |    49621 | 32.10 |    0.40 |  0.1300 |\n",
       "| Albania                | 18 Feb 2021 |    428654 |    96838 | 22.60 |   15.00 |  3.4000 |\n",
       "| Algeria                | 2 Nov 2020  |    230553 |    58574 | 25.40 |    0.53 |  0.1300 |\n",
       "| Andorra                | 23 Feb 2022 |    300307 |    37958 | 12.60 |  387.00 | 49.0000 |\n",
       "| Angola                 | 2 Feb 2021  |    399228 |    20981 |  5.30 |    1.30 |  0.0670 |\n",
       "| Antigua and Barbuda    | 6 Mar 2021  |     15268 |      832 |  5.40 |   15.90 |  0.8600 |\n",
       "| Argentina              | 16 Apr 2022 |  35716069 |  9060495 | 25.40 |   78.30 | 20.0000 |\n",
       "| Armenia                | 29 May 2022 |   3099602 |   422963 | 13.60 |  105.00 | 14.3000 |\n",
       "| Australia              | 9 Sep 2022  |  78548492 | 10112229 | 12.90 |  313.00 | 40.3000 |\n",
       "| Austria                | 1 Feb 2023  | 205817752 |  5789991 |  2.80 | 2312.00 | 65.0000 |\n",
       "| Azerbaijan             | 11 May 2022 |   6838458 |   792638 | 11.60 |   69.10 |  8.0000 |\n",
       "| Bahamas                | 28 Nov 2022 |    259366 |    37483 | 14.50 |   67.30 |  9.7000 |\n",
       "| Bahrain                | 3 Dec 2022  |  10578766 |   696614 |  6.60 |  674.00 | 44.4000 |\n",
       "| Bangladesh             | 24 Jul 2021 |   7417714 |  1151644 | 15.50 |    4.50 |  0.7000 |\n",
       "| Barbados               | 14 Oct 2022 |    770100 |   103014 | 13.40 |  268.00 | 35.9000 |\n",
       "| Belarus                | 9 May 2022  |  13217569 |   982809 |  7.40 |  139.00 | 10.4000 |\n",
       "| Belgium                | 24 Jan 2023 |  36548544 |  4691499 | 12.80 |  317.00 | 40.7000 |\n",
       "| Belize                 | 8 Jun 2022  |    572900 |    60694 | 10.60 |  140.00 | 14.9000 |\n",
       "| Benin                  | 4 May 2021  |    595112 |     7884 |  1.30 |    5.10 |  0.0670 |\n",
       "| Bhutan                 | 28 Feb 2022 |   1736168 |    12702 |  0.73 |  234.00 |  1.7100 |\n",
       "| Bolivia                | 5 Jun 2022  |   4358669 |   910228 | 20.90 |   38.10 |  8.0000 |\n",
       "| Bosnia and Herzegovina | 27 Sep 2022 |   1872934 |   399887 | 21.40 |   54.70 | 11.7000 |\n",
       "| Botswana               | 11 Jan 2022 |   2026898 |   232432 | 11.50 |   89.90 | 10.3000 |\n",
       "| Brazil                 | 19 Feb 2021 |  23561497 | 10081676 | 42.80 |   11.20 |  4.8000 |\n",
       "| Brunei                 | 2 Aug 2021  |    153804 |      338 |  0.22 |   33.50 |  0.0740 |\n",
       "| Bulgaria               | 2 Feb 2023  |  10993239 |  1295524 | 11.80 |  158.00 | 18.6000 |\n",
       "| Burkina Faso           | 4 Mar 2021  |    158777 |    12123 |  7.60 |    0.76 |  0.0580 |\n",
       "| Burundi                | 5 Jan 2021  |     90019 |      884 |  0.98 |    0.76 |  0.0074 |\n",
       "| Cambodia               | 1 Aug 2021  |   1812706 |    77914 |  4.30 |   11.20 |  0.4800 |\n",
       "| Cameroon               | 18 Feb 2021 |    942685 |    32681 |  3.50 |    3.60 |  0.1200 |\n",
       "| ⋮ | ⋮ | ⋮ | ⋮ | ⋮ | ⋮ | ⋮ |\n",
       "| Serbia               | 2 Feb 2023  |  12185475 |  2473599 | 20.30 |  175.0000 | 35.50000 |\n",
       "| Singapore            | 3 Aug 2021  |  16206203 |    65315 |  0.40 |  284.0000 |  1.10000 |\n",
       "| Slovakia             | 2 Feb 2023  |   7391882 |  1861034 | 25.20 |  135.0000 | 34.10000 |\n",
       "| Slovenia             | 2 Feb 2023  |   2826117 |  1322282 | 46.80 |  135.0000 | 63.10000 |\n",
       "| South Africa         | 24 May 2021 |  11378282 |  1637848 | 14.40 |   19.2000 |  2.80000 |\n",
       "| South Korea          | 1 Mar 2021  |   6592010 |    90029 |  1.40 |   12.7000 |  0.17000 |\n",
       "| South Sudan          | 26 May 2021 |    164472 |    10688 |  6.50 |    1.3000 |  0.08400 |\n",
       "| Spain                | 1 Jul 2021  |  54128524 |  3821305 |  7.10 |  116.0000 |  8.20000 |\n",
       "| Sri Lanka            | 30 Mar 2021 |   2384745 |    93128 |  3.90 |   10.9000 |  0.43000 |\n",
       "| Sudan                | 7 Jan 2021  |    158804 |    23316 | 14.70 |    0.3600 |  0.05300 |\n",
       "| Sweden               | 24 May 2021 |   9996795 |  1074751 | 10.80 |   96.8000 | 10.40000 |\n",
       "| Switzerland[l]       | 7 Nov 2022  |  23283909 |  4276836 | 18.40 |  270.0000 | 49.70000 |\n",
       "| Taiwan[m]            | 3 Feb 2023  |  30275725 |  8622129 | 28.48 |  128.3000 | 36.52800 |\n",
       "| Tanzania             | 18 Nov 2020 |      3880 |      509 | 13.10 |    0.0065 |  0.00085 |\n",
       "| Thailand             | 4 Mar 2021  |   1579597 |    26162 |  1.70 |    2.3000 |  0.03800 |\n",
       "| Togo                 | 6 Jan 2023  |    807269 |    39358 |  4.90 |    9.4000 |  0.46000 |\n",
       "| Trinidad and Tobago  | 3 Jan 2022  |    512730 |    92997 | 18.10 |   37.6000 |  6.80000 |\n",
       "| Tunisia              | 23 Aug 2021 |   2893625 |   703732 | 24.30 |   24.5000 |  6.00000 |\n",
       "| Turkey               | 2 Jul 2021  |  61236294 |  5435831 |  8.90 |   73.6000 |  6.50000 |\n",
       "| Uganda               | 11 Feb 2021 |    852444 |    39979 |  4.70 |    1.9000 |  0.08700 |\n",
       "| Ukraine              | 24 Nov 2021 |  15648456 |  3367461 | 21.50 |   37.2000 |  8.00000 |\n",
       "| United Arab Emirates | 1 Feb 2023  | 198685717 |  1049537 |  0.53 | 2070.0000 | 10.90000 |\n",
       "| United Kingdom       | 19 May 2022 | 522526476 | 22232377 |  4.30 |  774.0000 | 32.90000 |\n",
       "| United States        | 29 Jul 2022 | 929349291 | 90749469 |  9.80 |  281.0000 | 27.40000 |\n",
       "| Uruguay              | 16 Apr 2022 |   6089116 |   895592 | 14.70 |  175.0000 | 25.80000 |\n",
       "| Uzbekistan           | 7 Sep 2020  |   2630000 |    43975 |  1.70 |    7.7000 |  0.13000 |\n",
       "| Venezuela            | 30 Mar 2021 |   3179074 |   159149 |  5.00 |   11.0000 |  0.55000 |\n",
       "| Vietnam              | 28 Aug 2022 |  45772571 | 11403302 | 24.90 |   46.4000 | 11.60000 |\n",
       "| Zambia               | 10 Mar 2022 |   3301860 |   314850 |  9.50 |   19.0000 |  1.80000 |\n",
       "| Zimbabwe             | 15 Oct 2022 |   2529087 |   257893 | 10.20 |   17.0000 |  1.70000 |\n",
       "\n"
      ],
      "text/plain": [
       "    country                date        tested    confirmed\n",
       "1   Afghanistan            17 Dec 2020    154767    49621 \n",
       "2   Albania                18 Feb 2021    428654    96838 \n",
       "3   Algeria                2 Nov 2020     230553    58574 \n",
       "4   Andorra                23 Feb 2022    300307    37958 \n",
       "5   Angola                 2 Feb 2021     399228    20981 \n",
       "6   Antigua and Barbuda    6 Mar 2021      15268      832 \n",
       "7   Argentina              16 Apr 2022  35716069  9060495 \n",
       "8   Armenia                29 May 2022   3099602   422963 \n",
       "9   Australia              9 Sep 2022   78548492 10112229 \n",
       "10  Austria                1 Feb 2023  205817752  5789991 \n",
       "11  Azerbaijan             11 May 2022   6838458   792638 \n",
       "12  Bahamas                28 Nov 2022    259366    37483 \n",
       "13  Bahrain                3 Dec 2022   10578766   696614 \n",
       "14  Bangladesh             24 Jul 2021   7417714  1151644 \n",
       "15  Barbados               14 Oct 2022    770100   103014 \n",
       "16  Belarus                9 May 2022   13217569   982809 \n",
       "17  Belgium                24 Jan 2023  36548544  4691499 \n",
       "18  Belize                 8 Jun 2022     572900    60694 \n",
       "19  Benin                  4 May 2021     595112     7884 \n",
       "20  Bhutan                 28 Feb 2022   1736168    12702 \n",
       "21  Bolivia                5 Jun 2022    4358669   910228 \n",
       "22  Bosnia and Herzegovina 27 Sep 2022   1872934   399887 \n",
       "23  Botswana               11 Jan 2022   2026898   232432 \n",
       "24  Brazil                 19 Feb 2021  23561497 10081676 \n",
       "25  Brunei                 2 Aug 2021     153804      338 \n",
       "26  Bulgaria               2 Feb 2023   10993239  1295524 \n",
       "27  Burkina Faso           4 Mar 2021     158777    12123 \n",
       "28  Burundi                5 Jan 2021      90019      884 \n",
       "29  Cambodia               1 Aug 2021    1812706    77914 \n",
       "30  Cameroon               18 Feb 2021    942685    32681 \n",
       "⋮   ⋮                      ⋮           ⋮         ⋮        \n",
       "143 Serbia                 2 Feb 2023   12185475  2473599 \n",
       "144 Singapore              3 Aug 2021   16206203    65315 \n",
       "145 Slovakia               2 Feb 2023    7391882  1861034 \n",
       "146 Slovenia               2 Feb 2023    2826117  1322282 \n",
       "147 South Africa           24 May 2021  11378282  1637848 \n",
       "148 South Korea            1 Mar 2021    6592010    90029 \n",
       "149 South Sudan            26 May 2021    164472    10688 \n",
       "150 Spain                  1 Jul 2021   54128524  3821305 \n",
       "151 Sri Lanka              30 Mar 2021   2384745    93128 \n",
       "152 Sudan                  7 Jan 2021     158804    23316 \n",
       "153 Sweden                 24 May 2021   9996795  1074751 \n",
       "154 Switzerland[l]         7 Nov 2022   23283909  4276836 \n",
       "155 Taiwan[m]              3 Feb 2023   30275725  8622129 \n",
       "156 Tanzania               18 Nov 2020      3880      509 \n",
       "157 Thailand               4 Mar 2021    1579597    26162 \n",
       "158 Togo                   6 Jan 2023     807269    39358 \n",
       "159 Trinidad and Tobago    3 Jan 2022     512730    92997 \n",
       "160 Tunisia                23 Aug 2021   2893625   703732 \n",
       "161 Turkey                 2 Jul 2021   61236294  5435831 \n",
       "162 Uganda                 11 Feb 2021    852444    39979 \n",
       "163 Ukraine                24 Nov 2021  15648456  3367461 \n",
       "164 United Arab Emirates   1 Feb 2023  198685717  1049537 \n",
       "165 United Kingdom         19 May 2022 522526476 22232377 \n",
       "166 United States          29 Jul 2022 929349291 90749469 \n",
       "167 Uruguay                16 Apr 2022   6089116   895592 \n",
       "168 Uzbekistan             7 Sep 2020    2630000    43975 \n",
       "169 Venezuela              30 Mar 2021   3179074   159149 \n",
       "170 Vietnam                28 Aug 2022  45772571 11403302 \n",
       "171 Zambia                 10 Mar 2022   3301860   314850 \n",
       "172 Zimbabwe               15 Oct 2022   2529087   257893 \n",
       "    confirmed.tested.ratio tested.population.ratio confirmed.population.ratio\n",
       "1   32.10                     0.40                  0.1300                   \n",
       "2   22.60                    15.00                  3.4000                   \n",
       "3   25.40                     0.53                  0.1300                   \n",
       "4   12.60                   387.00                 49.0000                   \n",
       "5    5.30                     1.30                  0.0670                   \n",
       "6    5.40                    15.90                  0.8600                   \n",
       "7   25.40                    78.30                 20.0000                   \n",
       "8   13.60                   105.00                 14.3000                   \n",
       "9   12.90                   313.00                 40.3000                   \n",
       "10   2.80                  2312.00                 65.0000                   \n",
       "11  11.60                    69.10                  8.0000                   \n",
       "12  14.50                    67.30                  9.7000                   \n",
       "13   6.60                   674.00                 44.4000                   \n",
       "14  15.50                     4.50                  0.7000                   \n",
       "15  13.40                   268.00                 35.9000                   \n",
       "16   7.40                   139.00                 10.4000                   \n",
       "17  12.80                   317.00                 40.7000                   \n",
       "18  10.60                   140.00                 14.9000                   \n",
       "19   1.30                     5.10                  0.0670                   \n",
       "20   0.73                   234.00                  1.7100                   \n",
       "21  20.90                    38.10                  8.0000                   \n",
       "22  21.40                    54.70                 11.7000                   \n",
       "23  11.50                    89.90                 10.3000                   \n",
       "24  42.80                    11.20                  4.8000                   \n",
       "25   0.22                    33.50                  0.0740                   \n",
       "26  11.80                   158.00                 18.6000                   \n",
       "27   7.60                     0.76                  0.0580                   \n",
       "28   0.98                     0.76                  0.0074                   \n",
       "29   4.30                    11.20                  0.4800                   \n",
       "30   3.50                     3.60                  0.1200                   \n",
       "⋮   ⋮                      ⋮                       ⋮                         \n",
       "143 20.30                   175.0000               35.50000                  \n",
       "144  0.40                   284.0000                1.10000                  \n",
       "145 25.20                   135.0000               34.10000                  \n",
       "146 46.80                   135.0000               63.10000                  \n",
       "147 14.40                    19.2000                2.80000                  \n",
       "148  1.40                    12.7000                0.17000                  \n",
       "149  6.50                     1.3000                0.08400                  \n",
       "150  7.10                   116.0000                8.20000                  \n",
       "151  3.90                    10.9000                0.43000                  \n",
       "152 14.70                     0.3600                0.05300                  \n",
       "153 10.80                    96.8000               10.40000                  \n",
       "154 18.40                   270.0000               49.70000                  \n",
       "155 28.48                   128.3000               36.52800                  \n",
       "156 13.10                     0.0065                0.00085                  \n",
       "157  1.70                     2.3000                0.03800                  \n",
       "158  4.90                     9.4000                0.46000                  \n",
       "159 18.10                    37.6000                6.80000                  \n",
       "160 24.30                    24.5000                6.00000                  \n",
       "161  8.90                    73.6000                6.50000                  \n",
       "162  4.70                     1.9000                0.08700                  \n",
       "163 21.50                    37.2000                8.00000                  \n",
       "164  0.53                  2070.0000               10.90000                  \n",
       "165  4.30                   774.0000               32.90000                  \n",
       "166  9.80                   281.0000               27.40000                  \n",
       "167 14.70                   175.0000               25.80000                  \n",
       "168  1.70                     7.7000                0.13000                  \n",
       "169  5.00                    11.0000                0.55000                  \n",
       "170 24.90                    46.4000               11.60000                  \n",
       "171  9.50                    19.0000                1.80000                  \n",
       "172 10.20                    17.0000                1.70000                  "
      ]
     },
     "metadata": {},
     "output_type": "display_data"
    }
   ],
   "source": [
    "dff"
   ]
  }
 ],
 "metadata": {
  "kernelspec": {
   "display_name": "R",
   "language": "R",
   "name": "ir"
  },
  "language_info": {
   "codemirror_mode": "r",
   "file_extension": ".r",
   "mimetype": "text/x-r-source",
   "name": "R",
   "pygments_lexer": "r",
   "version": "4.3.2"
  }
 },
 "nbformat": 4,
 "nbformat_minor": 2
}
