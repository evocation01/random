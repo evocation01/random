{
 "cells": [
  {
   "cell_type": "markdown",
   "metadata": {},
   "source": [
    "# Coursera Google IT Automation Notebook\n",
    "\n",
    "## Why use automation?\n",
    "* script = short program.\n",
    "\n",
    "* automation =>   \n",
    "\t+ less effort \n",
    "\t+ less time \n",
    "\t+ consistency! \n",
    "\t- takes effort, cost  \n",
    "\t- a lot of annoying factors to be considered \n",
    "\t- creativity\n",
    "\n",
    "## Testing\n",
    "Testing can help make good code great.\n",
    "\n",
    "- Manual testing, \n",
    "- Automated testing,\n",
    "- unit testing ->\n",
    "\t\t\tindividual units to be tested. \"unittest\" \"pytest\""
   ]
  },
  {
   "cell_type": "markdown",
   "metadata": {},
   "source": [
    "## What are I/O streams\n",
    "\n",
    "* I/O streams := \n",
    "\tThe basic mechanism for performing I/O operations in your programs.\n",
    "\n",
    "* Input --->  Program ---> Output\n",
    "\n",
    "* STDIN  : standard input\n",
    "* STDOUT : standard output\n",
    "* STDERR : standard error"
   ]
  },
  {
   "cell_type": "markdown",
   "metadata": {},
   "source": [
    "## Linux General Info\n",
    "\n",
    "* Linux shells:\n",
    "\t* Bash, Zsh, Fish\n",
    "\t\n",
    "- Programs get executed inside a shell CLE. (Command-Line Environment)\n",
    "\n",
    "* OS = \n",
    "\t* Kernel \n",
    "\t\t- main core\n",
    "\t\t- manages sys resources \n",
    "\t* User Space\n",
    "\t\t- things that are interacted\n",
    "\t\t- i.e. UI\n",
    "\t\t\n",
    "* Linux distributions =\n",
    "\t* Ubuntu, ChromeOS, Redhat, Android \n",
    "\t* (MacOS : BSD Kernel) \n",
    "\t* NOTE: MacOS != Linux (it isn't pure linux!)"
   ]
  },
  {
   "cell_type": "markdown",
   "metadata": {},
   "source": [
    "## What is redirection?\n",
    "\n",
    "* Redirection: \n",
    "\t* the process of sending a stream to a different destination.\n",
    "\t+ can be done using '>' symbol\n",
    "\t\t- ***  '>'   *** OVERWRITES STDOUT ('w')  ***\n",
    "\t\t- ***  '>>'  ***   APPENDS  STDOUT ('a')  ***\n",
    "\t\t- ***  '2>'  *** redirects  STDERROR     ***\n",
    "\t\t\n",
    "\t\t\n",
    "\t- like:\n",
    "\t\t- cat text.py :\n",
    "\t\t\t- print(\"hello\")\n",
    "\t\t\n",
    "\t\t- ./text.py > new_text.txt\n",
    "\t\t\n",
    "\t\t- cat new_text.txt :\n",
    "\t\t\t- hello"
   ]
  },
  {
   "cell_type": "markdown",
   "metadata": {},
   "source": [
    "### What is piping, signals, PID?\n",
    "\n",
    "* Piping:\n",
    "\t- Pipes -> \n",
    "\t\t- connects the output of one program to the input of another, \n",
    "\t\t\t- in order to pass data between programs"
   ]
  },
  {
   "cell_type": "markdown",
   "metadata": {},
   "source": [
    "## Git / GitHub\n",
    "\n",
    "### General Info About GIT:\n",
    "- created by Linus Torvalds (2005), dev of Linux Kernel\n",
    "\t\n",
    "- distributed (not a centralized server) VCS, \n",
    "  which means each dev has a full copy of the repo.\n",
    "- Repo's can be used by unlimited dev's.\n",
    "\t\n",
    "- git-scm.com\n",
    "\t+ SCM : Source Control Management \n",
    "\t+ (however, it's more like VCS atm, since its more powerful)\n",
    "\t\n",
    "- some other VCS: Subversion, Mercurial"
   ]
  },
  {
   "cell_type": "markdown",
   "metadata": {},
   "source": [
    "### Technical Info:\t\n",
    "\n",
    "* Every GIT project consists of three sections:\n",
    "\t1) Git Directory:\n",
    "\t\t- history of all the files and changes. \n",
    "\t2) The Working Tree:\n",
    "\t\t- current state of the project.\n",
    "\t3) Staging Area:\n",
    "\t\t- changes to be committed.\n",
    "\t\t- after making a change, they are here.\n",
    "\t\t- when you commit, they move to Working Tree.\n",
    "\t\t- a file, maintained by Git\n",
    "\t\t  that contains all of the info about what files\n",
    "\t\t  and changes are going to go into your next commit\n",
    "\t\t  \n",
    "\t\t  \n",
    "- \"HEAD -> master\":\n",
    "    - \"HEAD\" is the current snapshot of repo."
   ]
  },
  {
   "cell_type": "markdown",
   "metadata": {},
   "source": [
    "- commit 230e8c0a8edd9dd7582293e47433f2ff119b6678\n",
    "\t- this number is called: HASH\n",
    "\t- and calculated using an algorithm called: SHA1\n",
    "\t\t- SH1 is part of the class of \n",
    "\t\t- \"Cryptographic hash functions\".\n",
    "\t\t\t- However, Git doesn't really use them \n",
    "\t\t\t- for security, uses for consistency."
   ]
  },
  {
   "cell_type": "markdown",
   "metadata": {},
   "source": [
    "#### What is a branch?\n",
    "* Branch:\n",
    "\t- a pointer to a particular commit\n",
    "\t\n",
    "\t- it represents an independent line of development in a project\n",
    "\t\n",
    "\t- default branch is called \"master\"\n",
    "\t\n",
    "\t- git branch: lists all the branches in Work Tree\n",
    "\t- git branch -d <>: deletes the branch \n",
    "\t- git branch -m <>: renames the branch\n",
    "\t\n",
    "\t- to enter a branch : git checkout \n",
    "\t\t- we use git checkout to check out the latest snapshot for both files and for branches.\n",
    "\t\n",
    "\t- git checkout -b new_branch\n",
    "\t    - Switched to a new branch 'new_branch'\n",
    "\t\t\n",
    "\t\n",
    "\t- \"Merging\" : \n",
    "\t\t- the term that Git uses for combining branched data and history together.\n",
    "\t\t\n",
    "\t\t- git merge --abort\n",
    "\t\t\t- the \"current\" branch is represented by <HEAD> tag."
   ]
  },
  {
   "cell_type": "markdown",
   "metadata": {},
   "source": [
    "### Git Commands:\n",
    "\n",
    "#### Non-Git\n",
    "- cd ..\n",
    "\t- changes current working dir to parent dir.\n",
    "- chmod +x file.py\n",
    "\t- adds execution permission to the \"file.py\"."
   ]
  },
  {
   "cell_type": "markdown",
   "metadata": {},
   "source": [
    "#### Basic\n",
    "- git --version\n",
    "\t- displays installed version of Git.\n",
    "\t\t\n",
    "- git config --global user.x \"y\"\n",
    "\t- sets the global x config to \"y\" \n",
    "\t- i.e: \n",
    "\t\t- git config --global user.email \"email@.com\"\n",
    "  \n",
    "- git config -l\n",
    "\t- lists the global Git configs.\n",
    "\t \t\t\n",
    "- git init\n",
    "\t- initializes a new git repo."
   ]
  },
  {
   "cell_type": "markdown",
   "metadata": {},
   "source": [
    "#### Intermediate \n",
    "\t\t\n",
    "- git add x\n",
    "\t- adds (tracks) the file 'x' to the staging area for the next commit\n",
    "\t\t\n",
    "- git add -p \n",
    "\t- adds and stages the file.\n",
    "\t\t\n",
    "- git commit\n",
    "\t- opens a text editor for the user to enter a commit message and commit the staged changes.\n",
    "\t\t\n",
    "- git commit -m <text>\n",
    "\t- commits changes with a specific message\n",
    "\t\t- quicker than \"git commit\", but long messages are not possible\n",
    "\t\t\t\n",
    "- git commit -m -a \"$message\":\n",
    "\t- commits a TRACKED file without having to \"add\" \n",
    "\t- (skips Staging Area)\n",
    "\t- (useful for the changes you made, files still have to be tracked in order to use this cmd)\n",
    "\t- git status\n",
    "\t\t- shows the status of changes as \n",
    "\t\t\t- \"untracked, modified, staged\"\n",
    "\n",
    "- git revert\n",
    "\t- undos the changes made in a previous commit"
   ]
  },
  {
   "cell_type": "markdown",
   "metadata": {},
   "source": [
    "#### Advanced\n",
    "\n",
    "- git show <commit>\n",
    "\t- views the details of a specific commit\n",
    "\t\t\n",
    "- git log --stat\n",
    "\t- gives concise summary of changes introduced in each commit\n",
    "\t\t\n",
    "- git log -p \n",
    "\t- shows the patch introduced by each commit\n",
    "\t\t\n",
    "- git log -u\n",
    "\t- displays GPG signature info.\n",
    "\t\n",
    "- git log --graph --oneline\n",
    "\t- shows a summarized view of the commit history with nice visuals.\n",
    "\t\n",
    "- git diff\n",
    "\t- views the changes in the working dir\n",
    "\t\t\n",
    "- git diff --staged\n",
    "\t- views the staged changes in the working dir"
   ]
  },
  {
   "cell_type": "markdown",
   "metadata": {},
   "source": [
    "- git branch: \n",
    "\t- used to manage branches\n",
    "    - lists all the branches in Work Tree\n",
    "\n",
    "- git branch <name>\n",
    "\t- creates the branch\n",
    "\n",
    "- git branch -d <name>: \n",
    "    - deletes the branch \n",
    "- git branch -D <name>\n",
    "\t- Forcibly deletes the branch\n",
    "\n",
    "- git branch -m <name>: \n",
    "    - renames the branch"
   ]
  },
  {
   "cell_type": "markdown",
   "metadata": {},
   "source": [
    "- git checkout -b new_branch\n",
    "    - switches to a 'new_branch' \n",
    "    - -b pmt :\n",
    "        - a new branch is \"created\" and switched to.\n",
    "\n",
    "- git checkout <branch>\n",
    "\t- switches to a branch\n",
    "\t\t\n",
    "- git checkout -b <branch>\n",
    "\t- creates a new branch and switches to it."
   ]
  },
  {
   "cell_type": "markdown",
   "metadata": {},
   "source": [
    "- git push --delete origin <name>\n",
    "\t- Forcibly deletes the branch <name> from remote origin branch (on git servers, remote.)\n",
    "- git push -u origin <branch-name>\n",
    "\t- pushes the local branch into the remote origin branch.\n",
    "\t- (useful when you create a new branch to do a change, then combine this branch into origin/master branch) \n",
    "- git push -f \n",
    "\t- force git push"
   ]
  },
  {
   "cell_type": "markdown",
   "metadata": {},
   "source": [
    "- git merge <branch>\n",
    "\t- Merges branch together\n",
    "\t\t\n",
    "- git merge --abort\n",
    "\t- aborts the merge.\n",
    "\t\t\t\n",
    "- git rebase -i <master_branch>\n",
    "\t- it's an \"interactive\" rebase.\n",
    "\t- it's very powerful. \n",
    "\t- Many stuff can be done here, including rewording, editing commits, squashing commits into one"
   ]
  },
  {
   "cell_type": "markdown",
   "metadata": {},
   "source": [
    "### Tips: \n",
    "  \n",
    "- Every time you \"commit\", git takes a \"screenshot\".\n",
    "\t- each screenshot is added to the git dir.\n",
    "\t\n",
    "- When you create a file, it's untracked.\n",
    "\t- You have to \"add\" it to the Staging Area in order to track it. \n",
    "\t\t- When untracked, it's not a part of Git directory.\n",
    "\t\n",
    "- git init <>\n",
    "    - initializes a new repo / transforms into a Git repo.\n",
    "    - creates a .git subdir in current working dir\n",
    "        - that contains necessary Git metadata\n",
    "            - includes subdirs for objects, refs, templates.\n",
    "    - also creates HEAD.\n",
    "        - this file points to the currently checked out commit\n",
    "    - this cmd is idempotent\n",
    "        - running it on a .git subdir does nothing, so it's not dangerous\n",
    "        - (doesn't override it or sth!)"
   ]
  },
  {
   "cell_type": "markdown",
   "metadata": {},
   "source": [
    "### Git Hazards:\n",
    "\n",
    "* * Avoid amending commits that have already been made public.\n",
    "\n",
    "* Keep the latest version in the master branch and the latest stable version in a separate branch."
   ]
  },
  {
   "cell_type": "markdown",
   "metadata": {},
   "source": [
    "### .gitignore\n",
    "#### How to create .gitignore files?\n",
    "- npp .gitignore (or nano)\n",
    "- <adds line \".DS_STORE\">\n",
    "\t- git add .gitignore\n",
    "\t- git commit -m \"Added .gitignore to ignore .DS_STORE files\"\n",
    "- <Now, if you create a new .DS_STORE file or already have it in your working directory, Git will ignore it:>\n",
    "\t- touch .DS_STORE\n",
    "\t- git status\n",
    "- <The output now should indicate that .DS_STORE is untracked and will not be included in future commits.>"
   ]
  },
  {
   "cell_type": "markdown",
   "metadata": {},
   "source": [
    "## What is a pull request, \n",
    "* Pull Req:\n",
    "\t- commit(s) that you send to the owner of the repo to incorporate the commit into their tree\n",
    "\n",
    "## Issue (bug) tracker\n",
    "* Issue (Bug) Tracker\n",
    "\t- like Bugzilla\n",
    "\t- GIT already has an issue tracker in it.\n",
    "\t\n",
    "\t- when working on an issue as a dev, adding \"Closes #x\" into the msg file will close issue #x\n",
    "\n",
    "## What is a nit?\n",
    "- A trivial comment or suggestion"
   ]
  },
  {
   "cell_type": "markdown",
   "metadata": {},
   "source": [
    "## What is a CI/CD system\n",
    "* Continuous Integration (CI) System:\n",
    "\t- allows for automation of tests\n",
    "\t- will build and test the code after every change\n",
    "\t\n",
    "\t* Continuous Development (Delivery) System: (CD)\n",
    "\t\t- after CI\n",
    "\t\t- deploys a new version whenever a commit is merged into the MT (main tree).\n",
    "\t\t- Update with incremental rollouts\n",
    "\t\t- this way, small changes/patches will be done to make big changes\n",
    "\t\t- small changes are easier to troubleshoot!\n",
    "\t\t\n",
    "\t\t* also called CI/CD\n",
    "\t\t\t- Jenkins, Travis -> popular CI/CD tools.\n",
    "\t\t\t- for gitHub : gitHub Actions. \n",
    "\t\t\t- AWS, devOps\n",
    "\t\t\t\n",
    "\t\t* Pipelines:\n",
    "\t\t\t- specify the steps that need to run to get the result you want\n",
    "\t\t* Artifacts:\n",
    "\t\t\t- describes any file that pipeline-generated.\t \n"
   ]
  }
 ],
 "metadata": {
  "kernelspec": {
   "display_name": "my_py3",
   "language": "python",
   "name": "python3"
  },
  "language_info": {
   "name": "python",
   "version": "3.11.7"
  }
 },
 "nbformat": 4,
 "nbformat_minor": 2
}
