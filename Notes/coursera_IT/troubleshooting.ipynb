{
 "cells": [
  {
   "cell_type": "markdown",
   "metadata": {},
   "source": [
    "# Coursera Troubleshooting\n",
    "* Amanda Ballas - Security Systems Admin.\n",
    "\n",
    "## First Steps # How?\n",
    "1) gather info\n",
    "\t- what, why, result, consequences\n",
    "\t- Reproduction case\n",
    "\t\trecreate the problem to understand how and why\n",
    "\n",
    "2) Find the root cause\n",
    "3) Perform necessary remedition\n",
    "\t* maybe rebooting (workaround) (short-term remedition)\n",
    "\n",
    "0) Do documentation through the path\n",
    "   \n",
    "- check pc logs\n",
    "- what was user doing, how long has it been going on\n",
    "\n",
    "* short term remedition: cleaning the fan\n",
    "* long term remedition: creating a IoT monitoring to remind you "
   ]
  },
  {
   "cell_type": "markdown",
   "metadata": {},
   "source": [
    "### Remarks\n",
    "\n",
    "- get info\n",
    "- modify program to get more/better log (debugging mode)\n",
    "- isolate the causes\n",
    "- understand the error messages "
   ]
  },
  {
   "cell_type": "markdown",
   "metadata": {},
   "source": [
    "## W1 : Concepts\n",
    "\n",
    "### Intermittent Bugs:\n",
    "1) Heisenbugs (observer bugs)\n",
    "    - the bug goes away when observing, but pop up again after\n",
    "2) Bugs that go away when restarting \n",
    "    * (restart = power cycling)"
   ]
  },
  {
   "cell_type": "markdown",
   "metadata": {},
   "source": [
    "### How to search\n",
    "\n",
    "1) Linear Search\n",
    "\t- 1 2 3 4 ...\n",
    "\t- it works but can take a lot of time in a huge set\n",
    "\t- t --> len  \n",
    "2) Binary Search\n",
    "\t- you keep halving the set (bisecting)\n",
    "\t- asking \"is it on the left side, or right\". \n",
    "\t- i.e. for 100,000 comparisons, instead of 100,000\n",
    "\t- binary search requires sorting b4hand\n",
    "\t\n",
    "\t* git bisect"
   ]
  },
  {
   "cell_type": "markdown",
   "metadata": {},
   "source": [
    "## W2 : Slowness\n",
    "\n",
    "### Terms:\n",
    "* Memory Leak\n",
    "\t- memory which is no longer needed is not getting released\n",
    "\n",
    "* find root cause and bottleneck\n",
    "\n",
    "* To access elements by position\t\n",
    "\t- use dictionaries (much faster than lists)\n",
    "\n",
    "* time (command)\n",
    "\t- gives real, user, sys time.\n",
    "\t- real:\n",
    "\t\t- actual time\n",
    "\t- user:\n",
    "\t\t- user space\n",
    "\t- sys:\n",
    "\t\t- sys-level ops\n",
    "\n",
    "* profilers\n",
    "\t- pprofile3\n",
    "\t- kcachegrind"
   ]
  },
  {
   "cell_type": "markdown",
   "metadata": {},
   "source": [
    "* Concurrency\n",
    "\t- a dedicated field of CS \n",
    "\t- on parallel ops\n",
    "\n",
    "* parallel ops\n",
    "\t- >1 core\n",
    "\t\t- OS decides what gets executed on which core\n",
    "\n",
    "* Threads\n",
    "\t- lets us run parallel tasks inside a process\n",
    "\t- Py: Threading, AsyncIO"
   ]
  },
  {
   "cell_type": "markdown",
   "metadata": {},
   "source": [
    "* Executor\n",
    "\t- process thats in charge of distributing the work among the diff. workers\n",
    "\n",
    "* Futures module\n",
    "\t- Threads\n",
    "\t\t- has more security measures to \n",
    "\t\t- avoid writing to the same var\n",
    "\t\t- (slight delay from t1 to t2, waiting to make sure\n",
    "\t\t- it's not the same var.)\n",
    "\n",
    "\t\t- GIL limitations. (Global Interpreter Lock) \n",
    "\t\t- Limits the utilization of multiple cores\n",
    "    - Processes\n",
    "\t\t- a little faster than threads\n",
    "\t- asyncIO\n",
    "\t\t- more powerful\n",
    "\t\t- bypasses GIL limitations"
   ]
  },
  {
   "cell_type": "markdown",
   "metadata": {},
   "source": [
    "### A problem, hosting data.\n",
    "* Hosting data, increasingly more popular. \n",
    "* Starting with .csv as most people do. \n",
    "* It's getting slower and slower, so you have to switch.\n",
    "* Solution?\n",
    "\t- .csv \n",
    "\t- SQLite\n",
    "\t- DB server\n",
    "\t- Dynamic cacher"
   ]
  },
  {
   "cell_type": "markdown",
   "metadata": {},
   "source": [
    "### Terms and Definitions \n",
    "- (from Course 4, Module 2)\n",
    "\n",
    "* Activity Monitor: \n",
    "\t- Mac OS tool that shows what's using the most CPU, memory, energy, disk, or network\n",
    " \n",
    "* Cache: \n",
    "\t- This stores data in a form that's faster to access than its original form\n",
    " \n",
    "* Executor: \n",
    "\t- This is the process that's in charge of distributing the work among the different workers\n",
    " \n",
    "* Expensive actions: \n",
    "\t- Actions that can take a long time to complete\n",
    " \n",
    "* Futures: \n",
    "\t- A module provides a couple of different executors, one for using threads and the other one for using processes"
   ]
  },
  {
   "cell_type": "markdown",
   "metadata": {},
   "source": [
    "* Lists: \n",
    "\t- Sequences of elements\n",
    " \n",
    "* Memory leak: \n",
    "\t- This happens when a chunk of memory that's no longer needed is not released\n",
    " \n",
    "* Profiler: \n",
    "\t- A tool that measures the resources the code is using to see how the memory is allocated and how the time is spent\n",
    " \n",
    "* Real time: \n",
    "\t- The amount of actual time that it took to execute the command\n",
    " \n",
    "* Resource Monitor (or Performance Monitor): \n",
    "\t- Windows OS tool that shows what's using the most CPU, memory, energy, disk, or network"
   ]
  },
  {
   "cell_type": "markdown",
   "metadata": {},
   "source": [
    "* Sys time: \n",
    "\t- The time spent doing system level operations\n",
    " \n",
    "* Threads: \n",
    "\t- Run parallel tasks inside a process\n",
    " \n",
    "* User time: \n",
    "\t- The time spent doing operations in the user space"
   ]
  },
  {
   "cell_type": "markdown",
   "metadata": {},
   "source": [
    "## W3 : Crashing Programs\n",
    "\n",
    "### General Info:\n",
    "- to find root cause of a crash, look at;\n",
    "\t- logs\n",
    "\t- changes/new versions (change history in VCS maybe?)\n",
    "\t- trace sys/library calls\n",
    "\t- create reproduction case (as small as possible!)\n",
    "\n",
    "* Watchdog:\n",
    "\t- a process that checks whether a program is running, and when it's not, starts the program again.\n",
    "\t\t- run -> negative -> restart"
   ]
  },
  {
   "cell_type": "markdown",
   "metadata": {},
   "source": [
    "* Answer these questions, when reporting a bug:\n",
    "\t- What were you trying to do?\n",
    "\t- What were steps you followed?\n",
    "\t- What did you expect to happen?\n",
    "\t- What was the actual outcome?\n",
    "\t* Also, try to create a reproduction case and submit it as well. Will help wonders!\n",
    "\n",
    "* Blue screen of death (BSoD)\n",
    "* Event Tracing for Windows (ETW)"
   ]
  },
  {
   "cell_type": "markdown",
   "metadata": {},
   "source": [
    "### Linux Troubleshooting Methods:\n",
    "#### Some Commands:\n",
    "* strace \n",
    "\t- to trace sys calls/signals.\n",
    "* ptrace \n",
    "* netstat \n",
    "\t- gives a bunch of network stats\n",
    "\n",
    "#### Some Directories\n",
    "* /var/log \n",
    "* /etc/<app folder> \n",
    "\t- contains config files\n",
    "* /srv/<app folder>\n",
    "\t- stores data for services&apps\n",
    "\t- i.e. \n",
    "\t\t- \"example.com\" web content (Saved)\n",
    "\t\t- .py files for the service"
   ]
  },
  {
   "cell_type": "markdown",
   "metadata": {},
   "source": [
    "#### Some Tools\n",
    "* memtech86\n",
    "\t- to check for health of RAM\n",
    "\n",
    "### Mac Troubleshooting Methods:\n",
    "* dtruss (cmd)\n",
    "* Console (app)\n",
    "\n",
    "### Windows Troubleshooting Methods:\n",
    "* process monitor (app)\n",
    "* Event Viewer (app)\n",
    "\n",
    "\n"
   ]
  },
  {
   "cell_type": "markdown",
   "metadata": {},
   "source": [
    "### Tips & Hazards\n",
    "* Always check your hypothesis in a TEST env.\n"
   ]
  },
  {
   "cell_type": "markdown",
   "metadata": {},
   "source": [
    "### Some Functions\n",
    "- strace : system trace func\n",
    "    * -o (flag): saves the output to a file [strace -o fail.strace ./script.py]\n",
    "\t\tthen you can use \"less fail.strace\" to browse throught it (open it)\n",
    "\t- \" strace ./script.py | less \" works too.\n",
    "    - traces system calls\n",
    "\n",
    "- ltrace : traces library calls\n",
    "  \n",
    "- top\n",
    "\t- shows CPU loads\n",
    "- iotop\n",
    "    - shows I/O loads (input and output)\n",
    "- iostat\n",
    "    - shows statistics on I/O loads\n",
    "- vmstat\n",
    "    - shows stats on VM ops (virtual memory) \n",
    "- ionice\n",
    "    - reduces priority to access the disk (nice I/O)\n",
    "- nice\n",
    "    - reduces priority to access the CPU\n",
    "\n",
    "- tcpdump, Wireshark\n",
    "  - network traffic analysis (CLI vs GUI)"
   ]
  },
  {
   "cell_type": "markdown",
   "metadata": {},
   "source": [
    "- iftop\n",
    "    shows network traffic\n",
    "- rsync\n",
    "    used to backup data (sync)\n",
    "    has an option to limit bandwidth (-bw) \n",
    "    * or can use a tool like Trickle to limit bw\n",
    "- kill -STOP \n",
    "\tsuspends the system (pause)"
   ]
  },
  {
   "cell_type": "markdown",
   "metadata": {},
   "source": [
    "### Logs. Which logs to read, where, how?\n",
    "- Linux:\n",
    "\t- var/log/syslog\n",
    "\t- .xsession-errors\n",
    "- macOS:\n",
    "\t- syslogs\n",
    "\t- /Library/Logs\n",
    "- Windows:\n",
    "\t- \"Event Viewer\" tool"
   ]
  },
  {
   "cell_type": "markdown",
   "metadata": {},
   "source": [
    "### Reasons for crashes \n",
    "#### Accessing Invalid Memory\n",
    "- accessing invalid memory\n",
    "  - a process tried to access a portion of the system's memory that wasn't assigned to it.\n",
    "  - In low-level programming languages like C, C++\n",
    "    - programmer needs to take care of requesting the memory that the program is going to use and giving it back when it's not needed anymore\n",
    "      - Pointers : the vars that store memory addresses\n",
    "    - Segmentation Fault (segfaults)\n",
    "      - forgetting to initialize a var\n",
    "      - trying to access a list element outside the range / too many elements\n",
    "      - trying to use a portion of the memory after giving it back\n",
    "      - trying to write more data then available/requested\n",
    "        - best course of action is attaching a DEBUGGER to the faulty program.\n",
    "          - this way we will get info @ why?\n",
    "    - General Protection Fault\n",
    "\n",
    "- the main problem is dealing with undefined behavior.\n",
    "  - the code is doing sth that's not valid for the lang"
   ]
  },
  {
   "cell_type": "markdown",
   "metadata": {},
   "source": [
    "##### Tools\n",
    "- Valgrind\n",
    "  - a very powerful tool that can tell us if the code is doing any invalid ops, no matter if it crashes or not.\n",
    "  - Linux and MacOS\n",
    "\n",
    "- Dr. Memory \n",
    "  - Similar to Valgrind\n",
    "  - Windows and Linux"
   ]
  },
  {
   "cell_type": "markdown",
   "metadata": {},
   "source": [
    "#### How?\n",
    "- Adding \"printf debugging\" (printing info about what the function doing) (logging)\n",
    "- When dealing with somebody else's code,\n",
    "  - try to get acquainted with the code\n",
    "    - read comments, run through the test, create new tests etc.\n",
    "- Core Files : stores all the info related to the crash so that we can debug what's going on\n",
    "  - like taking a snapshot of the crash\n",
    "- pdb3\n",
    "  - a python debugger"
   ]
  },
  {
   "cell_type": "code",
   "execution_count": 4,
   "metadata": {},
   "outputs": [],
   "source": [
    "import logging\n",
    "logging.basicConfig(filename='app.log', level=logging.DEBUG)\n",
    "logging.info('This message will be written to app.log')"
   ]
  },
  {
   "cell_type": "code",
   "execution_count": 3,
   "metadata": {},
   "outputs": [
    {
     "name": "stdout",
     "output_type": "stream",
     "text": [
      "hello\n"
     ]
    }
   ],
   "source": [
    "logging.basicConfig(format='%(asctime)s - %(levelname)s - %(message)s', level=logging.DEBUG)\n",
    "logging.error('This is an error swith a custom format')"
   ]
  },
  {
   "cell_type": "markdown",
   "metadata": {},
   "source": [
    "#### Quiz Remarks\n",
    "- Off-by-one error:\n",
    "\"A common error worth keeping in mind happens often when iterating through arrays or other collections, and is often fixed by changing the less than or equal sign in our for loop to be a strictly less than sign. What is this common error known as?\"\n",
    "- Which of the following is NOT likely to cause a segmentation fault?\n",
    "Wild pointers\n",
    "Reading past the end of an array\n",
    "Stack overflow : \n",
    "    If a program's call stack exceeds the available stack space, it can lead to a stack overflow. This, too, can cause a segmentation fault.\n",
    "*RAM replacement\n",
    "\n",
    "- core files:\n",
    "  - a file OS generates during crashes, containing info @ state of the process in memory, good for debugging\n",
    "- "
   ]
  },
  {
   "cell_type": "markdown",
   "metadata": {},
   "source": [
    "A website is producing service errors when loading certain pages. Looking at the logs, one of three web servers isn’t responding correctly to requests. What can you do to restore services, while troubleshooting further?  \n",
    "\n",
    "- Deploy a new web server  \n",
    "- Roll back application changes  \n",
    "+ Remove the server from the pool  \n",
    "- Create standby servers  "
   ]
  },
  {
   "cell_type": "markdown",
   "metadata": {},
   "source": []
  }
 ],
 "metadata": {
  "kernelspec": {
   "display_name": "py3",
   "language": "python",
   "name": "python3"
  },
  "language_info": {
   "codemirror_mode": {
    "name": "ipython",
    "version": 3
   },
   "file_extension": ".py",
   "mimetype": "text/x-python",
   "name": "python",
   "nbconvert_exporter": "python",
   "pygments_lexer": "ipython3",
   "version": "3.11.7"
  }
 },
 "nbformat": 4,
 "nbformat_minor": 2
}
