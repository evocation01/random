{
 "cells": [
  {
   "cell_type": "markdown",
   "metadata": {},
   "source": [
    "# Coursera Troubleshooting\n",
    "* Amanda Ballas - Security Systems Admin.\n",
    "\n",
    "## First Steps # How?\n",
    "1) gather info\n",
    "\t- what, why, result, consequences\n",
    "\t- Reproduction case\n",
    "\t\trecreate the problem to understand how and why\n",
    "\n",
    "2) Find the root cause\n",
    "3) Perform necessary remedition\n",
    "\t* maybe rebooting (workaround) (short-term remedition)\n",
    "\t\n",
    "- check pc logs\n",
    "- what was user doing, how long has it been going on\n",
    "\n",
    "* short term remedition: cleaning the fan\n",
    "* long term remedition: creating a IoT monitoring to remind you "
   ]
  },
  {
   "cell_type": "markdown",
   "metadata": {},
   "source": [
    "### Remarks\n",
    "\n",
    "- get info\n",
    "- modify program to get more/better log (debugging mode)\n",
    "- isolate the causes\n",
    "- understand the error messages "
   ]
  },
  {
   "cell_type": "markdown",
   "metadata": {},
   "source": [
    "# Technical Info\n",
    "## W1 : Concepts\n",
    "\n",
    "### Intermittent Bugs:\n",
    "1) Heisenbugs (observer bugs)\n",
    "    - the bug goes away when observing, but pop up again after\n",
    "2) Bugs that go away when restarting \n",
    "    * (restart = power cycling)"
   ]
  },
  {
   "cell_type": "markdown",
   "metadata": {},
   "source": [
    "### How to search\n",
    "\n",
    "1) Linear Search\n",
    "\t- 1 2 3 4 ...\n",
    "\t- it works but can take a lot of time in a huge set\n",
    "\t- t --> len  \n",
    "2) Binary Search\n",
    "\t- you keep halving the set (bisecting)\n",
    "\t- asking \"is it on the left side, or right\". \n",
    "\t- i.e. for 100,000 comparisons, instead of 100,000\n",
    "\t- binary search requires sorting b4hand\n",
    "\t\n",
    "\t* git bisect"
   ]
  },
  {
   "cell_type": "markdown",
   "metadata": {},
   "source": [
    "## W2 : Slowness\n",
    "\n",
    "### Terms:\n",
    "* Memory Leak\n",
    "\t- memory which is no longer needed is not getting released\n",
    "\n",
    "* find root cause and bottleneck\n",
    "\n",
    "* To access elements by position\t\n",
    "\t- use dictionaries (much faster than lists)\n",
    "\n",
    "* time (command)\n",
    "\t- gives real, user, sys time.\n",
    "\t- real:\n",
    "\t\t- actual time\n",
    "\t- user:\n",
    "\t\t- user space\n",
    "\t- sys:\n",
    "\t\t- sys-level ops\n",
    "\n",
    "* profilers\n",
    "\t- pprofile3\n",
    "\t- kcachegrind"
   ]
  },
  {
   "cell_type": "markdown",
   "metadata": {},
   "source": [
    "* Concurrency\n",
    "\t- a dedicated field of CS \n",
    "\t- on parallel ops\n",
    "\n",
    "* parallel ops\n",
    "\t- >1 core\n",
    "\t\t- OS decides what gets executed on which core\n",
    "\n",
    "* Threads\n",
    "\t- lets us run parallel tasks inside a process\n",
    "\t- Py: Threading, AsyncIO"
   ]
  },
  {
   "cell_type": "markdown",
   "metadata": {},
   "source": [
    "* Executor\n",
    "\t- process thats in charge of distributing the work among the diff. workers\n",
    "\n",
    "* Futures module\n",
    "\t- Threads\n",
    "\t\t- has more security measures to \n",
    "\t\t- avoid writing to the same var\n",
    "\t\t- (slight delay from t1 to t2, waiting to make sure\n",
    "\t\t- it's not the same var.)\n",
    "\n",
    "\t\t- GIL limitations. (Global Interpreter Lock) \n",
    "\t\t- Limits the utilization of multiple cores\n",
    "    - Processes\n",
    "\t\t- a little faster than threads\n",
    "\t- asyncIO\n",
    "\t\t- more powerful\n",
    "\t\t- bypasses GIL limitations"
   ]
  },
  {
   "cell_type": "markdown",
   "metadata": {},
   "source": [
    "### A problem, hosting data.\n",
    "* Hosting data, increasingly more popular. \n",
    "* Starting with .csv as most people do. \n",
    "* It's getting slower and slower, so you have to switch.\n",
    "* Solution?\n",
    "\t- .csv \n",
    "\t- SQLite\n",
    "\t- DB server\n",
    "\t- Dynamic cacher"
   ]
  },
  {
   "cell_type": "markdown",
   "metadata": {},
   "source": [
    "### Terms and Definitions \n",
    "- (from Course 4, Module 2)\n",
    "\n",
    "* Activity Monitor: \n",
    "\t- Mac OS tool that shows what's using the most CPU, memory, energy, disk, or network\n",
    " \n",
    "* Cache: \n",
    "\t- This stores data in a form that's faster to access than its original form\n",
    " \n",
    "* Executor: \n",
    "\t- This is the process that's in charge of distributing the work among the different workers\n",
    " \n",
    "* Expensive actions: \n",
    "\t- Actions that can take a long time to complete\n",
    " \n",
    "* Futures: \n",
    "\t- A module provides a couple of different executors, one for using threads and the other one for using processes"
   ]
  },
  {
   "cell_type": "markdown",
   "metadata": {},
   "source": [
    "* Lists: \n",
    "\t- Sequences of elements\n",
    " \n",
    "* Memory leak: \n",
    "\t- This happens when a chunk of memory that's no longer needed is not released\n",
    " \n",
    "* Profiler: \n",
    "\t- A tool that measures the resources the code is using to see how the memory is allocated and how the time is spent\n",
    " \n",
    "* Real time: \n",
    "\t- The amount of actual time that it took to execute the command\n",
    " \n",
    "* Resource Monitor (or Performance Monitor): \n",
    "\t- Windows OS tool that shows what's using the most CPU, memory, energy, disk, or network"
   ]
  },
  {
   "cell_type": "markdown",
   "metadata": {},
   "source": [
    "* Sys time: \n",
    "\t- The time spent doing system level operations\n",
    " \n",
    "* Threads: \n",
    "\t- Run parallel tasks inside a process\n",
    " \n",
    "* User time: \n",
    "\t- The time spent doing operations in the user space"
   ]
  },
  {
   "cell_type": "markdown",
   "metadata": {},
   "source": [
    "## W3 : Crashing Programs\n",
    "\n",
    "### General Info:\n",
    "- to find root cause of a crash, look at;\n",
    "\t- logs\n",
    "\t- changes/new versions (change history in VCS maybe?)\n",
    "\t- trace sys/library calls\n",
    "\t- create reproduction case (as small as possible!)\n",
    "\n",
    "* Watchdog:\n",
    "\t- a process that checks whether a program is running, and when it's not, starts the program again.\n",
    "\t\t- run negative -> restart"
   ]
  },
  {
   "cell_type": "markdown",
   "metadata": {},
   "source": [
    "* Answer these questions, when reporting a bug:\n",
    "\t- What were you trying to do?\n",
    "\t- What were steps you followed?\n",
    "\t- What did you expect to happen?\n",
    "\t- What was the actual outcome?\n",
    "\t* Also, try to create a reproduction case and submit it as well. Will help wonders!\n",
    "\n",
    "* Blue screen of death (BSoD)\n",
    "* Event Tracing for Windows (ETW)"
   ]
  },
  {
   "cell_type": "markdown",
   "metadata": {},
   "source": [
    "### Linux Troubleshooting Methods:\n",
    "#### Some Commands:\n",
    "* strace \n",
    "\t- to trace sys calls/signals.\n",
    "* ptrace \n",
    "* netstat \n",
    "\t- gives a bunch of network stats\n",
    "\n",
    "#### Some Directories\n",
    "* /var/log \n",
    "* /etc/<app folder> \n",
    "\t- contains config files\n",
    "* /srv/<app folder>\n",
    "\t- stores data for services&apps\n",
    "\t- i.e. \n",
    "\t\t- \"example.com\" web content (Saved)\n",
    "\t\t- .py files for the service"
   ]
  },
  {
   "cell_type": "markdown",
   "metadata": {},
   "source": [
    "#### Some Tools\n",
    "* memtech86\n",
    "\t- to check for health of RAM\n",
    "\n",
    "### Mac Troubleshooting Methods:\n",
    "* dtruss (cmd)\n",
    "* Console (app)\n",
    "\n",
    "### Windows Troubleshooting Methods:\n",
    "* process monitor (app)\n",
    "* Event Viewer (app)\n",
    "\n",
    "\n"
   ]
  },
  {
   "cell_type": "markdown",
   "metadata": {},
   "source": [
    "# Tips & Hazards\n",
    "* Always check your hypothesis in a TEST env.\n"
   ]
  },
  {
   "cell_type": "markdown",
   "metadata": {},
   "source": [
    "### Some Functions\n",
    "- strace : system trace func\n",
    "    * -o (flag): saves the output to a file [strace -o fail.strace ./script.py]\n",
    "\t\tthen you can use \"less fail.strace\" to browse throught it (open it)\n",
    "\t- \" strace ./script.py | less \" works too.\n",
    "\n",
    "- top\n",
    "\t- shows CPU loads\n",
    "- iotop\n",
    "    - shows I/O loads (input and output)\n",
    "- iostat\n",
    "    - shows statistics on I/O loads\n",
    "- vmstat\n",
    "    - shows stats on VM ops (virtual memory) \n",
    "- ionice\n",
    "    - reduces priority to access the disk (nice I/O)\n",
    "- nice\n",
    "    - reduces priority to access the CPU"
   ]
  },
  {
   "cell_type": "markdown",
   "metadata": {},
   "source": [
    "- iftop\n",
    "    shows network traffic\n",
    "- rsync\n",
    "    used to backup data (sync)\n",
    "    has an option to limit bandwidth (-bw) \n",
    "    # or can use a tool like Trickle to limit bw\n",
    "- kill -STOP \n",
    "\tsuspends the system (pause)"
   ]
  },
  {
   "cell_type": "markdown",
   "metadata": {},
   "source": [
    "### Logs. Which logs to read, where, how?\n",
    "- Linux:\n",
    "\t- var/log/syslog\n",
    "\t- .xsession-errors\n",
    "- macOS:\n",
    "\t- syslogs\n",
    "\t- /Library/Logs\n",
    "- Windows:\n",
    "\t- \"Event Viewer\" tool"
   ]
  }
 ],
 "metadata": {
  "kernelspec": {
   "display_name": "py3",
   "language": "python",
   "name": "python3"
  },
  "language_info": {
   "name": "python",
   "version": "3.8.18"
  }
 },
 "nbformat": 4,
 "nbformat_minor": 2
}
