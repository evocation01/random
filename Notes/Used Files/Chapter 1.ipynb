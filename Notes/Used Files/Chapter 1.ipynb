{
 "cells": [
  {
   "cell_type": "markdown",
   "id": "e658e5a8",
   "metadata": {},
   "source": [
    "# Chapter 1: Solving Equations"
   ]
  },
  {
   "cell_type": "markdown",
   "id": "860a9f8e",
   "metadata": {},
   "source": [
    "## 1.1 Bisection Method"
   ]
  },
  {
   "cell_type": "markdown",
   "id": "f026aa0e",
   "metadata": {},
   "source": [
    "If the continious function $f(x)$ has root at $x=r$ on the interval $[a,b]$, the root can be calculated within the given tolerance using the following code: \n"
   ]
  },
  {
   "cell_type": "code",
   "execution_count": null,
   "id": "1055ea92",
   "metadata": {},
   "outputs": [],
   "source": [
    "def bisect(f, a, b, tol):\n",
    "    if f(a) * f(b) >= 0:\n",
    "        raise ValueError('f(a)f(b)<0 not satisfied!')\n",
    "\n",
    "    fa = f(a)\n",
    "    fb = f(b)\n",
    "\n",
    "    while (b - a) / 2 > tol:\n",
    "        c = (a + b) / 2\n",
    "        fc = f(c)\n",
    "\n",
    "        if fc == 0:\n",
    "            break  # c is a solution, done\n",
    "\n",
    "        if fc * fa < 0:\n",
    "            b = c\n",
    "            fb = fc\n",
    "        else:\n",
    "            a = c\n",
    "            fa = fc\n",
    "\n",
    "    xc = (a + b) / 2  # new midpoint is the best estimate\n",
    "    return xc\n",
    "\n"
   ]
  },
  {
   "cell_type": "markdown",
   "id": "029d3926",
   "metadata": {},
   "source": [
    "In order to find the root of $f(x) = x^3 + x -1 $ on the interval $[0,1]$ we can use:"
   ]
  },
  {
   "cell_type": "code",
   "execution_count": null,
   "id": "bc1a0c2e",
   "metadata": {},
   "outputs": [],
   "source": [
    "#%%timeit\n",
    "def func(x):\n",
    "    return x**3 + x - 1\n",
    "\n",
    "xc = bisect(func, 0, 1, 0.00000000005)\n",
    "print(xc)"
   ]
  },
  {
   "cell_type": "markdown",
   "id": "b1b86212",
   "metadata": {},
   "source": [
    "In order to evaluate the cosine function, first we need to import the numpy library:"
   ]
  },
  {
   "cell_type": "code",
   "execution_count": null,
   "id": "965f4cff",
   "metadata": {},
   "outputs": [],
   "source": [
    "import numpy as np"
   ]
  },
  {
   "cell_type": "markdown",
   "id": "b6921fb3",
   "metadata": {},
   "source": [
    "Then to find the root of $f(x) = \\cos x - x$  on the interval $[0,1]$ to 6 decimal places we can use:"
   ]
  },
  {
   "cell_type": "code",
   "execution_count": null,
   "id": "b92fd4f4",
   "metadata": {},
   "outputs": [],
   "source": [
    "%%timeit\n",
    "def func(x):\n",
    "    return np.cos(x) - x\n",
    "\n",
    "xc = bisect(func, 0, 1, 0.000001)\n",
    "#print(xc)"
   ]
  },
  {
   "cell_type": "code",
   "execution_count": null,
   "id": "15e280d6",
   "metadata": {},
   "outputs": [],
   "source": [
    "%%timeit\n",
    "def func(x):\n",
    "    return np.cos(x) - x\n",
    "\n",
    "xc = bisect(func, 0, 1, 0.000000001)\n",
    "#print(xc)"
   ]
  },
  {
   "cell_type": "markdown",
   "id": "f33cc447",
   "metadata": {},
   "source": [
    "## 1.2 Fixed-Point Iteration"
   ]
  },
  {
   "cell_type": "markdown",
   "id": "6a304361",
   "metadata": {},
   "source": [
    "The real number $r$ is a fixed point of the function $g(x)$ if $g(r)=r$. The following code implements the fixed-point iteration in python:"
   ]
  },
  {
   "cell_type": "code",
   "execution_count": null,
   "id": "87cdcd4e",
   "metadata": {},
   "outputs": [],
   "source": [
    "import numpy as np\n",
    "\n",
    "def fpi(g, x0, k):\n",
    "    x = np.zeros(k+2)\n",
    "    x[0] = x0\n",
    "    for i in range(k):\n",
    "        x[i+1] = g(x[i])\n",
    "    xc = x[k]\n",
    "    return xc"
   ]
  },
  {
   "cell_type": "markdown",
   "id": "d8f9545a",
   "metadata": {},
   "source": [
    "Fixed point of $g(x) = \\cos x$ can be calculated as:"
   ]
  },
  {
   "cell_type": "code",
   "execution_count": null,
   "id": "f27f3bd6",
   "metadata": {},
   "outputs": [],
   "source": [
    "# Example usage with g(x) = cos(x)\n",
    "def g(x):\n",
    "    return np.cos(x)\n",
    "xc = fpi(g, 0, 10)\n",
    "print(xc)"
   ]
  },
  {
   "cell_type": "markdown",
   "id": "94cb7dd7",
   "metadata": {},
   "source": [
    "Let's slightly modify the function fpi to present a table:"
   ]
  },
  {
   "cell_type": "code",
   "execution_count": null,
   "id": "466ab66a",
   "metadata": {},
   "outputs": [],
   "source": [
    "import numpy as np\n",
    "\n",
    "def fpiTable(g, x0, k):\n",
    "    x = np.zeros(k+2)\n",
    "    x[0] = x0\n",
    "    print(\"|  i |        x_i        |\")\n",
    "    print(\"|----|-------------------|\")\n",
    "    for i in range(k):\n",
    "        x[i+1] = g(x[i])\n",
    "        print(f\"| {i:2} | { x[i]:.15f} |\")\n",
    "    xc = x[k]\n",
    "    print(f\"| {k:2} | { xc:.15f} |\")\n",
    "    return xc"
   ]
  },
  {
   "cell_type": "code",
   "execution_count": null,
   "id": "190b6f2d",
   "metadata": {},
   "outputs": [],
   "source": [
    "xc = fpiTable(g, 0, 10)\n",
    "print(xc)"
   ]
  },
  {
   "cell_type": "markdown",
   "id": "42a26df8",
   "metadata": {},
   "source": [
    "For $g(x) = 1- x^3$ we can use:"
   ]
  },
  {
   "cell_type": "code",
   "execution_count": null,
   "id": "56feb0b7",
   "metadata": {},
   "outputs": [],
   "source": [
    "def g(x):\n",
    "    return 1 - x**3\n",
    "xc = fpiTable(g, 0.5, 15)\n"
   ]
  },
  {
   "cell_type": "markdown",
   "id": "7c50c574",
   "metadata": {},
   "source": [
    "Using $g(x) = \\sqrt[3]{1- x}$ we get:"
   ]
  },
  {
   "cell_type": "code",
   "execution_count": null,
   "id": "105a6fe6",
   "metadata": {},
   "outputs": [],
   "source": [
    "def g(x):\n",
    "    return (1 - x)**(1/3)\n",
    "xc = fpiTable(g, 0.5, 15)"
   ]
  },
  {
   "cell_type": "markdown",
   "id": "85adbbcd",
   "metadata": {},
   "source": [
    "Lastly with $g(x) = \\frac{1+2x^3}{1+3x^2}$ we get:"
   ]
  },
  {
   "cell_type": "code",
   "execution_count": null,
   "id": "ede1e0fd",
   "metadata": {},
   "outputs": [],
   "source": [
    "def g(x):\n",
    "    return (1 + 2*x**3)/(1+3*x**2)\n",
    "xc = fpiTable(g, 0.5, 15)"
   ]
  },
  {
   "cell_type": "markdown",
   "id": "70a9b4b4",
   "metadata": {},
   "source": [
    "We can modify or FPI function to show the errors:"
   ]
  },
  {
   "cell_type": "code",
   "execution_count": null,
   "id": "977ddf32",
   "metadata": {},
   "outputs": [],
   "source": [
    "def fpiErrors(g, x0, k):\n",
    "    x = np.zeros(k+2)\n",
    "    e = np.zeros(k+2)\n",
    "    x[0] = x0\n",
    "    #calculate the values first\n",
    "    for i in range(k):\n",
    "        x[i+1] = g(x[i])\n",
    "    xc = x[k]\n",
    "    #now construct the table\n",
    "    print(\"|  i |        x_i        |       g(x_i)      |        e_i        |     e_i/e_{i-1}   |\")\n",
    "    print(\"|----|-------------------|-------------------|-------------------|-------------------|\")\n",
    "    for i in range (k):\n",
    "        e[i]= abs(xc - x[i])\n",
    "        print(f\"| {i:2} | { x[i]:.15f} | { g(x[i]):.15f} | { e[i]:.15f} | { e[i]/e[i-1]:.15f} |\")\n",
    "    print(f\"| {k:2} | { xc:.15f} |\")\n",
    "    return xc\n"
   ]
  },
  {
   "cell_type": "code",
   "execution_count": null,
   "id": "b904863b",
   "metadata": {},
   "outputs": [],
   "source": [
    "xc = fpiErrors(g, 1, 10)"
   ]
  },
  {
   "cell_type": "markdown",
   "id": "c2be2aac",
   "metadata": {},
   "source": [
    "And use it to find the root of $\\sin x = \\cos x$:"
   ]
  },
  {
   "cell_type": "code",
   "execution_count": null,
   "id": "4242b0c8",
   "metadata": {},
   "outputs": [],
   "source": [
    "def g(x):\n",
    "    return x + np.cos(x) - np.sin(x)\n",
    "xc = fpiErrors(g, 1, 20)"
   ]
  },
  {
   "cell_type": "markdown",
   "id": "ddd3bf29",
   "metadata": {},
   "source": [
    "To find the fixed points of $g(x) = 2.8x - x^2$ we use:"
   ]
  },
  {
   "cell_type": "code",
   "execution_count": null,
   "id": "7bceda30",
   "metadata": {
    "scrolled": true
   },
   "outputs": [],
   "source": [
    "def g(x):\n",
    "    return 2.8*x -x**2\n",
    "xc = fpiTable(g, 0.1, 15)\n",
    "xc = fpiTable(g, 1, 3)\n",
    "xc = fpiTable(g, -0.1, 10)\n",
    "xc = fpiTable(g, 2, 15)"
   ]
  },
  {
   "cell_type": "markdown",
   "id": "6c4aa768",
   "metadata": {},
   "source": [
    "## 1.3 Limits of Accuracy"
   ]
  },
  {
   "cell_type": "markdown",
   "id": "0df10ea4",
   "metadata": {},
   "source": [
    "Consider the function $f(x) = x^3 -2x^2 +\\frac{4}{3}x - \\frac{8}{27}$, which has a root at $x = \\frac{2}{3}$. We can use the bisection method and obtain:"
   ]
  },
  {
   "cell_type": "code",
   "execution_count": null,
   "id": "104fce13",
   "metadata": {},
   "outputs": [],
   "source": [
    "def func(x):\n",
    "    return x**3 -2* x**2 + 4/3 * x - 8/27\n",
    "\n",
    "xc = bisect(func, 0, 1, 0.00000000005)\n",
    "print(xc)"
   ]
  },
  {
   "cell_type": "markdown",
   "id": "31a70f34",
   "metadata": {},
   "source": [
    "Clearly this is not within the specified tolerance of $0.00000000005$. Fixed point iteration does not perform any better, feel free to check using either $g(x) = \\sqrt[3]{2x^2-\\frac{4}{3}x+\\frac{8}{27}}$ or $g(x) = -\\frac{3}{4}x^3-\\frac{3}{2}x^2+\\frac{2}{9}$, neither can compute more than 6 correct decimal digits and both converge very slowly.\n",
    "In order to investigate the cause of this issue, let's try plotting the calculated values of $f(x)$ near the root $r=\\frac{2}{3}$."
   ]
  },
  {
   "cell_type": "code",
   "execution_count": null,
   "id": "3b81c117",
   "metadata": {},
   "outputs": [],
   "source": [
    "import matplotlib.pyplot as plt\n",
    "a = 0.666660\n",
    "b = 0.666674\n",
    "step = 10**-7\n",
    "for i in range(0, 140):\n",
    "    x = a+i*step\n",
    "    plt.scatter(x, func(x))\n",
    "    print(func(x))\n",
    "plt.xlim([a, b])\n",
    "plt.ylim([-10**-15, 10**-15])\n",
    "plt.show()"
   ]
  },
  {
   "cell_type": "markdown",
   "id": "7bff5e2b",
   "metadata": {},
   "source": [
    "Due to rounding error, there are multiple \"roots\" near $\\frac{2}{3}$. Note that majority of the non-zero $f(x)$ values are $\\pm 2^{-53}\\approx 1.11E-16$ which is $\\frac{1}{2}\\epsilon_{mach}$. "
   ]
  },
  {
   "cell_type": "markdown",
   "id": "ab79417d",
   "metadata": {},
   "source": [
    "Recall that error is defined as:\n",
    "$$E = True\\  value - approximation$$\n",
    "For function $f$ with root at $r$, assume that $x_a$ is an approximation to $r$. We can define the error in our approximation in two ways: $|f(x_a)|$ is called the **backward error** and $|r-x_a|$ is called the **forward error**. \n",
    "The problem is, because $f(x)$ is very flat near the root, very small backward error (on the order of $\\epsilon_{mach}$) causes significant forward error (on the order of $10^{-5}$). The relationship between the forward and backward errors is called:\n",
    "$$\\textrm{error magnification factor} = \\frac{\\textrm{relative forward error}}{\\textrm{relative backward error}}$$\n",
    "\n",
    "In this case, the issue is $f(x)$ has a triple root at $\\frac{2}{3}$. i.e. $f(x) = f'(x) = f''(x) = 0$. Formally, multiplicity is defined as:\n",
    "Let $f(x)$ be a differentiable function at root $r$, if $ f(r) = f'(r) = f''(r) = ... = f^{m-1}(r) = 0$ but $f^{m}(r) \\neq 0$ then $f$ has root multiplicity of $m$ at $r$. \n"
   ]
  },
  {
   "cell_type": "markdown",
   "id": "f90d3a5c",
   "metadata": {},
   "source": [
    "Unfortunately, multiplicity is not the only cause of such rounding errors.\n",
    "Wilkinson polynomial is defined as: \n",
    "$$W(x) = (x-1)(x-2)...(x-20) $$\n",
    "Let's use scipy's root finding functions to determine its roots:"
   ]
  },
  {
   "cell_type": "code",
   "execution_count": null,
   "id": "b3d94397",
   "metadata": {},
   "outputs": [],
   "source": [
    "from scipy.optimize import root_scalar"
   ]
  },
  {
   "cell_type": "code",
   "execution_count": null,
   "id": "a90550b7",
   "metadata": {},
   "outputs": [],
   "source": [
    "def wilk(x):\n",
    "    return x**20 - 210*x**19 + 20615*x**18 - 1256850*x**17 + 53327946*x**16 - 1672280820*x**15 + 40171771630*x**14 - 756111184500*x**13 + 11310276995381*x**12 - 135585182899530*x**11 + 1307535010540395*x**10 - 10142299865511450*x**9 + 63030812099294896*x**8 - 311333643161390640*x**7 + 1206647803780373360*x**6 - 3599979517947607200*x**5 + 8037811822645051776*x**4 - 12870931245150988800*x**3 + 13803759753640704000*x**2 - 8752948036761600000*x + 2432902008176640000\n",
    "r = root_scalar(wilk, bracket=[16.5, 17.5], method='brentq')\n",
    "print(r)"
   ]
  },
  {
   "cell_type": "markdown",
   "id": "16529599",
   "metadata": {},
   "source": [
    "## 1.4 Newton's Method"
   ]
  },
  {
   "cell_type": "markdown",
   "id": "1afa66f7",
   "metadata": {},
   "source": [
    "We can use the following function to implement Newton's method:"
   ]
  },
  {
   "cell_type": "code",
   "execution_count": null,
   "id": "9d4984d6",
   "metadata": {},
   "outputs": [],
   "source": [
    "def NewMethod(f, ff, x0, k):\n",
    "    x = np.zeros(k+2)\n",
    "    e = np.zeros(k+2)\n",
    "    x[0] = x0\n",
    "    for i in range(k):\n",
    "        x[i+1] = x[i] - f(x[i])/ff(x[i])\n",
    "    xc = x[k]\n",
    "    print(\"|  i |        x_i        |        e_i        |  e_i/(e_{i-1}^2)  |\")\n",
    "    print(\"|----|-------------------|-------------------|-------------------|\")\n",
    "    for i in range(k):\n",
    "        e[i] = abs(x[i]-xc)\n",
    "        print(f\"| {i:2} | { x[i]:.15f} | { e[i]:.15f} |{ e[i]/e[i-1]**2:.15f} |\")\n",
    "    print(f\"| {k:2} | { xc:.15f} |\")\n",
    "    return xc"
   ]
  },
  {
   "cell_type": "markdown",
   "id": "b6dda062",
   "metadata": {},
   "source": [
    "In order to find the root of $f(x) = x^3 + x -1 $ using Newton'e method with the starting value of $x_0 = -0.7$ we can use:"
   ]
  },
  {
   "cell_type": "code",
   "execution_count": null,
   "id": "a6270f8e",
   "metadata": {},
   "outputs": [],
   "source": [
    "def f(x):\n",
    "    return x**3 + x - 1\n",
    "def df(x):\n",
    "    return 3*x**2+1\n",
    "xc = NewMethod(f, df, -0.7, 7)\n"
   ]
  },
  {
   "cell_type": "markdown",
   "id": "cba3ac5a",
   "metadata": {},
   "source": [
    "Using the same method to find the root of $f(x) = x^2$ yields:"
   ]
  },
  {
   "cell_type": "code",
   "execution_count": null,
   "id": "1b1c5815",
   "metadata": {},
   "outputs": [],
   "source": [
    "def NewMethod(f, ff, x0, k):\n",
    "    x = np.zeros(k+2)\n",
    "    e = np.zeros(k+2)\n",
    "    x[0] = x0\n",
    "    for i in range(k):\n",
    "        x[i+1] = x[i] - f(x[i])/ff(x[i])\n",
    "    xc = x[k]\n",
    "    print(\"|  i |        x_i        |        e_i        |  e_i/e_{i-1}  |\")\n",
    "    print(\"|----|-------------------|-------------------|-------------------|\")\n",
    "    for i in range(k):\n",
    "        e[i] = abs(x[i]-xc)\n",
    "        print(f\"| {i:2} | { x[i]:.15f} | { e[i]:.15f} |{ e[i]/e[i-1]:.15f} |\")\n",
    "    print(f\"| {k:2} | { xc:.15f} |\")\n",
    "    return xc\n",
    "\n",
    "def f(x):\n",
    "    return x**2\n",
    "def df(x):\n",
    "    return 2*x\n",
    "xc = NewMethod(f, df, 1, 15)"
   ]
  },
  {
   "cell_type": "markdown",
   "id": "ea3678ef",
   "metadata": {},
   "source": [
    "For the function $f(x) = \\sin x + x^{2} \\cos x - x^2 - x$ which has multiplicity of $m = 3$ we get:"
   ]
  },
  {
   "cell_type": "code",
   "execution_count": null,
   "id": "fa0f2740",
   "metadata": {},
   "outputs": [],
   "source": [
    "def f(x):\n",
    "    return np.sin(x) + x**2 * np.cos(x) - x**2 - x \n",
    "def df(x):\n",
    "    return np.cos(x) + 2*x*np.cos(x) - x**2 * np.sin(x) -2*x -1\n",
    "xc = NewMethod(f, df, 1, 35)"
   ]
  },
  {
   "cell_type": "markdown",
   "id": "c5bd3f99",
   "metadata": {},
   "source": [
    "When multiplicity is known, we can use the Modified Newton's Method:"
   ]
  },
  {
   "cell_type": "code",
   "execution_count": null,
   "id": "afc0bd58",
   "metadata": {},
   "outputs": [],
   "source": [
    "def ModNewMethod(f, ff, x0, k, m):\n",
    "    x = np.zeros(k+2)\n",
    "    e = np.zeros(k+2)\n",
    "    x[0] = x0\n",
    "    for i in range(k):\n",
    "        x[i+1] = x[i] - m * f(x[i])/ff(x[i])\n",
    "    xc = x[k]\n",
    "    print(\"|  i |        x_i        |        e_i        |  e_i/e_{i-1}  |\")\n",
    "    print(\"|----|-------------------|-------------------|-------------------|\")\n",
    "    for i in range(k):\n",
    "        e[i] = abs(x[i]-xc)\n",
    "        print(f\"| {i:2} | { x[i]:.15f} | { e[i]:.15f} |{ e[i]/e[i-1]:.15f} |\")\n",
    "    print(f\"| {k:2} | { xc:.15f} |\")\n",
    "    return xc\n",
    "\n",
    "def f(x):\n",
    "    return np.sin(x) + x**2 * np.cos(x) - x**2 - x \n",
    "def df(x):\n",
    "    return np.cos(x) + 2*x*np.cos(x) - x**2 * np.sin(x) -2*x -1\n",
    "xc = ModNewMethod(f, df, 1, 5,3)"
   ]
  },
  {
   "cell_type": "code",
   "execution_count": null,
   "id": "ca46ab3b",
   "metadata": {},
   "outputs": [],
   "source": [
    "def f(x):\n",
    "    return x**2\n",
    "def df(x):\n",
    "    return 2*x \n",
    "xc = ModNewMethod(f, df, 5, 2, 2)"
   ]
  },
  {
   "cell_type": "markdown",
   "id": "92cde7d6",
   "metadata": {},
   "source": [
    "## 1.5 Root-finding without Derivatives"
   ]
  },
  {
   "cell_type": "markdown",
   "id": "352faf79",
   "metadata": {},
   "source": [
    "In order to find the root of $f(x) = x^3 + x - 1$ using the Secant method, we can use:"
   ]
  },
  {
   "cell_type": "code",
   "execution_count": null,
   "id": "895dfc81",
   "metadata": {},
   "outputs": [],
   "source": [
    "def secant(g, x0, x1, k):\n",
    "    x = np.zeros(k+2)\n",
    "    x[0] = x0\n",
    "    x[1] = x1\n",
    "    print(\"|  i |        x_i        |\")\n",
    "    print(\"|----|-------------------|\")\n",
    "    for i in range(k):\n",
    "        x[i+2] = x[i+1] - g(x[i+1])*(x[i+1]-x[i])/(g(x[i+1])-g(x[i]))\n",
    "        print(f\"| {i:2} | { x[i]:.15f} |\")\n",
    "    xc = x[k+1]\n",
    "    print(f\"| {k:2} | { xc:.15f} |\")\n",
    "    return xc\n",
    "\n",
    "def g(x):\n",
    "    return x**3 + x - 1\n",
    "\n",
    "secant(g,0,1,8)"
   ]
  },
  {
   "cell_type": "markdown",
   "id": "d48af2a6",
   "metadata": {},
   "source": [
    "Method of False Position or Regula Falsi is similar to bisection method but uses a secant based approximation instead of the midpoint:"
   ]
  },
  {
   "cell_type": "code",
   "execution_count": null,
   "id": "b0b2a665",
   "metadata": {},
   "outputs": [],
   "source": [
    "def MFP(f, a, b, tol):\n",
    "    if f(a) * f(b) >= 0:\n",
    "        raise ValueError('f(a)f(b)<0 not satisfied!')\n",
    "\n",
    "    fa = f(a)\n",
    "    fb = f(b)\n",
    "    i = 1\n",
    "    \n",
    "    print(\"|  i |         a         |         b         |         c         |\")\n",
    "    print(\"|----|-------------------|-------------------|-------------------|\")\n",
    "    \n",
    "    while (b - a) / 2 > tol:\n",
    "        c = (b*f(a)-a*f(b))/(f(a)-f(b))\n",
    "        fc = f(c)\n",
    "        print(f\"| {i:2} | { a:.15f} | { b:.15f} | { c:.15f} |\")\n",
    "        \n",
    "        if fc == 0:\n",
    "            break  # c is a solution, done\n",
    "\n",
    "        if fc * fa < 0:\n",
    "            b = c\n",
    "            fb = fc\n",
    "        else:\n",
    "            a = c\n",
    "            fa = fc\n",
    "        i+= 1\n",
    "    xc = (b*f(a)-a*f(b))/(f(a)-f(b))  # new c is best estimate\n",
    "    return xc"
   ]
  },
  {
   "cell_type": "markdown",
   "id": "23894784",
   "metadata": {},
   "source": [
    "We can use the Method of False Position to find the root of $f(x) = x^3 - 2 x^2 + \\frac{3}{2}x$ on the interval $[-1,1]$:"
   ]
  },
  {
   "cell_type": "code",
   "execution_count": null,
   "id": "5adf25be",
   "metadata": {},
   "outputs": [],
   "source": [
    "def func(x):\n",
    "    return x**3 -2*x**2 + 3*x/2\n",
    "\n",
    "MFP(func, -1, 1, 0.0000001)"
   ]
  }
 ],
 "metadata": {
  "kernelspec": {
   "display_name": "Python 3 (ipykernel)",
   "language": "python",
   "name": "python3"
  },
  "language_info": {
   "codemirror_mode": {
    "name": "ipython",
    "version": 3
   },
   "file_extension": ".py",
   "mimetype": "text/x-python",
   "name": "python",
   "nbconvert_exporter": "python",
   "pygments_lexer": "ipython3",
   "version": "3.10.9"
  }
 },
 "nbformat": 4,
 "nbformat_minor": 5
}
