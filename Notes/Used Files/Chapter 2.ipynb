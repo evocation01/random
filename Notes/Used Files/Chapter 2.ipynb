{
 "cells": [
  {
   "cell_type": "markdown",
   "id": "0ee52a6d",
   "metadata": {},
   "source": [
    "# Chapter 2: Systems of Equations\n",
    "## 2.4 PA=LU Factorization"
   ]
  },
  {
   "cell_type": "markdown",
   "id": "c960d3b8",
   "metadata": {},
   "source": [
    "Scipy library of Phyton includes a function for LU factorization, in order to use it first numpy and scipy need to be imported. Then the function can be used as follows:"
   ]
  },
  {
   "cell_type": "code",
   "execution_count": null,
   "id": "65d6d957",
   "metadata": {},
   "outputs": [],
   "source": [
    "import numpy as np\n",
    "from scipy.linalg import lu\n",
    "\n",
    "A = np.array([[2, 1, 5], [4, 4, -4], [1, 3, 1]])\n",
    "\n",
    "P, L, U = lu(A)\n",
    "\n",
    "print(\"P matrix:\")\n",
    "print(P)\n",
    "print(\"\\nL matrix:\")\n",
    "print(L)\n",
    "print(\"\\nU matrix:\")\n",
    "print(U)\n"
   ]
  },
  {
   "cell_type": "markdown",
   "id": "5a933da6",
   "metadata": {},
   "source": [
    "## 2.5 Iterative methods"
   ]
  },
  {
   "cell_type": "markdown",
   "id": "3c8e850b",
   "metadata": {},
   "source": [
    "The following phyton functions can be to implement the Jacobi Method, Gauss-Seidel Method and SOR respectively:"
   ]
  },
  {
   "cell_type": "code",
   "execution_count": null,
   "id": "2e3d645b",
   "metadata": {},
   "outputs": [],
   "source": [
    "import numpy as np\n",
    "\n",
    "def jacobi_solver(A, b, tol=1e-6, max_iter=1000):\n",
    "    n = len(b)\n",
    "    x = np.zeros_like(b,dtype=float)\n",
    "    \n",
    "    print ('|  i |       u'+'      |       u'.join(['%-2s' % (i+1,) for i in range(n)])+'      |')\n",
    "    print(\"|----|\" + n*\"----------------|\")\n",
    "\n",
    "    for k in range(max_iter):\n",
    "        x_old = x.copy()\n",
    "        print(f\"| {k:2} |\"+'|'.join(['%.14f' % (x[j],) for j in range(n)])+'|')\n",
    "\n",
    "        for i in range(n):\n",
    "            sigma = np.dot(A[i, :i], x_old[:i]) + np.dot(A[i, i + 1:], x_old[i + 1:])\n",
    "            x[i] = (b[i] - sigma) / A[i, i]\n",
    "\n",
    "        if np.linalg.norm(x - x_old, ord=np.inf) < tol:\n",
    "            return x, k + 1\n",
    "\n",
    "    raise ValueError(\"Jacobi method did not converge within the maximum number of iterations\")\n"
   ]
  },
  {
   "cell_type": "code",
   "execution_count": null,
   "id": "b196834c",
   "metadata": {},
   "outputs": [],
   "source": [
    "def gauss_seidel_solver(A, b, tol=1e-6, max_iter=1000):\n",
    "    n = len(b)\n",
    "    x = np.zeros_like(b,dtype=float)\n",
    "    \n",
    "    print ('|  i |       u'+'      |       u'.join(['%-2s' % (i+1,) for i in range(n)])+'      |')\n",
    "    print(\"|----|\" + n*\"----------------|\")\n",
    "\n",
    "    for k in range(max_iter):\n",
    "        x_old = x.copy()\n",
    "        print(f\"| {k:2} |\"+'|'.join(['%.14f' % (x[j],) for j in range(n)])+'|')\n",
    "\n",
    "        for i in range(n):\n",
    "            sigma = np.dot(A[i, :i], x[:i]) + np.dot(A[i, i + 1:], x_old[i + 1:])\n",
    "            x[i] = (b[i] - sigma) / A[i, i]\n",
    "\n",
    "        if np.linalg.norm(x - x_old, ord=np.inf) < tol:\n",
    "            return x, k + 1\n",
    "\n",
    "    raise ValueError(\"Gauss-Seidel method did not converge within the maximum number of iterations\")\n"
   ]
  },
  {
   "cell_type": "code",
   "execution_count": null,
   "id": "0e8464b5",
   "metadata": {},
   "outputs": [],
   "source": [
    "def sor_solver(A, b, omega, tol=1e-6, max_iter=1000):\n",
    "    n = len(b)\n",
    "    x = np.zeros_like(b,dtype=float)\n",
    "    \n",
    "    #print ('|  i |       u'+'      |       u'.join(['%-2s' % (i+1,) for i in range(n)])+'      |')\n",
    "    #print(\"|----|\" + n*\"----------------|\")\n",
    "\n",
    "    for k in range(max_iter):\n",
    "        x_old = x.copy()\n",
    "        #print(f\"| {k:2} |\"+'|'.join(['%.14f' % (x[j],) for j in range(n)])+'|')\n",
    "        for i in range(n):\n",
    "            sigma = np.dot(A[i, :i], x[:i]) + np.dot(A[i, i + 1:], x_old[i + 1:])\n",
    "            x[i] = (1 - omega) * x_old[i] + (omega / A[i, i]) * (b[i] - sigma)\n",
    "            \n",
    "        \n",
    "        \n",
    "        if np.linalg.norm(x - x_old, ord=np.inf) < tol:\n",
    "            return x, k + 1\n",
    "\n",
    "    raise ValueError(\"SOR did not converge within the maximum number of iterations\")\n",
    "\n",
    "# Example usage\n",
    "A = np.array([[3, 1, -1],\n",
    "              [2, 4, 1],\n",
    "              [-1, 2, 5]])\n",
    "\n",
    "b = np.array([4, 1, 1])\n",
    "\n",
    "omega = 1.1  # Relaxation parameter\n",
    "\n",
    "solution, iterations = sor_solver(A, b, omega)\n",
    "print(\"Solution:\", solution)\n",
    "print(\"Number of iterations:\", iterations)\n"
   ]
  },
  {
   "cell_type": "markdown",
   "id": "6913a318",
   "metadata": {},
   "source": [
    "We can try these algorithms to solve the system defined by $A=\\begin{bmatrix}3 & 1 \\\\1 & 1 \\end{bmatrix}$ and $b=\\begin{bmatrix}5\\\\5\\end{bmatrix}$"
   ]
  },
  {
   "cell_type": "code",
   "execution_count": null,
   "id": "3c293d87",
   "metadata": {},
   "outputs": [],
   "source": [
    "A = np.array([[3, 1],\n",
    "              [1, 2]])\n",
    "\n",
    "b = np.array([5, 5])\n",
    "\n",
    "print(\"Jacobi solver gives:\")\n",
    "solution, iterations = jacobi_solver(A, b)\n",
    "print(\"Solution:\", solution)\n",
    "print(\"Number of iterations:\", iterations)\n",
    "\n",
    "print(\"Gauss-Seidel gives:\")\n",
    "solution, iterations = gauss_seidel_solver(A, b)\n",
    "print(\"Solution:\", solution)\n",
    "print(\"Number of iterations:\", iterations)\n",
    "\n",
    "omega = 1.1  # Relaxation parameter\n",
    "\n",
    "print(\"Succesive Over-Relaxation gives:\")\n",
    "solution, iterations = sor_solver(A, b, omega)\n",
    "print(\"Solution:\", solution)\n",
    "print(\"Number of iterations:\", iterations)"
   ]
  },
  {
   "cell_type": "markdown",
   "id": "d6e77921",
   "metadata": {},
   "source": [
    "Similarly we can solve $A=\\begin{bmatrix}3 & 1 & -1 \\\\2 & 4 & 1 \\\\ -1 & 2 & 5 \\end{bmatrix}$ and $b=\\begin{bmatrix}4\\\\1\\\\1\\end{bmatrix}$"
   ]
  },
  {
   "cell_type": "code",
   "execution_count": null,
   "id": "5bc66b09",
   "metadata": {},
   "outputs": [],
   "source": [
    "# Example usage\n",
    "A = np.array([[3, 1, -1],\n",
    "              [2, 4, 1],\n",
    "              [-1, 2, 5]])\n",
    "\n",
    "b = np.array([4, 1, 1])\n",
    "\n",
    "print(\"Jacobi solver gives:\")\n",
    "solution, iterations = jacobi_solver(A, b)\n",
    "print(\"Solution:\", solution)\n",
    "print(\"Number of iterations:\", iterations)\n",
    "\n",
    "print(\"Gauss-Seidel gives:\")\n",
    "solution, iterations = gauss_seidel_solver(A, b)\n",
    "print(\"Solution:\", solution)\n",
    "print(\"Number of iterations:\", iterations)\n",
    "\n",
    "omega = 1.2  # Relaxation parameter\n",
    "\n",
    "print(\"Succesive Over-Relaxation gives:\")\n",
    "solution, iterations = sor_solver(A, b, omega)\n",
    "print(\"Solution:\", solution)\n",
    "print(\"Number of iterations:\", iterations)"
   ]
  },
  {
   "cell_type": "markdown",
   "id": "95b4b90e",
   "metadata": {},
   "source": [
    "Lastly we can solve the system on Example 2.24 using: "
   ]
  },
  {
   "cell_type": "code",
   "execution_count": null,
   "id": "67ec4c26",
   "metadata": {},
   "outputs": [],
   "source": [
    "# Example usage\n",
    "A = np.array([[3, -1, 0, 0, 0, 0.5],\n",
    "              [-1, 3, -1, 0, 0.5, 0],\n",
    "              [0, -1, 3, -1, 0, 0],\n",
    "              [0, 0, -1, 3, -1, 0],\n",
    "              [0, 0.5, 0, -1, 3, -1],\n",
    "              [0.5, 0, 0, 0, -1, 3]])\n",
    "\n",
    "b = np.array([2.5, 1.5, 1, 1, 1.5, 2.5])\n",
    "\n",
    "print(\"Jacobi solver gives:\")\n",
    "solution, iterations = jacobi_solver(A, b)\n",
    "print(\"Solution:\", solution)\n",
    "print(\"Number of iterations:\", iterations)\n",
    "\n",
    "print(\"Gauss-Seidel gives:\")\n",
    "solution, iterations = gauss_seidel_solver(A, b)\n",
    "print(\"Solution:\", solution)\n",
    "print(\"Number of iterations:\", iterations)\n",
    "\n",
    "omega = 1.25  # Relaxation parameter\n",
    "\n",
    "print(\"Succesive Over-Relaxation gives:\")\n",
    "solution, iterations = sor_solver(A, b, omega)\n",
    "print(\"Solution:\", solution)\n",
    "print(\"Number of iterations:\", iterations)"
   ]
  },
  {
   "cell_type": "markdown",
   "id": "90009906",
   "metadata": {},
   "source": [
    "### 2.5.4 Sparse Matrix Computations"
   ]
  },
  {
   "cell_type": "markdown",
   "id": "85067434",
   "metadata": {},
   "source": [
    "A matrix is called **sparse** matrix, if most of the entires are zero. When Gaussian elimination is applied to a sparse matrix, zero elements are usually filled in,  making the **$PA=LU$** implementation ineffecitive. Therefore, iterative methods are generally better suited for sparse matrices."
   ]
  },
  {
   "cell_type": "markdown",
   "id": "265d5811",
   "metadata": {},
   "source": [
    "To illusrate use of iterative methods on sparse matrices, let's extend the previous example to $n \\times n$ using the following phyton function: "
   ]
  },
  {
   "cell_type": "code",
   "execution_count": null,
   "id": "9040f2e9",
   "metadata": {},
   "outputs": [],
   "source": [
    "import numpy as np\n",
    "from scipy.sparse import diags\n",
    "\n",
    "def sparsesetup(n):\n",
    "    e = np.ones(n)\n",
    "    n2 = n // 2\n",
    "\n",
    "    # Create the sparse matrix a\n",
    "    diagonals = [-e, 3*e, -e]\n",
    "    offsets = [-1, 0, 1]\n",
    "    a = diags(diagonals, offsets, shape=(n, n), format='csr')\n",
    "\n",
    "    # Fix up 2 entries\n",
    "    a[n2, n2 - 1] = -1\n",
    "    a[n2 - 1, n2] = -1\n",
    "\n",
    "    # Add the additional diagonal matrix c\n",
    "    c = diags([e/2], [0], shape=(n, n), format='csr')\n",
    "    c = c[:, ::-1]  # Flip the matrix horizontally\n",
    "    a = a + c\n",
    "\n",
    "    # Create the r.h.s. b\n",
    "    b = np.zeros(n)\n",
    "    b[0] = 2.5\n",
    "    b[n - 1] = 2.5\n",
    "    b[1:n-1] = 1.5\n",
    "    b[n2:n2+2] = 1\n",
    "\n",
    "    return a, b\n",
    "\n",
    "# Example usage:\n",
    "n = 14\n",
    "sparse_matrix, rhs_vector = sparsesetup(n)\n",
    "print(\"Sparse Matrix:\")\n",
    "print(sparse_matrix.toarray())\n",
    "print(\"\\nRHS Vector:\")\n",
    "print(rhs_vector)\n",
    "\n"
   ]
  },
  {
   "cell_type": "code",
   "execution_count": null,
   "id": "e040304a",
   "metadata": {},
   "outputs": [],
   "source": [
    "import numpy as np\n",
    "\n",
    "def generate_matrix(n):\n",
    "    if n % 2 != 0:\n",
    "        raise ValueError(\"n must be an even integer\")\n",
    "\n",
    "    A = np.zeros((n, n))\n",
    "\n",
    "    for i in range(n):\n",
    "        A[i, n - 1 - i] = 0.5  # (i, n + 1 - i) position\n",
    "        A[i, i] = 3  # main diagonal\n",
    "\n",
    "            \n",
    "    for i in range(n-1):\n",
    "        A[i, i + 1] = -1 # superdiagonal\n",
    "        A[i+1, i] = -1  # subdiagonal\n",
    "\n",
    "    return A\n",
    "\n",
    "# Example usage\n",
    "n = 40  # Replace with your desired even integer\n",
    "A = generate_matrix(n)\n",
    "\n",
    "print(\"Generated Matrix A:\")\n",
    "print(A)\n"
   ]
  },
  {
   "cell_type": "code",
   "execution_count": null,
   "id": "f84ec057",
   "metadata": {},
   "outputs": [],
   "source": [
    "A = generate_matrix(10000)\n",
    "from scipy.linalg import lu"
   ]
  },
  {
   "cell_type": "code",
   "execution_count": null,
   "id": "56b08088",
   "metadata": {},
   "outputs": [],
   "source": [
    "%%timeit\n",
    "P, L, U = lu(A)\n",
    "\n",
    "print(\"P matrix:\")\n",
    "print(P)\n",
    "print(\"\\nL matrix:\")\n",
    "print(L)\n",
    "print(\"\\nU matrix:\")\n",
    "print(U)"
   ]
  },
  {
   "cell_type": "code",
   "execution_count": null,
   "id": "76dbdc2e",
   "metadata": {},
   "outputs": [],
   "source": [
    "%%timeit\n",
    "b = np.zeros(10000)\n",
    "b[0] = 2.5\n",
    "b[9999]= 2.5\n",
    "b[1:9998] = 1.5\n",
    "b[4999:5000] = 1\n",
    "solution, iterations = sor_solver(A, b, omega)\n",
    "print(\"Solution:\", solution)\n",
    "print(\"Number of iterations:\", iterations)"
   ]
  },
  {
   "cell_type": "markdown",
   "id": "9a0bcf3f",
   "metadata": {},
   "source": [
    "We can create the $500 \\times 500$ matrix for Example 2.31 using the following code:"
   ]
  },
  {
   "cell_type": "code",
   "execution_count": null,
   "id": "70d2aab8",
   "metadata": {},
   "outputs": [],
   "source": [
    "import numpy as np\n",
    "\n",
    "n = 500\n",
    "i = np.arange(1, n + 1)\n",
    "\n",
    "# Define the matrix A\n",
    "A = np.diag(np.sqrt(i)) + np.diag(np.cos(i[:-10]), 10) + np.diag(np.cos(i[:-10]), -10)\n",
    "b = np.dot(A, np.ones(500))\n",
    "x0 = np.zeros(500)\n"
   ]
  },
  {
   "cell_type": "markdown",
   "id": "a0db384c",
   "metadata": {},
   "source": [
    "In order to solve the system using conjugate gradient method we use:"
   ]
  },
  {
   "cell_type": "code",
   "execution_count": null,
   "id": "c577f9c0",
   "metadata": {},
   "outputs": [],
   "source": [
    "def conjugate_gradient(A, b, x0, tol=1e-6, max_iter=1000):\n",
    "    x = np.copy(x0)\n",
    "    r = b - np.dot(A, x)\n",
    "    p = np.copy(r)\n",
    "    rsold = np.dot(r, r)\n",
    "    \n",
    "    for i in range(max_iter):\n",
    "        Ap = np.dot(A, p)\n",
    "        alpha = rsold / np.dot(p, Ap)\n",
    "        x = x + alpha * p\n",
    "        r = r - alpha * Ap\n",
    "        rsnew = np.dot(r, r)\n",
    "        if np.sqrt(rsnew) < tol:\n",
    "            break\n",
    "        p = r + (rsnew / rsold) * p\n",
    "        rsold = rsnew\n",
    "    \n",
    "    return x"
   ]
  },
  {
   "cell_type": "markdown",
   "id": "47d14a26",
   "metadata": {},
   "source": [
    "The preconditioners and function to use them are as follows:"
   ]
  },
  {
   "cell_type": "code",
   "execution_count": null,
   "id": "6465db49",
   "metadata": {},
   "outputs": [],
   "source": [
    "# Jacobi preconditioner\n",
    "def jacobi_preconditioner(A):\n",
    "    D = np.diag(np.diag(A))\n",
    "    invD = np.linalg.inv(D)\n",
    "    return invD\n",
    "\n",
    "# Gauss-Seidel preconditioner\n",
    "def gauss_seidel_preconditioner(A):\n",
    "    L = np.tril(A)\n",
    "    invL = np.linalg.inv(L)\n",
    "    return invL\n",
    "\n",
    "def solve_with_preconditioner(A, b, x0, preconditioner, tol=1e-6, max_iter=1000):\n",
    "    M = preconditioner(A)\n",
    "    Minv = np.linalg.inv(M)\n",
    "    A_preconditioned = np.dot(Minv, A)\n",
    "    b_preconditioned = np.dot(Minv, b)\n",
    "    return conjugate_gradient(A_preconditioned, b_preconditioned, x0, tol, max_iter)"
   ]
  },
  {
   "cell_type": "code",
   "execution_count": null,
   "id": "d52f1628",
   "metadata": {},
   "outputs": [],
   "source": [
    "%%timeit\n",
    "conjugate_gradient (A,b, x0)"
   ]
  },
  {
   "cell_type": "code",
   "execution_count": null,
   "id": "15641fe1",
   "metadata": {},
   "outputs": [],
   "source": [
    "%%timeit\n",
    "solve_with_preconditioner(A, b, x0, jacobi_preconditioner)"
   ]
  },
  {
   "cell_type": "code",
   "execution_count": null,
   "id": "c7dc0f38",
   "metadata": {},
   "outputs": [],
   "source": [
    "%%timeit\n",
    "solve_with_preconditioner(A, b, x0, gauss_seidel_preconditioner)"
   ]
  },
  {
   "cell_type": "code",
   "execution_count": null,
   "id": "2b24ae7d",
   "metadata": {},
   "outputs": [],
   "source": []
  }
 ],
 "metadata": {
  "kernelspec": {
   "display_name": "Python 3 (ipykernel)",
   "language": "python",
   "name": "python3"
  },
  "language_info": {
   "codemirror_mode": {
    "name": "ipython",
    "version": 3
   },
   "file_extension": ".py",
   "mimetype": "text/x-python",
   "name": "python",
   "nbconvert_exporter": "python",
   "pygments_lexer": "ipython3",
   "version": "3.10.9"
  }
 },
 "nbformat": 4,
 "nbformat_minor": 5
}
