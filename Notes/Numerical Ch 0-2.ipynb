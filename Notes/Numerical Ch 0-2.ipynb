{
 "cells": [
  {
   "cell_type": "markdown",
   "id": "916a00e9",
   "metadata": {},
   "source": [
    "<span style=\"color:red\"><b><<<<<<< local</b></span>"
   ]
  },
  {
   "cell_type": "markdown",
   "id": "e658e5a8",
   "metadata": {},
   "source": [
    "# Chapter 1: Solving Equations"
   ]
  },
  {
   "cell_type": "markdown",
   "id": "860a9f8e",
   "metadata": {},
   "source": [
    "## 1.1 Bisection Method"
   ]
  },
  {
   "cell_type": "markdown",
   "id": "f026aa0e",
   "metadata": {},
   "source": [
    "If the continious function $f(x)$ has root at $x=r$ on the interval $[a,b]$, the root can be calculated within the given tolerance using the following code: \n"
   ]
  },
  {
   "cell_type": "code",
   "execution_count": null,
   "id": "1055ea92",
   "metadata": {},
   "outputs": [],
   "source": [
    "def bisect(f, a, b, tol):\n",
    "    if f(a) * f(b) >= 0:\n",
    "        raise ValueError('f(a)f(b)<0 not satisfied!')\n",
    "\n",
    "    fa = f(a)\n",
    "    fb = f(b)\n",
    "\n",
    "    while (b - a) / 2 > tol:\n",
    "        c = (a + b) / 2\n",
    "        fc = f(c)\n",
    "\n",
    "        if fc == 0:\n",
    "            break  # c is a solution, done\n",
    "\n",
    "        if fc * fa < 0:\n",
    "            b = c\n",
    "            fb = fc\n",
    "        else:\n",
    "            a = c\n",
    "            fa = fc\n",
    "\n",
    "    xc = (a + b) / 2  # new midpoint is the best estimate\n",
    "    return xc\n",
    "\n"
   ]
  },
  {
   "cell_type": "markdown",
   "id": "029d3926",
   "metadata": {},
   "source": [
    "In order to find the root of $f(x) = x^3 + x -1 $ on the interval $[0,1]$ we can use:"
   ]
  },
  {
   "cell_type": "code",
   "execution_count": null,
   "id": "bc1a0c2e",
   "metadata": {},
   "outputs": [],
   "source": [
    "#%%timeit\n",
    "def func(x):\n",
    "    return x**3 + x - 1\n",
    "\n",
    "xc = bisect(func, 0, 1, 0.00000000005)\n",
    "print(xc)"
   ]
  },
  {
   "cell_type": "markdown",
   "id": "b1b86212",
   "metadata": {},
   "source": [
    "In order to evaluate the cosine function, first we need to import the numpy library:"
   ]
  },
  {
   "cell_type": "code",
   "execution_count": null,
   "id": "965f4cff",
   "metadata": {},
   "outputs": [],
   "source": [
    "import numpy as np"
   ]
  },
  {
   "cell_type": "markdown",
   "id": "b6921fb3",
   "metadata": {},
   "source": [
    "Then to find the root of $f(x) = \\cos x - x$  on the interval $[0,1]$ to 6 decimal places we can use:"
   ]
  },
  {
   "cell_type": "code",
   "execution_count": null,
   "id": "b92fd4f4",
   "metadata": {},
   "outputs": [],
   "source": [
    "%%timeit\n",
    "def func(x):\n",
    "    return np.cos(x) - x\n",
    "\n",
    "xc = bisect(func, 0, 1, 0.000001)\n",
    "#print(xc)"
   ]
  },
  {
   "cell_type": "code",
   "execution_count": null,
   "id": "15e280d6",
   "metadata": {},
   "outputs": [],
   "source": [
    "%%timeit\n",
    "def func(x):\n",
    "    return np.cos(x) - x\n",
    "\n",
    "xc = bisect(func, 0, 1, 0.000000001)\n",
    "#print(xc)"
   ]
  },
  {
   "cell_type": "markdown",
   "id": "f33cc447",
   "metadata": {},
   "source": [
    "## 1.2 Fixed-Point Iteration"
   ]
  },
  {
   "cell_type": "markdown",
   "id": "6a304361",
   "metadata": {},
   "source": [
    "The real number $r$ is a fixed point of the function $g(x)$ if $g(r)=r$. The following code implements the fixed-point iteration in python:"
   ]
  },
  {
   "cell_type": "code",
   "execution_count": null,
   "id": "87cdcd4e",
   "metadata": {},
   "outputs": [],
   "source": [
    "import numpy as np\n",
    "\n",
    "def fpi(g, x0, k):\n",
    "    x = np.zeros(k+2)\n",
    "    x[0] = x0\n",
    "    for i in range(k):\n",
    "        x[i+1] = g(x[i])\n",
    "    xc = x[k]\n",
    "    return xc"
   ]
  },
  {
   "cell_type": "markdown",
   "id": "d8f9545a",
   "metadata": {},
   "source": [
    "Fixed point of $g(x) = \\cos x$ can be calculated as:"
   ]
  },
  {
   "cell_type": "code",
   "execution_count": null,
   "id": "f27f3bd6",
   "metadata": {},
   "outputs": [],
   "source": [
    "# Example usage with g(x) = cos(x)\n",
    "def g(x):\n",
    "    return np.cos(x)\n",
    "xc = fpi(g, 0, 10)\n",
    "print(xc)"
   ]
  },
  {
   "cell_type": "markdown",
   "id": "94cb7dd7",
   "metadata": {},
   "source": [
    "Let's slightly modify the function fpi to present a table:"
   ]
  },
  {
   "cell_type": "code",
   "execution_count": null,
   "id": "466ab66a",
   "metadata": {},
   "outputs": [],
   "source": [
    "import numpy as np\n",
    "\n",
    "def fpiTable(g, x0, k):\n",
    "    x = np.zeros(k+2)\n",
    "    x[0] = x0\n",
    "    print(\"|  i |        x_i        |\")\n",
    "    print(\"|----|-------------------|\")\n",
    "    for i in range(k):\n",
    "        x[i+1] = g(x[i])\n",
    "        print(f\"| {i:2} | { x[i]:.15f} |\")\n",
    "    xc = x[k]\n",
    "    print(f\"| {k:2} | { xc:.15f} |\")\n",
    "    return xc"
   ]
  },
  {
   "cell_type": "code",
   "execution_count": null,
   "id": "190b6f2d",
   "metadata": {},
   "outputs": [],
   "source": [
    "xc = fpiTable(g, 0, 10)\n",
    "print(xc)"
   ]
  },
  {
   "cell_type": "markdown",
   "id": "42a26df8",
   "metadata": {},
   "source": [
    "For $g(x) = 1- x^3$ we can use:"
   ]
  },
  {
   "cell_type": "code",
   "execution_count": null,
   "id": "56feb0b7",
   "metadata": {},
   "outputs": [],
   "source": [
    "def g(x):\n",
    "    return 1 - x**3\n",
    "xc = fpiTable(g, 0.5, 15)\n"
   ]
  },
  {
   "cell_type": "markdown",
   "id": "7c50c574",
   "metadata": {},
   "source": [
    "Using $g(x) = \\sqrt[3]{1- x}$ we get:"
   ]
  },
  {
   "cell_type": "code",
   "execution_count": null,
   "id": "105a6fe6",
   "metadata": {},
   "outputs": [],
   "source": [
    "def g(x):\n",
    "    return (1 - x)**(1/3)\n",
    "xc = fpiTable(g, 0.5, 15)"
   ]
  },
  {
   "cell_type": "markdown",
   "id": "85adbbcd",
   "metadata": {},
   "source": [
    "Lastly with $g(x) = \\frac{1+2x^3}{1+3x^2}$ we get:"
   ]
  },
  {
   "cell_type": "code",
   "execution_count": null,
   "id": "ede1e0fd",
   "metadata": {},
   "outputs": [],
   "source": [
    "def g(x):\n",
    "    return (1 + 2*x**3)/(1+3*x**2)\n",
    "xc = fpiTable(g, 0.5, 15)"
   ]
  },
  {
   "cell_type": "markdown",
   "id": "70a9b4b4",
   "metadata": {},
   "source": [
    "We can modify or FPI function to show the errors:"
   ]
  },
  {
   "cell_type": "code",
   "execution_count": null,
   "id": "977ddf32",
   "metadata": {},
   "outputs": [],
   "source": [
    "def fpiErrors(g, x0, k):\n",
    "    x = np.zeros(k+2)\n",
    "    e = np.zeros(k+2)\n",
    "    x[0] = x0\n",
    "    #calculate the values first\n",
    "    for i in range(k):\n",
    "        x[i+1] = g(x[i])\n",
    "    xc = x[k]\n",
    "    #now construct the table\n",
    "    print(\"|  i |        x_i        |       g(x_i)      |        e_i        |     e_i/e_{i-1}   |\")\n",
    "    print(\"|----|-------------------|-------------------|-------------------|-------------------|\")\n",
    "    for i in range (k):\n",
    "        e[i]= abs(xc - x[i])\n",
    "        print(f\"| {i:2} | { x[i]:.15f} | { g(x[i]):.15f} | { e[i]:.15f} | { e[i]/e[i-1]:.15f} |\")\n",
    "    print(f\"| {k:2} | { xc:.15f} |\")\n",
    "    return xc\n"
   ]
  },
  {
   "cell_type": "code",
   "execution_count": null,
   "id": "b904863b",
   "metadata": {},
   "outputs": [],
   "source": [
    "xc = fpiErrors(g, 1, 10)"
   ]
  },
  {
   "cell_type": "markdown",
   "id": "c2be2aac",
   "metadata": {},
   "source": [
    "And use it to find the root of $\\sin x = \\cos x$:"
   ]
  },
  {
   "cell_type": "code",
   "execution_count": null,
   "id": "4242b0c8",
   "metadata": {},
   "outputs": [],
   "source": [
    "def g(x):\n",
    "    return x + np.cos(x) - np.sin(x)\n",
    "xc = fpiErrors(g, 1, 20)"
   ]
  },
  {
   "cell_type": "markdown",
   "id": "ddd3bf29",
   "metadata": {},
   "source": [
    "To find the fixed points of $g(x) = 2.8x - x^2$ we use:"
   ]
  },
  {
   "cell_type": "code",
   "execution_count": null,
   "id": "7bceda30",
   "metadata": {
    "scrolled": true
   },
   "outputs": [],
   "source": [
    "def g(x):\n",
    "    return 2.8*x -x**2\n",
    "xc = fpiTable(g, 0.1, 15)\n",
    "xc = fpiTable(g, 1, 3)\n",
    "xc = fpiTable(g, -0.1, 10)\n",
    "xc = fpiTable(g, 2, 15)"
   ]
  },
  {
   "cell_type": "markdown",
   "id": "6c4aa768",
   "metadata": {},
   "source": [
    "## 1.3 Limits of Accuracy"
   ]
  },
  {
   "cell_type": "markdown",
   "id": "0df10ea4",
   "metadata": {},
   "source": [
    "Consider the function $f(x) = x^3 -2x^2 +\\frac{4}{3}x - \\frac{8}{27}$, which has a root at $x = \\frac{2}{3}$. We can use the bisection method and obtain:"
   ]
  },
  {
   "cell_type": "code",
   "execution_count": null,
   "id": "104fce13",
   "metadata": {},
   "outputs": [],
   "source": [
    "def func(x):\n",
    "    return x**3 -2* x**2 + 4/3 * x - 8/27\n",
    "\n",
    "xc = bisect(func, 0, 1, 0.00000000005)\n",
    "print(xc)"
   ]
  },
  {
   "cell_type": "markdown",
   "id": "31a70f34",
   "metadata": {},
   "source": [
    "Clearly this is not within the specified tolerance of $0.00000000005$. Fixed point iteration does not perform any better, feel free to check using either $g(x) = \\sqrt[3]{2x^2-\\frac{4}{3}x+\\frac{8}{27}}$ or $g(x) = -\\frac{3}{4}x^3-\\frac{3}{2}x^2+\\frac{2}{9}$, neither can compute more than 6 correct decimal digits and both converge very slowly.\n",
    "In order to investigate the cause of this issue, let's try plotting the calculated values of $f(x)$ near the root $r=\\frac{2}{3}$."
   ]
  },
  {
   "cell_type": "code",
   "execution_count": null,
   "id": "3b81c117",
   "metadata": {},
   "outputs": [],
   "source": [
    "import matplotlib.pyplot as plt\n",
    "a = 0.666660\n",
    "b = 0.666674\n",
    "step = 10**-7\n",
    "for i in range(0, 140):\n",
    "    x = a+i*step\n",
    "    plt.scatter(x, func(x))\n",
    "    print(func(x))\n",
    "plt.xlim([a, b])\n",
    "plt.ylim([-10**-15, 10**-15])\n",
    "plt.show()"
   ]
  },
  {
   "cell_type": "markdown",
   "id": "7bff5e2b",
   "metadata": {},
   "source": [
    "Due to rounding error, there are multiple \"roots\" near $\\frac{2}{3}$. Note that majority of the non-zero $f(x)$ values are $\\pm 2^{-53}\\approx 1.11E-16$ which is $\\frac{1}{2}\\epsilon_{mach}$. "
   ]
  },
  {
   "cell_type": "markdown",
   "id": "ab79417d",
   "metadata": {},
   "source": [
    "Recall that error is defined as:\n",
    "$$E = True\\  value - approximation$$\n",
    "For function $f$ with root at $r$, assume that $x_a$ is an approximation to $r$. We can define the error in our approximation in two ways: $|f(x_a)|$ is called the **backward error** and $|r-x_a|$ is called the **forward error**. \n",
    "The problem is, because $f(x)$ is very flat near the root, very small backward error (on the order of $\\epsilon_{mach}$) causes significant forward error (on the order of $10^{-5}$). The relationship between the forward and backward errors is called:\n",
    "$$\\textrm{error magnification factor} = \\frac{\\textrm{relative forward error}}{\\textrm{relative backward error}}$$\n",
    "\n",
    "In this case, the issue is $f(x)$ has a triple root at $\\frac{2}{3}$. i.e. $f(x) = f'(x) = f''(x) = 0$. Formally, multiplicity is defined as:\n",
    "Let $f(x)$ be a differentiable function at root $r$, if $ f(r) = f'(r) = f''(r) = ... = f^{m-1}(r) = 0$ but $f^{m}(r) \\neq 0$ then $f$ has root multiplicity of $m$ at $r$. \n"
   ]
  },
  {
   "cell_type": "markdown",
   "id": "f90d3a5c",
   "metadata": {},
   "source": [
    "Unfortunately, multiplicity is not the only cause of such rounding errors.\n",
    "Wilkinson polynomial is defined as: \n",
    "$$W(x) = (x-1)(x-2)...(x-20) $$\n",
    "Let's use scipy's root finding functions to determine its roots:"
   ]
  },
  {
   "cell_type": "code",
   "execution_count": null,
   "id": "b3d94397",
   "metadata": {},
   "outputs": [],
   "source": [
    "from scipy.optimize import root_scalar"
   ]
  },
  {
   "cell_type": "code",
   "execution_count": null,
   "id": "a90550b7",
   "metadata": {},
   "outputs": [],
   "source": [
    "def wilk(x):\n",
    "    return x**20 - 210*x**19 + 20615*x**18 - 1256850*x**17 + 53327946*x**16 - 1672280820*x**15 + 40171771630*x**14 - 756111184500*x**13 + 11310276995381*x**12 - 135585182899530*x**11 + 1307535010540395*x**10 - 10142299865511450*x**9 + 63030812099294896*x**8 - 311333643161390640*x**7 + 1206647803780373360*x**6 - 3599979517947607200*x**5 + 8037811822645051776*x**4 - 12870931245150988800*x**3 + 13803759753640704000*x**2 - 8752948036761600000*x + 2432902008176640000\n",
    "r = root_scalar(wilk, bracket=[16.5, 17.5], method='brentq')\n",
    "print(r)"
   ]
  },
  {
   "cell_type": "markdown",
   "id": "16529599",
   "metadata": {},
   "source": [
    "## 1.4 Newton's Method"
   ]
  },
  {
   "cell_type": "markdown",
   "id": "1afa66f7",
   "metadata": {},
   "source": [
    "We can use the following function to implement Newton's method:"
   ]
  },
  {
   "cell_type": "code",
   "execution_count": null,
   "id": "9d4984d6",
   "metadata": {},
   "outputs": [],
   "source": [
    "def NewMethod(f, ff, x0, k):\n",
    "    x = np.zeros(k+2)\n",
    "    e = np.zeros(k+2)\n",
    "    x[0] = x0\n",
    "    for i in range(k):\n",
    "        x[i+1] = x[i] - f(x[i])/ff(x[i])\n",
    "    xc = x[k]\n",
    "    print(\"|  i |        x_i        |        e_i        |  e_i/(e_{i-1}^2)  |\")\n",
    "    print(\"|----|-------------------|-------------------|-------------------|\")\n",
    "    for i in range(k):\n",
    "        e[i] = abs(x[i]-xc)\n",
    "        print(f\"| {i:2} | { x[i]:.15f} | { e[i]:.15f} |{ e[i]/e[i-1]**2:.15f} |\")\n",
    "    print(f\"| {k:2} | { xc:.15f} |\")\n",
    "    return xc"
   ]
  },
  {
   "cell_type": "markdown",
   "id": "b6dda062",
   "metadata": {},
   "source": [
    "In order to find the root of $f(x) = x^3 + x -1 $ using Newton'e method with the starting value of $x_0 = -0.7$ we can use:"
   ]
  },
  {
   "cell_type": "code",
   "execution_count": null,
   "id": "a6270f8e",
   "metadata": {},
   "outputs": [],
   "source": [
    "def f(x):\n",
    "    return x**3 + x - 1\n",
    "def df(x):\n",
    "    return 3*x**2+1\n",
    "xc = NewMethod(f, df, -0.7, 7)\n"
   ]
  },
  {
   "cell_type": "markdown",
   "id": "cba3ac5a",
   "metadata": {},
   "source": [
    "Using the same method to find the root of $f(x) = x^2$ yields:"
   ]
  },
  {
   "cell_type": "code",
   "execution_count": null,
   "id": "1b1c5815",
   "metadata": {},
   "outputs": [],
   "source": [
    "def NewMethod(f, ff, x0, k):\n",
    "    x = np.zeros(k+2)\n",
    "    e = np.zeros(k+2)\n",
    "    x[0] = x0\n",
    "    for i in range(k):\n",
    "        x[i+1] = x[i] - f(x[i])/ff(x[i])\n",
    "    xc = x[k]\n",
    "    print(\"|  i |        x_i        |        e_i        |  e_i/e_{i-1}  |\")\n",
    "    print(\"|----|-------------------|-------------------|-------------------|\")\n",
    "    for i in range(k):\n",
    "        e[i] = abs(x[i]-xc)\n",
    "        print(f\"| {i:2} | { x[i]:.15f} | { e[i]:.15f} |{ e[i]/e[i-1]:.15f} |\")\n",
    "    print(f\"| {k:2} | { xc:.15f} |\")\n",
    "    return xc\n",
    "\n",
    "def f(x):\n",
    "    return x**2\n",
    "def df(x):\n",
    "    return 2*x\n",
    "xc = NewMethod(f, df, 1, 15)"
   ]
  },
  {
   "cell_type": "markdown",
   "id": "ea3678ef",
   "metadata": {},
   "source": [
    "For the function $f(x) = \\sin x + x^{2} \\cos x - x^2 - x$ which has multiplicity of $m = 3$ we get:"
   ]
  },
  {
   "cell_type": "code",
   "execution_count": null,
   "id": "fa0f2740",
   "metadata": {},
   "outputs": [],
   "source": [
    "def f(x):\n",
    "    return np.sin(x) + x**2 * np.cos(x) - x**2 - x \n",
    "def df(x):\n",
    "    return np.cos(x) + 2*x*np.cos(x) - x**2 * np.sin(x) -2*x -1\n",
    "xc = NewMethod(f, df, 1, 35)"
   ]
  },
  {
   "cell_type": "markdown",
   "id": "c5bd3f99",
   "metadata": {},
   "source": [
    "When multiplicity is known, we can use the Modified Newton's Method:"
   ]
  },
  {
   "cell_type": "code",
   "execution_count": null,
   "id": "afc0bd58",
   "metadata": {},
   "outputs": [],
   "source": [
    "def ModNewMethod(f, ff, x0, k, m):\n",
    "    x = np.zeros(k+2)\n",
    "    e = np.zeros(k+2)\n",
    "    x[0] = x0\n",
    "    for i in range(k):\n",
    "        x[i+1] = x[i] - m * f(x[i])/ff(x[i])\n",
    "    xc = x[k]\n",
    "    print(\"|  i |        x_i        |        e_i        |  e_i/e_{i-1}  |\")\n",
    "    print(\"|----|-------------------|-------------------|-------------------|\")\n",
    "    for i in range(k):\n",
    "        e[i] = abs(x[i]-xc)\n",
    "        print(f\"| {i:2} | { x[i]:.15f} | { e[i]:.15f} |{ e[i]/e[i-1]:.15f} |\")\n",
    "    print(f\"| {k:2} | { xc:.15f} |\")\n",
    "    return xc\n",
    "\n",
    "def f(x):\n",
    "    return np.sin(x) + x**2 * np.cos(x) - x**2 - x \n",
    "def df(x):\n",
    "    return np.cos(x) + 2*x*np.cos(x) - x**2 * np.sin(x) -2*x -1\n",
    "xc = ModNewMethod(f, df, 1, 5,3)"
   ]
  },
  {
   "cell_type": "code",
   "execution_count": null,
   "id": "ca46ab3b",
   "metadata": {},
   "outputs": [],
   "source": [
    "def f(x):\n",
    "    return x**2\n",
    "def df(x):\n",
    "    return 2*x \n",
    "xc = ModNewMethod(f, df, 5, 2, 2)"
   ]
  },
  {
   "cell_type": "markdown",
   "id": "92cde7d6",
   "metadata": {},
   "source": [
    "## 1.5 Root-finding without Derivatives"
   ]
  },
  {
   "cell_type": "markdown",
   "id": "352faf79",
   "metadata": {},
   "source": [
    "In order to find the root of $f(x) = x^3 + x - 1$ using the Secant method, we can use:"
   ]
  },
  {
   "cell_type": "code",
   "execution_count": null,
   "id": "895dfc81",
   "metadata": {},
   "outputs": [],
   "source": [
    "def secant(g, x0, x1, k):\n",
    "    x = np.zeros(k+2)\n",
    "    x[0] = x0\n",
    "    x[1] = x1\n",
    "    print(\"|  i |        x_i        |\")\n",
    "    print(\"|----|-------------------|\")\n",
    "    for i in range(k):\n",
    "        x[i+2] = x[i+1] - g(x[i+1])*(x[i+1]-x[i])/(g(x[i+1])-g(x[i]))\n",
    "        print(f\"| {i:2} | { x[i]:.15f} |\")\n",
    "    xc = x[k+1]\n",
    "    print(f\"| {k:2} | { xc:.15f} |\")\n",
    "    return xc\n",
    "\n",
    "def g(x):\n",
    "    return x**3 + x - 1\n",
    "\n",
    "secant(g,0,1,8)"
   ]
  },
  {
   "cell_type": "markdown",
   "id": "d48af2a6",
   "metadata": {},
   "source": [
    "Method of False Position or Regula Falsi is similar to bisection method but uses a secant based approximation instead of the midpoint:"
   ]
  },
  {
   "cell_type": "code",
   "execution_count": null,
   "id": "b0b2a665",
   "metadata": {},
   "outputs": [],
   "source": [
    "def MFP(f, a, b, tol):\n",
    "    if f(a) * f(b) >= 0:\n",
    "        raise ValueError('f(a)f(b)<0 not satisfied!')\n",
    "\n",
    "    fa = f(a)\n",
    "    fb = f(b)\n",
    "    i = 1\n",
    "    \n",
    "    print(\"|  i |         a         |         b         |         c         |\")\n",
    "    print(\"|----|-------------------|-------------------|-------------------|\")\n",
    "    \n",
    "    while (b - a) / 2 > tol:\n",
    "        c = (b*f(a)-a*f(b))/(f(a)-f(b))\n",
    "        fc = f(c)\n",
    "        print(f\"| {i:2} | { a:.15f} | { b:.15f} | { c:.15f} |\")\n",
    "        \n",
    "        if fc == 0:\n",
    "            break  # c is a solution, done\n",
    "\n",
    "        if fc * fa < 0:\n",
    "            b = c\n",
    "            fb = fc\n",
    "        else:\n",
    "            a = c\n",
    "            fa = fc\n",
    "        i+= 1\n",
    "    xc = (b*f(a)-a*f(b))/(f(a)-f(b))  # new c is best estimate\n",
    "    return xc"
   ]
  },
  {
   "cell_type": "markdown",
   "id": "23894784",
   "metadata": {},
   "source": [
    "We can use the Method of False Position to find the root of $f(x) = x^3 - 2 x^2 + \\frac{3}{2}x$ on the interval $[-1,1]$:"
   ]
  },
  {
   "cell_type": "code",
   "execution_count": null,
   "id": "5adf25be",
   "metadata": {},
   "outputs": [],
   "source": [
    "def func(x):\n",
    "    return x**3 -2*x**2 + 3*x/2\n",
    "\n",
    "MFP(func, -1, 1, 0.0000001)"
   ]
  },
  {
   "cell_type": "markdown",
   "id": "cc867ab9",
   "metadata": {},
   "source": [
    "<span style=\"color:red\"><b>=======</b></span>"
   ]
  },
  {
   "cell_type": "markdown",
   "id": "0ee52a6d",
   "metadata": {},
   "source": [
    "# Chapter 2: Systems of Equations\n",
    "## 2.4 PA=LU Factorization"
   ]
  },
  {
   "cell_type": "markdown",
   "id": "c960d3b8",
   "metadata": {},
   "source": [
    "Scipy library of Phyton includes a function for LU factorization, in order to use it first numpy and scipy need to be imported. Then the function can be used as follows:"
   ]
  },
  {
   "cell_type": "code",
   "execution_count": null,
   "id": "65d6d957",
   "metadata": {},
   "outputs": [],
   "source": [
    "import numpy as np\n",
    "from scipy.linalg import lu\n",
    "\n",
    "A = np.array([[2, 1, 5], [4, 4, -4], [1, 3, 1]])\n",
    "\n",
    "P, L, U = lu(A)\n",
    "\n",
    "print(\"P matrix:\")\n",
    "print(P)\n",
    "print(\"\\nL matrix:\")\n",
    "print(L)\n",
    "print(\"\\nU matrix:\")\n",
    "print(U)\n"
   ]
  },
  {
   "cell_type": "markdown",
   "id": "5a933da6",
   "metadata": {},
   "source": [
    "## 2.5 Iterative methods"
   ]
  },
  {
   "cell_type": "markdown",
   "id": "3c8e850b",
   "metadata": {},
   "source": [
    "The following phyton functions can be to implement the Jacobi Method, Gauss-Seidel Method and SOR respectively:"
   ]
  },
  {
   "cell_type": "code",
   "execution_count": null,
   "id": "2e3d645b",
   "metadata": {},
   "outputs": [],
   "source": [
    "import numpy as np\n",
    "\n",
    "def jacobi_solver(A, b, tol=1e-6, max_iter=1000):\n",
    "    n = len(b)\n",
    "    x = np.zeros_like(b,dtype=float)\n",
    "    \n",
    "    print ('|  i |       u'+'      |       u'.join(['%-2s' % (i+1,) for i in range(n)])+'      |')\n",
    "    print(\"|----|\" + n*\"----------------|\")\n",
    "\n",
    "    for k in range(max_iter):\n",
    "        x_old = x.copy()\n",
    "        print(f\"| {k:2} |\"+'|'.join(['%.14f' % (x[j],) for j in range(n)])+'|')\n",
    "\n",
    "        for i in range(n):\n",
    "            sigma = np.dot(A[i, :i], x_old[:i]) + np.dot(A[i, i + 1:], x_old[i + 1:])\n",
    "            x[i] = (b[i] - sigma) / A[i, i]\n",
    "\n",
    "        if np.linalg.norm(x - x_old, ord=np.inf) < tol:\n",
    "            return x, k + 1\n",
    "\n",
    "    raise ValueError(\"Jacobi method did not converge within the maximum number of iterations\")\n"
   ]
  },
  {
   "cell_type": "code",
   "execution_count": null,
   "id": "b196834c",
   "metadata": {},
   "outputs": [],
   "source": [
    "def gauss_seidel_solver(A, b, tol=1e-6, max_iter=1000):\n",
    "    n = len(b)\n",
    "    x = np.zeros_like(b,dtype=float)\n",
    "    \n",
    "    print ('|  i |       u'+'      |       u'.join(['%-2s' % (i+1,) for i in range(n)])+'      |')\n",
    "    print(\"|----|\" + n*\"----------------|\")\n",
    "\n",
    "    for k in range(max_iter):\n",
    "        x_old = x.copy()\n",
    "        print(f\"| {k:2} |\"+'|'.join(['%.14f' % (x[j],) for j in range(n)])+'|')\n",
    "\n",
    "        for i in range(n):\n",
    "            sigma = np.dot(A[i, :i], x[:i]) + np.dot(A[i, i + 1:], x_old[i + 1:])\n",
    "            x[i] = (b[i] - sigma) / A[i, i]\n",
    "\n",
    "        if np.linalg.norm(x - x_old, ord=np.inf) < tol:\n",
    "            return x, k + 1\n",
    "\n",
    "    raise ValueError(\"Gauss-Seidel method did not converge within the maximum number of iterations\")\n"
   ]
  },
  {
   "cell_type": "code",
   "execution_count": null,
   "id": "0e8464b5",
   "metadata": {},
   "outputs": [],
   "source": [
    "def sor_solver(A, b, omega, tol=1e-6, max_iter=1000):\n",
    "    n = len(b)\n",
    "    x = np.zeros_like(b,dtype=float)\n",
    "    \n",
    "    #print ('|  i |       u'+'      |       u'.join(['%-2s' % (i+1,) for i in range(n)])+'      |')\n",
    "    #print(\"|----|\" + n*\"----------------|\")\n",
    "\n",
    "    for k in range(max_iter):\n",
    "        x_old = x.copy()\n",
    "        #print(f\"| {k:2} |\"+'|'.join(['%.14f' % (x[j],) for j in range(n)])+'|')\n",
    "        for i in range(n):\n",
    "            sigma = np.dot(A[i, :i], x[:i]) + np.dot(A[i, i + 1:], x_old[i + 1:])\n",
    "            x[i] = (1 - omega) * x_old[i] + (omega / A[i, i]) * (b[i] - sigma)\n",
    "            \n",
    "        \n",
    "        \n",
    "        if np.linalg.norm(x - x_old, ord=np.inf) < tol:\n",
    "            return x, k + 1\n",
    "\n",
    "    raise ValueError(\"SOR did not converge within the maximum number of iterations\")\n",
    "\n",
    "# Example usage\n",
    "A = np.array([[3, 1, -1],\n",
    "              [2, 4, 1],\n",
    "              [-1, 2, 5]])\n",
    "\n",
    "b = np.array([4, 1, 1])\n",
    "\n",
    "omega = 1.1  # Relaxation parameter\n",
    "\n",
    "solution, iterations = sor_solver(A, b, omega)\n",
    "print(\"Solution:\", solution)\n",
    "print(\"Number of iterations:\", iterations)\n"
   ]
  },
  {
   "cell_type": "markdown",
   "id": "6913a318",
   "metadata": {},
   "source": [
    "We can try these algorithms to solve the system defined by $A=\\begin{bmatrix}3 & 1 \\\\1 & 1 \\end{bmatrix}$ and $b=\\begin{bmatrix}5\\\\5\\end{bmatrix}$"
   ]
  },
  {
   "cell_type": "code",
   "execution_count": null,
   "id": "3c293d87",
   "metadata": {},
   "outputs": [],
   "source": [
    "A = np.array([[3, 1],\n",
    "              [1, 2]])\n",
    "\n",
    "b = np.array([5, 5])\n",
    "\n",
    "print(\"Jacobi solver gives:\")\n",
    "solution, iterations = jacobi_solver(A, b)\n",
    "print(\"Solution:\", solution)\n",
    "print(\"Number of iterations:\", iterations)\n",
    "\n",
    "print(\"Gauss-Seidel gives:\")\n",
    "solution, iterations = gauss_seidel_solver(A, b)\n",
    "print(\"Solution:\", solution)\n",
    "print(\"Number of iterations:\", iterations)\n",
    "\n",
    "omega = 1.1  # Relaxation parameter\n",
    "\n",
    "print(\"Succesive Over-Relaxation gives:\")\n",
    "solution, iterations = sor_solver(A, b, omega)\n",
    "print(\"Solution:\", solution)\n",
    "print(\"Number of iterations:\", iterations)"
   ]
  },
  {
   "cell_type": "markdown",
   "id": "d6e77921",
   "metadata": {},
   "source": [
    "Similarly we can solve $A=\\begin{bmatrix}3 & 1 & -1 \\\\2 & 4 & 1 \\\\ -1 & 2 & 5 \\end{bmatrix}$ and $b=\\begin{bmatrix}4\\\\1\\\\1\\end{bmatrix}$"
   ]
  },
  {
   "cell_type": "code",
   "execution_count": null,
   "id": "5bc66b09",
   "metadata": {},
   "outputs": [],
   "source": [
    "# Example usage\n",
    "A = np.array([[3, 1, -1],\n",
    "              [2, 4, 1],\n",
    "              [-1, 2, 5]])\n",
    "\n",
    "b = np.array([4, 1, 1])\n",
    "\n",
    "print(\"Jacobi solver gives:\")\n",
    "solution, iterations = jacobi_solver(A, b)\n",
    "print(\"Solution:\", solution)\n",
    "print(\"Number of iterations:\", iterations)\n",
    "\n",
    "print(\"Gauss-Seidel gives:\")\n",
    "solution, iterations = gauss_seidel_solver(A, b)\n",
    "print(\"Solution:\", solution)\n",
    "print(\"Number of iterations:\", iterations)\n",
    "\n",
    "omega = 1.2  # Relaxation parameter\n",
    "\n",
    "print(\"Succesive Over-Relaxation gives:\")\n",
    "solution, iterations = sor_solver(A, b, omega)\n",
    "print(\"Solution:\", solution)\n",
    "print(\"Number of iterations:\", iterations)"
   ]
  },
  {
   "cell_type": "markdown",
   "id": "95b4b90e",
   "metadata": {},
   "source": [
    "Lastly we can solve the system on Example 2.24 using: "
   ]
  },
  {
   "cell_type": "code",
   "execution_count": null,
   "id": "67ec4c26",
   "metadata": {},
   "outputs": [],
   "source": [
    "# Example usage\n",
    "A = np.array([[3, -1, 0, 0, 0, 0.5],\n",
    "              [-1, 3, -1, 0, 0.5, 0],\n",
    "              [0, -1, 3, -1, 0, 0],\n",
    "              [0, 0, -1, 3, -1, 0],\n",
    "              [0, 0.5, 0, -1, 3, -1],\n",
    "              [0.5, 0, 0, 0, -1, 3]])\n",
    "\n",
    "b = np.array([2.5, 1.5, 1, 1, 1.5, 2.5])\n",
    "\n",
    "print(\"Jacobi solver gives:\")\n",
    "solution, iterations = jacobi_solver(A, b)\n",
    "print(\"Solution:\", solution)\n",
    "print(\"Number of iterations:\", iterations)\n",
    "\n",
    "print(\"Gauss-Seidel gives:\")\n",
    "solution, iterations = gauss_seidel_solver(A, b)\n",
    "print(\"Solution:\", solution)\n",
    "print(\"Number of iterations:\", iterations)\n",
    "\n",
    "omega = 1.25  # Relaxation parameter\n",
    "\n",
    "print(\"Succesive Over-Relaxation gives:\")\n",
    "solution, iterations = sor_solver(A, b, omega)\n",
    "print(\"Solution:\", solution)\n",
    "print(\"Number of iterations:\", iterations)"
   ]
  },
  {
   "cell_type": "markdown",
   "id": "90009906",
   "metadata": {},
   "source": [
    "### 2.5.4 Sparse Matrix Computations"
   ]
  },
  {
   "cell_type": "markdown",
   "id": "85067434",
   "metadata": {},
   "source": [
    "A matrix is called **sparse** matrix, if most of the entires are zero. When Gaussian elimination is applied to a sparse matrix, zero elements are usually filled in,  making the **$PA=LU$** implementation ineffecitive. Therefore, iterative methods are generally better suited for sparse matrices."
   ]
  },
  {
   "cell_type": "markdown",
   "id": "265d5811",
   "metadata": {},
   "source": [
    "To illusrate use of iterative methods on sparse matrices, let's extend the previous example to $n \\times n$ using the following phyton function: "
   ]
  },
  {
   "cell_type": "code",
   "execution_count": null,
   "id": "9040f2e9",
   "metadata": {},
   "outputs": [],
   "source": [
    "import numpy as np\n",
    "from scipy.sparse import diags\n",
    "\n",
    "def sparsesetup(n):\n",
    "    e = np.ones(n)\n",
    "    n2 = n // 2\n",
    "\n",
    "    # Create the sparse matrix a\n",
    "    diagonals = [-e, 3*e, -e]\n",
    "    offsets = [-1, 0, 1]\n",
    "    a = diags(diagonals, offsets, shape=(n, n), format='csr')\n",
    "\n",
    "    # Fix up 2 entries\n",
    "    a[n2, n2 - 1] = -1\n",
    "    a[n2 - 1, n2] = -1\n",
    "\n",
    "    # Add the additional diagonal matrix c\n",
    "    c = diags([e/2], [0], shape=(n, n), format='csr')\n",
    "    c = c[:, ::-1]  # Flip the matrix horizontally\n",
    "    a = a + c\n",
    "\n",
    "    # Create the r.h.s. b\n",
    "    b = np.zeros(n)\n",
    "    b[0] = 2.5\n",
    "    b[n - 1] = 2.5\n",
    "    b[1:n-1] = 1.5\n",
    "    b[n2:n2+2] = 1\n",
    "\n",
    "    return a, b\n",
    "\n",
    "# Example usage:\n",
    "n = 14\n",
    "sparse_matrix, rhs_vector = sparsesetup(n)\n",
    "print(\"Sparse Matrix:\")\n",
    "print(sparse_matrix.toarray())\n",
    "print(\"\\nRHS Vector:\")\n",
    "print(rhs_vector)\n",
    "\n"
   ]
  },
  {
   "cell_type": "code",
   "execution_count": null,
   "id": "e040304a",
   "metadata": {},
   "outputs": [],
   "source": [
    "import numpy as np\n",
    "\n",
    "def generate_matrix(n):\n",
    "    if n % 2 != 0:\n",
    "        raise ValueError(\"n must be an even integer\")\n",
    "\n",
    "    A = np.zeros((n, n))\n",
    "\n",
    "    for i in range(n):\n",
    "        A[i, n - 1 - i] = 0.5  # (i, n + 1 - i) position\n",
    "        A[i, i] = 3  # main diagonal\n",
    "\n",
    "            \n",
    "    for i in range(n-1):\n",
    "        A[i, i + 1] = -1 # superdiagonal\n",
    "        A[i+1, i] = -1  # subdiagonal\n",
    "\n",
    "    return A\n",
    "\n",
    "# Example usage\n",
    "n = 40  # Replace with your desired even integer\n",
    "A = generate_matrix(n)\n",
    "\n",
    "print(\"Generated Matrix A:\")\n",
    "print(A)\n"
   ]
  },
  {
   "cell_type": "code",
   "execution_count": null,
   "id": "f84ec057",
   "metadata": {},
   "outputs": [],
   "source": [
    "A = generate_matrix(10000)\n",
    "from scipy.linalg import lu"
   ]
  },
  {
   "cell_type": "code",
   "execution_count": null,
   "id": "56b08088",
   "metadata": {},
   "outputs": [],
   "source": [
    "%%timeit\n",
    "P, L, U = lu(A)\n",
    "\n",
    "print(\"P matrix:\")\n",
    "print(P)\n",
    "print(\"\\nL matrix:\")\n",
    "print(L)\n",
    "print(\"\\nU matrix:\")\n",
    "print(U)"
   ]
  },
  {
   "cell_type": "code",
   "execution_count": null,
   "id": "76dbdc2e",
   "metadata": {},
   "outputs": [],
   "source": [
    "%%timeit\n",
    "b = np.zeros(10000)\n",
    "b[0] = 2.5\n",
    "b[9999]= 2.5\n",
    "b[1:9998] = 1.5\n",
    "b[4999:5000] = 1\n",
    "solution, iterations = sor_solver(A, b, omega)\n",
    "print(\"Solution:\", solution)\n",
    "print(\"Number of iterations:\", iterations)"
   ]
  },
  {
   "cell_type": "markdown",
   "id": "9a0bcf3f",
   "metadata": {},
   "source": [
    "We can create the $500 \\times 500$ matrix for Example 2.31 using the following code:"
   ]
  },
  {
   "cell_type": "code",
   "execution_count": null,
   "id": "70d2aab8",
   "metadata": {},
   "outputs": [],
   "source": [
    "import numpy as np\n",
    "\n",
    "n = 500\n",
    "i = np.arange(1, n + 1)\n",
    "\n",
    "# Define the matrix A\n",
    "A = np.diag(np.sqrt(i)) + np.diag(np.cos(i[:-10]), 10) + np.diag(np.cos(i[:-10]), -10)\n",
    "b = np.dot(A, np.ones(500))\n",
    "x0 = np.zeros(500)\n"
   ]
  },
  {
   "cell_type": "markdown",
   "id": "a0db384c",
   "metadata": {},
   "source": [
    "In order to solve the system using conjugate gradient method we use:"
   ]
  },
  {
   "cell_type": "code",
   "execution_count": null,
   "id": "c577f9c0",
   "metadata": {},
   "outputs": [],
   "source": [
    "def conjugate_gradient(A, b, x0, tol=1e-6, max_iter=1000):\n",
    "    x = np.copy(x0)\n",
    "    r = b - np.dot(A, x)\n",
    "    p = np.copy(r)\n",
    "    rsold = np.dot(r, r)\n",
    "    \n",
    "    for i in range(max_iter):\n",
    "        Ap = np.dot(A, p)\n",
    "        alpha = rsold / np.dot(p, Ap)\n",
    "        x = x + alpha * p\n",
    "        r = r - alpha * Ap\n",
    "        rsnew = np.dot(r, r)\n",
    "        if np.sqrt(rsnew) < tol:\n",
    "            break\n",
    "        p = r + (rsnew / rsold) * p\n",
    "        rsold = rsnew\n",
    "    \n",
    "    return x"
   ]
  },
  {
   "cell_type": "markdown",
   "id": "47d14a26",
   "metadata": {},
   "source": [
    "The preconditioners and function to use them are as follows:"
   ]
  },
  {
   "cell_type": "code",
   "execution_count": null,
   "id": "6465db49",
   "metadata": {},
   "outputs": [],
   "source": [
    "# Jacobi preconditioner\n",
    "def jacobi_preconditioner(A):\n",
    "    D = np.diag(np.diag(A))\n",
    "    invD = np.linalg.inv(D)\n",
    "    return invD\n",
    "\n",
    "# Gauss-Seidel preconditioner\n",
    "def gauss_seidel_preconditioner(A):\n",
    "    L = np.tril(A)\n",
    "    invL = np.linalg.inv(L)\n",
    "    return invL\n",
    "\n",
    "def solve_with_preconditioner(A, b, x0, preconditioner, tol=1e-6, max_iter=1000):\n",
    "    M = preconditioner(A)\n",
    "    Minv = np.linalg.inv(M)\n",
    "    A_preconditioned = np.dot(Minv, A)\n",
    "    b_preconditioned = np.dot(Minv, b)\n",
    "    return conjugate_gradient(A_preconditioned, b_preconditioned, x0, tol, max_iter)"
   ]
  },
  {
   "cell_type": "code",
   "execution_count": null,
   "id": "d52f1628",
   "metadata": {},
   "outputs": [],
   "source": [
    "%%timeit\n",
    "conjugate_gradient (A,b, x0)"
   ]
  },
  {
   "cell_type": "code",
   "execution_count": null,
   "id": "15641fe1",
   "metadata": {},
   "outputs": [],
   "source": [
    "%%timeit\n",
    "solve_with_preconditioner(A, b, x0, jacobi_preconditioner)"
   ]
  },
  {
   "cell_type": "code",
   "execution_count": null,
   "id": "c7dc0f38",
   "metadata": {},
   "outputs": [],
   "source": [
    "%%timeit\n",
    "solve_with_preconditioner(A, b, x0, gauss_seidel_preconditioner)"
   ]
  },
  {
   "cell_type": "markdown",
   "id": "7ee06fee",
   "metadata": {},
   "source": [
    "<span style=\"color:red\"><b>>>>>>>> remote</b></span>"
   ]
  },
  {
   "cell_type": "code",
   "execution_count": null,
   "id": "3b38b6e9",
   "metadata": {
    "id": "3b38b6e9"
   },
   "outputs": [],
   "source": []
  }
 ],
 "metadata": {
  "kernelspec": {
   "display_name": "Python 3 (ipykernel)",
   "language": "python",
   "name": "python3"
  },
  "language_info": {
   "codemirror_mode": {
    "name": "ipython",
    "version": 3
   },
   "file_extension": ".py",
   "mimetype": "text/x-python",
   "name": "python",
   "nbconvert_exporter": "python",
   "pygments_lexer": "ipython3",
   "version": "3.11.7"
  }
 },
 "nbformat": 4,
 "nbformat_minor": 5
}
