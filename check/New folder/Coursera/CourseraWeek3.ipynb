{
 "cells": [
  {
   "cell_type": "markdown",
   "source": [
    "### FILE HANDLING (CSV) and REGEX ###"
   ],
   "metadata": {
    "collapsed": false
   }
  },
  {
   "cell_type": "code",
   "execution_count": 1,
   "outputs": [
    {
     "name": "stdout",
     "output_type": "stream",
     "text": [
      "name,IP\n",
      "youtube.com,192.168.1.1\n",
      "twitch.com,192.174.4.1\n",
      "gmail.com,168.142.2.1\n",
      "\n"
     ]
    }
   ],
   "source": [
    "import csv\n",
    "\n",
    "hosts = [\n",
    "\t{'name': \"youtube.com\", 'IP': \"192.168.1.1\"},\n",
    "\t{'name': \"twitch.com\", 'IP': \"192.174.4.1\"},\n",
    "\t{'name': \"gmail.com\", 'IP': \"168.142.2.1\"}\n",
    "]\n",
    "keys = [\"name\", \"IP\"]\n",
    "\n",
    "with open('hosts.csv', 'w', newline='') as hosts_csv:\n",
    "\twriter = csv.DictWriter(hosts_csv, fieldnames=keys)\n",
    "\twriter.writeheader()\n",
    "\twriter.writerows(hosts)\n",
    "\n",
    "with open('hosts.csv') as file:\n",
    "\tcontents = file.read()\n",
    "\tprint(contents)"
   ],
   "metadata": {
    "collapsed": false
   }
  },
  {
   "cell_type": "code",
   "execution_count": 16,
   "metadata": {
    "collapsed": true
   },
   "outputs": [
    {
     "name": "stdout",
     "output_type": "stream",
     "text": [
      "<re.Match object; span=(0, 7), match='England'>\n"
     ]
    }
   ],
   "source": [
    "import re\n",
    "\n",
    "# print(re.search(r\"p.ng\", \"penguin\"))\n",
    "# print(re.search(r\"t..\", \"teetaa\"))\n",
    "# print(re.search(r\"p.ng\", \"Pangea\", re.IGNORECASE))\n",
    "# print(re.search(r\"[Hh]ello[Ww]orld\", \"hello world\"))\n",
    "# print(re.search(r\"[a-z]men\", \"buscatdogmen\"))\n",
    "# print(re.search(\"cloud[a-zA-Z0-999]\", \"cloud9\"))\n",
    "# print(re.search(r\"[^a-zA-Z]\", \"hello world\"))  # using ^ WC means EXCLUDE\n",
    "#\n",
    "# print(re.search(r\"cat|dog\", \"cathedral\")) # using | (pipe) symbol allows it to be 'cat' OR 'dog'\n",
    "# print(re.search(r\"cat|dog\", \"doghedral\"))\n",
    "# print(re.search(r\"cat|dog\", \"Cats and dogs are running\", re.IGNORECASE))\n",
    "# print(re.findall(r\"cat|dog\", \"Cats and dogs are running\", re.IGNORECASE))\n",
    "# print(re.search(r\"Py.*n\", \"Python\"))\n",
    "# print(re.search(r\"Py.*n\", \"Python programming\"))\n",
    "# print(re.search(r\"Py[a-z]*n\", \"Python programming\"))\n",
    "\n",
    "print(re.search(r\"^E.*d$\", \"England\"))"
   ]
  },
  {
   "cell_type": "code",
   "execution_count": 23,
   "outputs": [
    {
     "name": "stdout",
     "output_type": "stream",
     "text": [
      "<re.Match object; span=(0, 11), match='my_variable'>\n"
     ]
    }
   ],
   "source": [
    "import re\n",
    "\n",
    "pattern = r\"^[a-zA-Z_][\\w]*$\"\n",
    "\n",
    "print(re.search(pattern, \"my_variable\"))"
   ],
   "metadata": {
    "collapsed": false
   }
  },
  {
   "cell_type": "code",
   "execution_count": null,
   "outputs": [],
   "source": [
    "import re\n",
    "def check_sentence(text):\n",
    "  result = re.search(r\"^[A-Z][a-z\\s]*[.?!]$\", text)\n",
    "  return result != None\n",
    "\n",
    "print(check_sentence(\"Is this is a sentence?\")) # True\n",
    "print(check_sentence(\"is this is a sentence?\")) # False\n",
    "print(check_sentence(\"Hello\")) # False\n",
    "print(check_sentence(\"1-2-3-GO!\")) # False\n",
    "print(check_sentence(\"A star is born.\")) # True"
   ],
   "metadata": {
    "collapsed": false
   }
  },
  {
   "cell_type": "code",
   "execution_count": 24,
   "outputs": [
    {
     "name": "stdout",
     "output_type": "stream",
     "text": [
      "False\n",
      "False\n",
      "False\n",
      "False\n",
      "False\n"
     ]
    }
   ],
   "source": [
    "import re\n",
    "def check_web_address(text):\n",
    "  pattern = r\"^\"\n",
    "  result = re.search(pattern, text)\n",
    "  return result != None\n",
    "\n",
    "print(check_web_address(\"gmail.com\")) # True\n",
    "print(check_web_address(\"www@google\")) # False\n",
    "print(check_web_address(\"www.Coursera.org\")) # True\n",
    "print(check_web_address(\"web-address.com/homepage\")) # False\n",
    "print(check_web_address(\"My_Favorite-Blog.US\")) # True\n"
   ],
   "metadata": {
    "collapsed": false
   }
  },
  {
   "cell_type": "code",
   "execution_count": 35,
   "outputs": [
    {
     "name": "stdout",
     "output_type": "stream",
     "text": [
      "True\n",
      "True\n",
      "False\n",
      "False\n"
     ]
    }
   ],
   "source": [
    "import re\n",
    "\n",
    "def check_time(text):\n",
    "  pattern = r\"^([1-9]|1[0-2]):(0[0-9]|[1-5][0-9])\\s?[APap][Mm]$\"\n",
    "  result = re.search(pattern, text)\n",
    "  return result is not None\n",
    "\n",
    "# Test cases\n",
    "print(check_time(\"12:45pm\")) # True\n",
    "print(check_time(\"9:59 AM\")) # True\n",
    "print(check_time(\"6:60am\")) # False\n",
    "print(check_time(\"five o'clock\")) # False\n"
   ],
   "metadata": {
    "collapsed": false
   }
  },
  {
   "cell_type": "code",
   "execution_count": 38,
   "outputs": [
    {
     "name": "stdout",
     "output_type": "stream",
     "text": [
      "True\n",
      "True\n",
      "False\n",
      "True\n",
      "True\n"
     ]
    }
   ],
   "source": [
    "import re\n",
    "def contains_acronym(text):\n",
    "  pattern = r\"\\([A-Z0-9][A-Za-z0-9]+\"\n",
    "  result = re.search(pattern, text)\n",
    "  return result != None\n",
    "\n",
    "print(contains_acronym(\"Instant messaging (IM) is a set of communication technologies used for text-based communication\")) # True\n",
    "print(contains_acronym(\"American Standard Code for Information Interchange (ASCII) is a character encoding standard for electronic communication\")) # True\n",
    "print(contains_acronym(\"Please do NOT enter without permission!\")) # False\n",
    "print(contains_acronym(\"PostScript is a fourth-generation programming language (4GL)\")) # True\n",
    "print(contains_acronym(\"Have fun using a self-contained underwater breathing apparatus (Scuba)!\")) # True"
   ],
   "metadata": {
    "collapsed": false
   }
  },
  {
   "cell_type": "code",
   "execution_count": 39,
   "outputs": [
    {
     "name": "stdout",
     "output_type": "stream",
     "text": [
      "['morning']\n",
      "['chocolate', 'afternoon']\n",
      "[]\n"
     ]
    }
   ],
   "source": [
    "import re\n",
    "def long_words(text):\n",
    "  pattern = r\"\\b\\w{7,}\\b\"\n",
    "  result = re.findall(pattern, text)\n",
    "  return result\n",
    "\n",
    "print(long_words(\"I like to drink coffee in the morning.\")) # ['morning']\n",
    "print(long_words(\"I also have a taste for hot chocolate in the afternoon.\")) # ['chocolate', 'afternoon']\n",
    "print(long_words(\"I never drink tea late at night.\")) # []"
   ],
   "metadata": {
    "collapsed": false
   }
  },
  {
   "cell_type": "code",
   "execution_count": 52,
   "outputs": [
    {
     "name": "stdout",
     "output_type": "stream",
     "text": [
      "12345 (ERROR)\n",
      "None\n",
      "None\n",
      "67890 (RUNNING)\n"
     ]
    }
   ],
   "source": [
    "import re\n",
    "def extract_pid(log_line):\n",
    "\tregex = r\"\\[(\\d+)\\]: ([A-Z]+)\"\n",
    "\tresult = re.search(regex, log_line)\n",
    "\tif result is None:\n",
    "\t\treturn None\n",
    "\treturn \"{} ({})\".format(result[1], result[2])\n",
    "\n",
    "print(extract_pid(\"July 31 07:51:48 mycomputer bad_process[12345]: ERROR Performing package upgrade\")) # 12345 (ERROR)\n",
    "print(extract_pid(\"99 elephants in a [cage]\")) # None\n",
    "print(extract_pid(\"A string that also has numbers [34567] but no uppercase message\")) # None\n",
    "print(extract_pid(\"July 31 08:08:08 mycomputer new_process[67890]: RUNNING Performing backup\")) # 67890 (RUNNING)\n"
   ],
   "metadata": {
    "collapsed": false
   }
  },
  {
   "cell_type": "code",
   "execution_count": null,
   "outputs": [],
   "source": [
    "import re\n",
    "\n",
    "myLog = \"July 31 [12598127491294]\"\n",
    "myRegex = r\"\\[(\\d+)\\]\"\n",
    "\n",
    "def extract_pid(log, regex):\n",
    "\ttry:\n",
    "\t\tresult = re.search(regex, log)\n",
    "\t\tif result is not None:\n",
    "\t\t\tprint(result[1])\n",
    "\t\telse:\n",
    "\t\t\tprint(\"Invalid PID.\")\n",
    "\n",
    "\texcept Exception:\n",
    "\t\tprint(\"Something went wrong.\")\n",
    "\n",
    "(extract_pid(myLog,myRegex))"
   ],
   "metadata": {
    "collapsed": false
   }
  },
  {
   "cell_type": "code",
   "execution_count": 57,
   "outputs": [
    {
     "data": {
      "text/plain": "['One sentence', ' And another one', ' Yes more', \" Let's go\"]"
     },
     "execution_count": 57,
     "metadata": {},
     "output_type": "execute_result"
    }
   ],
   "source": [
    "import re\n",
    "re.split(r\"[.?!]\", \"One sentence. And another one? Yes more! Let's go\")"
   ],
   "metadata": {
    "collapsed": false
   }
  },
  {
   "cell_type": "code",
   "execution_count": 58,
   "outputs": [
    {
     "data": {
      "text/plain": "['One sentence', '.', ' And another one', '?', ' Yes more', '!', \" Let's go\"]"
     },
     "execution_count": 58,
     "metadata": {},
     "output_type": "execute_result"
    }
   ],
   "source": [
    "import re\n",
    "re.split(r\"([.?!])\", \"One sentence. And another one? Yes more! Let's go\")"
   ],
   "metadata": {
    "collapsed": false
   }
  },
  {
   "cell_type": "code",
   "execution_count": 62,
   "outputs": [
    {
     "data": {
      "text/plain": "'Received an email for ****'"
     },
     "execution_count": 62,
     "metadata": {},
     "output_type": "execute_result"
    }
   ],
   "source": [
    "import re\n",
    "re.sub(r\"[\\w.%+-]+@[\\w.-]+\", \"****\", \"Received an email for gonutes95@gmail.com\")"
   ],
   "metadata": {
    "collapsed": false
   }
  },
  {
   "cell_type": "code",
   "execution_count": null,
   "outputs": [],
   "source": [
    "import re\n",
    "def transform_record(record):\n",
    "  pattern = r\"(\\d{3}-\\d{3}-\\d{4})\"\n",
    "  new_record = re.sub(pattern, r\"+1-\\1\", record)\n",
    "  return new_record\n",
    "#name, phoneNo, Role#\n",
    "print(transform_record(\"Sabrina Green,802-867-5309,System Administrator\"))\n",
    "# Sabrina Green,+1-802-867-5309,System Administrator\n",
    "\n",
    "print(transform_record(\"Eli Jones,684-3481127,IT specialist\"))\n",
    "# Eli Jones,+1-684-3481127,IT specialist\n",
    "\n",
    "print(transform_record(\"Melody Daniels,846-687-7436,Programmer\"))\n",
    "# Melody Daniels,+1-846-687-7436,Programmer\n",
    "\n",
    "print(transform_record(\"Charlie Rivera,698-746-3357,Web Developer\"))\n",
    "# Charlie Rivera,+1-698-746-3357,Web Developer"
   ],
   "metadata": {
    "collapsed": false
   }
  },
  {
   "cell_type": "code",
   "execution_count": 65,
   "outputs": [
    {
     "name": "stdout",
     "output_type": "stream",
     "text": [
      "['beautiful']\n",
      "['Obviously', 'queen', 'courageous', 'gracious']\n",
      "['rambunctious', 'quietly', 'delicious']\n",
      "['queue']\n",
      "[]\n"
     ]
    }
   ],
   "source": [
    "import re\n",
    "def multi_vowel_words(text):\n",
    "  pattern = r\"\\b\\w*[aeiou]{3}\\w*\\b\"\n",
    "  result = re.findall(pattern, text)\n",
    "  return result\n",
    "\n",
    "print(multi_vowel_words(\"Life is beautiful\"))\n",
    "# ['beautiful']\n",
    "\n",
    "print(multi_vowel_words(\"Obviously, the queen is courageous and gracious.\"))\n",
    "# ['Obviously', 'queen', 'courageous', 'gracious']\n",
    "\n",
    "print(multi_vowel_words(\"The rambunctious children had to sit quietly and await their delicious dinner.\"))\n",
    "# ['rambunctious', 'quietly', 'delicious']\n",
    "\n",
    "print(multi_vowel_words(\"The order of a data queue is First In First Out (FIFO)\"))\n",
    "# ['queue']\n",
    "\n",
    "print(multi_vowel_words(\"Hello world!\"))\n",
    "# []"
   ],
   "metadata": {
    "collapsed": false
   }
  },
  {
   "cell_type": "code",
   "execution_count": 66,
   "outputs": [
    {
     "ename": "AttributeError",
     "evalue": "'str' object has no attribute 'groups'",
     "output_type": "error",
     "traceback": [
      "\u001B[1;31m---------------------------------------------------------------------------\u001B[0m",
      "\u001B[1;31mAttributeError\u001B[0m                            Traceback (most recent call last)",
      "Cell \u001B[1;32mIn[66], line 2\u001B[0m\n\u001B[0;32m      1\u001B[0m pattern \u001B[38;5;241m=\u001B[39m \u001B[38;5;124mr\u001B[39m\u001B[38;5;124m'\u001B[39m\u001B[38;5;124m(A-Z)\u001B[39m\u001B[38;5;124m'\u001B[39m\n\u001B[1;32m----> 2\u001B[0m pattern\u001B[38;5;241m.\u001B[39mgroups(\u001B[38;5;241m1\u001B[39m)\n",
      "\u001B[1;31mAttributeError\u001B[0m: 'str' object has no attribute 'groups'"
     ]
    }
   ],
   "source": [
    "pattern = r'(A-Z)+'\n"
   ],
   "metadata": {
    "collapsed": false
   }
  },
  {
   "cell_type": "code",
   "execution_count": 6,
   "outputs": [
    {
     "name": "stdout",
     "output_type": "stream",
     "text": [
      "My number is (212-345-9999).\n",
      "Please call (888-555-1234)\n",
      "123-123-12345\n",
      "Phone number of Buckingham Palace is +44 303 123 7300\n"
     ]
    }
   ],
   "source": [
    "import re\n",
    "\n",
    "def convert_phone_number(phone):\n",
    "\tpattern = r\"\\b(\\d{3}-\\d{3}-\\d{4})\\b\"\n",
    "\tresult = re.sub(pattern, r\"(\\1)\", phone)\n",
    "\treturn result\n",
    "\n",
    "print(convert_phone_number(\"My number is 212-345-9999.\"))  # My number is (212-345-9999).\n",
    "print(convert_phone_number(\"Please call 888-555-1234\"))  # Please call (888-555-1234)\n",
    "print(convert_phone_number(\"123-123-12345\"))  # 123-123-12345\n",
    "print(convert_phone_number(\"Phone number of Buckingham Palace is +44 303 123 7300\"))  # Phone number of Buckingham Palace is +44 303 123 7300\n"
   ],
   "metadata": {
    "collapsed": false
   }
  },
  {
   "cell_type": "code",
   "execution_count": 8,
   "outputs": [
    {
     "name": "stdout",
     "output_type": "stream",
     "text": [
      "('123',)\n"
     ]
    }
   ],
   "source": [
    "import re\n",
    "\n",
    "pattern = r\"(\\d+)-\\d+\"\n",
    "text = \"123-456\"\n",
    "\n",
    "match = re.match(pattern, text)\n",
    "\n",
    "if match:\n",
    "\tcaptured_groups = match.groups()\n",
    "\tprint(captured_groups)\n"
   ],
   "metadata": {
    "collapsed": false
   }
  }
 ],
 "metadata": {
  "kernelspec": {
   "display_name": "Python 3",
   "language": "python",
   "name": "python3"
  },
  "language_info": {
   "codemirror_mode": {
    "name": "ipython",
    "version": 2
   },
   "file_extension": ".py",
   "mimetype": "text/x-python",
   "name": "python",
   "nbconvert_exporter": "python",
   "pygments_lexer": "ipython2",
   "version": "2.7.6"
  }
 },
 "nbformat": 4,
 "nbformat_minor": 0
}
