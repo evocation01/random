{
 "cells": [
  {
   "cell_type": "code",
   "execution_count": 1,
   "outputs": [
    {
     "name": "stdout",
     "output_type": "stream",
     "text": [
      "45 1\n",
      "0\n",
      "1\n",
      "2\n",
      "3\n",
      "4\n",
      "5\n"
     ]
    }
   ],
   "source": [
    "x=1\n",
    "sum=0\n",
    "while x<10:\n",
    "\tsum += x\n",
    "\tx += 1\n",
    "\n",
    "product = 1\n",
    "while x < 10:\n",
    "\tproduct = product * x\n",
    "\tx +=1\n",
    "\n",
    "print(sum,product)\n",
    "\n",
    "for x in range(6):\n",
    "\tprint(x)"
   ],
   "metadata": {
    "collapsed": false
   }
  },
  {
   "cell_type": "code",
   "execution_count": null,
   "outputs": [],
   "source": [
    "import re\n",
    "def transform_record(record):\n",
    "  new_record = re.sub()\n",
    "  return new_record\n",
    "\n",
    "print(transform_record(\"Sabrina Green,802-867-5309,System Administrator\"))\n",
    "# Sabrina Green,+1-802-867-5309,System Administrator\n",
    "\n",
    "print(transform_record(\"Eli Jones,684-3481127,IT specialist\"))\n",
    "# Eli Jones,+1-684-3481127,IT specialist\n",
    "\n",
    "print(transform_record(\"Melody Daniels,846-687-7436,Programmer\"))\n",
    "# Melody Daniels,+1-846-687-7436,Programmer\n",
    "\n",
    "print(transform_record(\"Charlie Rivera,698-746-3357,Web Developer\"))\n",
    "# Charlie Rivera,+1-698-746-3357,Web Developer"
   ],
   "metadata": {
    "collapsed": false
   }
  },
  {
   "cell_type": "code",
   "execution_count": null,
   "outputs": [],
   "source": [
    "def factorial(n):\n",
    "\tprint(\"Factorial called with \" + str(n))\n",
    "\tif n<2:\n",
    "\t\tprint(\"Returning 1!\")\n",
    "\t\treturn 1\n",
    "\tresult = n * factorial(n-1)\n",
    "\tprint(\"Returning \" + str(result) + \" for factorial of \" + str(n))\n",
    "\treturn result\n",
    "\n",
    "factorial(4)"
   ],
   "metadata": {
    "collapsed": false,
    "pycharm": {
     "is_executing": true
    }
   }
  },
  {
   "cell_type": "code",
   "execution_count": 2,
   "outputs": [],
   "source": [
    "# while True:\n",
    "# \tprint(\"nooooooooooooooooooooooooooooooooooob kemal\")\n"
   ],
   "metadata": {
    "collapsed": false
   }
  },
  {
   "cell_type": "code",
   "execution_count": null,
   "outputs": [],
   "source": [
    "def exercise_1(num1,num2):\n",
    "\tif (num1*num2<=1000):\n",
    "\t\t\treturn num1*num2\n",
    "\treturn num1 + num2\n",
    "\n",
    "\n",
    "print (\"The result is: \" + str(exercise_1(20, 30)))\n",
    "print (\"The result is: \" + str(exercise_1(40,30)))"
   ],
   "metadata": {
    "collapsed": false
   }
  },
  {
   "cell_type": "code",
   "execution_count": null,
   "outputs": [],
   "source": [
    "# The counter function counts down from start to stop when start is bigger than stop,\n",
    "# and counts up from start to stop otherwise. Fill in the blanks to make this work correctly.\n",
    "\n",
    "def counter (start, stop):\n",
    "   if (start > stop):\n",
    "\t print(\"Counting down:\", end=\" \")\n",
    "\t for x in range (start, stop, -1):\n",
    "\t   print (str(x), end=\",\")\n",
    "\t print(stop)\n",
    "\n",
    "   else:\n",
    "\t print(\"Counting up:\", end=\" \")\n",
    "\t for x in range (start, stop):\n",
    "\t   print (str(x), end= \",\")\n",
    "\t print(stop)\n",
    "\n",
    "counter (1, 10)\n",
    "counter (5, 2)\n",
    "counter (5,5)\n",
    "\n",
    "\n",
    "\n",
    "\n",
    "def counter(start, stop):\n",
    "\tx = start\n",
    "\tif start > stop:\n",
    "\t\treturn_string = \"Counting down: \"\n",
    "\t\twhile x >= stop:\n",
    "\t\t\treturn_string += str(x)\n",
    "\t\t\tif x != stop:\n",
    "\t\t\t\treturn_string += \",\"\n",
    "\t\t\tx -= 1\n",
    "\telse:\n",
    "\t\treturn_string = \"Counting up: \"\n",
    "\t\twhile x <= stop:\n",
    "\t\t\treturn_string += str(x)\n",
    "\t\t\tif x != stop:\n",
    "\t\t\t\treturn_string += \",\"\n",
    "\t\t\tx += 1\n",
    "\treturn return_string\n"
   ],
   "metadata": {
    "collapsed": false
   }
  },
  {
   "cell_type": "code",
   "execution_count": null,
   "outputs": [],
   "source": [
    "for left in range(7):\n",
    "\tfor right in range(left, 7):\n",
    "\t\tprint(\"[\" + str(left) + \"|\" + str(right) + \"]\", end=\" \")\n",
    "\tprint()"
   ],
   "metadata": {
    "collapsed": false
   }
  },
  {
   "cell_type": "code",
   "execution_count": null,
   "outputs": [],
   "source": [
    "print(\"Welcome to my band name generator app!\")\n",
    "city_name = input(\"May I ask, which city did you grew up in?\\n\")\n",
    "pet_name = input(\"And the name of your pet?\\n\")\n",
    "band_name = pet_name + \" \" + city_name\n",
    "reversed_band_name = city_name + \" \" + pet_name\n",
    "\n",
    "print(\"Your band name could be:\\n\" + band_name)\n",
    "print(\"or:\\n\" + reversed_band_name)"
   ],
   "metadata": {
    "collapsed": false
   }
  },
  {
   "cell_type": "code",
   "execution_count": null,
   "outputs": [],
   "source": [
    "age = input(\"What is your current age? \")\n",
    " # Until 90 years\n",
    "years_left = 90-int(age)\n",
    "months = years_left * 12\n",
    "weeks = years_left * 52\n",
    "days = years_left * 365\n",
    "\n",
    "x = \"You have {} days, {} weeks, and {} months left.\".format(days, weeks, months)\n",
    "y = f\"You have {days} days, {weeks} weeks, and {months} months left.\"\n",
    "print(x)\n",
    "print(y)"
   ],
   "metadata": {
    "collapsed": false
   }
  },
  {
   "cell_type": "code",
   "execution_count": null,
   "outputs": [],
   "source": [
    "print(\"Welcome to the tip calculator.\")\n",
    "bill = input(\"What was the total bill? $\")\n",
    "float_bill = float(bill)\n",
    "tip = input(\"What percentage tip would you like to give? %10, 12 or 15? \")\n",
    "int_tip = int(tip)\n",
    "people = input(\"How many people to split the bill? \")\n",
    "int_people = int(people)\n",
    "\n",
    "tipped_bill = float_bill*(100+int_tip)/100/int_people\n",
    "\n",
    "print(\"Each person should pay: {:.2f}\".format(tipped_bill))"
   ],
   "metadata": {
    "collapsed": false
   }
  },
  {
   "cell_type": "code",
   "execution_count": null,
   "outputs": [],
   "source": [
    "number = int(input(\"Which number do you want to check? \"))\n",
    "\n",
    "if number%2==0:\n",
    "\t print(\"This is an even number.\")\n",
    "else:\n",
    "\t print(\"This is an odd number.\")"
   ],
   "metadata": {
    "collapsed": false
   }
  },
  {
   "cell_type": "code",
   "execution_count": null,
   "outputs": [],
   "source": [
    "height = float(input(\"enter your height in m: \"))\n",
    "weight = float(input(\"enter your weight in kg: \"))\n",
    "\n",
    "\n",
    "un_rounded_BMI = weight / (height*height)\n",
    "BMI = round(un_rounded_BMI)\n",
    "\n",
    "if BMI <= 18.5:\n",
    "\t print(f\"Your BMI is {BMI}, you are underweight.\")\n",
    "elif BMI <= 25:\n",
    "\t print(f\"Your BMI is {BMI}, you have a normal weight.\")\n",
    "elif BMI <= 30:\n",
    "\t print(f\"Your BMI is {BMI}, you are slightly overweight.\")\n",
    "elif BMI <= 35:\n",
    "\t print(f\"Your BMI is {BMI}, you are obese.\")\n",
    "else:\n",
    "\t print(f\"Your BMI is {BMI}, you are clinically obese.\")"
   ],
   "metadata": {
    "collapsed": false
   }
  },
  {
   "cell_type": "markdown",
   "source": [
    "\t\tLEAP YEARS EXERCISE"
   ],
   "metadata": {
    "collapsed": false
   }
  },
  {
   "cell_type": "code",
   "execution_count": null,
   "outputs": [],
   "source": [
    "year = input(\"Which year do you want to check? \")\n",
    "if year % 400 == 0:\n",
    "\t print(\"Leap year.\")\n",
    "elif year % 4 == 0 and year % 100 != 0:\n",
    "\t print(\"Leap year.\")\n",
    "else:\n",
    "\t print(\"Not leap year.\")"
   ],
   "metadata": {
    "collapsed": false
   }
  },
  {
   "cell_type": "code",
   "execution_count": 9,
   "outputs": [
    {
     "name": "stdout",
     "output_type": "stream",
     "text": [
      "Welcome to Python Pizza Deliveries!\n",
      "Your final bill is: $18.\n"
     ]
    }
   ],
   "source": [
    "print(\"Welcome to Python Pizza Deliveries!\")\n",
    "\n",
    "size = input(\"What size pizza do you want? S, M, or L \")\n",
    "pepperoni = input(\"Do you want pepperoni? Y or N \")\n",
    "extra_cheese = input(\"Do you want extra cheese? Y or N \")\n",
    "\n",
    "bill = 0\n",
    "\n",
    "if size == \"S\":\n",
    "\tbill += 15\n",
    "elif size == \"M\":\n",
    "\tbill += 20\n",
    "elif size == \"L\":\n",
    "\tbill += 25\n",
    "else:\n",
    "\tprint(\"Invalid size.\")\n",
    "\n",
    "if size == \"S\" and pepperoni == \"Y\":\n",
    "\tbill += 2\n",
    "\n",
    "if (size == \"M\" or size == \"L\") and pepperoni == \"Y\":\n",
    "\tbill += 3\n",
    "\n",
    "if extra_cheese == \"Y\":\n",
    "\tbill += 1\n",
    "\n",
    "print(f\"Your final bill is: ${bill}.\")"
   ],
   "metadata": {
    "collapsed": false
   }
  },
  {
   "cell_type": "markdown",
   "source": [],
   "metadata": {
    "collapsed": false
   }
  },
  {
   "cell_type": "code",
   "execution_count": null,
   "outputs": [],
   "source": [
    "# 🚨 Don't change the code below 👇\n",
    "print(\"Welcome to the Love Calculator!\")\n",
    "name1 = input(\"What is your name? \\n\")\n",
    "name2 = input(\"What is their name? \\n\")\n",
    "name3 = name1 + \" \" + name2\n",
    "#  🚨 Don't change the code above 👆\n",
    "\n",
    "# Write your code below this line 👇\n",
    "\n",
    "#  T R U E L O V E\n",
    "\n",
    "t = name3.lower().count('t')\n",
    "r = name3.lower().count('r')\n",
    "u = name3.lower().count('u')\n",
    "e = name3.lower().count('e')\n",
    "l = name3.lower().count('l')\n",
    "o = name3.lower().count('o')\n",
    "v = name3.lower().count('v')\n",
    "e = name3.lower().count('e')\n",
    "\n",
    "\n",
    "TRUE = str(t + r + u + e)\n",
    "LOVE = str(l + o + v + e)\n",
    "\n",
    "LOVE_SCORE = int(TRUE + LOVE)\n",
    "\n",
    "if (LOVE_SCORE<10) or (LOVE_SCORE > 90):\n",
    "\t print(f\"Your score is {LOVE_SCORE}, you go together like coke and mentos\")\n",
    "elif (LOVE_SCORE >= 40) and (LOVE_SCORE <= 50):\n",
    "\t print(f\"Your score is {LOVE_SCORE}, you are alright together.\")\n",
    "else:\n",
    "\t print(f\"Your score is {LOVE_SCORE}\")"
   ],
   "metadata": {
    "collapsed": false
   }
  },
  {
   "cell_type": "code",
   "execution_count": null,
   "outputs": [],
   "source": [
    "print('''\n",
    " *******************************************************************************\n",
    "\t\t   |                   |                  |                     |\n",
    "  _________|________________.=\"\"_;=.______________|_____________________|_______\n",
    " |                   |  ,-\"_,=\"\"     `\"=.|                  |\n",
    " |___________________|__\"=._o`\"-._        `\"=.______________|___________________\n",
    "\t\t   |                `\"=._o`\"=._      _`\"=._                     |\n",
    "  _________|_____________________:=._o \"=._.\"_.-=\"'\"=.__________________|_______\n",
    " |                   |    __.--\" , ; `\"=._o.\" ,-\"\"\"-._ \".   |\n",
    " |___________________|_._\"  ,. .` ` `` ,  `\"-._\"-._   \". '__|___________________\n",
    "\t\t   |           |o`\"=._` , \"` `; .\". ,  \"-._\"-._; ;              |\n",
    "  _________|___________| ;`-.o`\"=._; .\" ` '`.\"\\` . \"-._ /_______________|_______\n",
    " |                   | |o;    `\"-.o`\"=._``  '` \" ,__.--o;   |\n",
    " |___________________|_| ;     () `-.o `\"=.`_.--\"_o.-; ;___|___________________\n",
    " ____/______/______/___|o;._    \"      `\".o|o_.--\"    ;o;____/______/______/____\n",
    " /______/______/______/_\"=._o--._        ; | ;        ; ;/______/______/______/_\n",
    " ____/______/______/______/__\"=._o--._   ;o|o;     _._;o;____/______/______/____\n",
    " /______/______/______/______/____\"=._o._; | ;_.--\"o.--\"_/______/______/______/_\n",
    " ____/______/______/______/______/_____\"=.o|o_.--\"\"___/______/______/______/____\n",
    " /______/______/______/______/______/______/______/______/______/______/_____ /\n",
    " *******************************************************************************\n",
    " ''')"
   ],
   "metadata": {
    "collapsed": false
   }
  },
  {
   "cell_type": "code",
   "execution_count": null,
   "outputs": [],
   "source": [
    "print(\"Welcome to Treasure Island.\")\n",
    "print(\"Your mission is to find the treasure.\")\n",
    "\n",
    "direction = input(\"You're at a crossroad. Where do you want to go? Type 'left' or 'right':\\n\")\n",
    "\n",
    "if direction.lower() == 'left':\n",
    "\tswim = input(\"You've come to a lake. There is an island in the middle of the lake. Type 'wait' to wait for a boat. Type 'swim' to swim across:\\n\")\n",
    "\tif swim.lower() == 'wait':\n",
    "\t\tcolour = input(\"You arrive at the island unharmed. There is a house with 3 doors. One red, one yellow, and one blue. Which color do you choose?\\n\")\n",
    "\t\tif colour.lower() == 'yellow':\n",
    "\t\t\tprint(\"You found the treasure! You Win!\")\n",
    "\t\telif colour.lower() == 'red':\n",
    "\t\t\tprint(\"It's a room full of fire. Game Over.\")\n",
    "\t\telif colour.lower() == 'blue':\n",
    "\t\t\tprint(\"You enter a room of beasts. Game Over.\")\n",
    "\t\telse:\n",
    "\t\t\tprint(\"You chose a door that doesn't exist. Game Over.\")\n",
    "\telse:\n",
    "\t\tprint(\"Attacked by trout. Game Over.\")\n",
    "else:\n",
    "\tprint(\"You fell into a hole. Game Over.\")\n"
   ],
   "metadata": {
    "collapsed": false
   }
  },
  {
   "cell_type": "code",
   "execution_count": null,
   "outputs": [],
   "source": [
    "import random\n",
    "\n",
    "coin_toss = random.choice(['Heads', 'Tails'])\n",
    "print(coin_toss)\n",
    "\n",
    "\n",
    "name_string = input(\"Write everybody's names, seperated by a comma. \")\n",
    "names = name_string.split(\",\")\n",
    "\n",
    "number_of_names = len(names)\n",
    "print(\"The lucky number is \" + names[random.randint(0,number_of_names-1)])\n"
   ],
   "metadata": {
    "collapsed": false
   }
  },
  {
   "cell_type": "code",
   "execution_count": null,
   "outputs": [],
   "source": [
    "fruits = [\"Strawberries\", \"Nectarines\", \"Apples\", \"Grapes\", \"Peaches\", \"Cherries\", \"Pears\"]\n",
    "vegetables = [\"Spinach\", \"Kale\", \"Tomatoes\", \"Celery\", \"Potatoes\"]\n",
    "\n",
    "dirty_dozen = [fruits, vegetables]\n",
    "\n",
    "print(dirty_dozen)\n",
    "print(dirty_dozen[0])\n",
    "print(dirty_dozen[1])\n",
    "print(dirty_dozen[1][1])\n",
    "print(dirty_dozen[1][2])\n",
    "print(dirty_dozen[1][3])"
   ],
   "metadata": {
    "collapsed": false
   }
  },
  {
   "cell_type": "code",
   "execution_count": 8,
   "outputs": [
    {
     "name": "stdout",
     "output_type": "stream",
     "text": [
      "\n"
     ]
    }
   ],
   "source": [
    "#🚨 Don't change the code below 👇\n",
    "row1 = [\"⬜️\",\"️⬜️\",\"️⬜️\"]\n",
    "row2 = [\"⬜️\",\"⬜️\",\"️⬜️\"]\n",
    "row3 = [\"⬜️️\",\"⬜️️\",\"⬜️️\"]\n",
    "map = [row1, row2, row3]\n",
    "print(f\"{row1}\\n{row2}\\n{row3}\")\n",
    "position = int(input(\"Where do you want to put the treasure? \"))  # 1, 3\n",
    "# 🚨 Don't change the code above 👆\n",
    "\n",
    "# Write your code below this row 👇\n",
    "\n",
    "print(position[0], position[1])\n",
    "first_pos = position//10\n",
    "second_pos = position%10\n",
    "\n",
    "map[second_pos-1][first_pos-1] = 'X'\n",
    "\n",
    "\n",
    "# Write your code above this row 👆\n",
    "\n",
    "#  🚨 Don't change the code below 👇\n",
    "print(f\"{row1}\\n{row2}\\n{row3}\")"
   ],
   "metadata": {
    "collapsed": false
   }
  },
  {
   "cell_type": "code",
   "execution_count": null,
   "outputs": [],
   "source": [
    "import random\n",
    "\n",
    "your_choice = input(\"What do you choose? Type 0 for Rock, 1 for Scissors and 2 for Paper. \")\n",
    "computers_choice = random.choice(['0', '1', '2'])\n",
    "computers_real_choice = \"\"\n",
    "\n",
    "if computers_choice == \"0\":\n",
    "\t computers_real_choice = \"Rock\"\n",
    "elif computers_choice == \"1\":\n",
    "\t computers_real_choice = \"Scissors\"\n",
    "elif computers_choice == \"2\":\n",
    "\t computers_real_choice = \"Paper\"\n",
    "\n",
    "print(f\"Computer chose: {computers_real_choice}\")\n",
    "\n",
    "##  REMINDER:\n",
    "\n",
    "##   Rock > Scissors\n",
    "##   Scissors > Paper\n",
    "##   Paper > Rock\n",
    "\n",
    "if your_choice==computers_choice:\n",
    "\t print(\"It's a tie!\")\n",
    "elif your_choice==\"0\" and computers_choice==\"1\":\n",
    "\t print(\"You win!\")\n",
    "elif your_choice==\"0\" and computers_choice==\"2\":\n",
    "\t print(\"You lose!\")\n",
    "elif your_choice==\"1\" and computers_choice==\"0\":\n",
    "\t print(\"You lose!\")\n",
    "elif your_choice == \"1\" and computers_choice == \"2\":\n",
    "\t print(\"You win!\")\n",
    "elif your_choice == \"2\" and computers_choice == \"0\":\n",
    "\t print(\"You win!\")\n",
    "elif your_choice == \"2\" and computers_choice == \"1\":\n",
    "\t print(\"You lose!\")\n",
    "else:\n",
    "\t print(\"Couldn't interpret. Try again please.\")"
   ],
   "metadata": {
    "collapsed": false
   }
  },
  {
   "cell_type": "code",
   "execution_count": 10,
   "outputs": [
    {
     "name": "stdout",
     "output_type": "stream",
     "text": [
      "Apple\n",
      "Apple Pie\n",
      "Peach\n",
      "Peach Pie\n",
      "Pear\n",
      "Pear Pie\n",
      "['Apple', 'Peach', 'Pear']\n"
     ]
    }
   ],
   "source": [
    "fruits = [\"Apple\", \"Peach\", \"Pear\"]\n",
    "\n",
    "for fruit in fruits:\n",
    "\t print(fruit)\n",
    "\t print(fruit + \" Pie\")\n",
    "print(fruits)"
   ],
   "metadata": {
    "collapsed": false
   }
  },
  {
   "cell_type": "code",
   "execution_count": null,
   "outputs": [],
   "source": [
    "total = 0\n",
    "\n",
    "for number in range(1, 101):\n",
    "\t total += number\n",
    "\n",
    "print(total)"
   ],
   "metadata": {
    "collapsed": false
   }
  },
  {
   "cell_type": "code",
   "execution_count": null,
   "outputs": [],
   "source": [
    " #🚨 Don't change the code below 👇\n",
    "student_heights = input(\"Input a list of student heights \").split()\n",
    "\n",
    "for n in range(0, len(student_heights)):\n",
    "  student_heights[n] = int(student_heights[n])\n",
    " #🚨 Don't change the code above 👆\n",
    "\n",
    "\n",
    "# Write your code below this row 👇\n",
    "\n",
    "total_height = 0\n",
    "\n",
    "for height in student_heights:\n",
    "\ttotal_height += height\n",
    "\n",
    "print(round(total_height / len(student_heights)))"
   ],
   "metadata": {
    "collapsed": false
   }
  },
  {
   "cell_type": "code",
   "execution_count": null,
   "outputs": [],
   "source": [
    "# 🚨 Don't change the code below 👇\n",
    "student_scores = input(\"Input a list of student scores \").split()\n",
    "for n in range(0, len(student_scores)):\n",
    "  student_scores[n] = int(student_scores[n])\n",
    "print(student_scores)\n",
    "# 🚨 Don't change the code above 👆\n",
    "\n",
    " # Write your code below this row 👇\n",
    "\n",
    "highest_score = max(student_scores)\n",
    "\n",
    "def calculate_highest_score(scores):\n",
    "\thighest_score = 0\n",
    "\tfor score in scores:\n",
    "\t\tif score > highest_score:\n",
    "\t\t\thighest_score = score\n",
    "\treturn highest_score\n",
    "\n",
    "highest_score = calculate_highest_score(student_scores)\n",
    "\n",
    "print(f\"The highest score in the class is: {highest_score}\")"
   ],
   "metadata": {
    "collapsed": false
   }
  },
  {
   "cell_type": "code",
   "execution_count": null,
   "outputs": [],
   "source": [
    "total = 0\n",
    "for even_number in range(2,101,2):\n",
    "\ttotal += even_number\n",
    "print(total)"
   ],
   "metadata": {
    "collapsed": false
   }
  },
  {
   "cell_type": "code",
   "execution_count": null,
   "outputs": [],
   "source": [
    "for number in range(1,101):\n",
    "\tif (number % 3 == 0 and number % 5 == 0):\n",
    "\t\tprint(\"FizzBuzz\")\n",
    "\telif (number % 3 == 0):\n",
    "\t\tprint(\"Fizz\")\n",
    "\telif (number % 5 == 0):\n",
    "\t\tprint(\"Buzz\")\n",
    "\telse:\n",
    "\t\tprint(number)"
   ],
   "metadata": {
    "collapsed": false
   }
  },
  {
   "cell_type": "code",
   "execution_count": null,
   "outputs": [],
   "source": [
    "text = \"123456789\"\n",
    "print(text[-1])\n",
    "print(text[-3])\n",
    "print(text[1:4])\n",
    "print(text[4:])\n",
    "print(text[:4])\n",
    "print(text.index(\"5\"))  # index method gives the FIRST index of the typed character\n",
    "print(\"1234\" in text)\n",
    "print(\"sdfgsg\" in text)"
   ],
   "metadata": {
    "collapsed": false
   }
  },
  {
   "cell_type": "code",
   "execution_count": null,
   "outputs": [],
   "source": [
    "def replace_domain(email, old_domain, new_domain):\n",
    "\tif \"@\" + old_domain in email:\n",
    "\t\ti = email.index(\"@\" + old_domain)\n",
    "\t\tnew_email = email[:i] + \"@\" + new_domain\n",
    "\t\treturn new_email+ \"@\" + new_domain + \".com\"\n",
    "\treturn email+\"@\" + new_domain + \".com\"\n",
    "print(replace_domain(\"hakanispir2004\", \"hotmail\", \"gmail\"))"
   ],
   "metadata": {
    "collapsed": false
   }
  },
  {
   "cell_type": "code",
   "execution_count": null,
   "outputs": [],
   "source": [
    "answer = \"      Yes     \"\n",
    "if answer.lower().strip() == \"yes\":  # .lower() upper() lstrip() rstrip() strip()\n",
    "\tprint(\"User said yes!\")"
   ],
   "metadata": {
    "collapsed": false
   }
  },
  {
   "cell_type": "code",
   "execution_count": null,
   "outputs": [],
   "source": [
    "winners = [\"Ashley\", \"DYLAN\", \"Reese\"]\n",
    "for index, person in enumerate(winners):\n",
    "\tprint(\"{} - {}\".format(index+1, person))"
   ],
   "metadata": {
    "collapsed": false
   }
  },
  {
   "cell_type": "code",
   "execution_count": null,
   "outputs": [],
   "source": [
    "animals = [\"Lion\", \"Zebra\", \"Dolphin\", \"Monkey\"]\n",
    "chars = 0\n",
    "\n",
    "for animal in animals:\n",
    "\tchars += len(animal)\n",
    "\n",
    "print (\"Total characters: {}, Average length: {}\".format(chars, chars/len(animals)))"
   ],
   "metadata": {
    "collapsed": false
   }
  },
  {
   "cell_type": "code",
   "execution_count": null,
   "outputs": [],
   "source": [
    "def calculate_acceleration (v1, v0, t):\n",
    "\ta = (v1-v0) / t\n",
    "\treturn a\n",
    "\n",
    "print(calculate_acceleration(10.5,5.6,0.5))"
   ],
   "metadata": {
    "collapsed": false
   }
  },
  {
   "cell_type": "code",
   "execution_count": null,
   "outputs": [],
   "source": [
    "temp = input(\"WHATS THE VALUE \")\n",
    "print(\"Value is {}\".format(temp))\n",
    "\n",
    "first=1\n",
    "second = 2\n",
    "\n",
    "print(\"First is {} second = {}\".format(first,second))\n",
    "\n",
    "pos1 = 1\n",
    "pos2=2\n",
    "pos3=3\n",
    "pos4=4\n",
    "\n",
    "pos4, pos1, pos2, pos3 = pos1, pos2, pos3, pos4\n",
    "print (pos1, pos2, pos3, pos4)"
   ],
   "metadata": {
    "collapsed": false
   }
  },
  {
   "cell_type": "code",
   "execution_count": null,
   "outputs": [],
   "source": [
    "MONTHS_IN_DECADE = ('120')\n",
    "print(MONTHS_IN_DECADE)"
   ],
   "metadata": {
    "collapsed": false
   }
  },
  {
   "cell_type": "code",
   "execution_count": null,
   "outputs": [],
   "source": [
    "x=0\n",
    "print(\"This is a simple program to determine Nth harmonic number\")\n",
    "n = int(input(\"Please input the intended Nth number: \"))\n",
    "for number in range(1,n+1):\n",
    "\t x += (1/number)\n",
    "\n",
    "print(x)\n",
    "print(5*1.6)"
   ],
   "metadata": {
    "collapsed": false
   }
  },
  {
   "cell_type": "code",
   "execution_count": null,
   "outputs": [],
   "source": [
    "print(\"Welcome to the Band Name Generator\")\n",
    "city = input(\"What's the name of the city you grew up in? \")\n",
    "print(city)\n",
    "pet = input(\"What's your pet's name? \")\n",
    "print(pet)\n",
    "print(\"Your band name could be {} {}\".format(city,pet))"
   ],
   "metadata": {
    "collapsed": false
   }
  },
  {
   "cell_type": "code",
   "execution_count": null,
   "outputs": [],
   "source": [
    "def attempts(n):\n",
    "\tx = 1\n",
    "\twhile x <= n:\n",
    "\t\tcontinue\n",
    "\t\tprint(\"Attempt \" + str(x))\n",
    "\t\tx += 1\n",
    "\t\tcontinue\n",
    "\tprint(\"Done\")\n",
    "\n",
    "\n",
    "attempts(5)"
   ],
   "metadata": {
    "collapsed": false
   }
  },
  {
   "cell_type": "markdown",
   "source": [
    "COURSERA NOTES:"
   ],
   "metadata": {
    "collapsed": false
   }
  },
  {
   "cell_type": "code",
   "execution_count": null,
   "outputs": [],
   "source": [
    "for left in range(7):\n",
    "\tfor right in range(left,7): # or just range(7), both are useful.\n",
    "\t\tprint(\"[\" + str(left) + \"|\" + str(right) + \"]\", end=\" \")\n",
    "\tprint()"
   ],
   "metadata": {
    "collapsed": false
   }
  },
  {
   "cell_type": "code",
   "execution_count": null,
   "outputs": [],
   "source": [
    "# Write a script that prints the first 10 cube numbers (x**3),\n",
    "# starting with x=1 and ending with x=10:\n",
    "\n",
    "def calculate_cubes (n):\n",
    "\treturn n**3\n",
    "\n",
    "for i in range(10):\n",
    "\tprint(f\"'{calculate_cubes(i)}'\", end=\" \")"
   ],
   "metadata": {
    "collapsed": false
   }
  },
  {
   "cell_type": "code",
   "execution_count": null,
   "outputs": [],
   "source": [
    "# Write a script that prints the multiples of 7 between 0 and 100. Print one multiple per line\n",
    "# and avoid printing any numbers that aren't multiples of 7.\n",
    "# Remember that 0 is also a multiple of 7\n",
    "\n",
    "for i in range(0,101,7):\n",
    "\tprint(i)"
   ],
   "metadata": {
    "collapsed": false
   }
  },
  {
   "cell_type": "code",
   "execution_count": null,
   "outputs": [],
   "source": [
    "# Fill in the blanks to print the numbers from 15 to 5, counting down by fives.\n",
    "\n",
    "for i in range (15,5,-5):\n",
    "\tprint(i)"
   ],
   "metadata": {
    "collapsed": false
   }
  },
  {
   "cell_type": "markdown",
   "source": [
    "Fill in the blanks to complete the function “digits(n)” to count how many digits the given number has.\n",
    "For example: 25 has 2 digits and 144 has 3 digits."
   ],
   "metadata": {
    "collapsed": false
   }
  },
  {
   "cell_type": "code",
   "execution_count": null,
   "outputs": [],
   "source": [
    "def digits(n):\n",
    "\tif n == 0:\n",
    "\t\treturn 1\n",
    "\twhile n>0:\n",
    "\t\treturn len(str(n))\n",
    "\n",
    "print(digits(25))  # Should print 2\n",
    "print(digits(144))  # Should print 3\n",
    "print(digits(1000))  # Should print 4\n",
    "print(digits(0))  # Should print 1"
   ],
   "metadata": {
    "collapsed": false
   }
  },
  {
   "cell_type": "markdown",
   "source": [
    "Question 4:\n",
    "Fill in the blanks to complete the “sequence” function. This function should print a sequence of\n",
    "numbers in descending order, from the given \"high\" variable to the given \"low\" variable.\n",
    "The range should make the loop run two times. Complete the range sequences in the nested loops so that\n",
    "the “sequence(1, 3)” function call prints the following:"
   ],
   "metadata": {
    "collapsed": false
   }
  },
  {
   "cell_type": "code",
   "execution_count": null,
   "outputs": [],
   "source": [
    "def sequence(low, high):\n",
    "\t# Complete the outer loop range to make the loop run twice\n",
    "\t# to create two rows\n",
    "\tfor x in range(2):\n",
    "\t\t# Complete the inner loop range to print the given variable\n",
    "\t\t# numbers starting from \"high\" to \"low\"\n",
    "\t\t# Hint: To decrement a range parameter, use negative numbers\n",
    "\t\tfor y in range(high, low - 1, -1):\n",
    "\t\t\tif y == low:\n",
    "\t\t\t\t# Don't print a comma after the last item\n",
    "\t\t\t\tprint(str(y))\n",
    "\t\t\telse:\n",
    "\t\t\t\t# Print a comma and a space between numbers\n",
    "\t\t\t\tprint(str(y), end=\", \")\n",
    "\n",
    "sequence(1, 3)"
   ],
   "metadata": {
    "collapsed": false
   }
  },
  {
   "cell_type": "markdown",
   "source": [
    "Fill in the blanks to complete the “countdown” function. This function should begin at the “start” variable,\n",
    "which is an integer that is passed to the function,  and count down to 0. Complete the code\n",
    "so that a function call like “countdown(2)” will return the numbers “2,1,0”."
   ],
   "metadata": {
    "collapsed": false
   }
  },
  {
   "cell_type": "code",
   "execution_count": null,
   "outputs": [],
   "source": [
    "def countdown(start):\n",
    "\t\tif start == 0:\n",
    "\t\t\tprint(\"Cannot count down to 0\")\n",
    "\t\telse:\n",
    "\t\t\tprint(\"Counting down to 0: \", end= \"\")\n",
    "\t\t\tfor x in range(start, -1, -1):\n",
    "\t\t\t\tif (x == 0):\n",
    "\t\t\t\t\tprint(x, end= \"\")\n",
    "\t\t\t\telif (x != 0):\n",
    "\t\t\t\t\tprint(x, end= \", \")\n",
    "\n",
    "countdown(2)"
   ],
   "metadata": {
    "collapsed": false
   }
  },
  {
   "cell_type": "code",
   "execution_count": null,
   "outputs": [],
   "source": [
    "for outer_loop in range(2, 6+1):\n",
    "\tfor inner_loop in range(outer_loop):\n",
    "\t\tif inner_loop % 2 == 0:\n",
    "\t\t\tprint(inner_loop)"
   ],
   "metadata": {
    "collapsed": false
   }
  },
  {
   "cell_type": "code",
   "execution_count": null,
   "outputs": [],
   "source": [
    "word = \"supercalifragilisticexpialidocious\"\n",
    "print(word.index('x'))"
   ],
   "metadata": {
    "collapsed": false
   }
  },
  {
   "cell_type": "markdown",
   "source": [
    "# hakanispir2004@hotmail.com to hakanispir2004@gmail.com\n",
    "# email @ old_domain to email @ new_domain"
   ],
   "metadata": {
    "collapsed": false
   }
  },
  {
   "cell_type": "code",
   "execution_count": null,
   "outputs": [],
   "source": [
    "def replace_domain(email, old_domain, new_domain):\n",
    "\tif old_domain in email:\n",
    "\t\tindex = email.index(\"@\" + old_domain)\n",
    "\t\tnew_email = email[:index] + \"@\" + new_domain\n",
    "\t\treturn new_email\n",
    "\treturn email\n",
    "\n",
    "print(replace_domain(\"hakanispir2004@hotmail.com\", \"hotmail.com\", \"gmail.com\"))"
   ],
   "metadata": {
    "collapsed": false
   }
  },
  {
   "cell_type": "code",
   "execution_count": null,
   "outputs": [],
   "source": [
    "print(\"       yeeeeeeeeeees          \".strip())"
   ],
   "metadata": {
    "collapsed": false
   }
  },
  {
   "cell_type": "code",
   "execution_count": null,
   "outputs": [],
   "source": [
    "def student_grade(name, grade):\n",
    "\treturn \"{} received {}% on the exam\".format(name,grade)\n",
    "\n",
    "print(student_grade(\"Reed\", 80))\n",
    "print(student_grade(\"Paige\", 92))\n",
    "print(student_grade(\"Jesse\", 85))"
   ],
   "metadata": {
    "collapsed": false
   }
  },
  {
   "cell_type": "code",
   "execution_count": null,
   "outputs": [],
   "source": [
    "def to_celcius(x):\n",
    "\treturn (x-32)*5/9\n",
    "print(to_celcius(150))\n"
   ],
   "metadata": {
    "collapsed": false
   }
  },
  {
   "cell_type": "code",
   "execution_count": null,
   "outputs": [],
   "source": [
    "for x in range (0, 101, 10):\n",
    "\tprint(f\"{x:>3} F | {to_celcius(x):>6.2f} C\")"
   ],
   "metadata": {
    "collapsed": false
   }
  },
  {
   "cell_type": "code",
   "execution_count": null,
   "outputs": [],
   "source": [
    "def is_palindrome(input_string):\n",
    "\t# Remove spaces and convert to lowercase\n",
    "\tinput_string = input_string.replace(\" \", \"\").lower()\n",
    "\t# Check if the reversed string is equal to the original string\n",
    "\treturn input_string == input_string[::-1]\n",
    "\n",
    "\n",
    "print(is_palindrome(\"lol\"))\n",
    "print(is_palindrome(\"lolsdkhjfdslkş\"))\n",
    "print(is_palindrome(\"\"))\n",
    "print(is_palindrome(\"Never Odd or Even\")) # Should be True\n",
    "print(is_palindrome(\"abc\")) # Should be False\n",
    "print(is_palindrome(\"kayak\")) # Should be True"
   ],
   "metadata": {
    "collapsed": false
   }
  },
  {
   "cell_type": "markdown",
   "source": [
    "# The replace_ending function replaces a specified substring at the end of a given sentence with a new substring.\n",
    "# If the specified substring does not appear at the end of the given sentence, no action is performed and the original\n",
    "# sentence is returned. If there is more than one occurrence of the specified substring in the sentence, only the substring\n",
    "# at the end of the sentence is replaced. For example, replace_ending(\"abcabc\", \"abc\", \"xyz\") should return abcxyz, not xyzxyz or xyzabc.\n",
    "# The string comparison is case-sensitive, so replace_ending(\"abcabc\", \"ABC\", \"xyz\") should return abcabc (no changes made).\n",
    "### THE CODE BELOW IS NOT THE RIGHT CODE!"
   ],
   "metadata": {
    "collapsed": false
   }
  },
  {
   "cell_type": "markdown",
   "source": [],
   "metadata": {
    "collapsed": false
   }
  },
  {
   "cell_type": "code",
   "execution_count": null,
   "outputs": [],
   "source": [
    "def get_word(sentence, n):\n",
    "\t# Only proceed if n is positive\n",
    "\tif n > 0:\n",
    "\t\twords = sentence.split()\n",
    "\t\t# Only proceed if n is not more than the number of words\n",
    "\t\tif n <= len(words):\n",
    "\t\t\treturn(words[n-1])\n",
    "\treturn(\"\")\n",
    "\n",
    "print(get_word(\"This is a lesson about lists\", 4)) # Should print: lesson\n",
    "print(get_word(\"This is a lesson about lists\", -4)) # Nothing\n",
    "print(get_word(\"Now we are cooking!\", 1)) # Should print: Now\n",
    "print(get_word(\"Now we are cooking!\", 5)) # Nothing"
   ],
   "metadata": {
    "collapsed": false
   }
  },
  {
   "cell_type": "code",
   "execution_count": null,
   "outputs": [],
   "source": [
    "def file_size(file_info):\n",
    "\tname, type, size = file_info\n",
    "\treturn(\"{:.2f}\".format(size / 1024))\n",
    "\n",
    "print(file_size(('Class Assignment', 'docx', 17875))) # Should print 17.46\n",
    "print(file_size(('Notes', 'txt', 496))) # Should print 0.48\n",
    "print(file_size(('Program', 'py', 1239))) # Should print 1.21"
   ],
   "metadata": {
    "collapsed": false
   }
  },
  {
   "cell_type": "code",
   "execution_count": null,
   "outputs": [],
   "source": [
    "def skip_elements(elements):\n",
    "\t# code goes here\n",
    "\tresult = []\n",
    "\n",
    "\tfor element, value in enumerate(elements):\n",
    "\t\tif element % 2 == 0:\n",
    "\t\t\tresult.append(value)\n",
    "\n",
    "\treturn result\n",
    "\n",
    "\n",
    "print(skip_elements([\"a\", \"b\", \"c\", \"d\", \"e\", \"f\", \"g\"])) # Should be ['a', 'c', 'e', 'g']\n",
    "print(skip_elements(['Orange', 'Pineapple', 'Strawberry', 'Kiwi', 'Peach'])) # Should be ['Orange', 'Strawberry', 'Peach']"
   ],
   "metadata": {
    "collapsed": false
   }
  },
  {
   "cell_type": "code",
   "execution_count": null,
   "outputs": [],
   "source": [
    "multiples = []\n",
    "for x in range (1,11):\n",
    "\tmultiples.append(x*7)\n",
    "\n",
    "multiples2 = [x*7 for x in range (1,11)]\n",
    "\n",
    "print(multiples)\n",
    "print(multiples2)\n"
   ],
   "metadata": {
    "collapsed": false
   }
  },
  {
   "cell_type": "code",
   "execution_count": null,
   "outputs": [],
   "source": [
    "languages = [\"Python\", \"C\", \"C++\", \"C#\", \"Javascript\", \"GO\"]\n",
    "length_of_languages = [len(language)    for language in languages]\n",
    "\n",
    "print(length_of_languages)"
   ],
   "metadata": {
    "collapsed": false
   }
  },
  {
   "cell_type": "code",
   "execution_count": null,
   "outputs": [],
   "source": [
    "def odd_numbers(n):\n",
    "\treturn [x for x in range (1,n+1) if x%2==1]\n",
    "\n",
    "print(odd_numbers(5))  # Should print [1, 3, 5]\n",
    "print(odd_numbers(10)) # Should print [1, 3, 5, 7, 9]\n",
    "print(odd_numbers(11)) # Should print [1, 3, 5, 7, 9, 11]\n",
    "print(odd_numbers(1))  # Should print [1]\n",
    "print(odd_numbers(-1)) # Should print []"
   ],
   "metadata": {
    "collapsed": false
   }
  },
  {
   "cell_type": "code",
   "execution_count": null,
   "outputs": [],
   "source": [
    "filenames = [\"program.c\", \"stdio.hpp\", \"sample.hpp\", \"a.out\", \"math.hpp\", \"hpp.out\"]\n",
    "# Generate newfilenames as a list containing the new filenames\n",
    "# using as many lines of code as your chosen method requires.\n",
    "\n",
    "newFileNames = filenames.copy()\n",
    "\n",
    "for i in range (len(newFileNames)):\n",
    "\tnewFileNames[i] = newFileNames[i].replace(\".hpp\", \".h\")\n",
    "\n",
    "print(newFileNames)\n",
    "# Should be [\"program.c\", \"stdio.h\", \"sample.h\", \"a.out\", \"math.h\", \"hpp.out\"]"
   ],
   "metadata": {
    "collapsed": false
   }
  },
  {
   "cell_type": "code",
   "execution_count": null,
   "outputs": [],
   "source": [
    "def pig_latin(text):\n",
    "\tpig_latin_words = []\n",
    "\t# Separate the text into words\n",
    "\twords = text.split()\n",
    "\tfor word in words:\n",
    "\t\t# Create the pig latin word and add it to the list\n",
    "\t\tpig_latin_word = word[1:] + word[0] + \"ay\"\n",
    "\t\tpig_latin_words.append(pig_latin_word)\n",
    "\t\t# Turn the list back into a phrase\n",
    "\t\tpig_latin_text = \" \".join(pig_latin_words)\n",
    "\treturn pig_latin_text\n",
    "\n",
    "print(pig_latin(\"hello how are you\"))  # Should be \"ellohay owhay reaay ouyay\"\n",
    "print(pig_latin(\"programming in python is fun\"))  # Should be \"rogrammingpay niay ythonpay siay unfay\""
   ],
   "metadata": {
    "collapsed": false
   }
  },
  {
   "cell_type": "code",
   "execution_count": null,
   "outputs": [],
   "source": [
    "def group_list(group, users):\n",
    "\tmembers = \", \".join(users)\n",
    "\treturn f\"{group}: {members}\"\n",
    "\n",
    "print(group_list(\"Marketing\", [\"Mike\", \"Karen\", \"Jake\", \"Tasha\"])) # Should be \"Marketing: Mike, Karen, Jake, Tasha\"\n",
    "print(group_list(\"Engineering\", [\"Kim\", \"Jay\", \"Tom\"])) # Should be \"Engineering: Kim, Jay, Tom\"\n",
    "print(group_list(\"Users\", \"\")) # Should be \"Users:\""
   ],
   "metadata": {
    "collapsed": false
   }
  },
  {
   "cell_type": "code",
   "execution_count": null,
   "outputs": [],
   "source": [
    "def guest_list(guests):\n",
    "\tfor guest in guests:\n",
    "\t\tname, age, occupation = guest\n",
    "\t\tprint(f\"{name} is {age} years old and works as {occupation}\")\n",
    "\n",
    "guest_list([('Ken', 30, \"Chef\"), (\"Pat\", 35, 'Lawyer'), ('Amanda', 25, \"Engineer\")])\n",
    "\n",
    "#Click Run to submit code\n"
   ],
   "metadata": {
    "collapsed": false
   }
  },
  {
   "cell_type": "markdown",
   "source": [
    "#### (UP ABOVE)  ####\n",
    "# Output should\n",
    "# Ken is 30 years old and works as Chef\n",
    "# Pat is 35 years old and works as Lawyer\n",
    "# Amanda is 25 years old and works as Engineer"
   ],
   "metadata": {
    "collapsed": false
   }
  },
  {
   "cell_type": "code",
   "execution_count": null,
   "outputs": [],
   "source": [
    "cool_beasts = {\"octopuses\":\"tentacles\", \"dolphins\":\"fins\", \"rhinos\":\"horns\"}\n",
    "for beasts, gadgets in cool_beasts.items():\n",
    "\tprint(f\"{beasts} have {gadgets}\")"
   ],
   "metadata": {
    "collapsed": false
   }
  },
  {
   "cell_type": "code",
   "execution_count": null,
   "outputs": [],
   "source": [
    "def count_letters (text):\n",
    "\tresult = {}\n",
    "\tfor letter in text:\n",
    "\t\tif letter not in result:\n",
    "\t\t\tresult[letter]=0\n",
    "\t\tresult[letter] = 1\n",
    "\treturn result"
   ],
   "metadata": {
    "collapsed": false
   }
  },
  {
   "cell_type": "code",
   "execution_count": null,
   "outputs": [],
   "source": [
    "def email_list(domains):\n",
    "\temails = []\n",
    "\tfor email, users in domains.items():\n",
    "\t\tfor user in users:\n",
    "\t\t\temails.append(user + \"@\" + email)\n",
    "\treturn(emails)\n",
    "\n",
    "print(email_list({\"gmail.com\": [\"clark.kent\", \"diana.prince\", \"peter.parker\"],\n",
    "\t\t\t\t  \"yahoo.com\": [\"barbara.gordon\", \"jean.grey\"], \"hotmail.com\": [\"bruce.wayne\"]}))"
   ],
   "metadata": {
    "collapsed": false
   }
  },
  {
   "cell_type": "code",
   "execution_count": null,
   "outputs": [],
   "source": [
    "def groups_per_user(group_dictionary):\n",
    "\tuser_groups = {}\n",
    "\t# Go through group_dictionary\n",
    "\tfor group, users in group_dictionary.items():\n",
    "\t\t# Now go through the users in the group\n",
    "\t\tfor user in users:\n",
    "\t\t\t# Now add the group to the list of groups for this user, creating the entry if necessary\n",
    "\t\t\tif user in user_groups:\n",
    "\t\t\t\tuser_groups[user].append(group)\n",
    "\t\t\telse:\n",
    "\t\t\t\tuser_groups[user] = [group]\n",
    "\treturn user_groups\n",
    "\n",
    "print(groups_per_user({\"local\": [\"admin\", \"userA\"],\n",
    "\t\t\t\t\t   \"public\":  [\"admin\", \"userB\"],\n",
    "\t\t\t\t\t   \"administrator\": [\"admin\"]}))"
   ],
   "metadata": {
    "collapsed": false
   }
  },
  {
   "cell_type": "code",
   "execution_count": null,
   "outputs": [],
   "source": [
    "#       'RETURN PRICE OF ALL GROCERIES'\n",
    "\n",
    "def add_prices(basket):\n",
    "\t# Initialize the variable that will be used for the calculation\n",
    "\ttotal = 0\n",
    "\t# Iterate through the dictionary items\n",
    "\tfor fruits, prices in basket.items():\n",
    "\t\t# Add each price to the total calculation\n",
    "\t\t# Hint: how do you access the values of\n",
    "\t\t# dictionary items?\n",
    "\t\ttotal += prices\n",
    "\n",
    "\t# Limit the return value to 2 decimal places\n",
    "\treturn round(total, 2)\n",
    "\n",
    "groceries = {\"bananas\": 1.56, \"apples\": 2.50, \"oranges\": 0.99, \"bread\": 4.59,\n",
    "\t\"coffee\": 6.99, \"milk\": 3.39, \"eggs\": 2.98, \"cheese\": 5.44}\n",
    "\n",
    "print(add_prices(groceries)) # Should print 28.44"
   ],
   "metadata": {
    "collapsed": false
   }
  },
  {
   "cell_type": "code",
   "execution_count": null,
   "outputs": [],
   "source": [
    "def countries(countries_dict):\n",
    "\tresult = \"\"\n",
    "\t# Complete the for loop to iterate through the key and value items\n",
    "\t# in the dictionary.\n",
    "\tfor continents, countries in countries_dict.items():\n",
    "\t\t# Use a string method to format the required string.\n",
    "\t\tresult += str(countries) + \"\\n\"\n",
    "\treturn result\n",
    "\n",
    "print(countries({\"Africa\": [\"Kenya\", \"Egypt\", \"Nigeria\"], \"Asia\":[\"China\", \"India\", \"Thailand\"],\n",
    "\t\t\t\t \"South America\": [\"Ecuador\", \"Bolivia\", \"Brazil\"]}))\n",
    "\n",
    "# Should print:\n",
    "# ['Kenya', 'Egypt', 'Nigeria']\n",
    "# ['China', 'India', 'Thailand']\n",
    "# ['Ecuador', 'Bolivia', 'Brazil']"
   ],
   "metadata": {
    "collapsed": false
   }
  },
  {
   "cell_type": "code",
   "execution_count": null,
   "outputs": [],
   "source": [
    "def combine_guests(guests1, guests2):\n",
    "\tguests2.update(guests1) # Use a dictionary method to combine the dictionaries.\n",
    "\treturn guests2\n",
    "\n",
    "Ricks_guests = { \"Adam\":2, \"Camila\":3, \"David\":1, \"Jamal\":3, \"Charley\":2, \"Titus\":1, \"Raj\":4}\n",
    "Tessas_guests = { \"David\":4, \"Noemi\":1, \"Raj\":2, \"Adam\":1, \"Sakira\":3, \"Chidi\":5}\n",
    "\n",
    "print(combine_guests(Ricks_guests, Tessas_guests))\n",
    "# Should print:\n",
    "# {'David': 1, 'Noemi': 1, 'Raj': 4, 'Adam': 2, 'Sakira': 3, 'Chidi': 5, 'Camila': 3, 'Jamal': 3, 'Charley': 2, 'Titus': 1}"
   ],
   "metadata": {
    "collapsed": false
   }
  },
  {
   "cell_type": "code",
   "execution_count": null,
   "outputs": [],
   "source": [
    "def setup_gradebook(old_gradebook):\n",
    "  # Use a dictionary method to create a new copy of the \"old_gradebook\".\n",
    "\tnew_gradebook = old_gradebook.copy()\n",
    "\t# Complete the for loop to iterate over the new gradebook.\n",
    "\tfor names, grades in new_gradebook.items(): #### or,  for names in new_gradebook():  ## no .items() needed\n",
    "\t\t# Use a dictionary operation to reset the grade values to 0.\n",
    "\t\tnew_gradebook[names] = 0\n",
    "\treturn new_gradebook\n",
    "\n",
    "fall_gradebook = {\"James\": 93, \"Felicity\": 98, \"Barakaa\": 80}\n",
    "print(setup_gradebook(fall_gradebook))\n",
    "# Should output {'James': 0, 'Felicity': 0, 'Barakaa': 0}"
   ],
   "metadata": {
    "collapsed": false
   }
  },
  {
   "cell_type": "code",
   "execution_count": null,
   "outputs": [],
   "source": [
    "genre = \"transcendental\"\n",
    "print(genre[:-8])\n",
    "print(genre[-7:9])"
   ],
   "metadata": {
    "collapsed": false
   }
  },
  {
   "cell_type": "code",
   "execution_count": null,
   "outputs": [],
   "source": [
    "car_makes = [\"Ford\", \"Volkswagen\", \"Toyota\"]\n",
    "car_makes.remove(\"Ford\")\n",
    "print(car_makes)"
   ],
   "metadata": {
    "collapsed": false
   }
  },
  {
   "cell_type": "code",
   "execution_count": null,
   "outputs": [],
   "source": [
    "speed_limits = {\"street\": 35, \"highway\": 65, \"school\": 15}\n",
    "speed_limits[\"highway\"]\n",
    "print(speed_limits[\"highway\"])"
   ],
   "metadata": {
    "collapsed": false
   }
  },
  {
   "cell_type": "code",
   "execution_count": null,
   "outputs": [],
   "source": [
    "def confirm_length(word):\n",
    "\n",
    "\t# Complete the condition statement using a string operation.\n",
    "\tif len(word) > 0:\n",
    "\t\t# Complete the return statement using a string operation.\n",
    "\t\treturn len(word)\n",
    "\telse:\n",
    "\t\treturn 0\n",
    "\n",
    "print(confirm_length(\"a\")) # Should print 1\n",
    "print(confirm_length(\"This is a long string\")) # Should print 21\n",
    "print(confirm_length(\"Monday\")) # Should print 6\n",
    "print(confirm_length(\"\")) # Should print 0"
   ],
   "metadata": {
    "collapsed": false
   }
  },
  {
   "cell_type": "code",
   "execution_count": null,
   "outputs": [],
   "source": [
    "def alpha_length(string):\n",
    "\tcharacter = \"\"\n",
    "\tcount_alpha = 0\n",
    "\t# Complete the for loop sequence to iterate over \"string\".\n",
    "\tfor character in string:\n",
    "\t\t# Complete the if-statement using a string method.\n",
    "\t\tif character.isalpha():\n",
    "\t\t\tcount_alpha += 1\n",
    "\treturn count_alpha\n",
    "\n",
    "\n",
    "print(alpha_length(\"This has 1 number in it\"))  # Should print 17\n",
    "print(alpha_length(\"Thisisallletters\"))  # Should print 16\n",
    "print(alpha_length(\"This one has punctuation!\"))  # Should print 21"
   ],
   "metadata": {
    "collapsed": false
   }
  },
  {
   "cell_type": "code",
   "execution_count": null,
   "outputs": [],
   "source": [
    "def sort_distance(distances):\n",
    "\tdistances.sort(reverse=True)  # Sort the list in descending order\n",
    "\treturn distances\n",
    "\n",
    "print(sort_distance([2,4,0,15,8,9]))\n",
    "# Should print [15, 9, 8, 4, 2, 0]"
   ],
   "metadata": {
    "collapsed": false
   }
  },
  {
   "cell_type": "code",
   "execution_count": null,
   "outputs": [],
   "source": [
    "def even_numbers(first, last):\n",
    "  return [even_number for even_number in range(first,last) if even_number % 2 == 0]\n",
    "\n",
    "\n",
    "print(even_numbers(4, 14)) # Should print [4, 6, 8, 10, 12]\n",
    "print(even_numbers(0, 9))  # Should print [0, 2, 4, 6, 8]\n",
    "print(even_numbers(2, 7))  # Should print [2, 4, 6]"
   ],
   "metadata": {
    "collapsed": false
   }
  },
  {
   "cell_type": "markdown",
   "source": [
    "OOP CODES (CLASSES, INHERITANCE,"
   ],
   "metadata": {
    "collapsed": false
   }
  },
  {
   "cell_type": "code",
   "execution_count": null,
   "outputs": [],
   "source": [
    "class Apple:\n",
    "\tcolor = \"\"\n",
    "\tflavor = \"\"\n",
    "\n",
    "\n",
    "jonagold = Apple()\n",
    "jonagold.color = \"red\"\n",
    "jonagold.flavor = \"sweet\"\n",
    "\n",
    "print(jonagold.color)\n",
    "print(jonagold.flavor)"
   ],
   "metadata": {
    "collapsed": false
   }
  },
  {
   "cell_type": "code",
   "execution_count": null,
   "outputs": [],
   "source": [
    "class Birds:\n",
    "\tcolor = \"\"\n",
    "\tnumber = 0\n",
    "\n",
    "\tdef count(self):\n",
    "\t\tself.number = 10\n",
    "\n",
    "bluejay = Birds()\n",
    "bluejay.count()\n",
    "print(bluejay.number)"
   ],
   "metadata": {
    "collapsed": false
   }
  },
  {
   "cell_type": "markdown",
   "source": [
    "# “If you have an apple and I have an apple and we exchange these apples then\n",
    "# you and I will still each have one apple. But if you have an idea and I have\n",
    "# an idea and we exchange these ideas, then each of us will have two ideas.”\n",
    "# George Bernard Shaw"
   ],
   "metadata": {
    "collapsed": false
   }
  },
  {
   "cell_type": "code",
   "execution_count": null,
   "outputs": [],
   "source": [
    "class Person:\n",
    "\tapples = 0\n",
    "\tideas = 0\n",
    "\n",
    "\n",
    "johanna = Person()\n",
    "johanna.apples = 1\n",
    "johanna.ideas = 1\n",
    "\n",
    "martin = Person()\n",
    "martin.apples = 2\n",
    "martin.ideas = 1\n",
    "\n",
    "\n",
    "def exchange_apples(you, me):\n",
    "\t# Here, despite G.B. Shaw's quote, our characters have started with       #different amounts of apples so we can better observe the results.\n",
    "\t# We're going to have Martin and Johanna exchange ALL their apples with #one another.\n",
    "\t# Hint: how would you switch values of variables,\n",
    "\t# so that \"you\" and \"me\" will exchange ALL their apples with one another?\n",
    "\t# Do you need a temporary variable to store one of the values?\n",
    "\t# You may need more than one line of code to do that, which is OK.\n",
    "\tyou.apples, me.apples = me.apples, you.apples\n",
    "\treturn you.apples, me.apples\n",
    "\n",
    "\n",
    "def exchange_ideas(you, me):\n",
    "\t# \"you\" and \"me\" will share our ideas with one another.\n",
    "\t# What operations need to be performed, so that each object receives\n",
    "\t# the shared number of ideas?\n",
    "\t# Hint: how would you assign the total number of ideas to\n",
    "\t# each idea attribute? Do you need a temporary variable to store\n",
    "\t# the sum of ideas, or can you find another way?\n",
    "\t# Use as many lines of code as you need here.\n",
    "\n",
    "\tx = you.ideas\n",
    "\tyou.ideas += me.ideas\n",
    "\tme.ideas += x\n",
    "\treturn you.ideas, me.ideas\n",
    "\n",
    "\n",
    "exchange_apples(johanna, martin)\n",
    "print(\"Johanna has {} apples and Martin has {} apples\".format(johanna.apples, martin.apples))\n",
    "exchange_ideas(johanna, martin)\n",
    "print(\"Johanna has {} ideas and Martin has {} ideas\".format(johanna.ideas, martin.ideas))"
   ],
   "metadata": {
    "collapsed": false
   }
  },
  {
   "cell_type": "markdown",
   "source": [
    "# We have two pieces of furniture: a brown wood table and a red leather couch.\n",
    "# Fill in the blanks following the creation of each Furniture class instance,\n",
    "# so that the describe_furniture function can format a sentence that describes these pieces as follows:\n",
    "# \"This piece of furniture is made of {color} {material}\""
   ],
   "metadata": {
    "collapsed": false
   }
  },
  {
   "cell_type": "code",
   "execution_count": null,
   "outputs": [],
   "source": [
    "class Furniture:\n",
    "\tcolor = \"\"\n",
    "\tmaterial = \"\"\n",
    "\n",
    "table = Furniture()\n",
    "table.color = \"brown\"\n",
    "table.material = \"wood\"\n",
    "\n",
    "couch = Furniture()\n",
    "couch.color = \"red\"\n",
    "couch.material = \"leather\"\n",
    "\n",
    "def describe_furniture(piece):\n",
    "\treturn (f\"This piece of furniture is made of {piece.color} {piece.material}\")\n",
    "\n",
    "print(describe_furniture(table))\n",
    "# Should be \"This piece of furniture is made of brown wood\"\n",
    "print(describe_furniture(couch))\n",
    "# Should be \"This piece of furniture is made of red leather\""
   ],
   "metadata": {
    "collapsed": false
   }
  },
  {
   "cell_type": "code",
   "execution_count": null,
   "outputs": [],
   "source": [
    "class Piglet:\n",
    "\tname = \"\"\n",
    "\tage = 5\n",
    "\tpig_years = age*18\n",
    "\tdef speak(self):\n",
    "\t\tprint(f\"oink oink! {self.name}\")\n",
    "\n",
    "hamlet = Piglet()\n",
    "hamlet.speak()"
   ],
   "metadata": {
    "collapsed": false
   }
  },
  {
   "cell_type": "code",
   "execution_count": null,
   "outputs": [],
   "source": [
    "class Dog:\n",
    "\tyears = 0\n",
    "\n",
    "\tdef dog_years(self):\n",
    "\t\treturn self.years * 7\n",
    "\n",
    "\n",
    "fido = Dog()\n",
    "fido.years = 3\n",
    "print(fido.dog_years())"
   ],
   "metadata": {
    "collapsed": false
   }
  },
  {
   "cell_type": "code",
   "execution_count": null,
   "outputs": [],
   "source": [
    "class Person:\n",
    "\tdef __init__(self, name):\n",
    "\t\tself.name = name\n",
    "\n",
    "\tdef __str__ (self):\n",
    "\t\treturn f\"Your name is {self.name}\"\n",
    "\n",
    "\tdef greeting(self):\n",
    "\t\t# Should return \"hi, my name is \" followed by the name of the Person.\n",
    "\t\treturn f\"hi, my name is {self.name}\"\n",
    "\n",
    "# Create a new instance with a name of your choice\n",
    "some_person = Person(\"Hakan\")\n",
    "# Call the greeting method\n",
    "print(some_person.greeting())\n",
    "# help(Person)"
   ],
   "metadata": {
    "collapsed": false
   }
  },
  {
   "cell_type": "code",
   "execution_count": null,
   "outputs": [],
   "source": [
    "class Elevator:\n",
    "\tdef __init__(self, bottom, top, current):\n",
    "\t\tself.bottom = bottom\n",
    "\t\tself.top = top\n",
    "\t\tself.current = current\n",
    "\tdef __str__(self):\n",
    "\t\treturn (f\"Current floor: {self.current}\")\n",
    "\n",
    "\tdef up(self):\n",
    "\t\tif self.current != self.top:\n",
    "\t\t\tself.current += 1\n",
    "\tdef down(self):\n",
    "\t\tself.current -= 1\n",
    "\tdef go_to(self, floor):\n",
    "\t\tself.current = floor\n",
    "\n",
    "elevator = Elevator(-1, 10, 0)\n",
    "\n",
    "elevator.go_to(5)\n",
    "print(elevator)"
   ],
   "metadata": {
    "collapsed": false
   }
  },
  {
   "cell_type": "markdown",
   "source": [
    "# INHERITANCE #"
   ],
   "metadata": {
    "collapsed": false
   }
  },
  {
   "cell_type": "code",
   "execution_count": null,
   "outputs": [],
   "source": [
    "class Fruit:\n",
    "\tdef __init__ (self, color, flavor):\n",
    "\t\tself.color = color\n",
    "\t\tself.flavor = flavor\n",
    "\n",
    "class Apple (Fruit):\n",
    "\tpass\n",
    "\n",
    "class Grape (Fruit):\n",
    "\tpass\n",
    "\n",
    "\n",
    "granny = Apple(\"green\", \"tart\")\n",
    "carnelian = Grape (\"purple\", \"sweet\")\n",
    "\n",
    "print(granny.color)\n",
    "print(carnelian.flavor)"
   ],
   "metadata": {
    "collapsed": false
   }
  },
  {
   "cell_type": "code",
   "execution_count": null,
   "outputs": [],
   "source": [
    "class Clothing:\n",
    "\tmaterial = \"\"\n",
    "\n",
    "\tdef __init__(self, name):\n",
    "\t\tself.name = name\n",
    "\n",
    "\tdef checkMaterial(self):\n",
    "\t\tprint(\"This {} is made of {}\".format(self.name, self.material))\n",
    "\n",
    "class Shirt(Clothing):\n",
    "\tmaterial = \"Cotton\"\n",
    "\n",
    "\n",
    "polo = Shirt(\"Polo\")\n",
    "polo.checkMaterial()"
   ],
   "metadata": {
    "collapsed": false
   }
  },
  {
   "cell_type": "markdown",
   "source": [
    "# COMPOSITION #"
   ],
   "metadata": {
    "collapsed": false
   }
  },
  {
   "cell_type": "code",
   "execution_count": null,
   "outputs": [],
   "source": [
    "class Repo:\n",
    "\tdef __init__ (self):\n",
    "\t\tself.packages = {}\n",
    "\n",
    "\tdef add_packages (self, package):\n",
    "\t\tself.packages[package.name] = package\n",
    "\tdef total_size (self):\n",
    "\t\tresult = 0\n",
    "\t\tfor package in self.packages.values():\n",
    "\t\t\tresult += package.size\n",
    "\t\treturn result"
   ],
   "metadata": {
    "collapsed": false
   }
  },
  {
   "cell_type": "code",
   "execution_count": null,
   "outputs": [],
   "source": [
    "class Clothing:\n",
    "\tstock = {'name': [], 'material': [], 'amount': []}\n",
    "\n",
    "\tdef __init__(self, name):\n",
    "\t\tmaterial = \"\"\n",
    "\t\tself.name = name\n",
    "\n",
    "\tdef add_item(self, name, material, amount):\n",
    "\t\tClothing.stock['name'].append(self.name)\n",
    "\t\tClothing.stock['material'].append(self.material)\n",
    "\t\tClothing.stock['amount'].append(amount)\n",
    "\n",
    "\tdef Stock_by_Material(self, material):\n",
    "\t\tcount = 0\n",
    "\t\tn = 0\n",
    "\t\tfor item in Clothing.stock['material']:\n",
    "\t\t\tif item == material:\n",
    "\t\t\t\tcount += Clothing.stock['amount'][n]\n",
    "\t\t\t\tn += 1\n",
    "\t\treturn count\n",
    "\n",
    "\n",
    "class shirt(Clothing):\n",
    "\tmaterial = \"Cotton\"\n",
    "\n",
    "\n",
    "class pants(Clothing):\n",
    "\tmaterial = \"Cotton\"\n",
    "\n",
    "\n",
    "polo = shirt(\"Polo\")\n",
    "sweatpants = pants(\"Sweatpants\")\n",
    "polo.add_item(polo.name, polo.material, 4)\n",
    "sweatpants.add_item(sweatpants.name, sweatpants.material, 6)\n",
    "current_stock = polo.Stock_by_Material(\"Cotton\")\n",
    "print(current_stock)"
   ],
   "metadata": {
    "collapsed": false
   }
  },
  {
   "cell_type": "code",
   "execution_count": null,
   "outputs": [],
   "source": [
    "class Engine:\n",
    "\tdef start(self):\n",
    "\t\tprint(\"The engine is starting\")\n",
    "\tdef stop(self):\n",
    "\t\tprint(\"The engine is stopping\")\n",
    "\n",
    "class Car:\n",
    "\tdef __init__(self):\n",
    "\t\tself.engine = Engine()\n",
    "\tdef start(self):\n",
    "\t\tself.engine.start()\n",
    "\t\tprint(\"The car is starting\\n\")\n",
    "\tdef stop(self):\n",
    "\t\tself.engine.stop()\n",
    "\t\tprint(\"The car is stopping\")\n",
    "\n",
    "\n",
    "my_Car = Car()\n",
    "my_Car.start()\n",
    "my_Car.stop()"
   ],
   "metadata": {
    "collapsed": false
   }
  },
  {
   "cell_type": "code",
   "execution_count": null,
   "outputs": [],
   "source": [
    "class Animal:\n",
    "\tname = \"\"\n",
    "\tcategory = \"\"\n",
    "\n",
    "\tdef __init__(self, name):\n",
    "\t\tself.name = name\n",
    "\n",
    "\tdef set_category(self, category):\n",
    "\t\tself.category = category\n",
    "\n",
    "class Turtle(Animal):\n",
    "\tdef __init__(self, name):\n",
    "\t\tsuper().__init__(name)\n",
    "\t\tself.set_category(\"Reptile\")\n",
    "\n",
    "class Snake(Animal):\n",
    "\tdef __init__(self, name):\n",
    "\t\tsuper().__init__(name)\n",
    "\t\tself.set_category(\"Reptile\")\n",
    "\n",
    "my_Turtle = Turtle(\"Tony\")\n",
    "print(my_Turtle.category)\n",
    "\n",
    "class Zoo:\n",
    "\tdef __init__(self):\n",
    "\t\tself.current_animals = {}\n",
    "\n",
    "\tdef add_animal(self, animal):\n",
    "\t\tself.current_animals[animal.name] = animal.category\n",
    "\n",
    "\tdef total_of_category(self, category):\n",
    "\t\tresult = 0\n",
    "\t\tfor animal_category in self.current_animals.values():\n",
    "\t\t\tif animal_category == category:\n",
    "\t\t\t\tresult += 1\n",
    "\t\treturn result\n",
    "\n",
    "\n",
    "zoo = Zoo()\n",
    "\n",
    "turtle = Turtle(\"Turtle\") #create an instance of the Turtle class\n",
    "snake = Snake(\"Snake\") #create an instance of the Snake class\n",
    "\n",
    "zoo.add_animal(turtle)\n",
    "zoo.add_animal(snake)\n",
    "\n",
    "print(zoo.total_of_category(\"Reptile\")) #how many zoo animal types in the reptile category"
   ],
   "metadata": {
    "collapsed": false
   }
  },
  {
   "cell_type": "markdown",
   "source": [
    "###\tMODULES ###"
   ],
   "metadata": {
    "collapsed": false
   }
  },
  {
   "cell_type": "code",
   "execution_count": null,
   "outputs": [],
   "source": [
    "import random, datetime\n",
    "\n",
    "print(random.randint(1,10))\n",
    "print(random.randint(1,10))\n",
    "print(random.randint(1,10))\n",
    "print(random.randint(1,10))\n",
    "now = datetime.datetime.now()\n",
    "print(now)\n",
    "print(now.year)\n",
    "print(now + datetime.timedelta(days=1000000))"
   ],
   "metadata": {
    "collapsed": false
   }
  },
  {
   "cell_type": "markdown",
   "source": [
    "######\t\t\tBIG PROJECTS\t\t\t######"
   ],
   "metadata": {
    "collapsed": false
   }
  },
  {
   "cell_type": "markdown",
   "source": [
    "#\t- Project 1: Coursera 1 - Module 1 - Final Project:\n",
    "#\t- Creating a Server, Connections, Events, Balancing Loads, Generating Reports"
   ],
   "metadata": {
    "collapsed": false
   }
  },
  {
   "cell_type": "code",
   "execution_count": 3,
   "outputs": [
    {
     "name": "stdout",
     "output_type": "stream",
     "text": [
      "5.168174406483552\n"
     ]
    },
    {
     "ename": "TypeError",
     "evalue": "'int' object is not callable",
     "output_type": "error",
     "traceback": [
      "\u001B[1;31m---------------------------------------------------------------------------\u001B[0m",
      "\u001B[1;31mTypeError\u001B[0m                                 Traceback (most recent call last)",
      "Cell \u001B[1;32mIn[3], line 91\u001B[0m\n\u001B[0;32m     89\u001B[0m l \u001B[38;5;241m=\u001B[39m LoadBalancing()\n\u001B[0;32m     90\u001B[0m l\u001B[38;5;241m.\u001B[39madd_connection(\u001B[38;5;124m\"\u001B[39m\u001B[38;5;124mfdca:83d2::f20d\u001B[39m\u001B[38;5;124m\"\u001B[39m)\n\u001B[1;32m---> 91\u001B[0m \u001B[38;5;28mprint\u001B[39m(\u001B[43ml\u001B[49m\u001B[38;5;241;43m.\u001B[39;49m\u001B[43mavg_load\u001B[49m\u001B[43m(\u001B[49m\u001B[43m)\u001B[49m)\n\u001B[0;32m     94\u001B[0m l\u001B[38;5;241m.\u001B[39mservers\u001B[38;5;241m.\u001B[39mappend(Server())\n\u001B[0;32m     95\u001B[0m \u001B[38;5;28mprint\u001B[39m(l\u001B[38;5;241m.\u001B[39mavg_load())\n",
      "Cell \u001B[1;32mIn[3], line 72\u001B[0m, in \u001B[0;36mLoadBalancing.avg_load\u001B[1;34m(self)\u001B[0m\n\u001B[0;32m     69\u001B[0m \u001B[38;5;28;01mdef\u001B[39;00m \u001B[38;5;21mavg_load\u001B[39m(\u001B[38;5;28mself\u001B[39m):\n\u001B[0;32m     70\u001B[0m \t\u001B[38;5;66;03m###Calculates the average load of all servers###\u001B[39;00m\n\u001B[0;32m     71\u001B[0m \t\u001B[38;5;66;03m# Sum the load of each server and divide by the amount of servers\u001B[39;00m\n\u001B[1;32m---> 72\u001B[0m \ttotal_load \u001B[38;5;241m=\u001B[39m \u001B[38;5;28;43msum\u001B[39;49m\u001B[43m(\u001B[49m\u001B[43mserver\u001B[49m\u001B[38;5;241;43m.\u001B[39;49m\u001B[43mload\u001B[49m\u001B[43m(\u001B[49m\u001B[43m)\u001B[49m\u001B[43m \u001B[49m\u001B[38;5;28;43;01mfor\u001B[39;49;00m\u001B[43m \u001B[49m\u001B[43mserver\u001B[49m\u001B[43m \u001B[49m\u001B[38;5;129;43;01min\u001B[39;49;00m\u001B[43m \u001B[49m\u001B[38;5;28;43mself\u001B[39;49m\u001B[38;5;241;43m.\u001B[39;49m\u001B[43mservers\u001B[49m\u001B[43m)\u001B[49m \u001B[38;5;241m/\u001B[39m \u001B[38;5;28mlen\u001B[39m(\u001B[38;5;28mself\u001B[39m\u001B[38;5;241m.\u001B[39mservers)\n\u001B[0;32m     73\u001B[0m \t\u001B[38;5;28;01mreturn\u001B[39;00m total_load\n",
      "\u001B[1;31mTypeError\u001B[0m: 'int' object is not callable"
     ]
    }
   ],
   "source": [
    "import random\n",
    "\n",
    "class Server:\n",
    "\tdef __init__(self):\n",
    "\t\tself.connections = {}\n",
    "\n",
    "\tdef add_connection(self, connection_id):\n",
    "\t\tconnection_load = random.random() * 10 + 1\n",
    "\t\tself.connections[connection_id] = connection_load\n",
    "\n",
    "\tdef close_connection(self, connection_id):\n",
    "\t\tself.connections.pop(connection_id)\n",
    "\n",
    "\tdef load(self):\n",
    "\t\ttotal = 0\n",
    "\t\tfor value_of_a_load in self.connections.values():\n",
    "\t\t\ttotal += value_of_a_load\n",
    "\t\treturn total\n",
    "\n",
    "\tdef __str__(self):\n",
    "\t\treturn \"{:.2f}%\".format(self.load())\n",
    "\n",
    "server = Server()\n",
    "server.add_connection(\"192.168.1.1\")\n",
    "print(server.load())\n",
    "\n",
    "\n",
    "class LoadBalancing:\n",
    "\tdef __init__(self):\n",
    "\t\tself.connections = {}\n",
    "\t\tself.servers = [Server()]\n",
    "\n",
    "\tdef add_connection(self, connection_id):\n",
    "\t\tserver = random.choice(self.servers)\n",
    "\t\tserver.add_connection(connection_id)\n",
    "\t\tself.connections[connection_id] = server\n",
    "\n",
    "\tdef close_connection(self, connection_id):\n",
    "\t\tif connection_id in self.connections:\n",
    "\t\t\tself.connections[connection_id].close_connection(connection_id)\n",
    "\t\t\tself.connections.pop(connection_id)\n",
    "\n",
    "\tdef avg_load(self):\n",
    "\t\ttotal_load = sum(server.load() for server in self.servers) / len(self.servers)\n",
    "\t\treturn total_load\n",
    "\n",
    "\tdef ensure_availability(self):\n",
    "\t\tif self.avg_load() > 50:\n",
    "\t\t\tnew_server = Server()\n",
    "\t\t\tself.servers.append(new_server)\n",
    "\n",
    "\tdef __str__(self):\n",
    "\t\tloads = [str(server) for server in self.servers]\n",
    "\t\treturn \"[{}]\".format(\",\".join(loads))\n",
    "\n",
    "l = LoadBalancing()\n",
    "l.add_connection(\"fdca:83d2::f20d\")\n",
    "print(l.avg_load())\n",
    "\n",
    "l.servers.append(Server())\n",
    "print(l.avg_load())\n",
    "\n",
    "for connection in range(20):\n",
    "\tl.add_connection(connection)\n",
    "print(l)\n",
    "\n",
    "print(l.avg_load())\n"
   ],
   "metadata": {
    "collapsed": false
   }
  },
  {
   "cell_type": "code",
   "execution_count": null,
   "outputs": [],
   "source": [
    "print('hello world')"
   ],
   "metadata": {
    "collapsed": false,
    "pycharm": {
     "is_executing": true
    }
   }
  },
  {
   "cell_type": "markdown",
   "source": [
    "Creating a script to check and inform the user in case of LOW MEMORY or HIGH CPU USAGE"
   ],
   "metadata": {
    "collapsed": false
   }
  },
  {
   "cell_type": "code",
   "execution_count": 2,
   "outputs": [
    {
     "name": "stdout",
     "output_type": "stream",
     "text": [
      "Everything works fine.\n",
      "usage(total=1021821579264, used=811065819136, free=210755760128)\n",
      "65.9\n",
      "65.0\n",
      "83.0\n",
      "85.9\n"
     ]
    }
   ],
   "source": [
    "import shutil, psutil\n",
    "\n",
    "def check_disk_usage(disk):\n",
    "\tdisk_usage = shutil.disk_usage(disk)\n",
    "\tfree = disk_usage.free / disk_usage.total * 100\n",
    "\treturn free > 20\n",
    "\n",
    "\n",
    "def check_cpu_usage():\n",
    "\tcpu_usage = psutil.cpu_percent(1)\n",
    "\treturn cpu_usage < 75\n",
    "\n",
    "if not check_disk_usage(\"/\") or not check_cpu_usage():\n",
    "\tprint(\"404 ERROR 404!\")\n",
    "else:\n",
    "\tprint(\"Everything works fine.\")\n",
    "\n",
    "disk_usage = shutil.disk_usage(\"/\")\n",
    "print(disk_usage)\n",
    "\n",
    "cpu_usage = psutil.cpu_percent(1)\n",
    "print(cpu_usage)\n",
    "cpu_usage = psutil.cpu_percent(1)\n",
    "print(cpu_usage)\n",
    "cpu_usage = psutil.cpu_percent(1)\n",
    "print(cpu_usage)\n",
    "cpu_usage = psutil.cpu_percent(1)\n",
    "print(cpu_usage)"
   ],
   "metadata": {
    "collapsed": false
   }
  },
  {
   "cell_type": "code",
   "execution_count": null,
   "outputs": [],
   "source": [],
   "metadata": {
    "collapsed": false
   }
  },
  {
   "cell_type": "code",
   "execution_count": 11,
   "outputs": [
    {
     "ename": "FileNotFoundError",
     "evalue": "[Errno 2] No such file or directory: 'Images/aa.txt'",
     "output_type": "error",
     "traceback": [
      "\u001B[1;31m---------------------------------------------------------------------------\u001B[0m",
      "\u001B[1;31mFileNotFoundError\u001B[0m                         Traceback (most recent call last)",
      "Cell \u001B[1;32mIn[11], line 1\u001B[0m\n\u001B[1;32m----> 1\u001B[0m file \u001B[38;5;241m=\u001B[39m \u001B[38;5;28;43mopen\u001B[39;49m\u001B[43m(\u001B[49m\u001B[38;5;124;43m\"\u001B[39;49m\u001B[38;5;124;43mImages/aa.txt\u001B[39;49m\u001B[38;5;124;43m\"\u001B[39;49m\u001B[43m)\u001B[49m\n\u001B[0;32m      2\u001B[0m lines \u001B[38;5;241m=\u001B[39m file\u001B[38;5;241m.\u001B[39mreadlines()\n\u001B[0;32m      3\u001B[0m file\u001B[38;5;241m.\u001B[39mclose()\n",
      "File \u001B[1;32m~\\anaconda3\\lib\\site-packages\\IPython\\core\\interactiveshell.py:282\u001B[0m, in \u001B[0;36m_modified_open\u001B[1;34m(file, *args, **kwargs)\u001B[0m\n\u001B[0;32m    275\u001B[0m \u001B[38;5;28;01mif\u001B[39;00m file \u001B[38;5;129;01min\u001B[39;00m {\u001B[38;5;241m0\u001B[39m, \u001B[38;5;241m1\u001B[39m, \u001B[38;5;241m2\u001B[39m}:\n\u001B[0;32m    276\u001B[0m     \u001B[38;5;28;01mraise\u001B[39;00m \u001B[38;5;167;01mValueError\u001B[39;00m(\n\u001B[0;32m    277\u001B[0m         \u001B[38;5;124mf\u001B[39m\u001B[38;5;124m\"\u001B[39m\u001B[38;5;124mIPython won\u001B[39m\u001B[38;5;124m'\u001B[39m\u001B[38;5;124mt let you open fd=\u001B[39m\u001B[38;5;132;01m{\u001B[39;00mfile\u001B[38;5;132;01m}\u001B[39;00m\u001B[38;5;124m by default \u001B[39m\u001B[38;5;124m\"\u001B[39m\n\u001B[0;32m    278\u001B[0m         \u001B[38;5;124m\"\u001B[39m\u001B[38;5;124mas it is likely to crash IPython. If you know what you are doing, \u001B[39m\u001B[38;5;124m\"\u001B[39m\n\u001B[0;32m    279\u001B[0m         \u001B[38;5;124m\"\u001B[39m\u001B[38;5;124myou can use builtins\u001B[39m\u001B[38;5;124m'\u001B[39m\u001B[38;5;124m open.\u001B[39m\u001B[38;5;124m\"\u001B[39m\n\u001B[0;32m    280\u001B[0m     )\n\u001B[1;32m--> 282\u001B[0m \u001B[38;5;28;01mreturn\u001B[39;00m io_open(file, \u001B[38;5;241m*\u001B[39margs, \u001B[38;5;241m*\u001B[39m\u001B[38;5;241m*\u001B[39mkwargs)\n",
      "\u001B[1;31mFileNotFoundError\u001B[0m: [Errno 2] No such file or directory: 'Images/aa.txt'"
     ]
    }
   ],
   "source": [
    "file = open(\"Images/aa.txt\")\n",
    "lines = file.readlines()\n",
    "file.close()\n",
    "print(lines)\n",
    "\n",
    "#\t or:\n",
    "\n",
    "with open(\"Images/aa.txt\") as file:\n",
    "\t line = print(file.read())\n",
    "\t file.close()\n",
    "\t print(line)\n",
    "\t print(line.upper(), end=\"\")"
   ],
   "metadata": {
    "collapsed": false
   }
  },
  {
   "cell_type": "code",
   "execution_count": null,
   "outputs": [],
   "source": [
    "import os\n",
    "PATH_to_HelloWorld_txt = \"\"\n",
    "\n",
    "if os.path.exists(PATH_to_HelloWorld_txt):\n",
    "\t# print(\"PATH exists! Continuing the code...\")\n",
    "\tif not os.path.isfile(PATH_to_HelloWorld_txt):\n",
    "\t\tprint(\"This is not a file. Check your PATH please.\")\n",
    "\telif os.path.isdir(PATH_to_HelloWorld_txt):\n",
    "\t\tprint(\"This is a directory.\")\n",
    "else:\n",
    "\tprint(\"Path does not exist. Check the path to your file/dir, please.\")\n",
    "\n",
    "try:\n",
    "\twith open(PATH_to_HelloWorld_txt) as file:\n",
    "\t\tprint(f\"//n{file.read()}\")\n",
    "except FileNotFoundError:\n",
    "\tprint(\"File was not found.\")\n",
    "\n",
    "try:\n",
    "\twith open(\"C://Users//hakan//PycharmProjects//ALL//Images//AAAAAAAAAAAAAAAAAAAAAAAAAAAAAA.txt\", 'w') as file:\n",
    "\t\ttext = \"Hello World.\"    # NOTE: this overrides the text.\n",
    "\t\tfile.write(text)\n",
    "\twith open(\"C://Users//hakan//PycharmProjects//ALL//Images//AAAAAAAAAAAAAAAAAAAAAAAAAAAAAA.txt\", 'a') as file:\n",
    "\t\ttext = \" Hello World.. Hello World...\"  # NOTE: this appends the text to the end.\n",
    "\t\tfile.write(text)\n",
    "except FileNotFoundError:\n",
    "\tprint(\"File was not found.\")\n"
   ],
   "metadata": {
    "collapsed": false
   }
  },
  {
   "cell_type": "code",
   "execution_count": null,
   "outputs": [],
   "source": [
    "shutil.copy(PATH_to_HelloWorld_txt, 'copiedHelloWorld.txt')"
   ],
   "metadata": {
    "collapsed": false
   }
  },
  {
   "cell_type": "code",
   "execution_count": null,
   "outputs": [],
   "source": [
    "source = \"C://Users//hakan//PycharmProjects//ALL//Images//AAAAAAAAAAAAAAAAAAAAAAAAAAAAAA.txt\"\n",
    "destination = \"C://Users//hakan//Downloads\"\n",
    "\n",
    "try:\n",
    "\tif os.path.exists(destination):\n",
    "\t\tprint(\"The file is already there!\")\n",
    "\telse:\n",
    "\t\tos.replace(source, destination)\n",
    "\t\tprint(f\"{source} was moved.\")\n",
    "except Exception:\n",
    "\t\"*blue screen* *bip bop bip bop bip bop* //nSomething went wrong :(\"\n"
   ],
   "metadata": {
    "collapsed": false
   }
  },
  {
   "cell_type": "code",
   "execution_count": null,
   "outputs": [],
   "source": [
    "guests = open(\"guests.txt\", \"w\")\n",
    "initial_guests = [\"Bob\", \"Andrea\", \"Manuel\", \"Polly\", \"Khalid\"]\n",
    "\n",
    "for i in initial_guests:\n",
    "\tguests.write(i + \"\\n\")\n",
    "\n",
    "guests.close()\n",
    "\n",
    "\n",
    "with open(\"guests.txt\") as guests:\n",
    "\tfor line in guests:\n",
    "\t\tprint(line, end = \"\")\n",
    "\n",
    "new_guests = [\"Sam\", \"Danielle\", \"Jacob\"]\n",
    "\n",
    "with open(\"guests.txt\", 'a') as guests:\n",
    "\tfor i in new_guests:\n",
    "\t\tguests.write(i + \"\\n\")\n",
    "\n",
    "guests.close()\n",
    "\n",
    "with open(\"guests.txt\") as guests:\n",
    "\tfor line in guests:\n",
    "\t\tprint(line, end=\"\")\n",
    "\n",
    "temp_list = []\n",
    "checked_out = [\"Sam\", \"Bob\", \"Manuel\"]\n",
    "\n",
    "with open(\"guests.txt\", 'r') as guests:\n",
    "\tfor g in guests:\n",
    "\t\ttemp_list.append(g.strip())\n",
    "\n",
    "with open(\"guests.txt\", 'w') as guests:\n",
    "\tfor name in temp_list:\n",
    "\t\tif name not in checked_out:\n",
    "\t\t\tguests.write(name + \"\\n\")"
   ],
   "metadata": {
    "collapsed": false
   }
  },
  {
   "cell_type": "code",
   "execution_count": null,
   "outputs": [],
   "source": [
    "\n",
    "def file_date(filename):\n",
    "\t# Create the file in the current directory\n",
    "\twith open(filename) as file:\n",
    "\t\tpass\n",
    "\ttimestamp = os.path.getctime(filename)\n",
    "# Convert the timestamp into a readable format, then into a string\n",
    "\tdate = datetime.datetime.fromtimestamp(timestamp).strftime(\"%Y-%M-%D\")\n",
    "\t# Return just the date portion\n",
    "\treturn date\n",
    "\t# Hint: how many characters are in “yyyy-mm-dd”?\n",
    "\treturn (f\"{date}\")\n",
    "\n",
    "\n",
    "print(file_date(\"newfile.txt\"))\n",
    "# Should be today's date in the format of yyyy-mm-dd\n",
    "\n",
    "import os\n",
    "\n",
    "import os\n",
    "\n",
    "def parent_directory():\n",
    "\t# Create a relative path to the parent\n",
    "\tPATH = os.getcwd()  # Get the current working directory\n",
    "\n",
    "\t# Obtain the absolute path of the parent directory\n",
    "\tparent_path = os.path.abspath(os.path.join(PATH, os.pardir))\n",
    "\n",
    "\t# Return the absolute path of the parent directory\n",
    "\treturn parent_path\n",
    "\n",
    "print(parent_directory())\n",
    "\n",
    "\n",
    "\n",
    "PATH_to_HelloWorld_txt = \"C://Users//hakan//PycharmProjects//ALL//Images//Hello World.txt\"\n",
    "\n",
    "os.remove(PATH_to_HelloWorld_txt)\n",
    "os.rename(\"hello.txt\", \"helloWorld.txt\")\n",
    "os.rename(\"HelloCoursera.txt\", \"helloCoursera.txt\")\n",
    "os.rename(\"HelloGoogle.txt\", \"helloGoogle.txt\")\n",
    "\n",
    "def create_python_script(filename):\n",
    "  comments = \"# Start of a new Python program\"\n",
    "  with open(filename, 'a') as file:\n",
    "\tfile.write(comments)\n",
    "  filesize = os.path.getsize(filename)\n",
    "  return(filesize)\n",
    "\n",
    "print(create_python_script(\"program.py\"))\n",
    "\n",
    "\n",
    "import os\n",
    "\n",
    "def new_directory(directory, filename):\n",
    "\t# Before creating a new directory, check to see if it already exists\n",
    "\tif os.path.isdir(directory) == False:\n",
    "\t\tos.mkdir(directory)\n",
    "\n",
    "\t# Create the new file inside of the new directory\n",
    "\tos.chdir(directory)\n",
    "\twith open (filename) as file:\n",
    "\t\tpass\n",
    "\n",
    "\t# Return the list of files in the new directory\n",
    "\treturn os.listdir()\n",
    "\n",
    "print(new_directory(\"PythonPrograms\", \"script.py\"))\n",
    "\n",
    "\n",
    "\n",
    "# print(os.path.getsize(\"helloCoursera.txt\"))\n",
    "#\n",
    "# print(os.path.abspath(\"helloCoursera.txt\"))\n",
    "\n",
    "# print(os.getcwd())\n",
    "# os.makedir(\"\")"
   ],
   "metadata": {
    "collapsed": false
   }
  },
  {
   "cell_type": "markdown",
   "source": [
    "CSV - Flowers.csv - Using Dictionaries (DictReader method):"
   ],
   "metadata": {
    "collapsed": false
   }
  },
  {
   "cell_type": "code",
   "execution_count": null,
   "outputs": [],
   "source": [
    "import os, csv\n",
    "\n",
    "# Create a file with data in it\n",
    "def create_file(filename):\n",
    "\twith open(filename, \"w\") as file:\n",
    "\t\tfile.write(\"name,color,type\\n\")\n",
    "\t\tfile.write(\"carnation,pink,annual\\n\")\n",
    "\t\tfile.write(\"daffodil,yellow,perennial\\n\")\n",
    "\t\tfile.write(\"iris,blue,perennial\\n\")\n",
    "\t\tfile.write(\"poinsettia,red,perennial\\n\")\n",
    "\t\tfile.write(\"sunflower,yellow,annual\\n\")\n",
    "\n",
    "\n",
    "# Read the file contents and format the information about each row\n",
    "def contents_of_file(filename):\n",
    "\treturn_string = \"\"\n",
    "\n",
    "\t# Call the function to create the file\n",
    "\tcreate_file(filename)\n",
    "\n",
    "\t# Open the file\n",
    "\twith open(filename) as csv_file:\n",
    "\t\t# Read the rows of the file into a dictionary\n",
    "\t\tcsv_reader = csv.DictReader(csv_file)\n",
    "\t\t# Process each item of the dictionary\n",
    "\t\tfor row in csv_reader:\n",
    "\t\t\treturn_string += \"a {} {} is {}\\n\".format(row[\"color\"], row[\"name\"], row[\"type\"])\n",
    "\treturn return_string\n",
    "\n",
    "\n",
    "# Call the function\n",
    "print(contents_of_file(\"flowers.csv\"))"
   ],
   "metadata": {
    "collapsed": false
   }
  },
  {
   "cell_type": "markdown",
   "source": [
    "CSV - Flowers.csv - Using normal \"Reader\" method."
   ],
   "metadata": {
    "collapsed": false
   }
  },
  {
   "cell_type": "code",
   "execution_count": null,
   "outputs": [],
   "source": [
    "import csv\n",
    "\n",
    "# Create a file with data in it\n",
    "def create_file(filename):\n",
    "\twith open(filename, \"w\", newline='') as file:  # Add 'newline=' argument to avoid extra blank lines\n",
    "\t\tfile.write(\"name,color,type\\n\")\n",
    "\t\tfile.write(\"carnation,pink,annual\\n\")\n",
    "\t\tfile.write(\"daffodil,yellow,perennial\\n\")\n",
    "\t\tfile.write(\"iris,blue,perennial\\n\")\n",
    "\t\tfile.write(\"poinsettia,red,perennial\\n\")\n",
    "\t\tfile.write(\"sunflower,yellow,annual\\n\")\n",
    "\n",
    "\n",
    "# Read the file contents and format the information about each row\n",
    "def contents_of_file(filename):\n",
    "\treturn_string = \"\"\n",
    "\tcsv.register_dialect('empDialect', skipinitialspace=True, strict=True)\n",
    "\temployee_file = csv.DictReader(open(filename), dialect = 'empDialect')\n",
    "\t# Call the function to create the file\n",
    "\tcreate_file(filename)\n",
    "\n",
    "\t# Open the file\n",
    "\twith open(filename, newline='') as csv_file:  # Add 'newline=' argument to avoid extra blank lines\n",
    "\t\t# Read the rows of the file\n",
    "\t\trows = csv.reader(csv_file)\n",
    "\t\t# Skip the header row\n",
    "\t\tnext(rows)\n",
    "\t\t# Process each row\n",
    "\t\tfor row in rows:\n",
    "\t\t\t# Format the return string for data rows only\n",
    "\t\t\treturn_string += \"a {} {} is {}\\n\".format(row[0], row[1], row[2])\n",
    "\n",
    "\treturn return_string\n",
    "\n",
    "\n",
    "# Call the function\n",
    "print(contents_of_file(\"flowers.csv\"))"
   ],
   "metadata": {
    "collapsed": false
   }
  },
  {
   "cell_type": "code",
   "execution_count": null,
   "outputs": [],
   "source": [
    "import csv\n",
    "\n",
    "with open(\"names.csv\", 'r') as csv_file:\n",
    "\tcsv_reader = csv.DictReader(csv_file)\n",
    "\n",
    "\twith open('new_names.csv', 'w') as new_file:\n",
    "\t\tfieldnames = ['first_name', 'last_name', 'email']\n",
    "\t\tcsv_writer = csv.DictWriter(new_file, delimiter='\\t', fieldnames=fieldnames)\n",
    "\t\tcsv_writer.writeheader()\n",
    "\n",
    "\t\tfor line in csv_reader:\n",
    "\t\t\tcsv_writer.writerow(line)\n",
    "\t\t\tprint(line)\n",
    "\n",
    "\t# for line in csv_reader:\n",
    "\t# \tprint(line)  # print(line[2]) for instance would give the e_mail column."
   ],
   "metadata": {
    "collapsed": false
   }
  },
  {
   "cell_type": "code",
   "execution_count": null,
   "outputs": [],
   "source": [
    "import cv2\n",
    "\n",
    "# Read the image\n",
    "image = cv2.imread(\"space.jpeg\")\n",
    "\n",
    "# Define the new size\n",
    "new_height = 900\n",
    "new_width = 1200\n",
    "\n",
    "# Resize the image with bicubic interpolation\n",
    "resized_image = cv2.resize(image, (new_width, new_height), interpolation=cv2.INTER_CUBIC)\n",
    "\n",
    "# Save the resized image\n",
    "cv2.imwrite(\"../../space_900x1200.jpg\", resized_image)"
   ],
   "metadata": {
    "collapsed": false,
    "pycharm": {
     "is_executing": true
    }
   }
  },
  {
   "cell_type": "code",
   "execution_count": null,
   "outputs": [],
   "source": [
    "import os\n",
    "\n",
    "def new_directory(directory, filename):\n",
    "  # Before creating a new directory, check to see if it already exists\n",
    "  if os.path.isdir(directory) == False:\n",
    "\tos.mkdir()\n",
    "\n",
    "  # Create the new file inside of the new directory\n",
    "  os.chdir(___)\n",
    "  with open (___) as file:\n",
    "\tpass\n",
    "\n",
    "  # Return the list of files in the new directory\n",
    "  return ___\n",
    "\n",
    "print(new_directory(\"PythonPrograms\", \"script.py\"))"
   ],
   "metadata": {
    "collapsed": false
   }
  },
  {
   "cell_type": "code",
   "execution_count": null,
   "outputs": [],
   "source": [
    "# # Create the guests.txt file\n",
    "# guests = open(\"guests.txt\", 'w')\n",
    "#\n",
    "# #Adress initial guests\n",
    "# initialGuests = [\"Bob\", \"Andrea\", \"Manuel\", \"Polly\", \"Khalid\"]\n",
    "#\n",
    "# # Write the initial guests to the guests.txt file\n",
    "# for i in initialGuests:\n",
    "# \tguests.write(i + \"\\n\")\n",
    "# guests.close()\n",
    "#\n",
    "# # Print every line in guests.txt\n",
    "# with open(\"guests.txt\") as guests:\n",
    "# \tfor line in guests:\n",
    "# \t\tprint(line)\n",
    "#\n",
    "# # New guests came!\n",
    "# new_guests = [\"Hakan\", \"Sam\", \"Sarah\"]\n",
    "#\n",
    "# # Write new guests to the file\n",
    "# with open(\"guests.txt\", 'a') as guests:\n",
    "# \tfor i in new_guests:\n",
    "# \t\tguests.write(i + \"\\n\")\n",
    "#\n",
    "# guests.close()\n",
    "#\n",
    "# # Print the file contents\n",
    "# # with open(\"guests.txt\") as guests:\n",
    "# # \tfor line in guests:\n",
    "# # \t\tprint(line)\n",
    "#\n",
    "# checked_out=[\"Andrea\", \"Manuel\", \"Khalid\"]\n",
    "# temp_list=[]\n",
    "#\n",
    "# with open(\"guests.txt\", 'r') as guests:\n",
    "# \tfor g in guests:\n",
    "# \t\ttemp_list.append(g.strip())\n",
    "#\n",
    "# with open(\"guests.txt\", 'w') as guests:\n",
    "# \tfor name in temp_list:\n",
    "# \t\tif name not in checked_out:\n",
    "# \t\t\tguests.write(name + \"\\n\")\n",
    "#\n",
    "#\n",
    "# with open(\"guests.txt\") as guests:\n",
    "# \tfor line in guests:\n",
    "# \t\tprint(line)\n",
    "#\n",
    "# guests_to_check = ['Bob', 'Andrea']\n",
    "# checked_in = []\n",
    "#\n",
    "# with open(\"guests.txt\",\"r\") as guests:\n",
    "# \tfor g in guests:\n",
    "# \t\tchecked_in.append(g.strip())\n",
    "# \tfor check in guests_to_check:\n",
    "# \t\tif check in checked_in:\n",
    "# \t\t\tprint(\"{} is checked in\".format(check))\n",
    "# \t\telse:\n",
    "# \t\t\tprint(\"{} is not checked in\".format(check))\n",
    "\n",
    "# Create the guests.txt file\n",
    "guests = open(\"guests.txt\", 'w')\n",
    "\n",
    "# Address initial guests\n",
    "initialGuests = [\"Bob\", \"Andrea\", \"Manuel\", \"Polly\", \"Khalid\"]\n",
    "\n",
    "# Write the initial guests to the guests.txt file without extra spacing\n",
    "for i in initialGuests:\n",
    "\tguests.write(i + \"\\n\")\n",
    "guests.close()\n",
    "\n",
    "# Print every line in guests.txt\n",
    "with open(\"guests.txt\") as guests:\n",
    "\tfor line in guests:\n",
    "\t\tprint(line.strip())  # Use strip() to remove leading/trailing whitespace"
   ],
   "metadata": {
    "collapsed": false
   }
  },
  {
   "cell_type": "markdown",
   "source": [],
   "metadata": {
    "collapsed": false
   }
  },
  {
   "cell_type": "code",
   "execution_count": null,
   "outputs": [],
   "source": [
    "import os\n",
    "\n",
    "def new_directory(directory, filename):\n",
    "  # Before creating a new directory, check to see if it already exists\n",
    "  if os.path.isdir(directory) == False:\n",
    "\tos.mkdir(directory)\n",
    "\n",
    "  # Create the new file inside of the new directory\n",
    "  os.chdir(filename)\n",
    "  with open (___) as file:\n",
    "\tpass\n",
    "\n",
    "  # Return the list of files in the new directory\n",
    "  return ___\n",
    "\n",
    "print(new_directory(\"PythonPrograms\", \"script.py\"))"
   ],
   "metadata": {
    "collapsed": false
   }
  },
  {
   "cell_type": "code",
   "execution_count": null,
   "outputs": [],
   "source": [],
   "metadata": {
    "collapsed": false
   }
  },
  {
   "cell_type": "code",
   "execution_count": null,
   "outputs": [],
   "source": [],
   "metadata": {
    "collapsed": false
   }
  },
  {
   "cell_type": "markdown",
   "source": [],
   "metadata": {
    "collapsed": false
   }
  }
 ],
 "metadata": {
  "kernelspec": {
   "display_name": "Python 3",
   "language": "python",
   "name": "python3"
  },
  "language_info": {
   "codemirror_mode": {
    "name": "ipython",
    "version": 2
   },
   "file_extension": ".py",
   "mimetype": "text/x-python",
   "name": "python",
   "nbconvert_exporter": "python",
   "pygments_lexer": "ipython2",
   "version": "2.7.6"
  }
 },
 "nbformat": 4,
 "nbformat_minor": 0
}
