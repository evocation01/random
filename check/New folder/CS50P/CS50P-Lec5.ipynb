{
 "cells": [
  {
   "cell_type": "markdown",
   "source": [
    "### UNIT TESTS ###"
   ],
   "metadata": {
    "collapsed": false
   }
  },
  {
   "cell_type": "code",
   "execution_count": 1,
   "outputs": [
    {
     "name": "stdout",
     "output_type": "stream",
     "text": [
      "hello\n"
     ]
    }
   ],
   "source": [
    "# assert # keyword #\n"
   ],
   "metadata": {
    "collapsed": false
   }
  },
  {
   "cell_type": "code",
   "execution_count": null,
   "outputs": [],
   "source": [
    "names = []\n",
    "\n",
    "for _ in range(3):\n",
    "\tname = input(\"What's your name\")\n",
    "\tnames.append(name)\n",
    "\n",
    "for name in sorted(names):\n",
    "\tprint(f\"Hello {name}\")"
   ],
   "metadata": {
    "collapsed": false
   }
  },
  {
   "cell_type": "code",
   "execution_count": 14,
   "outputs": [],
   "source": [
    "name = input(\"Whats your name? \")\n",
    "\n",
    "file = open(\"names.txt\", \"a\")\n",
    "file.write(f\"{name}\\n\")\n",
    "file.close()"
   ],
   "metadata": {
    "collapsed": false
   }
  },
  {
   "cell_type": "code",
   "execution_count": null,
   "outputs": [],
   "source": [
    "name = input(\"Whats your name? \")\n",
    "\n",
    "\n",
    "with open(\"names.txt\", \"a\") as file:\n",
    "\tfile.write(f\"{name}\\n\")\n"
   ],
   "metadata": {
    "collapsed": false
   }
  },
  {
   "cell_type": "code",
   "execution_count": 11,
   "outputs": [
    {
     "name": "stdout",
     "output_type": "stream",
     "text": [
      "hello, Hakan\n",
      "hello, M\n"
     ]
    }
   ],
   "source": [
    "with open(\"names.txt\", 'r') as file:\n",
    "\tlines = file.readlines()\n",
    "\n",
    "for line in lines:\n",
    "\tprint(f\"hello, {line}\".rstrip())"
   ],
   "metadata": {
    "collapsed": false
   }
  },
  {
   "cell_type": "code",
   "execution_count": 12,
   "outputs": [
    {
     "name": "stdout",
     "output_type": "stream",
     "text": [
      "hello, Hakan\n",
      "hello, M\n"
     ]
    }
   ],
   "source": [
    "with open(\"names.txt\", 'r') as file:\n",
    "\tfor line in file:\n",
    "\t\tprint(f\"hello, {line}\".rstrip())"
   ],
   "metadata": {
    "collapsed": false
   }
  },
  {
   "cell_type": "code",
   "execution_count": 16,
   "outputs": [
    {
     "name": "stdout",
     "output_type": "stream",
     "text": [
      "hello, Alper\n",
      "hello, Ege\n",
      "hello, Hakan\n",
      "hello, M\n"
     ]
    }
   ],
   "source": [
    "names = []\n",
    "\n",
    "with open(\"names.txt\", 'r') as file:\n",
    "\tfor line in file:\n",
    "\t\tnames.append(line.rstrip())\n",
    "\n",
    "for name in sorted(names):\n",
    "\tprint(f\"hello, {name}\")"
   ],
   "metadata": {
    "collapsed": false
   }
  },
  {
   "cell_type": "code",
   "execution_count": 17,
   "outputs": [
    {
     "name": "stdout",
     "output_type": "stream",
     "text": [
      "hello, Mel\n",
      "hello, Hakan\n",
      "hello, Ege\n",
      "hello, Alper\n"
     ]
    }
   ],
   "source": [
    "with open(\"names.txt\", 'r') as file:\n",
    "\tfor line in sorted(file, reverse=True):\n",
    "\t\tprint(f\"hello, {line}\".rstrip())"
   ],
   "metadata": {
    "collapsed": false
   }
  },
  {
   "cell_type": "code",
   "execution_count": 24,
   "outputs": [
    {
     "name": "stdout",
     "output_type": "stream",
     "text": [
      "['H', 'a', 'a', 'k', 'n'] is in  A\n",
      "['M', 'e', 'l'] is in  B\n",
      "['E', 'e', 'g'] is in  C\n",
      "['A', 'e', 'l', 'p', 'r'] is in  D\n",
      "['A', 'e', 'l', 'p', 'r'] is in  E\n"
     ]
    }
   ],
   "source": [
    "with open(\"names.csv\") as file:\n",
    "\tfor line in file:\n",
    "\t\tname, house = line.rstrip().split(',')\n",
    "\t\tprint(f\"{name} is in {house}\")"
   ],
   "metadata": {
    "collapsed": false
   }
  },
  {
   "cell_type": "code",
   "execution_count": 7,
   "outputs": [
    {
     "name": "stdout",
     "output_type": "stream",
     "text": [
      "Hakan is in  A\n",
      "Mel is in  B\n",
      "Ege is in  C\n",
      "Alper is in  D\n",
      "Alper is in  E\n"
     ]
    }
   ],
   "source": [
    "students = []\n",
    "\n",
    "with open(\"names.csv\") as file:\n",
    "\tfor line in file:\n",
    "\t\tname, house = line.rstrip().split(\",\")\n",
    "\t\tstudent = {\"name\": name, \"house\": house}\n",
    "\t\tstudents.append(student)\n",
    "\n",
    "def get_name(student):\n",
    "\treturn student[\"name\"]\n",
    "def get_house(student):\n",
    "\treturn student[\"house\"]\n",
    "\n",
    "for student in sorted(students, key=get_house):\n",
    "\tprint(f\"{student['name']} is in {student['house']}\")"
   ],
   "metadata": {
    "collapsed": false
   }
  },
  {
   "cell_type": "code",
   "execution_count": 5,
   "outputs": [
    {
     "name": "stdout",
     "output_type": "stream",
     "text": [
      "Hakan is in  A\n",
      "Mel is in  B\n",
      "Ege is in  C\n",
      "Alper is in  D\n",
      "Alper is in  E\n"
     ]
    }
   ],
   "source": [
    "students = []\n",
    "\n",
    "with open(\"names.csv\") as file:\n",
    "\tfor line in file:\n",
    "\t\tname, house = line.rstrip().split(',')\n",
    "\t\tstudent = {\"name\": name, \"house\": house}\n",
    "\t\tstudents.append(student)\n",
    "\n",
    "# Sort the list of dictionaries by the 'name' key\n",
    "sorted_students = sorted(students, key=lambda x: x['house'])\n",
    "\n",
    "for student in sorted_students:\n",
    "\tprint(f\"{student['name']} is in {student['house']}\")\n",
    "\n",
    "file.close()  # Close the file\n"
   ],
   "metadata": {
    "collapsed": false
   }
  },
  {
   "cell_type": "code",
   "execution_count": 8,
   "outputs": [
    {
     "name": "stdout",
     "output_type": "stream",
     "text": [
      "Hakan is in  A\n",
      "Mel is in  B\n",
      "Ege is in  C\n",
      "Alper is in  D\n",
      "Alper is in  E\n"
     ]
    }
   ],
   "source": [
    "import csv\n",
    "\n",
    "students = []\n",
    "\n",
    "with open(\"names.csv\") as file:\n",
    "\treader = csv.reader(file)\n",
    "\tfor name, house in reader:\n",
    "\t\tstudents.append({\"name\": name, \"house\": house})\n",
    "\n",
    "# Sort the list of dictionaries by the 'name' key\n",
    "sorted_students = sorted(students, key=lambda x: x['house'])\n",
    "\n",
    "for student in sorted_students:\n",
    "\tprint(f\"{student['name']} is in {student['house']}\")\n",
    "\n",
    "file.close()  # Close the file\n"
   ],
   "metadata": {
    "collapsed": false
   }
  },
  {
   "cell_type": "code",
   "execution_count": null,
   "outputs": [],
   "source": [
    "import csv\n",
    "\n",
    "students = []\n",
    "\n",
    "with open(\"names.csv\") as file:\n",
    "\treader = csv.DictReader(file)\n",
    "\tfor row in reader:\n",
    "\t\tstudents.append({\"name\": row[\"name\"], \"house\": row[\"house\"]})\n",
    "\n",
    "# Sort the list of dictionaries by the 'name' key\n",
    "sorted_students = sorted(students, key=lambda x: x['house'])\n",
    "\n",
    "for student in sorted_students:\n",
    "\tprint(f\"{student['name']} is in {student['house']}\")\n",
    "\n",
    "file.close()  # Close the file\n"
   ],
   "metadata": {
    "collapsed": false
   }
  },
  {
   "cell_type": "code",
   "execution_count": 20,
   "outputs": [],
   "source": [
    "import csv\n",
    "\n",
    "name = input(\"Write your name. \")\n",
    "home = input(\"Write your home. \")\n",
    "house = input(\"Write your house. \")\n",
    "\n",
    "with open(\"names.csv\", \"a\", newline=\"\") as file:\n",
    "\twriter = csv.DictWriter(file, fieldnames=[\"name\", \"home\", \"house\"])\n",
    "\twriter.writerow({\"name\":name, \"home\": home, \"house\": house})"
   ],
   "metadata": {
    "collapsed": false
   }
  },
  {
   "cell_type": "code",
   "execution_count": null,
   "outputs": [],
   "source": [],
   "metadata": {
    "collapsed": false
   }
  }
 ],
 "metadata": {
  "kernelspec": {
   "display_name": "Python 3",
   "language": "python",
   "name": "python3"
  },
  "language_info": {
   "codemirror_mode": {
    "name": "ipython",
    "version": 2
   },
   "file_extension": ".py",
   "mimetype": "text/x-python",
   "name": "python",
   "nbconvert_exporter": "python",
   "pygments_lexer": "ipython2",
   "version": "2.7.6"
  }
 },
 "nbformat": 4,
 "nbformat_minor": 0
}
