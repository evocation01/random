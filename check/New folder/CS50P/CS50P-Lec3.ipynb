{
 "cells": [
  {
   "cell_type": "code",
   "execution_count": null,
   "metadata": {
    "collapsed": true
   },
   "outputs": [],
   "source": [
    "try:/n",
    "\tx = int(input(\"What's x?\"))\n",
    "except ValueError:\n",
    "\tprint(\"x is not an integer.\")\n",
    "else:\n",
    "\tprint(f\"x is {x}\")\n"
   ]
  },
  {
   "cell_type": "code",
   "execution_count": 10,
   "outputs": [
    {
     "name": "stdout",
     "output_type": "stream",
     "text": [
      "x is 5\n"
     ]
    }
   ],
   "source": [
    "def get_int(prompt):\n",
    "\twhile True:\n",
    "\t\ttry:\n",
    "\t\t\tx = int(input(prompt))\n",
    "\t\t\treturn x\n",
    "\t\texcept ValueError:\n",
    "\t\t\t# print(\"x is not an integer.\")\n",
    "\t\t\tpass\n",
    "\t\t# else:\n",
    "\t\t# \treturn x\n",
    "\n",
    "def main():\n",
    "\tx = get_int(\"What's x?\")\n",
    "\tprint(f\"x is {x}\")\n",
    "\n",
    "main()"
   ],
   "metadata": {
    "collapsed": false
   }
  },
  {
   "cell_type": "code",
   "execution_count": null,
   "outputs": [],
   "source": [],
   "metadata": {
    "collapsed": false
   }
  }
 ],
 "metadata": {
  "kernelspec": {
   "display_name": "Python 3",
   "language": "python",
   "name": "python3"
  },
  "language_info": {
   "codemirror_mode": {
    "name": "ipython",
    "version": 2
   },
   "file_extension": ".py",
   "mimetype": "text/x-python",
   "name": "python",
   "nbconvert_exporter": "python",
   "pygments_lexer": "ipython2",
   "version": "2.7.6"
  }
 },
 "nbformat": 4,
 "nbformat_minor": 0
}
