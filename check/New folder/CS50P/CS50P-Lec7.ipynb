{
 "cells": [
  {
   "cell_type": "code",
   "execution_count": 14,
   "metadata": {
    "collapsed": true
   },
   "outputs": [
    {
     "name": "stdout",
     "output_type": "stream",
     "text": [
      "hello, Hakan İspir                            \n"
     ]
    }
   ],
   "source": [
    "import re\n",
    "\n",
    "name = input(\"What's your name?\").strip()\n",
    "matches = re.search(r\"^(.+), *(.+)$\", name)\n",
    "if matches:\n",
    "\tlast, first = matches.groups()\n",
    "\tname = f\"{first} {last}\"\n",
    "print(f\"hello, {name}\")\n",
    "\n"
   ]
  },
  {
   "cell_type": "code",
   "execution_count": 18,
   "outputs": [
    {
     "name": "stdout",
     "output_type": "stream",
     "text": [
      "hello, s\n"
     ]
    }
   ],
   "source": [
    "import re\n",
    "\n",
    "name = input(\"What's your name?\").strip()\n",
    "if matches := re.search(r\"^(.+), *(.+)$\", name):   # using WALRUS operator.\n",
    "\tlast, first = matches.groups()\n",
    "\tname = f\"{first} {last}\"\n",
    "print(f\"hello, {name}\")\n"
   ],
   "metadata": {
    "collapsed": false
   }
  },
  {
   "cell_type": "markdown",
   "source": [
    "https://twitter.com/davidjmalan"
   ],
   "metadata": {
    "collapsed": false
   }
  },
  {
   "cell_type": "code",
   "execution_count": 70,
   "outputs": [
    {
     "name": "stdout",
     "output_type": "stream",
     "text": [
      "The url is ending with '.com' \n",
      "Username: davidjmalan\n"
     ]
    }
   ],
   "source": [
    "# using re.search() method\n",
    "import re\n",
    "\n",
    "url = input(\"URL: \").strip()\n",
    "matches = re.search(r\"\\b(?:(?:https?:(?://|\\\\\\\\))?twitter\\.(com|org)(?:/|\\\\))?([a-zA-Z0-9_]+)\\b\", url)\n",
    "# matches = re.search(r\"\\b(?:(?:https?:(?:/\\\\){2})?twitter\\.com(?:/|\\\\))?([a-zA-Z0-9_]*)\\b\", url)\n",
    "if matches:\n",
    "\tprint(f\"The url is ending with '.{matches.group(1)}' \\nUsername: {matches.group(2)}\")"
   ],
   "metadata": {
    "collapsed": false
   }
  },
  {
   "cell_type": "code",
   "execution_count": 39,
   "outputs": [
    {
     "name": "stdout",
     "output_type": "stream",
     "text": [
      "https://twitter.dsfdsfdscom/davidjmalan\n"
     ]
    }
   ],
   "source": [
    "# using re.sub() method\n",
    "import re\n",
    "\n",
    "url = input(\"URL: \").strip()\n",
    "\n",
    "username = re.sub(r\"(?:(?:https?://)?twitter\\.com/)?\", \"\", url)  # at twitter.com, YOU HAVE TO USE \"\\.\"\n",
    "if username:\n",
    "\tprint(username)"
   ],
   "metadata": {
    "collapsed": false
   }
  }
 ],
 "metadata": {
  "kernelspec": {
   "display_name": "Python 3",
   "language": "python",
   "name": "python3"
  },
  "language_info": {
   "codemirror_mode": {
    "name": "ipython",
    "version": 2
   },
   "file_extension": ".py",
   "mimetype": "text/x-python",
   "name": "python",
   "nbconvert_exporter": "python",
   "pygments_lexer": "ipython2",
   "version": "2.7.6"
  }
 },
 "nbformat": 4,
 "nbformat_minor": 0
}
