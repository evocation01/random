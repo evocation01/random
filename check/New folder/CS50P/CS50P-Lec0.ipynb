{
 "cells": [
  {
   "cell_type": "markdown",
   "source": [],
   "metadata": {
    "collapsed": false
   }
  },
  {
   "cell_type": "code",
   "execution_count": 1,
   "outputs": [
    {
     "name": "stdout",
     "output_type": "stream",
     "text": [
      "hello, \n"
     ]
    }
   ],
   "source": [
    "import re\n",
    "\n",
    "name = input(\"What's your name?\").strip()\n",
    "pattern = r\"^(.+),\\s?(.+)$\"\n",
    "# Malan, David\n",
    "matches = re.match(pattern, name)\n",
    "\n",
    "if matches:\n",
    "\tlastN = matches.group(1).strip()\n",
    "\tfirstN = matches.group(2).strip()\n",
    "\tname = f\"{firstN} {lastN}\"\n",
    "print(f\"hello, {name}\")"
   ],
   "metadata": {
    "collapsed": false
   }
  },
  {
   "cell_type": "code",
   "execution_count": 13,
   "outputs": [
    {
     "name": "stdout",
     "output_type": "stream",
     "text": [
      "hello, David Malan\n"
     ]
    }
   ],
   "source": [
    "import re\n",
    "\n",
    "name = input(\"What's your name?\").strip()\n",
    "pattern = r\"^(.+),\\s?(.+)$\"\n",
    "# Malan, David\n",
    "\n",
    "\n",
    "if matches := re.search(pattern, name):  # := is the WALRUS operator.\n",
    "\tlastN = matches.group(1).strip()\n",
    "\tfirstN = matches.group(2).strip()\n",
    "\tname = f\"{firstN} {lastN}\"\n",
    "print(f\"hello, {name}\")"
   ],
   "metadata": {
    "collapsed": false
   }
  },
  {
   "cell_type": "markdown",
   "source": [
    "code twitter.py"
   ],
   "metadata": {
    "collapsed": false
   }
  },
  {
   "cell_type": "code",
   "execution_count": 32,
   "outputs": [
    {
     "name": "stdout",
     "output_type": "stream",
     "text": [
      "Username: hispir64\n"
     ]
    }
   ],
   "source": [
    "import re\n",
    "url = input(\"URL: \").strip()\n",
    "pattern = r\"^(https?://?)?(www\\.)?twitter\\.com/\"\n",
    "\n",
    "username = re.sub(pattern, \"\", url)\n",
    "\n",
    "print(f\"Username: {username}\")\n"
   ],
   "metadata": {
    "collapsed": false
   }
  },
  {
   "cell_type": "code",
   "execution_count": 31,
   "outputs": [
    {
     "name": "stdout",
     "output_type": "stream",
     "text": [
      "Username: hispir64\n"
     ]
    }
   ],
   "source": [
    "import re\n",
    "url = input(\"URL: \").strip()\n",
    "\n",
    "matches = re.search(r\"^(?:https?://?)?(?:ww\\.)?twitter\\.com/(a-zA-Z0-9_)+$\", url)\n",
    "if matches:\n",
    "\tusername = matches.group(1)\n",
    "\tprint(f\"Username: {username}\")\n"
   ],
   "metadata": {
    "collapsed": false
   }
  },
  {
   "cell_type": "code",
   "execution_count": null,
   "outputs": [],
   "source": [],
   "metadata": {
    "collapsed": false
   }
  }
 ],
 "metadata": {
  "kernelspec": {
   "display_name": "Python 3",
   "language": "python",
   "name": "python3"
  },
  "language_info": {
   "codemirror_mode": {
    "name": "ipython",
    "version": 2
   },
   "file_extension": ".py",
   "mimetype": "text/x-python",
   "name": "python",
   "nbconvert_exporter": "python",
   "pygments_lexer": "ipython2",
   "version": "2.7.6"
  }
 },
 "nbformat": 4,
 "nbformat_minor": 0
}
