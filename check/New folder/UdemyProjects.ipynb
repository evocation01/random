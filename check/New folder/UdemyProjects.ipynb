{
 "cells": [
  {
   "cell_type": "markdown",
   "source": [
    "DAY 1\n",
    "# Solution: https://replit.com/@appbrewery/band-name-generator-end"
   ],
   "metadata": {
    "collapsed": false
   }
  },
  {
   "cell_type": "code",
   "execution_count": 4,
   "metadata": {
    "collapsed": true
   },
   "outputs": [
    {
     "name": "stdout",
     "output_type": "stream",
     "text": [
      "Welcome to my Band Name Generator!\n",
      "Your bard name could be sss ww or ww sss\n"
     ]
    }
   ],
   "source": [
    "#1. Create a greeting for your program.\n",
    "print(f\"Welcome to my Band Name Generator!\")\n",
    "#2. Ask the user for the city that they grew up in.\n",
    "city = input(\"What is the city you grew up in?\\n\")\n",
    "#3. Ask the user for the name of a pet.\n",
    "pet = input(\"What is a name of your favourite pet?\\n\")\n",
    "#4. Combine the name of their city and pet and show them their band name.\n",
    "band_name = city + \" \" +pet\n",
    "reversed_band_name = pet + \" \" + city\n",
    "print(f\"Your bard name could be {band_name} or {reversed_band_name}\")\n",
    "#5. Make sure the input cursor shows on a new line:"
   ]
  },
  {
   "cell_type": "markdown",
   "source": [
    "DAY 2\n",
    "Tip calculator"
   ],
   "metadata": {
    "collapsed": false
   }
  },
  {
   "cell_type": "code",
   "execution_count": 13,
   "outputs": [
    {
     "name": "stdout",
     "output_type": "stream",
     "text": [
      "Welcome to the Tip Calculator!\n",
      "Each person should pay: $10.91\n"
     ]
    }
   ],
   "source": [
    "print(f\"Welcome to the Tip Calculator!\")\n",
    "\n",
    "total_bill = float(input(\"What was the total bill? $\"))\n",
    "percentage = int(input(\"What percentage tip would you like to give? 10, 12 or 15? \"))\n",
    "per_man = int(input(\"How many people to split the bill? \"))\n",
    "\n",
    "if percentage==10:\n",
    "\tbill_per_man = (total_bill*110/100)/per_man\n",
    "elif percentage==12:\n",
    "\tbill_per_man = (total_bill*120/100)/per_man\n",
    "elif percentage==15:\n",
    "\tbill_per_man = (total_bill*150/100)/per_man\n",
    "else:\n",
    "\tprint(\"Please type a valid percentage.\")\n",
    "\n",
    "bill_per_man = round(bill_per_man, 2)\n",
    "print(f\"Each person should pay: ${bill_per_man:.2f}\")"
   ],
   "metadata": {
    "collapsed": false
   }
  },
  {
   "cell_type": "markdown",
   "source": [],
   "metadata": {
    "collapsed": false
   }
  },
  {
   "cell_type": "code",
   "execution_count": 15,
   "outputs": [
    {
     "name": "stdout",
     "output_type": "stream",
     "text": [
      "Welcome to the Treasure Island.\n",
      "You found the treasure! You Win!\n"
     ]
    }
   ],
   "source": [
    "print(\"Welcome to the Treasure Island.\")\n",
    "choice_1 = input(\"Your mission is to find the treasure.\\nYou're at a crossroad. \"\n",
    "\t\t\t\t\"Where do you want to go? Type 'left' or 'right': \").lower()\n",
    "\n",
    "if choice_1 == 'left':\n",
    "\tchoice_2 = input(\"You've come to a lake. There is an island in the middle of the lake. \"\n",
    "\t\t\t\t\t \"Type 'wait' to wait for a boat. Type 'swim' to swim across: \").lower()\n",
    "\tif choice_2 == 'swim':\n",
    "\t\tprint('You get attacked by an angry trout. Game Over.')\n",
    "\t\texit()\n",
    "\telif choice_2 == 'wait':\n",
    "\t\tchoice_3 = input('You arrive at the island unharmed. '\n",
    "\t\t\t\t\t\t 'There is a house with 3 doors. One red, one yellow, and one blue. '\n",
    "\t\t\t\t\t\t 'Which color do you choose? ').lower()\n",
    "\t\tif choice_3 == 'red':\n",
    "\t\t\tprint(\"It's a room full of fire. Game Over.\")\n",
    "\t\telif choice_3 == 'yellow':\n",
    "\t\t\tprint(\"You found the treasure! You Win!\")\n",
    "\t\telif choice_3 == 'blue':\n",
    "\t\t\tprint(\"You enter a room of beasts. Game Over.\")\n",
    "\t\telse:\n",
    "\t\t\tprint(\"Invalid choice. Game Over.\")\n",
    "elif choice_1 == 'right':\n",
    "\tprint(\"You fell into a hole. Game Over.\")\n",
    "\texit()\n",
    "else:\n",
    "\tprint(\"Invalid choice. Game Over.\")\n"
   ],
   "metadata": {
    "collapsed": false
   }
  },
  {
   "cell_type": "code",
   "execution_count": 1,
   "outputs": [
    {
     "name": "stdout",
     "output_type": "stream",
     "text": [
      "You chose \n",
      "AI chose rock\n",
      "Which means,\n"
     ]
    }
   ],
   "source": [
    "import random\n",
    "\n",
    "# rock = '''\n",
    "# \t_______\n",
    "# ---'   ____)\n",
    "# \t  (_____)\n",
    "# \t  (_____)\n",
    "# \t  (____)\n",
    "# ---.__(___)\n",
    "# '''\n",
    "#\n",
    "# paper = '''\n",
    "# \t_______\n",
    "# ---'   ____)____\n",
    "# \t\t  ______)\n",
    "# \t\t  _______)\n",
    "# \t\t _______)\n",
    "# ---.__________)\n",
    "# '''\n",
    "#\n",
    "# scissors = '''\n",
    "# \t_______\n",
    "# ---'   ____)____\n",
    "# \t\t  ______)\n",
    "# \t   __________)\n",
    "# \t  (____)\n",
    "# ---.__(___)\n",
    "# '''\n",
    "\n",
    "#Write your code below this line 👇\n",
    "\n",
    "options = [\"rock\", \"paper\", \"scissors\"]\n",
    "human_choice = input(\"Choose! 'rock' 'paper' or 'scissors'\").lower()\n",
    "ai_choice = random.choice(options)\n",
    "\n",
    "print(f\"You chose {human_choice}\")\n",
    "print(f\"AI chose {ai_choice}\")\n",
    "print(\"Which means,\")\n",
    "\n",
    "if human_choice==\"rock\":\n",
    "\tif ai_choice == \"rock\":\n",
    "\t\tprint(\"\\tIt is a tie!\")\n",
    "\telif ai_choice==\"paper\":\n",
    "\t\tprint(\"\\tAI wins!\")\n",
    "\telif ai_choice==\"scissors\":\n",
    "\t\tprint(\"\\tYou win!\")\n",
    "\n",
    "elif human_choice==\"paper\":\n",
    "\tif ai_choice == \"rock\":\n",
    "\t\tprint(\"\\tYou win!\")\n",
    "\telif ai_choice==\"paper\":\n",
    "\t\tprint(\"\\tIt is a tie!\")\n",
    "\telif ai_choice==\"scissors\":\n",
    "\t\tprint(\"\\tAI wins\")\n",
    "\n",
    "elif human_choice==\"scissors\":\n",
    "\tif ai_choice == \"rock\":\n",
    "\t\tprint(\"\\tAI wins!\")\n",
    "\telif ai_choice==\"paper\":\n",
    "\t\tprint(\"\\tYou win!\")\n",
    "\telif ai_choice==\"scissors\":\n",
    "\t\tprint(\"\\tIt is a tie!\")"
   ],
   "metadata": {
    "collapsed": false
   }
  },
  {
   "cell_type": "markdown",
   "source": [
    "#Password Generator Project\n",
    "import random\n",
    "letters = ['a', 'b', 'c', 'd', 'e', 'f', 'g', 'h', 'i', 'j', 'k', 'l', 'm', 'n', 'o', 'p', 'q', 'r', 's', 't', 'u', 'v', 'w', 'x', 'y', 'z', 'A', 'B', 'C', 'D', 'E', 'F', 'G', 'H', 'I', 'J', 'K', 'L', 'M', 'N', 'O', 'P', 'Q', 'R', 'S', 'T', 'U', 'V', 'W', 'X', 'Y', 'Z']\n",
    "numbers = ['0', '1', '2', '3', '4', '5', '6', '7', '8', '9']\n",
    "symbols = ['!', '#', '$', '%', '&', '(', ')', '*', '+']\n",
    "\n",
    "print(\"Welcome to the PyPassword Generator!\")\n",
    "nr_letters= int(input(\"How many letters would you like in your password?\\n\"))\n",
    "nr_symbols = int(input(f\"How many symbols would you like?\\n\"))\n",
    "nr_numbers = int(input(f\"How many numbers would you like?\\n\"))\n",
    "\n",
    "#Eazy Level - Order not randomised:\n",
    "#e.g. 4 letter, 2 symbol, 2 number = JduE&!91\n",
    "\n",
    "\n",
    "#Hard Level - Order of characters randomised:\n",
    "#e.g. 4 letter, 2 symbol, 2 number = g^2jk8&P"
   ],
   "metadata": {
    "collapsed": false
   }
  },
  {
   "cell_type": "code",
   "execution_count": 16,
   "outputs": [
    {
     "name": "stdout",
     "output_type": "stream",
     "text": [
      "Welcome to the PyPassword Generator!\n"
     ]
    },
    {
     "ename": "TypeError",
     "evalue": "'list' object is not callable",
     "output_type": "error",
     "traceback": [
      "\u001B[1;31m---------------------------------------------------------------------------\u001B[0m",
      "\u001B[1;31mTypeError\u001B[0m                                 Traceback (most recent call last)",
      "Cell \u001B[1;32mIn[16], line 16\u001B[0m\n\u001B[0;32m     13\u001B[0m y \u001B[38;5;241m=\u001B[39m random\u001B[38;5;241m.\u001B[39mrandint(\u001B[38;5;241m0\u001B[39m, \u001B[38;5;28mlen\u001B[39m(numbers)\u001B[38;5;241m-\u001B[39m\u001B[38;5;241m1\u001B[39m)\n\u001B[0;32m     14\u001B[0m z \u001B[38;5;241m=\u001B[39m random\u001B[38;5;241m.\u001B[39mrandint(\u001B[38;5;241m0\u001B[39m, \u001B[38;5;28mlen\u001B[39m(symbols)\u001B[38;5;241m-\u001B[39m\u001B[38;5;241m1\u001B[39m)\n\u001B[1;32m---> 16\u001B[0m \u001B[38;5;28mprint\u001B[39m(letters(x))\n",
      "\u001B[1;31mTypeError\u001B[0m: 'list' object is not callable"
     ]
    }
   ],
   "source": [
    "import random\n",
    "letters = ['a', 'b', 'c', 'd', 'e', 'f', 'g', 'h', 'i', 'j', 'k', 'l', 'm', 'n', 'o', 'p', 'q', 'r', 's', 't', 'u', 'v', 'w', 'x', 'y', 'z', 'A', 'B', 'C', 'D', 'E', 'F', 'G', 'H', 'I', 'J', 'K', 'L', 'M', 'N', 'O', 'P', 'Q', 'R', 'S', 'T', 'U', 'V', 'W', 'X', 'Y', 'Z']\n",
    "numbers = ['0', '1', '2', '3', '4', '5', '6', '7', '8', '9']\n",
    "symbols = ['!', '#', '$', '%', '&', '(', ')', '*', '+']\n",
    "\n",
    "print(\"Welcome to the PyPassword Generator!\")\n",
    "num_letters= int(input(\"How many letters would you like in your password?\\n\"))\n",
    "num_symbols = int(input(f\"How many symbols would you like?\\n\"))\n",
    "num_numbers = int(input(f\"How many numbers would you like?\\n\"))\n",
    "\n",
    "\n"
   ],
   "metadata": {
    "collapsed": false
   }
  }
 ],
 "metadata": {
  "kernelspec": {
   "display_name": "Python 3",
   "language": "python",
   "name": "python3"
  },
  "language_info": {
   "codemirror_mode": {
    "name": "ipython",
    "version": 2
   },
   "file_extension": ".py",
   "mimetype": "text/x-python",
   "name": "python",
   "nbconvert_exporter": "python",
   "pygments_lexer": "ipython2",
   "version": "2.7.6"
  }
 },
 "nbformat": 4,
 "nbformat_minor": 0
}
