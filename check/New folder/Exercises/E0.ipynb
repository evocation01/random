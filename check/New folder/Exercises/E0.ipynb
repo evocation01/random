{
 "cells": [
  {
   "cell_type": "code",
   "execution_count": null,
   "outputs": [],
   "source": [
    "# def program():\n",
    "#\n",
    "\n",
    "\n",
    "# def main():\n",
    "# \tresult = program()\n",
    "#\n",
    "# if __name__ == '__main__':\n",
    "# \tmain()\n",
    "#"
   ],
   "metadata": {
    "collapsed": false
   }
  },
  {
   "cell_type": "markdown",
   "source": [
    "Given two integer numbers, return their product only if the product is equal to or lower than 1000. Otherwise, return their sum."
   ],
   "metadata": {
    "collapsed": false
   }
  },
  {
   "cell_type": "code",
   "execution_count": 9,
   "outputs": [
    {
     "name": "stdout",
     "output_type": "stream",
     "text": [
      "500\n"
     ]
    }
   ],
   "source": [
    "def program(x,y):\n",
    "\tif (x*y >= 1000):\n",
    "\t\treturn x+y\n",
    "\telse:\n",
    "\t\treturn x*y\n",
    "\n",
    "def main():\n",
    "\tx = int(input(\"An integer please.\"))\n",
    "\ty = int(input(\"An integer please.\"))\n",
    "\n",
    "\tresult = program(x,y)\n",
    "\tprint(result)\n",
    "\n",
    "if __name__ == '__main__':\n",
    "\tmain()"
   ],
   "metadata": {
    "collapsed": false
   }
  },
  {
   "cell_type": "markdown",
   "source": [
    "Printing current and previous number sum in a range(10)\n",
    "Current Number 0 Previous Number  0  Sum:  0\n",
    "Current Number 1 Previous Number  0  Sum:  1\n",
    "Current Number 2 Previous Number  1  Sum:  3\n",
    "Current Number 3 Previous Number  2  Sum:  5\n",
    "Current Number 4 Previous Number  3  Sum:  7\n",
    "Current Number 5 Previous Number  4  Sum:  9\n",
    "Current Number 6 Previous Number  5  Sum:  11\n",
    "Current Number 7 Previous Number  6  Sum:  13\n",
    "Current Number 8 Previous Number  7  Sum:  15\n",
    "Current Number 9 Previous Number  8  Sum:  17"
   ],
   "metadata": {
    "collapsed": false
   }
  },
  {
   "cell_type": "code",
   "execution_count": 20,
   "outputs": [
    {
     "name": "stdout",
     "output_type": "stream",
     "text": [
      "Printing current and previous number sum in a range(10)\n",
      "Current Number 0 Previous Number 0 Sum: 0\n",
      "Current Number 2 Previous Number 1 Sum: 1\n",
      "Current Number 3 Previous Number 2 Sum: 3\n",
      "Current Number 4 Previous Number 3 Sum: 6\n",
      "Current Number 5 Previous Number 4 Sum: 10\n",
      "Current Number 6 Previous Number 5 Sum: 15\n",
      "Current Number 7 Previous Number 6 Sum: 21\n",
      "Current Number 8 Previous Number 7 Sum: 28\n",
      "Current Number 9 Previous Number 8 Sum: 36\n",
      "Current Number 10 Previous Number 9 Sum: 45\n"
     ]
    }
   ],
   "source": [
    "def program(n):\n",
    "\tprint(f\"Printing current and previous number sum in a range({n})\")\n",
    "\n",
    "\tsum = 0\n",
    "\n",
    "\tfor num in range(n):\n",
    "\t\tif num == 0:\n",
    "\t\t\tprint(f\"Current Number {0} Previous Number {0} Sum: {0}\")\n",
    "\t\telse:\n",
    "\t\t\tsum += num\n",
    "\t\t\tprint(f\"Current Number {num+1} Previous Number {num} Sum: {sum}\")\n",
    "\n",
    "def main():\n",
    "\tprogram(10)\n",
    "\n",
    "if __name__ == '__main__':\n",
    "\tmain()\n"
   ],
   "metadata": {
    "collapsed": false
   }
  },
  {
   "cell_type": "markdown",
   "source": [
    "Original String is  pynative\n",
    "Printing only even index chars\n",
    "p\n",
    "n\n",
    "t\n",
    "v"
   ],
   "metadata": {
    "collapsed": false
   }
  },
  {
   "cell_type": "code",
   "execution_count": 26,
   "outputs": [
    {
     "name": "stdout",
     "output_type": "stream",
     "text": [
      "H\n",
      "l\n",
      "o\n"
     ]
    }
   ],
   "source": [
    "def program(word):\n",
    "\tsize = len(word)\n",
    "\n",
    "\tfor i in range(0, size, 2):\n",
    "\t\tprint(word[i])\n",
    "\n",
    "def main():\n",
    "\tprogram(\"Hello\")\n",
    "\n",
    "if __name__ == '__main__':\n",
    "\tmain()\n"
   ],
   "metadata": {
    "collapsed": false
   }
  },
  {
   "cell_type": "markdown",
   "source": [
    "Write a program to remove characters from a string starting from zero up to n and return a new string.\n",
    "\n",
    "For example:\n",
    "\n",
    "remove_chars(\"pynative\", 4) so output must be tive. Here, we need to remove the first four characters from a string.\n",
    "remove_chars(\"pynative\", 2) so output must be native. Here, we need to remove the first two characters from a string.\n",
    "Note: n must be less than the length of the string.\n",
    "\n"
   ],
   "metadata": {
    "collapsed": false
   }
  },
  {
   "cell_type": "code",
   "execution_count": 30,
   "outputs": [
    {
     "name": "stdout",
     "output_type": "stream",
     "text": [
      "tive\n",
      "native\n"
     ]
    }
   ],
   "source": [
    "def remove_chars(string, n):\n",
    "\n",
    "\tprint(string[n:len(string)])\n",
    "\n",
    "\n",
    "def main():\n",
    "\tremove_chars(\"pynative\", 4)\n",
    "\tremove_chars(\"pynative\", 2)\n",
    "\n",
    "if __name__ == '__main__':\n",
    "\tmain()\n"
   ],
   "metadata": {
    "collapsed": false
   }
  },
  {
   "cell_type": "markdown",
   "source": [
    "Write a function to return True if the first and last number of a given list is same. If numbers are different then return False."
   ],
   "metadata": {
    "collapsed": false
   }
  },
  {
   "cell_type": "code",
   "execution_count": 33,
   "outputs": [
    {
     "name": "stdout",
     "output_type": "stream",
     "text": [
      "True\n",
      "False\n"
     ]
    }
   ],
   "source": [
    "def program(list):\n",
    "\tif list[0]==list[len(list)-1]:\n",
    "\t\tprint(\"True\")\n",
    "\telse:\n",
    "\t\tprint(\"False\")\n",
    "\n",
    "def main():\n",
    "\tnumbers_x = [10, 20, 30, 40, 10]\n",
    "\tnumbers_y = [75, 65, 35, 75, 30]\n",
    "\n",
    "\tprogram(numbers_x)\n",
    "\tprogram(numbers_y)\n",
    "\n",
    "if __name__ == '__main__':\n",
    "\tmain()\n"
   ],
   "metadata": {
    "collapsed": false
   }
  },
  {
   "cell_type": "markdown",
   "source": [
    "### Write a program to find how many times substring “Emma” appears in the given string."
   ],
   "metadata": {
    "collapsed": false
   }
  },
  {
   "cell_type": "code",
   "execution_count": 40,
   "outputs": [
    {
     "name": "stdout",
     "output_type": "stream",
     "text": [
      "2\n"
     ]
    }
   ],
   "source": [
    "import re\n",
    "\n",
    "def program(string):\n",
    "\tpattern = r\"Emma\"\n",
    "\toccurrences = re.findall(pattern, string)\n",
    "\treturn len(occurrences)\n",
    "\n",
    "def main():\n",
    "\tstr_x = \"Emma is good developer. Emma is a writer\"\n",
    "\n",
    "\tresult = program(str_x)\n",
    "\tprint(result)\n",
    "\n",
    "if __name__ == '__main__':\n",
    "\tmain()\n"
   ],
   "metadata": {
    "collapsed": false
   }
  },
  {
   "cell_type": "markdown",
   "source": [
    "1\n",
    "2 2\n",
    "3 3 3\n",
    "4 4 4 4\n",
    "5 5 5 5 5"
   ],
   "metadata": {
    "collapsed": false
   }
  },
  {
   "cell_type": "code",
   "execution_count": 48,
   "outputs": [
    {
     "name": "stdout",
     "output_type": "stream",
     "text": [
      "1 \n",
      "2 2 \n",
      "3 3 3 \n",
      "4 4 4 4 \n",
      "5 5 5 5 5 \n"
     ]
    }
   ],
   "source": [
    "def program(int):\n",
    "\tfor i in range(1, int+1):\n",
    "\t\tfor j in range(i):\n",
    "\t\t\tprint(i, end=\" \")\n",
    "\t\tprint()\n",
    "\n",
    "\n",
    "def main():\n",
    "\tprogram(5)\n",
    "\n",
    "if __name__ == '__main__':\n",
    "\tmain()\n"
   ],
   "metadata": {
    "collapsed": false
   }
  },
  {
   "cell_type": "markdown",
   "source": [
    "original number 121\n",
    "Yes. given number is palindrome number\n",
    "\n",
    "original number 125\n",
    "No. given number is not palindrome number"
   ],
   "metadata": {
    "collapsed": false
   }
  },
  {
   "cell_type": "code",
   "execution_count": 55,
   "outputs": [
    {
     "name": "stdout",
     "output_type": "stream",
     "text": [
      "original number 125 \n",
      "No. given number is not palindrome number\n"
     ]
    }
   ],
   "source": [
    "def program(number):\n",
    "\toriginal_number = number.lower()\n",
    "\treverse_number = original_number[::-1]\n",
    "\n",
    "\tif (original_number == reverse_number):\n",
    "\t\tprint(f\"original number {original_number} \\nYes. given number is palindrome number\")\n",
    "\telse:\n",
    "\t\tprint(f\"original number {original_number} \\nNo. given number is not palindrome number\")\n",
    "\n",
    "\n",
    "\n",
    "def main():\n",
    "\tprogram(\"125\")\n",
    "\n",
    "if __name__ == '__main__':\n",
    "\tmain()\n"
   ],
   "metadata": {
    "collapsed": false
   }
  },
  {
   "cell_type": "markdown",
   "source": [],
   "metadata": {
    "collapsed": false
   }
  },
  {
   "cell_type": "code",
   "execution_count": 56,
   "outputs": [
    {
     "name": "stdout",
     "output_type": "stream",
     "text": [
      "[25, 35, 40, 60, 90]\n"
     ]
    }
   ],
   "source": [
    "def program(list1, list2):\n",
    "\tnew_list = [x for x in list1 if x % 2 != 0] + [x for x in list2 if x % 2 == 0]\n",
    "\treturn new_list\n",
    "\n",
    "def main():\n",
    "\tlist1 = [10, 20, 25, 30, 35]\n",
    "\tlist2 = [40, 45, 60, 75, 90]\n",
    "\tresult = program(list1, list2)\n",
    "\tprint(result)\n",
    "\n",
    "if __name__ == '__main__':\n",
    "\tmain()\n"
   ],
   "metadata": {
    "collapsed": false
   }
  },
  {
   "cell_type": "markdown",
   "source": [
    "Write a Program to extract each digit from an integer in the reverse order.\n",
    "For example, If the given int is 7536, the output shall be “6 3 5 7“, with a space separating the digits."
   ],
   "metadata": {
    "collapsed": false
   }
  },
  {
   "cell_type": "code",
   "execution_count": 64,
   "outputs": [
    {
     "name": "stdout",
     "output_type": "stream",
     "text": [
      "6 3 5 7\n"
     ]
    }
   ],
   "source": [
    "def program(integer):\n",
    "\tdigits = [int(digit) for digit in str(integer)]\n",
    "\tdigits.reverse()\n",
    "\n",
    "\tdigits_string = ' '.join(map(str, digits))\n",
    "\n",
    "\treturn digits_string\n",
    "\n",
    "\n",
    "def main():\n",
    "\tresult = program(7536)\n",
    "\tprint(result)\n",
    "\n",
    "if __name__ == '__main__':\n",
    "\tmain()\n"
   ],
   "metadata": {
    "collapsed": false
   }
  },
  {
   "cell_type": "markdown",
   "source": [
    "### Calculate income tax for the given income by adhering to the rules below\n",
    "Taxable Income\tRate (in %)\n",
    "First $10,000\t0\n",
    "Next $10,000\t10\n",
    "The remaining\t20\n",
    "Expected Output:\n",
    "\n",
    "For example, suppose the taxable income is 45000, and the income tax payable is\n",
    "\n",
    "10000*0% + 10000*10%  + 25000*20% = $6000."
   ],
   "metadata": {
    "collapsed": false
   }
  },
  {
   "cell_type": "code",
   "execution_count": 65,
   "outputs": [
    {
     "name": "stdout",
     "output_type": "stream",
     "text": [
      "The tax for an income of 25000 is 2500.0\n"
     ]
    }
   ],
   "source": [
    "def calculate_tax(income):\n",
    "\tif income <= 10000:\n",
    "\t\ttax = income * 0/100\n",
    "\telif income <= 20000:\n",
    "\t\ttax = (income-10000) * 10/100\n",
    "\telse:\n",
    "\t\ttax = (income-10000) * 10/100 + (income-20000) * 20/100\n",
    "\treturn tax\n",
    "\n",
    "def main():\n",
    "\tincome = 25000\n",
    "\tresult = calculate_tax(income)\n",
    "\tprint(f\"The tax for an income of {income} is {result}\")\n",
    "\n",
    "if __name__ == '__main__':\n",
    "\tmain()\n"
   ],
   "metadata": {
    "collapsed": false
   }
  },
  {
   "cell_type": "markdown",
   "source": [
    "1*2 1*3 1*4 1*5\n",
    "2*2 2*3 2*4 2*5\n",
    "3*2 3*3 3*4 3*5\n",
    "1  2 3 4 5 6 7 8 9 10\n",
    "2  4 6 8 10 12 14 16 18 20\n",
    "3  6 9 12 15 18 21 24 27 30\n",
    "4  8 12 16 20 24 28 32 36 40\n",
    "5  10 15 20 25 30 35 40 45 50\n",
    "6  12 18 24 30 36 42 48 54 60\n",
    "7  14 21 28 35 42 49 56 63 70\n",
    "8  16 24 32 40 48 56 64 72 80\n",
    "9  18 27 36 45 54 63 72 81 90\n",
    "10 20 30 40 50 60 70 80 90 100"
   ],
   "metadata": {
    "collapsed": false
   }
  },
  {
   "cell_type": "code",
   "execution_count": 76,
   "outputs": [
    {
     "name": "stdout",
     "output_type": "stream",
     "text": [
      "  1   2   3   4   5   6   7   8   9  10\n",
      "  2   4   6   8  10  12  14  16  18  20\n",
      "  3   6   9  12  15  18  21  24  27  30\n",
      "  4   8  12  16  20  24  28  32  36  40\n",
      "  5  10  15  20  25  30  35  40  45  50\n",
      "  6  12  18  24  30  36  42  48  54  60\n",
      "  7  14  21  28  35  42  49  56  63  70\n",
      "  8  16  24  32  40  48  56  64  72  80\n",
      "  9  18  27  36  45  54  63  72  81  90\n",
      " 10  20  30  40  50  60  70  80  90 100\n",
      "None\n"
     ]
    }
   ],
   "source": [
    "def program(num):\n",
    "\tfor i in range(1, 11):\n",
    "\t\tfor j in range(1, 11):\n",
    "\t\t\tif j == 1:\n",
    "\t\t\t\tprint(f\"{i * j:3}\", end=\"\")\n",
    "\t\t\telse:\n",
    "\t\t\t\tprint(f\"{i * j:4}\", end=\"\")\n",
    "\t\tprint()\n",
    "\n",
    "\n",
    "\n",
    "def main():\n",
    "\tresult = program(10)\n",
    "\tprint(result)\n",
    "\n",
    "if __name__ == '__main__':\n",
    "\tmain()\n"
   ],
   "metadata": {
    "collapsed": false
   }
  },
  {
   "cell_type": "markdown",
   "source": [
    "* * * * *\n",
    "* * * *\n",
    "* * *\n",
    "* *\n",
    "*"
   ],
   "metadata": {
    "collapsed": false
   }
  },
  {
   "cell_type": "code",
   "execution_count": 81,
   "outputs": [
    {
     "name": "stdout",
     "output_type": "stream",
     "text": [
      "*****\n",
      "****\n",
      "***\n",
      "**\n",
      "*\n",
      "\n",
      "None\n"
     ]
    }
   ],
   "source": [
    "def program():\n",
    "\tfor i in range(6,0, -1):\n",
    "\t\tfor j in range(0, i-1):\n",
    "\t\t\tprint(\"*\", end=\"\")\n",
    "\t\tprint()\n",
    "\n",
    "def main():\n",
    "\tresult = program()\n",
    "\tprint(result)\n",
    "\n",
    "if __name__ == '__main__':\n",
    "\tmain()\n"
   ],
   "metadata": {
    "collapsed": false
   }
  },
  {
   "cell_type": "markdown",
   "source": [
    "Write a function called exponent(base, exp) that returns an int value of base raises to the power of exp.\n",
    "Note here exp is a non-negative integer, and the base is an integer."
   ],
   "metadata": {
    "collapsed": false
   }
  },
  {
   "cell_type": "code",
   "execution_count": 83,
   "outputs": [
    {
     "name": "stdout",
     "output_type": "stream",
     "text": [
      "32\n"
     ]
    }
   ],
   "source": [
    "import numpy as np\n",
    "\n",
    "def exponent(base, exp):\n",
    "\treturn np.power(base, exp)\n",
    "\n",
    "\n",
    "def main():\n",
    "\tresult = exponent(2, 5)\n",
    "\tprint(result)\n",
    "\n",
    "if __name__ == '__main__':\n",
    "\tmain()\n"
   ],
   "metadata": {
    "collapsed": false
   }
  },
  {
   "cell_type": "markdown",
   "source": [],
   "metadata": {
    "collapsed": false
   }
  },
  {
   "cell_type": "code",
   "execution_count": null,
   "outputs": [],
   "source": [
    "def program():\n",
    "\n",
    "\n",
    "\n",
    "def main():\n",
    "\tresult = program()\n",
    "\tprint(result)\n",
    "\n",
    "if __name__ == '__main__':\n",
    "\tmain()\n"
   ],
   "metadata": {
    "collapsed": false
   }
  },
  {
   "cell_type": "markdown",
   "source": [],
   "metadata": {
    "collapsed": false
   }
  },
  {
   "cell_type": "code",
   "execution_count": null,
   "outputs": [],
   "source": [
    "def program():\n",
    "\n",
    "\n",
    "\n",
    "def main():\n",
    "\tresult = program()\n",
    "\tprint(result)\n",
    "\n",
    "if __name__ == '__main__':\n",
    "\tmain()\n"
   ],
   "metadata": {
    "collapsed": false
   }
  },
  {
   "cell_type": "markdown",
   "source": [],
   "metadata": {
    "collapsed": false
   }
  },
  {
   "cell_type": "code",
   "execution_count": null,
   "outputs": [],
   "source": [
    "def program():\n",
    "\n",
    "\n",
    "\n",
    "def main():\n",
    "\tresult = program()\n",
    "\tprint(result)\n",
    "\n",
    "if __name__ == '__main__':\n",
    "\tmain()\n"
   ],
   "metadata": {
    "collapsed": false
   }
  },
  {
   "cell_type": "markdown",
   "source": [],
   "metadata": {
    "collapsed": false
   }
  },
  {
   "cell_type": "code",
   "execution_count": null,
   "outputs": [],
   "source": [
    "def program():\n",
    "\n",
    "\n",
    "\n",
    "def main():\n",
    "\tresult = program()\n",
    "\tprint(result)\n",
    "\n",
    "if __name__ == '__main__':\n",
    "\tmain()\n"
   ],
   "metadata": {
    "collapsed": false
   }
  },
  {
   "cell_type": "markdown",
   "source": [],
   "metadata": {
    "collapsed": false
   }
  },
  {
   "cell_type": "code",
   "execution_count": null,
   "outputs": [],
   "source": [
    "def program():\n",
    "\n",
    "\n",
    "\n",
    "def main():\n",
    "\tresult = program()\n",
    "\tprint(result)\n",
    "\n",
    "if __name__ == '__main__':\n",
    "\tmain()\n"
   ],
   "metadata": {
    "collapsed": false
   }
  },
  {
   "cell_type": "markdown",
   "source": [
    "\n"
   ],
   "metadata": {
    "collapsed": false
   }
  }
 ],
 "metadata": {
  "kernelspec": {
   "display_name": "Python 3",
   "language": "python",
   "name": "python3"
  },
  "language_info": {
   "codemirror_mode": {
    "name": "ipython",
    "version": 2
   },
   "file_extension": ".py",
   "mimetype": "text/x-python",
   "name": "python",
   "nbconvert_exporter": "python",
   "pygments_lexer": "ipython2",
   "version": "2.7.6"
  }
 },
 "nbformat": 4,
 "nbformat_minor": 0
}
