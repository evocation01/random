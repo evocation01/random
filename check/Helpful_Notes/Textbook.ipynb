{
 "cells": [
  {
   "cell_type": "markdown",
   "source": [
    ".count(\"'char'\")  to count how many times a char gets used\n",
    ".endswith(\"x\")  to check if string ends with x\n",
    ".isnumeric()  to check whether string consists of only numbers\n",
    ".join()  to concatenate strings\n",
    ".split() to split every word in a string"
   ],
   "metadata": {
    "collapsed": false
   }
  },
  {
   "cell_type": "markdown",
   "source": [
    "Tuples are LISTS. So lists that are final, and cannot be changed."
   ],
   "metadata": {
    "collapsed": false
   }
  },
  {
   "cell_type": "markdown",
   "source": [
    "dict.update() method doesn't ADD the both method values. It sets the new val to old value! It 'updates' it!"
   ],
   "metadata": {
    "collapsed": false
   }
  },
  {
   "cell_type": "markdown",
   "source": [
    "you can reverse a list by using [::-1]\n",
    "or using \".sort(reverse=True)\""
   ],
   "metadata": {
    "collapsed": false
   }
  },
  {
   "cell_type": "markdown",
   "source": [
    "* Attributes are characteristics associated with a type.\n",
    "* Methods are functions associated with a type"
   ],
   "metadata": {
    "collapsed": false
   }
  },
  {
   "cell_type": "markdown",
   "source": [
    "dir() function gives ALL the functions of the associated class. (i.e dir(\"\") gives functions of string class)\n",
    "help() gives the documentation of the class. [use 'q' to quit]"
   ],
   "metadata": {
    "collapsed": false
   }
  },
  {
   "cell_type": "markdown",
   "source": [
    "OS -> Kernel and User_Space\n",
    "Kernel is the main core, and manages system resources.\n",
    "The things we interact with personally is the UserSpace. (like UI)\n",
    "\n",
    "Linux distributions are Ubuntu, ChromeOS, Redhat, Android etc... (not MacOS, that uses BSD Kernel)\n"
   ],
   "metadata": {
    "collapsed": false
   }
  },
  {
   "cell_type": "markdown",
   "source": [
    "Automated consistency checks, such as hash checks on backups, can help identify problems ahead of time.\n",
    "\n",
    "os.path.join function allows for cross-platform class paths. (solves \\/ problems in file paths in difference with OS's)"
   ],
   "metadata": {
    "collapsed": false
   }
  },
  {
   "cell_type": "markdown",
   "source": [
    "#### REGEX:   ####\n",
    "\n",
    "import re\n",
    "re.search()\n",
    "grep -- (w/ linux)\n",
    "\n",
    "dots are wildcards, count as ANY character. (like t.. can be tea, tee, tie, top...)\n",
    "\n",
    "$grep ^fruit {location} ::: ['fruit, fruits, fruit's, fruity...'] which means everything that starts with 'fruit'\n",
    "$ grep cat$ {location} ::: ['cat, Mobcat, Teacat, pussycat...'] (ends with 'cat')\n",
    "\n",
    "{'^', '$' are ANCHOR chars.}\n",
    "\n",
    "\\w matches characters, numbers and underscores.\n",
    "\\d matches 0-9\n",
    "\\s matches white-space\n",
    "\\w matches [a-zA-Z0-9_]\n",
    "\\b is essentially using anchor chars for EVERY word. So the regex will apply to every word one by one, instead of the total sentence.\n",
    "\n",
    "(?:...) is non-capturing group.\n",
    "\n",
    "\n",
    "By adding word boundaries (\\b) at the beginning and end of the pattern, we ensure that the pattern only matches phone numbers when they are surrounded by non-word characters (such as spaces, punctuation, or the start/end of the string). This prevents it from matching substrings within longer strings that resemble the phone number format.\n",
    "\n",
    ":=   is the WALRUS operation (new)"
   ],
   "metadata": {
    "collapsed": false
   }
  },
  {
   "cell_type": "markdown",
   "source": [
    "  I had previously applied to this aid, and was accepted. However,  I was not able to finish the course, due to the major earthquake that I was also within the city that got affected the most, which happened about 1 month after I started the course. Until then, I was studying the course regularly. However, due to earthquake, I was already falling behind on my university lectures and had to give my best on them, so couldn't continue this course. In the last month, I finished the 1/3 of the course and will definitely work hard on it from now on.\n",
    " The next paragraphs are copied (and edited) from the last aid. Thank you.\n",
    "\n",
    " I'm currently a freshman, studying Industrial Engineering in the University of Marmara, in Istanbul, Turkey.\n",
    "  I have decided to guide my life towards subjects like coding, programming, software/game development, Artificial Intelligence, Data Analystics, IT automation and so forth. And in order to do this, it's almost crucial to learn Python, according to any data on this subject. And this course is the best way to do it in my opinion.\n",
    "   The main reason for me applying to this financial aid is actually due to my country's financial situation. As you might already know, Turkey's financial system is not very great, to say at least. Our currency, Turkish Lira suffered from about a 50-60% downfall and we have over 80% inflation, formally at least. Actually, in real life, the inflation is definitely over 200%.\n",
    "  Unfortunately, this also means that acceptable amounts of payment for the western world can mean a ton of money in here. For instance, this course costs about 300 dollars, equivalent of about 8000 turkish liras. This equals to about 1/3 of my annual income, which I just cannot pay, for the foreseeable future.\n",
    "   At the date of me writing this, 12th of July, Turkish Lira had 30% downfall against major foreign currencies, just in the last 3 weeks. So, I'm afraid things have not been going for better within last 6 months.\n",
    "\n",
    "\n"
   ],
   "metadata": {
    "collapsed": false
   }
  },
  {
   "cell_type": "markdown",
   "source": [
    "\tI am not zero in programming. I know a good bit of Java from my university's course and studying Python at my spare time as well.\n",
    "\tMain reason I want to take this professional certification program is the fact that I also have it as a course in my university. And I know for sure that my university and teacher is no where close to the level of IBM and Coursera. In addition to that, I know how I understand things. I am not great at face-to-face, \"right at the moment\" kind of learning, I excel in online learning.\n",
    "\tData Science/Analystics is a  career path I've been considering, and my researches on this led me to know that R is one of the most important programming languages for this. In addition to that, this course also covers SQL and Excel, which is really useful and exactly why I decided it's a great entrance/first specialization to take.\n",
    "\tThank you."
   ],
   "metadata": {
    "collapsed": false
   }
  },
  {
   "cell_type": "markdown",
   "source": [
    "  I'm currently a 2nd year university student, in Marmara University, located in Istanbul, Turkey. I am studying Industrial Engineering at the moment, but planning to change my course to Computer Science at the end of the year.\n",
    "   The main reason for me applying to this financial aid is actually due to my country's financial situation. As you might already know, Turkey's financial system is absolutely awful. The inflation according to official channels is about 70%, but outsider, respectable channels predict it at least 200%. This number seems quite true, thinking about daily life expenses. As an example, the cost of meal in my university was 2TL in 2021, 6TL in 2022 and 15TL in 2023. And this is a government-funded, public university.\n",
    "  Unfortunately, this also means that acceptable amounts of payment for the western world can mean a ton of money in here. For instance, this certification costs 400 dollars. This equals to about 1/3 of my annual income, which is too much. Also considering it would be my family's money, I can't ask them that.\n",
    " Thank you."
   ],
   "metadata": {
    "collapsed": false
   }
  },
  {
   "cell_type": "markdown",
   "source": [],
   "metadata": {
    "collapsed": false
   }
  }
 ],
 "metadata": {
  "kernelspec": {
   "display_name": "Python 3",
   "language": "python",
   "name": "python3"
  },
  "language_info": {
   "codemirror_mode": {
    "name": "ipython",
    "version": 2
   },
   "file_extension": ".py",
   "mimetype": "text/x-python",
   "name": "python",
   "nbconvert_exporter": "python",
   "pygments_lexer": "ipython2",
   "version": "2.7.6"
  }
 },
 "nbformat": 4,
 "nbformat_minor": 0
}
